{
 "cells": [
  {
   "cell_type": "code",
   "execution_count": 2,
   "id": "ee513c2c",
   "metadata": {},
   "outputs": [],
   "source": [
    "import pandas as pd\n",
    "import numpy as np"
   ]
  },
  {
   "cell_type": "code",
   "execution_count": 3,
   "id": "273b84a9",
   "metadata": {},
   "outputs": [],
   "source": [
    "pd.set_option('display.max_columns', None)\n",
    "pd.set_option('display.max_rows', None)"
   ]
  },
  {
   "cell_type": "code",
   "execution_count": 4,
   "id": "b52f230a",
   "metadata": {},
   "outputs": [],
   "source": [
    "## Features to be used\n",
    "\n",
    "# - Fatigue\n",
    "#   Days since last match\n",
    "#   Distance covered in the last x matches?\n",
    "\n",
    "# - Home Team Form\n",
    "#   Goals difference of home team in the last x matches    \n",
    "#   Goals difference of home team in the last x home matches    \n",
    "#   Average number of points gained by home team in the last x matches\n",
    "#   Number of home matches won by home team in its last x home matches\n",
    "#   Home Team Win streak  \n",
    "#   Home Team Newly Promoted Team?\n",
    "\n",
    "# - Away Team Form\n",
    "#   Goals difference of away team in the last x matches  \n",
    "#   Goals difference of away team in the last x away matches\n",
    "#   Average number of points gained by away team in the last x matches\n",
    "#   Number of away matches won by away team in its last x away matches\n",
    "#   Away Team Win streak\n",
    "#   Away Team Newly Promoted Team?\n",
    "\n",
    "# - Home Team Performance Index\n",
    "#   Home Defense Performance Index\n",
    "#   Home Midfield Performance Index\n",
    "#   Home Attack Performance Index\n",
    "\n",
    "# - Away Team Performance Index\n",
    "#   Away Defense Performance Index\n",
    "#   Away Midfield Performance Index\n",
    "#   Away Attack Performance Index\n",
    "\n",
    "# - Betting Odds\n",
    "#     B365H\n",
    "#     B365D\n",
    "#     B365A\n",
    "\n",
    "# - Head to Head\n",
    "#   Goals difference in previous x encounters"
   ]
  },
  {
   "cell_type": "markdown",
   "id": "dc7724df",
   "metadata": {},
   "source": [
    "## Data Preparation\n",
    "\n",
    "There are two main data sources for this project: www.football-data.co.uk/ and www.fbref.com/en/. \n",
    "\n",
    "Both of these two data sources provide match statistics data for Premier League matches. We will extract match statistics from both of these websites and integrate them into one DataFrame.\n",
    "\n",
    "First we create an empty DataFrame that will store the integrated data from the various data sources."
   ]
  },
  {
   "cell_type": "code",
   "execution_count": 5,
   "id": "9ae2a27f",
   "metadata": {},
   "outputs": [],
   "source": [
    "df = pd.DataFrame()"
   ]
  },
  {
   "cell_type": "markdown",
   "id": "5c50cf0d",
   "metadata": {},
   "source": [
    "### Data Source 1\n",
    "\n",
    "www.football-data-co.uk"
   ]
  },
  {
   "cell_type": "code",
   "execution_count": 7,
   "id": "80fa078f",
   "metadata": {},
   "outputs": [],
   "source": [
    "datasource1_df = pd.DataFrame()\n",
    "seasons = ['2017-2018', '2018-2019', '2019-2020', '2020-2021', '2021-2022']\n",
    "\n",
    "for season in seasons:\n",
    "    # read csv file for match statistics\n",
    "    temp_df = pd.read_csv(f'datasets/{season}/{season}-match-statistics.csv')\n",
    "\n",
    "    # drop irrelvant columns\n",
    "    temp_df.drop(temp_df.loc[:, 'BWH':].columns, axis=1, inplace = True)\n",
    "    temp_df.drop(['Div', 'HTHG', 'HTAG', 'HTR', 'Referee', 'Time'], axis=1, inplace = True, errors='ignore')\n",
    "    \n",
    "    # concatenate df to datasource_1_df\n",
    "    if datasource1_df.empty:\n",
    "        datasource1_df = temp_df\n",
    "    else:\n",
    "        datasource1_df = pd.concat([datasource1_df, temp_df]).reset_index(drop=True)"
   ]
  },
  {
   "cell_type": "code",
   "execution_count": 14,
   "id": "382f02a8",
   "metadata": {},
   "outputs": [
    {
     "data": {
      "text/plain": [
       "(1900, 21)"
      ]
     },
     "execution_count": 14,
     "metadata": {},
     "output_type": "execute_result"
    }
   ],
   "source": [
    "# Make sure we have 5 x 380 = 1900 matches in the DataFrame\n",
    "datasource1_df.shape"
   ]
  },
  {
   "cell_type": "code",
   "execution_count": null,
   "id": "758290b8",
   "metadata": {},
   "outputs": [],
   "source": [
    "datasource1_df['HomeTeam']"
   ]
  },
  {
   "cell_type": "markdown",
   "id": "33164d2b",
   "metadata": {},
   "source": [
    "### Data Source 2\n",
    "www.fbref.com/en"
   ]
  },
  {
   "cell_type": "code",
   "execution_count": 123,
   "id": "675a66bf",
   "metadata": {},
   "outputs": [
    {
     "data": {
      "text/html": [
       "<div>\n",
       "<style scoped>\n",
       "    .dataframe tbody tr th:only-of-type {\n",
       "        vertical-align: middle;\n",
       "    }\n",
       "\n",
       "    .dataframe tbody tr th {\n",
       "        vertical-align: top;\n",
       "    }\n",
       "\n",
       "    .dataframe thead th {\n",
       "        text-align: right;\n",
       "    }\n",
       "</style>\n",
       "<table border=\"1\" class=\"dataframe\">\n",
       "  <thead>\n",
       "    <tr style=\"text-align: right;\">\n",
       "      <th></th>\n",
       "      <th>Date</th>\n",
       "      <th>Comp</th>\n",
       "      <th>Round</th>\n",
       "      <th>Result</th>\n",
       "      <th>GF</th>\n",
       "      <th>GA</th>\n",
       "      <th>AwayTeam</th>\n",
       "      <th>HxG</th>\n",
       "      <th>AxG</th>\n",
       "      <th>HPoss</th>\n",
       "      <th>DaysLastPlayed</th>\n",
       "      <th>HomeTeam</th>\n",
       "      <th>APoss</th>\n",
       "    </tr>\n",
       "  </thead>\n",
       "  <tbody>\n",
       "    <tr>\n",
       "      <th>0</th>\n",
       "      <td>2017-08-11</td>\n",
       "      <td>Premier League</td>\n",
       "      <td>Matchweek 1</td>\n",
       "      <td>W</td>\n",
       "      <td>4</td>\n",
       "      <td>3</td>\n",
       "      <td>Leicester City</td>\n",
       "      <td>2.5</td>\n",
       "      <td>1.5</td>\n",
       "      <td>68.0</td>\n",
       "      <td>5 days</td>\n",
       "      <td>Arsenal</td>\n",
       "      <td>32.0</td>\n",
       "    </tr>\n",
       "    <tr>\n",
       "      <th>1</th>\n",
       "      <td>2017-09-09</td>\n",
       "      <td>Premier League</td>\n",
       "      <td>Matchweek 4</td>\n",
       "      <td>W</td>\n",
       "      <td>3</td>\n",
       "      <td>0</td>\n",
       "      <td>Bournemouth</td>\n",
       "      <td>2.2</td>\n",
       "      <td>0.6</td>\n",
       "      <td>58.0</td>\n",
       "      <td>13 days</td>\n",
       "      <td>Arsenal</td>\n",
       "      <td>42.0</td>\n",
       "    </tr>\n",
       "    <tr>\n",
       "      <th>2</th>\n",
       "      <td>2017-09-25</td>\n",
       "      <td>Premier League</td>\n",
       "      <td>Matchweek 6</td>\n",
       "      <td>W</td>\n",
       "      <td>2</td>\n",
       "      <td>0</td>\n",
       "      <td>West Brom</td>\n",
       "      <td>2.2</td>\n",
       "      <td>0.9</td>\n",
       "      <td>69.0</td>\n",
       "      <td>5 days</td>\n",
       "      <td>Arsenal</td>\n",
       "      <td>31.0</td>\n",
       "    </tr>\n",
       "    <tr>\n",
       "      <th>3</th>\n",
       "      <td>2017-10-01</td>\n",
       "      <td>Premier League</td>\n",
       "      <td>Matchweek 7</td>\n",
       "      <td>W</td>\n",
       "      <td>2</td>\n",
       "      <td>0</td>\n",
       "      <td>Brighton</td>\n",
       "      <td>2.4</td>\n",
       "      <td>0.4</td>\n",
       "      <td>64.0</td>\n",
       "      <td>3 days</td>\n",
       "      <td>Arsenal</td>\n",
       "      <td>36.0</td>\n",
       "    </tr>\n",
       "    <tr>\n",
       "      <th>4</th>\n",
       "      <td>2017-10-28</td>\n",
       "      <td>Premier League</td>\n",
       "      <td>Matchweek 10</td>\n",
       "      <td>W</td>\n",
       "      <td>2</td>\n",
       "      <td>1</td>\n",
       "      <td>Swansea City</td>\n",
       "      <td>2.0</td>\n",
       "      <td>0.9</td>\n",
       "      <td>72.0</td>\n",
       "      <td>4 days</td>\n",
       "      <td>Arsenal</td>\n",
       "      <td>28.0</td>\n",
       "    </tr>\n",
       "  </tbody>\n",
       "</table>\n",
       "</div>"
      ],
      "text/plain": [
       "        Date            Comp         Round Result GF GA        AwayTeam  HxG  \\\n",
       "0 2017-08-11  Premier League   Matchweek 1      W  4  3  Leicester City  2.5   \n",
       "1 2017-09-09  Premier League   Matchweek 4      W  3  0     Bournemouth  2.2   \n",
       "2 2017-09-25  Premier League   Matchweek 6      W  2  0       West Brom  2.2   \n",
       "3 2017-10-01  Premier League   Matchweek 7      W  2  0        Brighton  2.4   \n",
       "4 2017-10-28  Premier League  Matchweek 10      W  2  1    Swansea City  2.0   \n",
       "\n",
       "   AxG  HPoss DaysLastPlayed HomeTeam  APoss  \n",
       "0  1.5   68.0         5 days  Arsenal   32.0  \n",
       "1  0.6   58.0        13 days  Arsenal   42.0  \n",
       "2  0.9   69.0         5 days  Arsenal   31.0  \n",
       "3  0.4   64.0         3 days  Arsenal   36.0  \n",
       "4  0.9   72.0         4 days  Arsenal   28.0  "
      ]
     },
     "execution_count": 123,
     "metadata": {},
     "output_type": "execute_result"
    }
   ],
   "source": [
    "# read csv file for each team\n",
    "arsenal_fixtures_17_18_df = pd.read_csv('datasets/2017-2018/arsenal-fixtures.csv')\n",
    "\n",
    "# drop irrelvant columns\n",
    "arsenal_fixtures_17_18_df.drop(['Time', 'Day', 'Attendance', 'Captain', 'Formation', 'Referee', 'Match Report', 'Notes'], axis=1, inplace = True)\n",
    "\n",
    "# add new feature: 'DaysLastPlayed'\n",
    "arsenal_fixtures_17_18_df['Date'] =  pd.to_datetime(arsenal_fixtures_17_18_df['Date'])\n",
    "arsenal_fixtures_17_18_df['DaysLastPlayed'] = arsenal_fixtures_17_18_df['Date'] - arsenal_fixtures_17_18_df['Date'].shift(1)\n",
    "\n",
    "# filter by Premier League home matches only\n",
    "arsenal_fixtures_17_18_df = arsenal_fixtures_17_18_df[(arsenal_fixtures_17_18_df['Comp'] == 'Premier League') & (arsenal_fixtures_17_18_df['Venue'] == 'Home')]\n",
    "arsenal_fixtures_17_18_df = arsenal_fixtures_17_18_df.reset_index(drop=True)\n",
    "\n",
    "# rename features\n",
    "arsenal_fixtures_17_18_df = arsenal_fixtures_17_18_df.rename(columns={'xG': 'HxG', 'xGA': 'AxG', 'Poss': 'HPoss', 'Opponent': 'AwayTeam'})\n",
    "\n",
    "# add new feature: 'HomeTeam'\n",
    "arsenal_fixtures_17_18_df['HomeTeam'] = 'Arsenal'\n",
    "\n",
    "# drop home team column\n",
    "arsenal_fixtures_17_18_df.drop(['Venue'], axis=1, inplace = True)\n",
    "\n",
    "# add new feature: 'APoss'\n",
    "arsenal_fixtures_17_18_df['APoss'] = 100 - arsenal_fixtures_17_18_df['HPoss']\n",
    "\n",
    "arsenal_fixtures_17_18_df.head()"
   ]
  },
  {
   "cell_type": "code",
   "execution_count": null,
   "id": "d20dd937",
   "metadata": {},
   "outputs": [],
   "source": []
  },
  {
   "cell_type": "code",
   "execution_count": null,
   "id": "3b02457a",
   "metadata": {},
   "outputs": [],
   "source": []
  },
  {
   "cell_type": "code",
   "execution_count": null,
   "id": "edfcac5c",
   "metadata": {},
   "outputs": [],
   "source": []
  },
  {
   "cell_type": "code",
   "execution_count": null,
   "id": "bd5e04d5",
   "metadata": {},
   "outputs": [],
   "source": [
    "# rename teams"
   ]
  }
 ],
 "metadata": {
  "kernelspec": {
   "display_name": "Python 3 (ipykernel)",
   "language": "python",
   "name": "python3"
  },
  "language_info": {
   "codemirror_mode": {
    "name": "ipython",
    "version": 3
   },
   "file_extension": ".py",
   "mimetype": "text/x-python",
   "name": "python",
   "nbconvert_exporter": "python",
   "pygments_lexer": "ipython3",
   "version": "3.9.13"
  }
 },
 "nbformat": 4,
 "nbformat_minor": 5
}
