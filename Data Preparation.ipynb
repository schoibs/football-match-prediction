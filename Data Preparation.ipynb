{
 "cells": [
  {
   "cell_type": "markdown",
   "id": "5c96b0a6",
   "metadata": {},
   "source": [
    "# Import Libraries"
   ]
  },
  {
   "cell_type": "code",
   "execution_count": 1,
   "id": "8fe0f855",
   "metadata": {},
   "outputs": [],
   "source": [
    "import pandas as pd\n",
    "import numpy as np\n",
    "\n",
    "import glob\n",
    "import os"
   ]
  },
  {
   "cell_type": "code",
   "execution_count": 2,
   "id": "4c88b580",
   "metadata": {},
   "outputs": [],
   "source": [
    "pd.set_option('display.max_columns', None)\n",
    "pd.set_option('display.max_rows', None)"
   ]
  },
  {
   "cell_type": "markdown",
   "id": "54161276",
   "metadata": {},
   "source": [
    "# Features to be used\n",
    "\n",
    "**Fatigue**\n",
    "- Days since last match\n",
    "- Distance covered in the last x matches?\n",
    "\n",
    "**Home Team Form**\n",
    "- Goals difference of home team in the last x matches    \n",
    "- Goals difference of home team in the last x home matches    \n",
    "- Average number of points gained by home team in the last x matches\n",
    "- Number of home matches won by home team in its last x home matches\n",
    "- Home Team Win streak  \n",
    "- Home Team Newly Promoted Team?\n",
    "\n",
    "**Away Team Form**\n",
    "- Goals difference of away team in the last x matches  \n",
    "- Goals difference of away team in the last x away matches\n",
    "- Average number of points gained by away team in the last x matches\n",
    "- Number of away matches won by away team in its last x away matches\n",
    "- Away Team Win streak\n",
    "- Away Team Newly Promoted Team?\n",
    "\n",
    "**Home Team Performance Index**\n",
    "- Home Defense Performance Index\n",
    "- Home Midfield Performance Index\n",
    "- Home Attack Performance Index\n",
    "\n",
    "**Away Team Performance Index**\n",
    "- Away Defense Performance Index\n",
    "- Away Midfield Performance Index\n",
    "- Away Attack Performance Index\n",
    "\n",
    "**Betting Odds**\n",
    "- B365H\n",
    "- B365D\n",
    "- B365A"
   ]
  },
  {
   "cell_type": "markdown",
   "id": "3ef06566",
   "metadata": {},
   "source": [
    "# Data Preparation\n",
    "\n",
    "There are two main data sources for this project: \n",
    "- www.football-data.co.uk \n",
    "- www.fbref.com/en. \n",
    "\n",
    "Both of these two data sources provide match statistics data for Premier League matches. We will extract match statistics from both of these websites and integrate them into one DataFrame.\n",
    "\n",
    "First we create an empty DataFrame that will eventually contain the data integrated from the various data sources."
   ]
  },
  {
   "cell_type": "code",
   "execution_count": 3,
   "id": "0be0e8ec",
   "metadata": {},
   "outputs": [],
   "source": [
    "df = pd.DataFrame()"
   ]
  },
  {
   "cell_type": "markdown",
   "id": "bca16631",
   "metadata": {},
   "source": [
    "## Data Source 1\n",
    "\n",
    "www.football-data-co.uk"
   ]
  },
  {
   "cell_type": "code",
   "execution_count": 4,
   "id": "e6347835",
   "metadata": {},
   "outputs": [],
   "source": [
    "datasource1_df = pd.DataFrame()\n",
    "seasons = ['2017-2018', '2018-2019', '2019-2020', '2020-2021', '2021-2022']\n",
    "\n",
    "for season in seasons:\n",
    "    # read csv file for match statistics\n",
    "    temp_df = pd.read_csv(f'datasets/{season}/data-source-1/{season}-match-statistics.csv')\n",
    "\n",
    "    # drop irrelvant columns\n",
    "    temp_df.drop(temp_df.loc[:, 'BWH':].columns, axis=1, inplace = True)\n",
    "    temp_df.drop(['Div', 'HTHG', 'HTAG', 'HTR', 'Referee', 'Time'], axis=1, inplace = True, errors='ignore')\n",
    "    \n",
    "    # convert 'Date' column to datetime object\n",
    "    temp_df['Date'] =  pd.to_datetime(temp_df['Date'], format=\"%d/%m/%Y\")\n",
    "    \n",
    "    # concatenate temp_df to datasource1_df\n",
    "    if datasource1_df.empty:\n",
    "        datasource1_df = temp_df\n",
    "    else:\n",
    "        datasource1_df = pd.concat([datasource1_df, temp_df]).reset_index(drop=True)"
   ]
  },
  {
   "cell_type": "code",
   "execution_count": 5,
   "id": "7263a05a",
   "metadata": {},
   "outputs": [
    {
     "data": {
      "text/plain": [
       "(1900, 21)"
      ]
     },
     "execution_count": 5,
     "metadata": {},
     "output_type": "execute_result"
    }
   ],
   "source": [
    "# Make sure we have 5 x 380 = 1900 matches in the DataFrame\n",
    "datasource1_df.shape"
   ]
  },
  {
   "cell_type": "code",
   "execution_count": 6,
   "id": "e201db5a",
   "metadata": {},
   "outputs": [],
   "source": [
    "# standardize the teams names across all datasets\n",
    "\n",
    "rename_teams = {'Arsenal': 'arsenal', 'Brighton': 'brighton', 'Chelsea': 'chelsea', 'Crystal Palace': 'palace', 'Everton': 'everton', \n",
    "                'Southampton': 'southampton', 'Watford': 'watford', 'West Brom': 'west-brom', 'Man United': 'united', 'Newcastle': 'newcastle',\n",
    "                'Bournemouth': 'bournemouth', 'Burnley': 'burnley', 'Leicester': 'leicester', 'Liverpool': 'liverpool', 'Stoke': 'stoke',\n",
    "                'Swansea': 'swansea', 'Huddersfield': 'huddersfield', 'Tottenham': 'tottenham', 'Man City': 'city', 'West Ham': 'west-ham',\n",
    "                'Fulham': 'fulham', 'Wolves': 'wolves', 'Cardiff': 'cardiff', 'Aston Villa': 'aston-villa', 'Norwich': 'norwich',\n",
    "                'Sheffield United': 'sheffield', 'Leeds': 'leeds', 'Brentford':'brentford'}\n",
    "\n",
    "datasource1_df['HomeTeam'] = datasource1_df['HomeTeam'].apply(lambda word : rename_teams[word])\n",
    "datasource1_df['AwayTeam'] = datasource1_df['AwayTeam'].apply(lambda word : rename_teams[word])"
   ]
  },
  {
   "cell_type": "code",
   "execution_count": 7,
   "id": "93bd0b57",
   "metadata": {
    "scrolled": true
   },
   "outputs": [
    {
     "data": {
      "text/html": [
       "<div>\n",
       "<style scoped>\n",
       "    .dataframe tbody tr th:only-of-type {\n",
       "        vertical-align: middle;\n",
       "    }\n",
       "\n",
       "    .dataframe tbody tr th {\n",
       "        vertical-align: top;\n",
       "    }\n",
       "\n",
       "    .dataframe thead th {\n",
       "        text-align: right;\n",
       "    }\n",
       "</style>\n",
       "<table border=\"1\" class=\"dataframe\">\n",
       "  <thead>\n",
       "    <tr style=\"text-align: right;\">\n",
       "      <th></th>\n",
       "      <th>Date</th>\n",
       "      <th>HomeTeam</th>\n",
       "      <th>AwayTeam</th>\n",
       "      <th>FTHG</th>\n",
       "      <th>FTAG</th>\n",
       "      <th>FTR</th>\n",
       "      <th>HS</th>\n",
       "      <th>AS</th>\n",
       "      <th>HST</th>\n",
       "      <th>AST</th>\n",
       "      <th>HF</th>\n",
       "      <th>AF</th>\n",
       "      <th>HC</th>\n",
       "      <th>AC</th>\n",
       "      <th>HY</th>\n",
       "      <th>AY</th>\n",
       "      <th>HR</th>\n",
       "      <th>AR</th>\n",
       "      <th>B365H</th>\n",
       "      <th>B365D</th>\n",
       "      <th>B365A</th>\n",
       "    </tr>\n",
       "  </thead>\n",
       "  <tbody>\n",
       "    <tr>\n",
       "      <th>0</th>\n",
       "      <td>2017-08-11</td>\n",
       "      <td>arsenal</td>\n",
       "      <td>leicester</td>\n",
       "      <td>4</td>\n",
       "      <td>3</td>\n",
       "      <td>H</td>\n",
       "      <td>27</td>\n",
       "      <td>6</td>\n",
       "      <td>10</td>\n",
       "      <td>3</td>\n",
       "      <td>9</td>\n",
       "      <td>12</td>\n",
       "      <td>9</td>\n",
       "      <td>4</td>\n",
       "      <td>0</td>\n",
       "      <td>1</td>\n",
       "      <td>0</td>\n",
       "      <td>0</td>\n",
       "      <td>1.53</td>\n",
       "      <td>4.5</td>\n",
       "      <td>6.50</td>\n",
       "    </tr>\n",
       "    <tr>\n",
       "      <th>1</th>\n",
       "      <td>2017-08-12</td>\n",
       "      <td>brighton</td>\n",
       "      <td>city</td>\n",
       "      <td>0</td>\n",
       "      <td>2</td>\n",
       "      <td>A</td>\n",
       "      <td>6</td>\n",
       "      <td>14</td>\n",
       "      <td>2</td>\n",
       "      <td>4</td>\n",
       "      <td>6</td>\n",
       "      <td>9</td>\n",
       "      <td>3</td>\n",
       "      <td>10</td>\n",
       "      <td>0</td>\n",
       "      <td>2</td>\n",
       "      <td>0</td>\n",
       "      <td>0</td>\n",
       "      <td>11.00</td>\n",
       "      <td>5.5</td>\n",
       "      <td>1.33</td>\n",
       "    </tr>\n",
       "    <tr>\n",
       "      <th>2</th>\n",
       "      <td>2017-08-12</td>\n",
       "      <td>chelsea</td>\n",
       "      <td>burnley</td>\n",
       "      <td>2</td>\n",
       "      <td>3</td>\n",
       "      <td>A</td>\n",
       "      <td>19</td>\n",
       "      <td>10</td>\n",
       "      <td>6</td>\n",
       "      <td>5</td>\n",
       "      <td>16</td>\n",
       "      <td>11</td>\n",
       "      <td>8</td>\n",
       "      <td>5</td>\n",
       "      <td>3</td>\n",
       "      <td>3</td>\n",
       "      <td>2</td>\n",
       "      <td>0</td>\n",
       "      <td>1.25</td>\n",
       "      <td>6.5</td>\n",
       "      <td>15.00</td>\n",
       "    </tr>\n",
       "    <tr>\n",
       "      <th>3</th>\n",
       "      <td>2017-08-12</td>\n",
       "      <td>palace</td>\n",
       "      <td>huddersfield</td>\n",
       "      <td>0</td>\n",
       "      <td>3</td>\n",
       "      <td>A</td>\n",
       "      <td>14</td>\n",
       "      <td>8</td>\n",
       "      <td>4</td>\n",
       "      <td>6</td>\n",
       "      <td>7</td>\n",
       "      <td>19</td>\n",
       "      <td>12</td>\n",
       "      <td>9</td>\n",
       "      <td>1</td>\n",
       "      <td>3</td>\n",
       "      <td>0</td>\n",
       "      <td>0</td>\n",
       "      <td>1.83</td>\n",
       "      <td>3.6</td>\n",
       "      <td>5.00</td>\n",
       "    </tr>\n",
       "    <tr>\n",
       "      <th>4</th>\n",
       "      <td>2017-08-12</td>\n",
       "      <td>everton</td>\n",
       "      <td>stoke</td>\n",
       "      <td>1</td>\n",
       "      <td>0</td>\n",
       "      <td>H</td>\n",
       "      <td>9</td>\n",
       "      <td>9</td>\n",
       "      <td>4</td>\n",
       "      <td>1</td>\n",
       "      <td>13</td>\n",
       "      <td>10</td>\n",
       "      <td>6</td>\n",
       "      <td>7</td>\n",
       "      <td>1</td>\n",
       "      <td>1</td>\n",
       "      <td>0</td>\n",
       "      <td>0</td>\n",
       "      <td>1.70</td>\n",
       "      <td>3.8</td>\n",
       "      <td>5.75</td>\n",
       "    </tr>\n",
       "  </tbody>\n",
       "</table>\n",
       "</div>"
      ],
      "text/plain": [
       "        Date  HomeTeam      AwayTeam  FTHG  FTAG FTR  HS  AS  HST  AST  HF  \\\n",
       "0 2017-08-11   arsenal     leicester     4     3   H  27   6   10    3   9   \n",
       "1 2017-08-12  brighton          city     0     2   A   6  14    2    4   6   \n",
       "2 2017-08-12   chelsea       burnley     2     3   A  19  10    6    5  16   \n",
       "3 2017-08-12    palace  huddersfield     0     3   A  14   8    4    6   7   \n",
       "4 2017-08-12   everton         stoke     1     0   H   9   9    4    1  13   \n",
       "\n",
       "   AF  HC  AC  HY  AY  HR  AR  B365H  B365D  B365A  \n",
       "0  12   9   4   0   1   0   0   1.53    4.5   6.50  \n",
       "1   9   3  10   0   2   0   0  11.00    5.5   1.33  \n",
       "2  11   8   5   3   3   2   0   1.25    6.5  15.00  \n",
       "3  19  12   9   1   3   0   0   1.83    3.6   5.00  \n",
       "4  10   6   7   1   1   0   0   1.70    3.8   5.75  "
      ]
     },
     "execution_count": 7,
     "metadata": {},
     "output_type": "execute_result"
    }
   ],
   "source": [
    "datasource1_df.head()"
   ]
  },
  {
   "cell_type": "markdown",
   "id": "b0f233f7",
   "metadata": {},
   "source": [
    "## Data Source 2\n",
    "www.fbref.com/en"
   ]
  },
  {
   "cell_type": "code",
   "execution_count": 8,
   "id": "0d1ba79a",
   "metadata": {},
   "outputs": [],
   "source": [
    "datasource2_df = pd.DataFrame()\n",
    "seasons = ['2017-2018', '2018-2019', '2019-2020', '2020-2021', '2021-2022']\n",
    "\n",
    "for season in seasons:\n",
    "\n",
    "    # get all the datasets from data-source-2 folder\n",
    "    path = f'datasets/{season}/data-source-2'\n",
    "    csv_files = glob.glob(os.path.join(path, \"*.csv\"))\n",
    "\n",
    "    for file in csv_files:\n",
    "        team = file.split('\\\\')[1].split('-fixtures')[0]\n",
    "        \n",
    "        # read csv file for each team\n",
    "        temp_df = pd.read_csv(file)\n",
    "\n",
    "        # drop irrelvant columns\n",
    "        temp_df.drop(['Time', 'Day', 'Attendance', 'Captain', 'Formation', 'Referee', 'Match Report', 'Notes', 'Round'], axis=1, inplace = True)\n",
    "\n",
    "        # filter by Premier League home matches only\n",
    "        temp_df = temp_df[(temp_df['Comp'] == 'Premier League') & (temp_df['Venue'] == 'Home')]\n",
    "\n",
    "        # rename features\n",
    "        temp_df = temp_df.rename(columns={'xG': 'HxG', 'xGA': 'AxG', 'Poss': 'HPoss', 'Opponent': 'AwayTeam'})\n",
    "\n",
    "        # add new feature: 'HomeTeam'\n",
    "        temp_df['HomeTeam'] = team\n",
    "\n",
    "        # drop home team column\n",
    "        temp_df.drop(['Venue'], axis=1, inplace = True)\n",
    "\n",
    "        # add new feature: 'APoss'\n",
    "        temp_df['APoss'] = 100 - temp_df['HPoss']\n",
    "\n",
    "        # concatenate temp_df to datasource2_df\n",
    "        if datasource2_df.empty:\n",
    "            datasource2_df = temp_df\n",
    "        else:\n",
    "            datasource2_df = pd.concat([datasource2_df, temp_df]).reset_index(drop=True)"
   ]
  },
  {
   "cell_type": "code",
   "execution_count": 9,
   "id": "4019a7f9",
   "metadata": {},
   "outputs": [
    {
     "data": {
      "text/plain": [
       "(1900, 12)"
      ]
     },
     "execution_count": 9,
     "metadata": {},
     "output_type": "execute_result"
    }
   ],
   "source": [
    "# Make sure we have 5 x 380 = 1900 matches in the DataFrame\n",
    "datasource2_df.shape"
   ]
  },
  {
   "cell_type": "code",
   "execution_count": 10,
   "id": "1b607371",
   "metadata": {},
   "outputs": [
    {
     "data": {
      "text/plain": [
       "array(['Leicester City', 'Bournemouth', 'West Brom', 'Brighton',\n",
       "       'Swansea City', 'Tottenham', 'Huddersfield', 'Manchester Utd',\n",
       "       'Newcastle Utd', 'Liverpool', 'Chelsea', 'Crystal Palace',\n",
       "       'Everton', 'Manchester City', 'Watford', 'Stoke City',\n",
       "       'Southampton', 'West Ham', 'Burnley', 'Arsenal', 'Wolves',\n",
       "       'Fulham', 'Cardiff City', 'Aston Villa', 'Sheffield Utd',\n",
       "       'Norwich City', 'Leeds United', 'Brentford'], dtype=object)"
      ]
     },
     "execution_count": 10,
     "metadata": {},
     "output_type": "execute_result"
    }
   ],
   "source": [
    "datasource2_df['AwayTeam'].unique()"
   ]
  },
  {
   "cell_type": "code",
   "execution_count": 11,
   "id": "bef1ec5a",
   "metadata": {},
   "outputs": [],
   "source": [
    "# standardize the teams names across all datasets\n",
    "\n",
    "rename_teams = {'Leicester City':'leicester', 'Bournemouth':'bournemouth', 'West Brom':'west-brom', 'Brighton': 'brighton', 'Swansea City':'swansea', \n",
    "                'Tottenham':'tottenham', 'Huddersfield':'huddersfield', 'Manchester Utd': 'united', 'Newcastle Utd':'newcastle', 'Liverpool':'liverpool', \n",
    "                'Chelsea': 'chelsea', 'Crystal Palace': 'palace', 'Everton': 'everton', 'Manchester City':'city', 'Watford': 'watford', \n",
    "                'Stoke City':'stoke', 'Southampton': 'southampton', 'West Ham':'west-ham', 'Burnley':'burnley', 'Arsenal': 'arsenal', \n",
    "                'Wolves':'wolves', 'Fulham':'fulham', 'Cardiff City':'cardiff', 'Aston Villa':'aston-villa', 'Sheffield Utd':'sheffield',\n",
    "                'Norwich City':'norwich', 'Leeds United':'leeds', 'Brentford':'brentford'}\n",
    "\n",
    "datasource2_df['AwayTeam'] = datasource2_df['AwayTeam'].apply(lambda word : rename_teams[word])"
   ]
  },
  {
   "cell_type": "code",
   "execution_count": 12,
   "id": "d86e9722",
   "metadata": {},
   "outputs": [
    {
     "data": {
      "text/html": [
       "<div>\n",
       "<style scoped>\n",
       "    .dataframe tbody tr th:only-of-type {\n",
       "        vertical-align: middle;\n",
       "    }\n",
       "\n",
       "    .dataframe tbody tr th {\n",
       "        vertical-align: top;\n",
       "    }\n",
       "\n",
       "    .dataframe thead th {\n",
       "        text-align: right;\n",
       "    }\n",
       "</style>\n",
       "<table border=\"1\" class=\"dataframe\">\n",
       "  <thead>\n",
       "    <tr style=\"text-align: right;\">\n",
       "      <th></th>\n",
       "      <th>Date</th>\n",
       "      <th>Comp</th>\n",
       "      <th>Result</th>\n",
       "      <th>GF</th>\n",
       "      <th>GA</th>\n",
       "      <th>AwayTeam</th>\n",
       "      <th>HxG</th>\n",
       "      <th>AxG</th>\n",
       "      <th>HPoss</th>\n",
       "      <th>DaysLastPlayed</th>\n",
       "      <th>HomeTeam</th>\n",
       "      <th>APoss</th>\n",
       "    </tr>\n",
       "  </thead>\n",
       "  <tbody>\n",
       "    <tr>\n",
       "      <th>0</th>\n",
       "      <td>2017-08-11</td>\n",
       "      <td>Premier League</td>\n",
       "      <td>W</td>\n",
       "      <td>4</td>\n",
       "      <td>3</td>\n",
       "      <td>leicester</td>\n",
       "      <td>2.5</td>\n",
       "      <td>1.5</td>\n",
       "      <td>68.0</td>\n",
       "      <td>5 days</td>\n",
       "      <td>arsenal</td>\n",
       "      <td>32.0</td>\n",
       "    </tr>\n",
       "    <tr>\n",
       "      <th>1</th>\n",
       "      <td>2017-09-09</td>\n",
       "      <td>Premier League</td>\n",
       "      <td>W</td>\n",
       "      <td>3</td>\n",
       "      <td>0</td>\n",
       "      <td>bournemouth</td>\n",
       "      <td>2.2</td>\n",
       "      <td>0.6</td>\n",
       "      <td>58.0</td>\n",
       "      <td>13 days</td>\n",
       "      <td>arsenal</td>\n",
       "      <td>42.0</td>\n",
       "    </tr>\n",
       "    <tr>\n",
       "      <th>2</th>\n",
       "      <td>2017-09-25</td>\n",
       "      <td>Premier League</td>\n",
       "      <td>W</td>\n",
       "      <td>2</td>\n",
       "      <td>0</td>\n",
       "      <td>west-brom</td>\n",
       "      <td>2.2</td>\n",
       "      <td>0.9</td>\n",
       "      <td>69.0</td>\n",
       "      <td>5 days</td>\n",
       "      <td>arsenal</td>\n",
       "      <td>31.0</td>\n",
       "    </tr>\n",
       "    <tr>\n",
       "      <th>3</th>\n",
       "      <td>2017-10-01</td>\n",
       "      <td>Premier League</td>\n",
       "      <td>W</td>\n",
       "      <td>2</td>\n",
       "      <td>0</td>\n",
       "      <td>brighton</td>\n",
       "      <td>2.4</td>\n",
       "      <td>0.4</td>\n",
       "      <td>64.0</td>\n",
       "      <td>3 days</td>\n",
       "      <td>arsenal</td>\n",
       "      <td>36.0</td>\n",
       "    </tr>\n",
       "    <tr>\n",
       "      <th>4</th>\n",
       "      <td>2017-10-28</td>\n",
       "      <td>Premier League</td>\n",
       "      <td>W</td>\n",
       "      <td>2</td>\n",
       "      <td>1</td>\n",
       "      <td>swansea</td>\n",
       "      <td>2.0</td>\n",
       "      <td>0.9</td>\n",
       "      <td>72.0</td>\n",
       "      <td>4 days</td>\n",
       "      <td>arsenal</td>\n",
       "      <td>28.0</td>\n",
       "    </tr>\n",
       "  </tbody>\n",
       "</table>\n",
       "</div>"
      ],
      "text/plain": [
       "        Date            Comp Result GF GA     AwayTeam  HxG  AxG  HPoss  \\\n",
       "0 2017-08-11  Premier League      W  4  3    leicester  2.5  1.5   68.0   \n",
       "1 2017-09-09  Premier League      W  3  0  bournemouth  2.2  0.6   58.0   \n",
       "2 2017-09-25  Premier League      W  2  0    west-brom  2.2  0.9   69.0   \n",
       "3 2017-10-01  Premier League      W  2  0     brighton  2.4  0.4   64.0   \n",
       "4 2017-10-28  Premier League      W  2  1      swansea  2.0  0.9   72.0   \n",
       "\n",
       "  DaysLastPlayed HomeTeam  APoss  \n",
       "0         5 days  arsenal   32.0  \n",
       "1        13 days  arsenal   42.0  \n",
       "2         5 days  arsenal   31.0  \n",
       "3         3 days  arsenal   36.0  \n",
       "4         4 days  arsenal   28.0  "
      ]
     },
     "execution_count": 12,
     "metadata": {},
     "output_type": "execute_result"
    }
   ],
   "source": [
    "datasource2_df.head()"
   ]
  },
  {
   "cell_type": "markdown",
   "id": "27ba758c",
   "metadata": {},
   "source": [
    "# Integration of Data Sources "
   ]
  },
  {
   "cell_type": "code",
   "execution_count": 20,
   "id": "d68e544f",
   "metadata": {},
   "outputs": [],
   "source": [
    "# df"
   ]
  },
  {
   "cell_type": "code",
   "execution_count": 21,
   "id": "d24257c4",
   "metadata": {},
   "outputs": [],
   "source": [
    "# df = datasource1_df\n",
    "# df.head()"
   ]
  },
  {
   "cell_type": "code",
   "execution_count": 22,
   "id": "7904262a",
   "metadata": {},
   "outputs": [],
   "source": [
    "# df = pd.merge(df, datasource2_df, on=['Date', 'HomeTeam', 'AwayTeam'])"
   ]
  },
  {
   "cell_type": "code",
   "execution_count": 23,
   "id": "5d037b91",
   "metadata": {},
   "outputs": [],
   "source": [
    "# df.head()"
   ]
  },
  {
   "cell_type": "code",
   "execution_count": null,
   "id": "c4af31d8",
   "metadata": {},
   "outputs": [],
   "source": []
  },
  {
   "cell_type": "code",
   "execution_count": null,
   "id": "6856cd30",
   "metadata": {},
   "outputs": [],
   "source": []
  },
  {
   "cell_type": "markdown",
   "id": "734fcd9e",
   "metadata": {},
   "source": [
    "# Feature Engineering"
   ]
  },
  {
   "cell_type": "code",
   "execution_count": null,
   "id": "c8fb06b0",
   "metadata": {},
   "outputs": [],
   "source": [
    "# add new feature: 'DaysLastPlayed'\n",
    "# temp_df['Date'] =  pd.to_datetime(temp_df['Date'], format=\"%Y/%m/%d\")\n",
    "# temp_df['HT_DaysLastPlayed'] = temp_df['Date'] - temp_df['Date'].shift(1)"
   ]
  }
 ],
 "metadata": {
  "kernelspec": {
   "display_name": "Python 3 (ipykernel)",
   "language": "python",
   "name": "python3"
  },
  "language_info": {
   "codemirror_mode": {
    "name": "ipython",
    "version": 3
   },
   "file_extension": ".py",
   "mimetype": "text/x-python",
   "name": "python",
   "nbconvert_exporter": "python",
   "pygments_lexer": "ipython3",
   "version": "3.9.13"
  }
 },
 "nbformat": 4,
 "nbformat_minor": 5
}
