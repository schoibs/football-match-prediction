{
 "cells": [
  {
   "cell_type": "markdown",
   "id": "891e10b5",
   "metadata": {},
   "source": [
    "# Import Libraries"
   ]
  },
  {
   "cell_type": "code",
   "execution_count": 1,
   "id": "bd30da99",
   "metadata": {},
   "outputs": [],
   "source": [
    "import pandas as pd\n",
    "import numpy as np\n",
    "\n",
    "import glob\n",
    "import os"
   ]
  },
  {
   "cell_type": "code",
   "execution_count": 2,
   "id": "85916080",
   "metadata": {},
   "outputs": [],
   "source": [
    "pd.set_option('display.max_columns', None)\n",
    "pd.set_option('display.max_rows', None)"
   ]
  },
  {
   "cell_type": "markdown",
   "id": "a3065b40",
   "metadata": {},
   "source": [
    "# Data Preparation\n",
    "\n",
    "There are two main data sources for this project: \n",
    "- www.football-data.co.uk \n",
    "- www.fbref.com/en. \n",
    "\n",
    "Both of these two data sources provide match statistics data for Premier League matches. We will extract match statistics from both of these websites and integrate them into one DataFrame.\n",
    "\n",
    "First we create an empty DataFrame that will eventually contain the data integrated from the various data sources."
   ]
  },
  {
   "cell_type": "markdown",
   "id": "d266a8ea",
   "metadata": {},
   "source": [
    "## Data Source 1\n",
    "\n",
    "www.football-data-co.uk"
   ]
  },
  {
   "cell_type": "code",
   "execution_count": 3,
   "id": "ced02390",
   "metadata": {},
   "outputs": [],
   "source": [
    "datasource1_df = pd.DataFrame()\n",
    "seasons = ['2017-2018', '2018-2019', '2019-2020', '2020-2021', '2021-2022']\n",
    "\n",
    "for season in seasons:\n",
    "    # read csv file for match statistics\n",
    "    temp_df = pd.read_csv(f'datasets/{season}/data-source-1/{season}-match-statistics.csv')\n",
    "\n",
    "    # drop irrelvant columns\n",
    "    temp_df.drop(temp_df.loc[:, 'BWH':].columns, axis=1, inplace = True)\n",
    "    temp_df.drop(['Div', 'HTHG', 'HTAG', 'HTR', 'Referee', 'Time'], axis=1, inplace = True, errors='ignore')\n",
    "    \n",
    "    temp_df.to_csv(f'datasets/{season}/dataset1.csv', index=False)"
   ]
  },
  {
   "cell_type": "markdown",
   "id": "8faa99c0",
   "metadata": {},
   "source": [
    "## Data Source 2\n",
    "\n",
    "www.fbref.com/en"
   ]
  },
  {
   "cell_type": "code",
   "execution_count": 4,
   "id": "86014841",
   "metadata": {},
   "outputs": [],
   "source": [
    "seasons = ['2017-2018', '2018-2019', '2019-2020', '2020-2021', '2021-2022']\n",
    "\n",
    "for season in seasons:\n",
    "     \n",
    "    concatenated_df = pd.DataFrame()\n",
    "        \n",
    "    # get all the datasets from a season in data-source-2 folder\n",
    "    path = f'datasets/{season}/data-source-2'\n",
    "    csv_files = glob.glob(os.path.join(path, \"*.csv\"))\n",
    "\n",
    "    for file in csv_files:\n",
    "        \n",
    "        team = file.split('\\\\')[1].split('-fixtures')[0]\n",
    "        \n",
    "        # read csv file for each team\n",
    "        temp_df = pd.read_csv(file)\n",
    "        \n",
    "        # drop irrelvant columns\n",
    "        temp_df.drop(['Time', 'Round', 'Day', 'Attendance', 'Captain', 'Formation', 'Referee', 'Match Report', 'Notes'], axis=1, inplace = True)\n",
    "        \n",
    "        # add new feature: 'HomeTeam'\n",
    "        temp_df['team'] = team\n",
    "                \n",
    "        # concatenate temp_df to concatenated_df\n",
    "        if concatenated_df.empty:\n",
    "            concatenated_df = temp_df\n",
    "        else:\n",
    "            concatenated_df = pd.concat([concatenated_df, temp_df]).reset_index(drop=True)\n",
    "    \n",
    "    concatenated_df.to_csv(f'datasets/{season}/dataset2.csv', index=False)"
   ]
  },
  {
   "cell_type": "code",
   "execution_count": null,
   "id": "0da9355d",
   "metadata": {},
   "outputs": [],
   "source": []
  }
 ],
 "metadata": {
  "kernelspec": {
   "display_name": "Python 3 (ipykernel)",
   "language": "python",
   "name": "python3"
  },
  "language_info": {
   "codemirror_mode": {
    "name": "ipython",
    "version": 3
   },
   "file_extension": ".py",
   "mimetype": "text/x-python",
   "name": "python",
   "nbconvert_exporter": "python",
   "pygments_lexer": "ipython3",
   "version": "3.9.13"
  }
 },
 "nbformat": 4,
 "nbformat_minor": 5
}
