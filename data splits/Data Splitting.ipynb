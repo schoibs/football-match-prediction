{
 "cells": [
  {
   "cell_type": "markdown",
   "id": "9c09d225",
   "metadata": {},
   "source": [
    "# 1. Import Libraries"
   ]
  },
  {
   "cell_type": "code",
   "execution_count": 1,
   "id": "d4a9c085",
   "metadata": {},
   "outputs": [],
   "source": [
    "import pandas as pd\n",
    "import numpy as np"
   ]
  },
  {
   "cell_type": "code",
   "execution_count": 2,
   "id": "2980960c",
   "metadata": {},
   "outputs": [],
   "source": [
    "pd.set_option('display.max_columns', None)\n",
    "pd.set_option('display.max_rows', None)"
   ]
  },
  {
   "cell_type": "markdown",
   "id": "fa0b6af2",
   "metadata": {},
   "source": [
    "# 2. Read Dataset"
   ]
  },
  {
   "cell_type": "code",
   "execution_count": 3,
   "id": "f6cfd82d",
   "metadata": {},
   "outputs": [
    {
     "name": "stdout",
     "output_type": "stream",
     "text": [
      "Before dropping rows with NA values \t:  (3297, 31)\n",
      "After dropping rows with NA values \t:  (3297, 31)\n"
     ]
    }
   ],
   "source": [
    "df = pd.read_csv('../data/input/input_dataset.csv')\n",
    "\n",
    "print('Before dropping rows with NA values \\t: ', df.shape)\n",
    "df = df.dropna(axis=0).reset_index(drop=True)\n",
    "print('After dropping rows with NA values \\t: ', df.shape)"
   ]
  },
  {
   "cell_type": "code",
   "execution_count": 4,
   "id": "24176b6f",
   "metadata": {},
   "outputs": [
    {
     "data": {
      "text/plain": [
       "W    1496\n",
       "L    1029\n",
       "D     772\n",
       "Name: Result, dtype: int64"
      ]
     },
     "execution_count": 4,
     "metadata": {},
     "output_type": "execute_result"
    }
   ],
   "source": [
    "df.Result.value_counts()"
   ]
  },
  {
   "cell_type": "code",
   "execution_count": 5,
   "id": "2dc93db7",
   "metadata": {},
   "outputs": [
    {
     "data": {
      "text/html": [
       "<div>\n",
       "<style scoped>\n",
       "    .dataframe tbody tr th:only-of-type {\n",
       "        vertical-align: middle;\n",
       "    }\n",
       "\n",
       "    .dataframe tbody tr th {\n",
       "        vertical-align: top;\n",
       "    }\n",
       "\n",
       "    .dataframe thead th {\n",
       "        text-align: right;\n",
       "    }\n",
       "</style>\n",
       "<table border=\"1\" class=\"dataframe\">\n",
       "  <thead>\n",
       "    <tr style=\"text-align: right;\">\n",
       "      <th></th>\n",
       "      <th>Referee</th>\n",
       "      <th>Day Of Week</th>\n",
       "      <th>Round</th>\n",
       "      <th>Days</th>\n",
       "      <th>Shots</th>\n",
       "      <th>ShotsOT</th>\n",
       "      <th>Corners</th>\n",
       "      <th>Fouls</th>\n",
       "      <th>YCards</th>\n",
       "      <th>RCards</th>\n",
       "      <th>GoalsScored</th>\n",
       "      <th>GoalsConceded</th>\n",
       "      <th>GoalsDiff</th>\n",
       "      <th>HTGoalsScored</th>\n",
       "      <th>HTGoalsConceded</th>\n",
       "      <th>HTGoalsDiff</th>\n",
       "      <th>Points</th>\n",
       "      <th>WinPercent</th>\n",
       "      <th>WinStreak</th>\n",
       "      <th>UnbPercent</th>\n",
       "      <th>UnbStreak</th>\n",
       "      <th>Def</th>\n",
       "      <th>Mid</th>\n",
       "      <th>Att</th>\n",
       "      <th>Ovr</th>\n",
       "      <th>LastSeasonRank</th>\n",
       "      <th>PromotedMatchup</th>\n",
       "      <th>WinnerOdd</th>\n",
       "      <th>DrawOdd</th>\n",
       "      <th>Venue</th>\n",
       "      <th>Result</th>\n",
       "    </tr>\n",
       "  </thead>\n",
       "  <tbody>\n",
       "    <tr>\n",
       "      <th>0</th>\n",
       "      <td>L Probert</td>\n",
       "      <td>Sat</td>\n",
       "      <td>1.0</td>\n",
       "      <td>-4</td>\n",
       "      <td>10.4</td>\n",
       "      <td>6.6</td>\n",
       "      <td>3.8</td>\n",
       "      <td>-1.8</td>\n",
       "      <td>0.0</td>\n",
       "      <td>0.0</td>\n",
       "      <td>0.8</td>\n",
       "      <td>0.4</td>\n",
       "      <td>2.0</td>\n",
       "      <td>0.0</td>\n",
       "      <td>0.4</td>\n",
       "      <td>-2.0</td>\n",
       "      <td>0.4</td>\n",
       "      <td>20.0</td>\n",
       "      <td>0.0</td>\n",
       "      <td>0.0</td>\n",
       "      <td>1.0</td>\n",
       "      <td>7</td>\n",
       "      <td>8</td>\n",
       "      <td>8</td>\n",
       "      <td>7.67</td>\n",
       "      <td>-12</td>\n",
       "      <td>0</td>\n",
       "      <td>-9.71</td>\n",
       "      <td>5.50</td>\n",
       "      <td>Etihad Stadium</td>\n",
       "      <td>W</td>\n",
       "    </tr>\n",
       "    <tr>\n",
       "      <th>1</th>\n",
       "      <td>M Halsey</td>\n",
       "      <td>Sat</td>\n",
       "      <td>1.0</td>\n",
       "      <td>1</td>\n",
       "      <td>-1.0</td>\n",
       "      <td>-0.2</td>\n",
       "      <td>0.0</td>\n",
       "      <td>-1.8</td>\n",
       "      <td>0.4</td>\n",
       "      <td>0.0</td>\n",
       "      <td>0.2</td>\n",
       "      <td>0.0</td>\n",
       "      <td>1.0</td>\n",
       "      <td>0.4</td>\n",
       "      <td>0.2</td>\n",
       "      <td>1.0</td>\n",
       "      <td>-0.2</td>\n",
       "      <td>0.0</td>\n",
       "      <td>0.0</td>\n",
       "      <td>-20.0</td>\n",
       "      <td>-1.0</td>\n",
       "      <td>1</td>\n",
       "      <td>1</td>\n",
       "      <td>-2</td>\n",
       "      <td>0.00</td>\n",
       "      <td>1</td>\n",
       "      <td>0</td>\n",
       "      <td>-2.25</td>\n",
       "      <td>3.30</td>\n",
       "      <td>Bet365 Stadium</td>\n",
       "      <td>D</td>\n",
       "    </tr>\n",
       "    <tr>\n",
       "      <th>2</th>\n",
       "      <td>L Mason</td>\n",
       "      <td>Sat</td>\n",
       "      <td>1.0</td>\n",
       "      <td>0</td>\n",
       "      <td>6.8</td>\n",
       "      <td>5.0</td>\n",
       "      <td>1.8</td>\n",
       "      <td>-0.2</td>\n",
       "      <td>0.4</td>\n",
       "      <td>0.2</td>\n",
       "      <td>1.6</td>\n",
       "      <td>0.6</td>\n",
       "      <td>5.0</td>\n",
       "      <td>1.4</td>\n",
       "      <td>1.0</td>\n",
       "      <td>2.0</td>\n",
       "      <td>0.4</td>\n",
       "      <td>0.0</td>\n",
       "      <td>0.0</td>\n",
       "      <td>40.0</td>\n",
       "      <td>7.0</td>\n",
       "      <td>3</td>\n",
       "      <td>0</td>\n",
       "      <td>-1</td>\n",
       "      <td>0.67</td>\n",
       "      <td>-6</td>\n",
       "      <td>0</td>\n",
       "      <td>-6.56</td>\n",
       "      <td>4.20</td>\n",
       "      <td>Goodison Park</td>\n",
       "      <td>W</td>\n",
       "    </tr>\n",
       "    <tr>\n",
       "      <th>3</th>\n",
       "      <td>L Probert</td>\n",
       "      <td>Sun</td>\n",
       "      <td>1.0</td>\n",
       "      <td>0</td>\n",
       "      <td>3.4</td>\n",
       "      <td>2.2</td>\n",
       "      <td>2.0</td>\n",
       "      <td>0.2</td>\n",
       "      <td>-0.6</td>\n",
       "      <td>0.0</td>\n",
       "      <td>1.8</td>\n",
       "      <td>0.6</td>\n",
       "      <td>6.0</td>\n",
       "      <td>0.4</td>\n",
       "      <td>0.4</td>\n",
       "      <td>0.0</td>\n",
       "      <td>1.0</td>\n",
       "      <td>20.0</td>\n",
       "      <td>0.0</td>\n",
       "      <td>60.0</td>\n",
       "      <td>5.0</td>\n",
       "      <td>1</td>\n",
       "      <td>2</td>\n",
       "      <td>1</td>\n",
       "      <td>1.34</td>\n",
       "      <td>-4</td>\n",
       "      <td>0</td>\n",
       "      <td>-3.58</td>\n",
       "      <td>3.75</td>\n",
       "      <td>Craven Cottage</td>\n",
       "      <td>L</td>\n",
       "    </tr>\n",
       "    <tr>\n",
       "      <th>4</th>\n",
       "      <td>P Dowd</td>\n",
       "      <td>Sun</td>\n",
       "      <td>1.0</td>\n",
       "      <td>-1</td>\n",
       "      <td>-2.4</td>\n",
       "      <td>-1.8</td>\n",
       "      <td>-0.6</td>\n",
       "      <td>0.6</td>\n",
       "      <td>-1.0</td>\n",
       "      <td>0.0</td>\n",
       "      <td>-0.4</td>\n",
       "      <td>-1.2</td>\n",
       "      <td>4.0</td>\n",
       "      <td>0.2</td>\n",
       "      <td>0.0</td>\n",
       "      <td>1.0</td>\n",
       "      <td>1.0</td>\n",
       "      <td>20.0</td>\n",
       "      <td>0.0</td>\n",
       "      <td>60.0</td>\n",
       "      <td>6.0</td>\n",
       "      <td>-1</td>\n",
       "      <td>-3</td>\n",
       "      <td>-5</td>\n",
       "      <td>-3.00</td>\n",
       "      <td>-1</td>\n",
       "      <td>0</td>\n",
       "      <td>-1.50</td>\n",
       "      <td>3.30</td>\n",
       "      <td>Carrow Road</td>\n",
       "      <td>W</td>\n",
       "    </tr>\n",
       "  </tbody>\n",
       "</table>\n",
       "</div>"
      ],
      "text/plain": [
       "     Referee Day Of Week  Round  Days  Shots  ShotsOT  Corners  Fouls  YCards  \\\n",
       "0  L Probert         Sat    1.0    -4   10.4      6.6      3.8   -1.8     0.0   \n",
       "1   M Halsey         Sat    1.0     1   -1.0     -0.2      0.0   -1.8     0.4   \n",
       "2    L Mason         Sat    1.0     0    6.8      5.0      1.8   -0.2     0.4   \n",
       "3  L Probert         Sun    1.0     0    3.4      2.2      2.0    0.2    -0.6   \n",
       "4     P Dowd         Sun    1.0    -1   -2.4     -1.8     -0.6    0.6    -1.0   \n",
       "\n",
       "   RCards  GoalsScored  GoalsConceded  GoalsDiff  HTGoalsScored  \\\n",
       "0     0.0          0.8            0.4        2.0            0.0   \n",
       "1     0.0          0.2            0.0        1.0            0.4   \n",
       "2     0.2          1.6            0.6        5.0            1.4   \n",
       "3     0.0          1.8            0.6        6.0            0.4   \n",
       "4     0.0         -0.4           -1.2        4.0            0.2   \n",
       "\n",
       "   HTGoalsConceded  HTGoalsDiff  Points  WinPercent  WinStreak  UnbPercent  \\\n",
       "0              0.4         -2.0     0.4        20.0        0.0         0.0   \n",
       "1              0.2          1.0    -0.2         0.0        0.0       -20.0   \n",
       "2              1.0          2.0     0.4         0.0        0.0        40.0   \n",
       "3              0.4          0.0     1.0        20.0        0.0        60.0   \n",
       "4              0.0          1.0     1.0        20.0        0.0        60.0   \n",
       "\n",
       "   UnbStreak  Def  Mid  Att   Ovr  LastSeasonRank  PromotedMatchup  WinnerOdd  \\\n",
       "0        1.0    7    8    8  7.67             -12                0      -9.71   \n",
       "1       -1.0    1    1   -2  0.00               1                0      -2.25   \n",
       "2        7.0    3    0   -1  0.67              -6                0      -6.56   \n",
       "3        5.0    1    2    1  1.34              -4                0      -3.58   \n",
       "4        6.0   -1   -3   -5 -3.00              -1                0      -1.50   \n",
       "\n",
       "   DrawOdd           Venue Result  \n",
       "0     5.50  Etihad Stadium      W  \n",
       "1     3.30  Bet365 Stadium      D  \n",
       "2     4.20   Goodison Park      W  \n",
       "3     3.75  Craven Cottage      L  \n",
       "4     3.30     Carrow Road      W  "
      ]
     },
     "execution_count": 5,
     "metadata": {},
     "output_type": "execute_result"
    }
   ],
   "source": [
    "df.head()"
   ]
  },
  {
   "cell_type": "markdown",
   "id": "ebd658ec",
   "metadata": {},
   "source": [
    "# 3. Splitting to Train and Test Set"
   ]
  },
  {
   "cell_type": "code",
   "execution_count": 6,
   "id": "48ba4826",
   "metadata": {},
   "outputs": [],
   "source": [
    "from sklearn.model_selection import train_test_split\n",
    "from sklearn.preprocessing import StandardScaler\n",
    "from sklearn.discriminant_analysis import LinearDiscriminantAnalysis as LDA\n",
    "from sklearn.decomposition import PCA"
   ]
  },
  {
   "cell_type": "markdown",
   "id": "4b53e627",
   "metadata": {},
   "source": [
    "## 3.1 Data Split 1\n",
    "\n",
    "- Target Variable: Draw & Non-Draw\n",
    "- Sampling: Stratified"
   ]
  },
  {
   "cell_type": "code",
   "execution_count": 7,
   "id": "e49276e0",
   "metadata": {},
   "outputs": [
    {
     "name": "stdout",
     "output_type": "stream",
     "text": [
      "D    772\n",
      "Name: Result, dtype: int64\n",
      "ND    2525\n",
      "Name: Result, dtype: int64\n"
     ]
    },
    {
     "name": "stderr",
     "output_type": "stream",
     "text": [
      "C:\\Users\\choibs\\AppData\\Local\\Temp\\ipykernel_12280\\1237692175.py:4: SettingWithCopyWarning: \n",
      "A value is trying to be set on a copy of a slice from a DataFrame.\n",
      "Try using .loc[row_indexer,col_indexer] = value instead\n",
      "\n",
      "See the caveats in the documentation: https://pandas.pydata.org/pandas-docs/stable/user_guide/indexing.html#returning-a-view-versus-a-copy\n",
      "  non_draw_df['Result'] = non_draw_df['Result'].map({\"W\": \"ND\", \"L\": \"ND\"})\n"
     ]
    }
   ],
   "source": [
    "# separate draws and non_draws into draw_df and non_draw_df\n",
    "draw_df = df[df['Result'] == 'D']\n",
    "non_draw_df = df[(df['Result'] == 'W') | (df['Result'] == 'L')]\n",
    "non_draw_df['Result'] = non_draw_df['Result'].map({\"W\": \"ND\", \"L\": \"ND\"})\n",
    "\n",
    "print(draw_df.Result.value_counts())\n",
    "print(non_draw_df.Result.value_counts())"
   ]
  },
  {
   "cell_type": "code",
   "execution_count": 8,
   "id": "3b161eb6",
   "metadata": {},
   "outputs": [],
   "source": [
    "# Setting up 5 fold_df\n",
    "splits = [pd.DataFrame(columns=list(df.columns)) for i in range(5)]"
   ]
  },
  {
   "cell_type": "code",
   "execution_count": 9,
   "id": "d3b71532",
   "metadata": {},
   "outputs": [],
   "source": [
    "# Setting up draw_df\n",
    "\n",
    "# shuffle draw_df\n",
    "draw_df = draw_df.sample(frac = 1, random_state=0)\n",
    "\n",
    "split_sizes = [155, 155, 154, 154, 154]\n",
    "for i in range(5):\n",
    "    # copy section of draw_df to fold_df\n",
    "    splits[i] = pd.concat([splits[i], draw_df.iloc[:split_sizes[i], :]])\n",
    "    draw_df = draw_df.drop(draw_df.index[:split_sizes[i]])"
   ]
  },
  {
   "cell_type": "code",
   "execution_count": 10,
   "id": "7d767b3f",
   "metadata": {},
   "outputs": [],
   "source": [
    "# Setting up non_draw_df\n",
    "\n",
    "# shuffle non_draw df\n",
    "non_draw_df = non_draw_df.sample(frac=1, random_state=0)\n",
    "\n",
    "split_sizes = [505, 505, 505, 505, 505]\n",
    "for i in range(5):\n",
    "    # copy section of non_draw_df to fold_df\n",
    "    splits[i] = pd.concat([splits[i], non_draw_df.iloc[:split_sizes[i], :]])\n",
    "    non_draw_df = non_draw_df.drop(non_draw_df.index[:split_sizes[i]])"
   ]
  },
  {
   "cell_type": "code",
   "execution_count": 11,
   "id": "12be829c",
   "metadata": {},
   "outputs": [],
   "source": [
    "# save to csv files\n",
    "for i in range(5):\n",
    "    # prepare test set\n",
    "    test_df = splits[i]\n",
    "    test_df = test_df.sample(frac=1, random_state=0).reset_index(drop=True) # randomly shuffle test_df\n",
    "    test_df.to_csv(f'data-split-1/fold-{i+1}/test.csv', index=False) # save to test.csv\n",
    "    \n",
    "    # prepare train set\n",
    "    train_df = pd.DataFrame(columns=list(df.columns))\n",
    "    for j in range(5):\n",
    "        if (j != i):\n",
    "            train_df = pd.concat([train_df, splits[j]])\n",
    "    \n",
    "    train_df = train_df.sample(frac=1, random_state=0).reset_index(drop=True) # randomly shuffle train_df\n",
    "    train_df.to_csv(f'data-split-1/fold-{i+1}/train.csv', index=False) # save to train.csv"
   ]
  },
  {
   "cell_type": "markdown",
   "id": "ea0f96b0",
   "metadata": {},
   "source": [
    "## 3.2 Data Split 2\n",
    "\n",
    "- Target Variable: Draw & Non-Draw\n",
    "- Sampling: Balanced"
   ]
  },
  {
   "cell_type": "code",
   "execution_count": 12,
   "id": "3790edd8",
   "metadata": {},
   "outputs": [
    {
     "name": "stdout",
     "output_type": "stream",
     "text": [
      "D    772\n",
      "Name: Result, dtype: int64\n",
      "ND    2525\n",
      "Name: Result, dtype: int64\n"
     ]
    },
    {
     "name": "stderr",
     "output_type": "stream",
     "text": [
      "C:\\Users\\choibs\\AppData\\Local\\Temp\\ipykernel_12280\\1237692175.py:4: SettingWithCopyWarning: \n",
      "A value is trying to be set on a copy of a slice from a DataFrame.\n",
      "Try using .loc[row_indexer,col_indexer] = value instead\n",
      "\n",
      "See the caveats in the documentation: https://pandas.pydata.org/pandas-docs/stable/user_guide/indexing.html#returning-a-view-versus-a-copy\n",
      "  non_draw_df['Result'] = non_draw_df['Result'].map({\"W\": \"ND\", \"L\": \"ND\"})\n"
     ]
    }
   ],
   "source": [
    "# separate draws and non_draws into draw_df and non_draw_df\n",
    "draw_df = df[df['Result'] == 'D']\n",
    "non_draw_df = df[(df['Result'] == 'W') | (df['Result'] == 'L')]\n",
    "non_draw_df['Result'] = non_draw_df['Result'].map({\"W\": \"ND\", \"L\": \"ND\"})\n",
    "\n",
    "print(draw_df.Result.value_counts())\n",
    "print(non_draw_df.Result.value_counts())"
   ]
  },
  {
   "cell_type": "code",
   "execution_count": 13,
   "id": "d17fb235",
   "metadata": {},
   "outputs": [],
   "source": [
    "d_range = [(0, 618), (38, 656), (76, 694), (114, 732), (154, 772)]\n",
    "nd_range = [(0, 618), (477, 1095), (954, 1572), (1431, 2049), (1907, 2525)]\n",
    "\n",
    "for i in range(5):\n",
    "    test_df = pd.DataFrame(columns=list(df.columns))\n",
    "    train_df = pd.DataFrame(columns=list(df.columns))\n",
    "    \n",
    "    # prepare d_df and nd_df\n",
    "    d_df = draw_df.sample(frac = 1, random_state=0)\n",
    "    nd_df = non_draw_df.sample(frac=1, random_state=0)\n",
    "    \n",
    "    # copy section of d_df to train set\n",
    "    d_start = d_range[i][0]\n",
    "    d_end = d_range[i][1]\n",
    "    train_df = pd.concat([train_df, d_df.iloc[d_start:d_end, :]])\n",
    "    d_df = d_df.drop(d_df.index[d_start:d_end])\n",
    "    \n",
    "    # copy section of nd_df to train set\n",
    "    nd_start = nd_range[i][0]\n",
    "    nd_end = nd_range[i][1]\n",
    "    train_df = pd.concat([train_df, nd_df.iloc[nd_start:nd_end, :]])\n",
    "    nd_df = nd_df.drop(nd_df.index[nd_start:nd_end])\n",
    "    \n",
    "    # prepare test set\n",
    "    test_df = pd.concat([test_df, d_df])\n",
    "    test_df = pd.concat([test_df, nd_df])\n",
    "    \n",
    "    # save to csv files\n",
    "    train_df = train_df.sample(frac=1, random_state=0).reset_index(drop=True) # randomly shuffle train_df\n",
    "    train_df.to_csv(f'data-split-2/fold-{i+1}/train.csv', index=False)\n",
    "    \n",
    "    test_df = test_df.sample(frac=1, random_state=0).reset_index(drop=True) # randomly shuffle test_df\n",
    "    test_df.to_csv(f'data-split-2/fold-{i+1}/test.csv', index=False)"
   ]
  },
  {
   "cell_type": "markdown",
   "id": "08454d96",
   "metadata": {},
   "source": [
    "## 3.3 Data Split 3\n",
    "\n",
    "- Target Variable: Win, Draw, Lose\n",
    "- Sampling: Stratified"
   ]
  },
  {
   "cell_type": "code",
   "execution_count": 7,
   "id": "ab657cfd",
   "metadata": {},
   "outputs": [
    {
     "name": "stdout",
     "output_type": "stream",
     "text": [
      "W    1496\n",
      "Name: Result, dtype: int64\n",
      "D    772\n",
      "Name: Result, dtype: int64\n",
      "L    1029\n",
      "Name: Result, dtype: int64\n"
     ]
    }
   ],
   "source": [
    "# separate wins, draws, lose into win_df, draw_df, lose_df\n",
    "win_df = df[df['Result'] == 'W']\n",
    "draw_df = df[df['Result'] == 'D']\n",
    "lose_df = df[df['Result'] == 'L']\n",
    "\n",
    "print(win_df.Result.value_counts())\n",
    "print(draw_df.Result.value_counts())\n",
    "print(lose_df.Result.value_counts())"
   ]
  },
  {
   "cell_type": "code",
   "execution_count": 8,
   "id": "3f325911",
   "metadata": {},
   "outputs": [],
   "source": [
    "# Setting up 5 fold_df\n",
    "splits = [pd.DataFrame(columns=list(df.columns)) for i in range(5)]"
   ]
  },
  {
   "cell_type": "code",
   "execution_count": 9,
   "id": "a2ed13b4",
   "metadata": {},
   "outputs": [],
   "source": [
    "# Setting up win_df\n",
    "win_df = win_df.sample(frac = 1, random_state=0)\n",
    "\n",
    "split_sizes = [299, 299, 299, 299, 300]\n",
    "\n",
    "for i in range(5):\n",
    "    # copy section of win_df to fold_df\n",
    "    splits[i] = pd.concat([splits[i], win_df.iloc[:split_sizes[i], :]])\n",
    "    win_df = win_df.drop(win_df.index[:split_sizes[i]])"
   ]
  },
  {
   "cell_type": "code",
   "execution_count": 10,
   "id": "8563f5e1",
   "metadata": {},
   "outputs": [],
   "source": [
    "# Setting up draw_df\n",
    "draw_df = draw_df.sample(frac = 1, random_state=0)\n",
    "\n",
    "split_sizes = [155, 155, 154, 154, 154]\n",
    "\n",
    "for i in range(5):\n",
    "    # copy section of draw_df to fold_df\n",
    "    splits[i] = pd.concat([splits[i], draw_df.iloc[:split_sizes[i], :]])\n",
    "    draw_df = draw_df.drop(draw_df.index[:split_sizes[i]])"
   ]
  },
  {
   "cell_type": "code",
   "execution_count": 11,
   "id": "0c126bd6",
   "metadata": {},
   "outputs": [],
   "source": [
    "# Setting up lose_df\n",
    "lose_df = lose_df.sample(frac = 1, random_state=0)\n",
    "\n",
    "split_sizes = [206, 206, 206, 206, 205]\n",
    "\n",
    "for i in range(5):\n",
    "    # copy section of lose_df to fold_df\n",
    "    splits[i] = pd.concat([splits[i], lose_df.iloc[:split_sizes[i], :]])\n",
    "    lose_df = lose_df.drop(lose_df.index[:split_sizes[i]])"
   ]
  },
  {
   "cell_type": "code",
   "execution_count": 12,
   "id": "725fa987",
   "metadata": {},
   "outputs": [],
   "source": [
    "# save to csv files\n",
    "for i in range(5):\n",
    "    # prepare test set\n",
    "    test_df = splits[i]\n",
    "    test_df = test_df.sample(frac=1, random_state=0).reset_index(drop=True) # randomly shuffle test_df\n",
    "    test_df.to_csv(f'data-split-3/fold-{i+1}/test.csv', index=False)\n",
    "    \n",
    "    # prepare train set\n",
    "    train_df = pd.DataFrame(columns=list(df.columns))\n",
    "    for j in range(5):\n",
    "        if (j != i):\n",
    "            train_df = pd.concat([train_df, splits[j]])\n",
    "    \n",
    "    train_df = train_df.sample(frac=1, random_state=0).reset_index(drop=True) # randomly shuffle train_df\n",
    "    train_df.to_csv(f'data-split-3/fold-{i+1}/train.csv', index=False)"
   ]
  },
  {
   "cell_type": "markdown",
   "id": "83e39bfb",
   "metadata": {},
   "source": [
    "## 3.4 Data Split 4\n",
    "\n",
    "- Target Variable: Win, Draw, Lose\n",
    "- Sampling: Balanced"
   ]
  },
  {
   "cell_type": "code",
   "execution_count": 20,
   "id": "a93587f2",
   "metadata": {},
   "outputs": [
    {
     "name": "stdout",
     "output_type": "stream",
     "text": [
      "W    1496\n",
      "Name: Result, dtype: int64\n",
      "D    772\n",
      "Name: Result, dtype: int64\n",
      "L    1029\n",
      "Name: Result, dtype: int64\n"
     ]
    }
   ],
   "source": [
    "# separate wins, draws, lose into win_df, draw_df, lose_df\n",
    "win_df = df[df['Result'] == 'W']\n",
    "draw_df = df[df['Result'] == 'D']\n",
    "lose_df = df[df['Result'] == 'L']\n",
    "\n",
    "print(win_df.Result.value_counts())\n",
    "print(draw_df.Result.value_counts())\n",
    "print(lose_df.Result.value_counts())"
   ]
  },
  {
   "cell_type": "code",
   "execution_count": 21,
   "id": "cf86607a",
   "metadata": {},
   "outputs": [],
   "source": [
    "w_range = [(0, 618), (219, 837), (438, 1056), (657, 1275), (878, 1496)]\n",
    "d_range = [(0, 618), (38, 656), (76, 694), (114, 732), (154, 772)]\n",
    "l_range = [(0, 618), (103, 721), (206, 824), (309, 927), (411, 1029)]\n",
    "\n",
    "for i in range(5):\n",
    "    test_df = pd.DataFrame(columns=list(df.columns))\n",
    "    train_df = pd.DataFrame(columns=list(df.columns))\n",
    "    \n",
    "    # prepare d_df and nd_df\n",
    "    w_df = win_df.sample(frac = 1, random_state=0)\n",
    "    d_df = draw_df.sample(frac=1, random_state=0)\n",
    "    l_df = lose_df.sample(frac=1, random_state=0)\n",
    "    \n",
    "    # copy section of w_df to train set\n",
    "    w_start = w_range[i][0]\n",
    "    w_end = w_range[i][1]\n",
    "    train_df = pd.concat([train_df, w_df.iloc[w_start:w_end, :]])\n",
    "    w_df = w_df.drop(w_df.index[w_start:w_end])\n",
    "    \n",
    "    # copy section of d_df to train set\n",
    "    d_start = d_range[i][0]\n",
    "    d_end = d_range[i][1]\n",
    "    train_df = pd.concat([train_df, d_df.iloc[d_start:d_end, :]])\n",
    "    d_df = d_df.drop(d_df.index[d_start:d_end])\n",
    "    \n",
    "    # copy section of l_df to train set\n",
    "    l_start = l_range[i][0]\n",
    "    l_end = l_range[i][1]\n",
    "    train_df = pd.concat([train_df, l_df.iloc[l_start:l_end, :]])\n",
    "    l_df = l_df.drop(l_df.index[l_start:l_end])\n",
    "    \n",
    "    # prepare test set\n",
    "    test_df = pd.concat([test_df, w_df])\n",
    "    test_df = pd.concat([test_df, d_df])\n",
    "    test_df = pd.concat([test_df, l_df])\n",
    "    \n",
    "    # save to csv files\n",
    "    train_df = train_df.sample(frac=1, random_state=0).reset_index(drop=True) # randomly shuffle train_df\n",
    "    train_df.to_csv(f'data-split-4/fold-{i+1}/train.csv', index=False)\n",
    "    \n",
    "    test_df = test_df.sample(frac=1, random_state=0).reset_index(drop=True) # randomly shuffle test_df\n",
    "    test_df.to_csv(f'data-split-4/fold-{i+1}/test.csv', index=False)"
   ]
  },
  {
   "cell_type": "markdown",
   "id": "74721a3e",
   "metadata": {},
   "source": [
    "## 3.5 Data Split 5\n",
    "\n",
    "- Target Variable: Draw, Lose\n",
    "- Sampling: Stratified"
   ]
  },
  {
   "cell_type": "code",
   "execution_count": 7,
   "id": "866e6e0d",
   "metadata": {},
   "outputs": [
    {
     "name": "stdout",
     "output_type": "stream",
     "text": [
      "D    772\n",
      "Name: Result, dtype: int64\n",
      "L    1029\n",
      "Name: Result, dtype: int64\n"
     ]
    }
   ],
   "source": [
    "# separate draws, lose into draw_df, lose_df\n",
    "draw_df = df[df['Result'] == 'D']\n",
    "lose_df = df[df['Result'] == 'L']\n",
    "\n",
    "print(draw_df.Result.value_counts())\n",
    "print(lose_df.Result.value_counts())"
   ]
  },
  {
   "cell_type": "code",
   "execution_count": 8,
   "id": "3c96d43a",
   "metadata": {},
   "outputs": [],
   "source": [
    "# Setting up 5 fold_df\n",
    "splits = [pd.DataFrame(columns=list(df.columns)) for i in range(5)]"
   ]
  },
  {
   "cell_type": "code",
   "execution_count": 9,
   "id": "1da4b280",
   "metadata": {},
   "outputs": [],
   "source": [
    "# Setting up draw_df\n",
    "draw_df = draw_df.sample(frac = 1, random_state=0)\n",
    "\n",
    "split_sizes = [155,155,154,154,154]\n",
    "\n",
    "for i in range(5):\n",
    "    # copy section of draw_df to fold_df\n",
    "    splits[i] = pd.concat([splits[i], draw_df.iloc[:split_sizes[i], :]])\n",
    "    draw_df = draw_df.drop(draw_df.index[:split_sizes[i]])"
   ]
  },
  {
   "cell_type": "code",
   "execution_count": 10,
   "id": "4cabd1aa",
   "metadata": {},
   "outputs": [],
   "source": [
    "# Setting up lose_df\n",
    "lose_df = lose_df.sample(frac = 1, random_state=0)\n",
    "\n",
    "split_sizes = [206,206,206,206,205]\n",
    "\n",
    "for i in range(5):\n",
    "    # copy section of lose_df to fold_df\n",
    "    splits[i] = pd.concat([splits[i], lose_df.iloc[:split_sizes[i], :]])\n",
    "    lose_df = lose_df.drop(lose_df.index[:split_sizes[i]])"
   ]
  },
  {
   "cell_type": "code",
   "execution_count": 11,
   "id": "5d753ef7",
   "metadata": {},
   "outputs": [],
   "source": [
    "# save to csv files\n",
    "for i in range(5):\n",
    "    # prepare test set\n",
    "    test_df = splits[i]\n",
    "    test_df = test_df.sample(frac=1, random_state=0).reset_index(drop=True) # randomly shuffle test_df\n",
    "    test_df.to_csv(f'data-split-5/fold-{i+1}/test.csv', index=False)\n",
    "    \n",
    "    # prepare train set\n",
    "    train_df = pd.DataFrame(columns=list(df.columns))\n",
    "    for j in range(5):\n",
    "        if (j != i):\n",
    "            train_df = pd.concat([train_df, splits[j]])\n",
    "    \n",
    "    train_df = train_df.sample(frac=1, random_state=0).reset_index(drop=True) # randomly shuffle train_df\n",
    "    train_df.to_csv(f'data-split-5/fold-{i+1}/train.csv', index=False)"
   ]
  },
  {
   "cell_type": "markdown",
   "id": "1b181775",
   "metadata": {},
   "source": [
    "## 3.6 Data Split 6\n",
    "\n",
    "- Target Variable: Draw & Lose\n",
    "- Sampling: Balanced"
   ]
  },
  {
   "cell_type": "code",
   "execution_count": 27,
   "id": "b60fae5d",
   "metadata": {},
   "outputs": [
    {
     "name": "stdout",
     "output_type": "stream",
     "text": [
      "D    772\n",
      "Name: Result, dtype: int64\n",
      "L    1029\n",
      "Name: Result, dtype: int64\n"
     ]
    }
   ],
   "source": [
    "# separate draws, lose into draw_df, lose_df\n",
    "draw_df = df[df['Result'] == 'D']\n",
    "lose_df = df[df['Result'] == 'L']\n",
    "\n",
    "print(draw_df.Result.value_counts())\n",
    "print(lose_df.Result.value_counts())"
   ]
  },
  {
   "cell_type": "code",
   "execution_count": 28,
   "id": "ab493187",
   "metadata": {},
   "outputs": [],
   "source": [
    "d_range = [(0, 618), (38, 656), (76, 694), (114, 732), (154, 772)]\n",
    "l_range = [(0, 618), (103, 721), (206, 824), (309, 927), (411, 1029)]\n",
    "\n",
    "for i in range(5):\n",
    "    test_df = pd.DataFrame(columns=list(df.columns))\n",
    "    train_df = pd.DataFrame(columns=list(df.columns))\n",
    "    \n",
    "    # prepare d_df and nd_df\n",
    "    d_df = draw_df.sample(frac=1, random_state=0)\n",
    "    l_df = lose_df.sample(frac=1, random_state=0)\n",
    "    \n",
    "    # copy section of d_df to train set\n",
    "    d_start = d_range[i][0]\n",
    "    d_end = d_range[i][1]\n",
    "    train_df = pd.concat([train_df, d_df.iloc[d_start:d_end, :]])\n",
    "    d_df = d_df.drop(d_df.index[d_start:d_end])\n",
    "    \n",
    "    # copy section of l_df to train set\n",
    "    l_start = l_range[i][0]\n",
    "    l_end = l_range[i][1]\n",
    "    train_df = pd.concat([train_df, l_df.iloc[l_start:l_end, :]])\n",
    "    l_df = l_df.drop(l_df.index[l_start:l_end])\n",
    "    \n",
    "    # prepare test set\n",
    "    test_df = pd.concat([test_df, d_df])\n",
    "    test_df = pd.concat([test_df, l_df])\n",
    "    \n",
    "    # save to csv files\n",
    "    train_df = train_df.sample(frac=1, random_state=0).reset_index(drop=True) # randomly shuffle train_df\n",
    "    train_df.to_csv(f'data-split-6/fold-{i+1}/train.csv', index=False)\n",
    "    \n",
    "    test_df = test_df.sample(frac=1, random_state=0).reset_index(drop=True) # randomly shuffle test_df\n",
    "    test_df.to_csv(f'data-split-6/fold-{i+1}/test.csv', index=False)"
   ]
  },
  {
   "cell_type": "markdown",
   "id": "022d6772",
   "metadata": {},
   "source": [
    "## 3.7 Data Split 7\n",
    "\n",
    "- Target Variable: Win & Non-Win\n",
    "- Sampling: Stratified"
   ]
  },
  {
   "cell_type": "code",
   "execution_count": 29,
   "id": "e934a5b5",
   "metadata": {},
   "outputs": [
    {
     "name": "stdout",
     "output_type": "stream",
     "text": [
      "W    1496\n",
      "Name: Result, dtype: int64\n",
      "NW    1801\n",
      "Name: Result, dtype: int64\n"
     ]
    },
    {
     "name": "stderr",
     "output_type": "stream",
     "text": [
      "C:\\Users\\choibs\\AppData\\Local\\Temp\\ipykernel_12280\\2604936141.py:4: SettingWithCopyWarning: \n",
      "A value is trying to be set on a copy of a slice from a DataFrame.\n",
      "Try using .loc[row_indexer,col_indexer] = value instead\n",
      "\n",
      "See the caveats in the documentation: https://pandas.pydata.org/pandas-docs/stable/user_guide/indexing.html#returning-a-view-versus-a-copy\n",
      "  non_win_df['Result'] = non_win_df['Result'].map({\"D\": \"NW\", \"L\": \"NW\"})\n"
     ]
    }
   ],
   "source": [
    "# separate wins and non_wins into win_df and non_win_df\n",
    "win_df = df[df['Result'] == 'W']\n",
    "non_win_df = df[(df['Result'] == 'D') | (df['Result'] == 'L')]\n",
    "non_win_df['Result'] = non_win_df['Result'].map({\"D\": \"NW\", \"L\": \"NW\"})\n",
    "\n",
    "print(win_df.Result.value_counts())\n",
    "print(non_win_df.Result.value_counts())"
   ]
  },
  {
   "cell_type": "code",
   "execution_count": 30,
   "id": "c38a6f69",
   "metadata": {},
   "outputs": [],
   "source": [
    "# Setting up 5 fold_df\n",
    "splits = [pd.DataFrame(columns=list(df.columns)) for i in range(5)]"
   ]
  },
  {
   "cell_type": "code",
   "execution_count": 31,
   "id": "be596450",
   "metadata": {},
   "outputs": [],
   "source": [
    "# Setting up win_df\n",
    "\n",
    "# shuffle win_df\n",
    "win_df = win_df.sample(frac = 1, random_state=0)\n",
    "\n",
    "split_sizes = [299,299,299,299,300]\n",
    "for i in range(5):\n",
    "    # copy section of win_df to fold_df\n",
    "    splits[i] = pd.concat([splits[i], win_df.iloc[:split_sizes[i], :]])\n",
    "    win_df = win_df.drop(win_df.index[:split_sizes[i]])"
   ]
  },
  {
   "cell_type": "code",
   "execution_count": 32,
   "id": "07ff718f",
   "metadata": {},
   "outputs": [],
   "source": [
    "# Setting up non_win_df\n",
    "\n",
    "# shuffle non_win_df\n",
    "non_win_df = non_win_df.sample(frac=1, random_state=0)\n",
    "\n",
    "split_sizes = [361,360,360,360,360]\n",
    "for i in range(5):\n",
    "    # copy section of non_win_df to fold_df\n",
    "    splits[i] = pd.concat([splits[i], non_win_df.iloc[:split_sizes[i], :]])\n",
    "    non_win_df = non_win_df.drop(non_win_df.index[:split_sizes[i]])"
   ]
  },
  {
   "cell_type": "code",
   "execution_count": 33,
   "id": "876e6f19",
   "metadata": {},
   "outputs": [],
   "source": [
    "# save to csv files\n",
    "for i in range(5):\n",
    "    # prepare test set\n",
    "    test_df = splits[i]\n",
    "    test_df = test_df.sample(frac=1, random_state=0).reset_index(drop=True) # randomly shuffle test_df\n",
    "    test_df.to_csv(f'data-split-7/fold-{i+1}/test.csv', index=False) # save to test.csv\n",
    "    \n",
    "    # prepare train set\n",
    "    train_df = pd.DataFrame(columns=list(df.columns))\n",
    "    for j in range(5):\n",
    "        if (j != i):\n",
    "            train_df = pd.concat([train_df, splits[j]])\n",
    "    \n",
    "    train_df = train_df.sample(frac=1, random_state=0).reset_index(drop=True) # randomly shuffle train_df\n",
    "    train_df.to_csv(f'data-split-7/fold-{i+1}/train.csv', index=False) # save to train.csv"
   ]
  },
  {
   "cell_type": "markdown",
   "id": "59628027",
   "metadata": {},
   "source": [
    "## 3.8 Data Split 8\n",
    "\n",
    "- Target Variable: Win & Non-Win\n",
    "- Sampling: Balanced"
   ]
  },
  {
   "cell_type": "code",
   "execution_count": 7,
   "id": "9cecd5e1",
   "metadata": {},
   "outputs": [
    {
     "name": "stdout",
     "output_type": "stream",
     "text": [
      "W    1496\n",
      "Name: Result, dtype: int64\n",
      "NW    1801\n",
      "Name: Result, dtype: int64\n"
     ]
    },
    {
     "name": "stderr",
     "output_type": "stream",
     "text": [
      "C:\\Users\\choibs\\AppData\\Local\\Temp\\ipykernel_13608\\2604936141.py:4: SettingWithCopyWarning: \n",
      "A value is trying to be set on a copy of a slice from a DataFrame.\n",
      "Try using .loc[row_indexer,col_indexer] = value instead\n",
      "\n",
      "See the caveats in the documentation: https://pandas.pydata.org/pandas-docs/stable/user_guide/indexing.html#returning-a-view-versus-a-copy\n",
      "  non_win_df['Result'] = non_win_df['Result'].map({\"D\": \"NW\", \"L\": \"NW\"})\n"
     ]
    }
   ],
   "source": [
    "# separate wins and non_wins into win_df and non_win_df\n",
    "win_df = df[df['Result'] == 'W']\n",
    "non_win_df = df[(df['Result'] == 'D') | (df['Result'] == 'L')]\n",
    "non_win_df['Result'] = non_win_df['Result'].map({\"D\": \"NW\", \"L\": \"NW\"})\n",
    "\n",
    "print(win_df.Result.value_counts())\n",
    "print(non_win_df.Result.value_counts())"
   ]
  },
  {
   "cell_type": "code",
   "execution_count": 8,
   "id": "1b74ab11",
   "metadata": {},
   "outputs": [],
   "source": [
    "w_range = [(0, 1196), (75, 1271), (150, 1346), (225, 1421), (300, 1496)]\n",
    "nw_range = [(0, 1196), (151, 1347), (302, 1498), (453, 1649), (605, 1801)]\n",
    "\n",
    "for i in range(5):\n",
    "    test_df = pd.DataFrame(columns=list(df.columns))\n",
    "    train_df = pd.DataFrame(columns=list(df.columns))\n",
    "    \n",
    "    # prepare w_df and nw_df\n",
    "    w_df = win_df.sample(frac = 1, random_state=0)\n",
    "    nw_df = non_win_df.sample(frac=1, random_state=0)\n",
    "    \n",
    "    # copy section of d_df to train set\n",
    "    w_start = w_range[i][0]\n",
    "    w_end = w_range[i][1]\n",
    "    train_df = pd.concat([train_df, w_df.iloc[w_start:w_end, :]])\n",
    "    w_df = w_df.drop(w_df.index[w_start:w_end])\n",
    "    \n",
    "    # copy section of nd_df to train set\n",
    "    nw_start = nw_range[i][0]\n",
    "    nw_end = nw_range[i][1]\n",
    "    train_df = pd.concat([train_df, nw_df.iloc[nw_start:nw_end, :]])\n",
    "    nw_df = nw_df.drop(nw_df.index[nw_start:nw_end])\n",
    "    \n",
    "    # prepare test set\n",
    "    test_df = pd.concat([test_df, w_df])\n",
    "    test_df = pd.concat([test_df, nw_df])\n",
    "    \n",
    "    # save to csv files\n",
    "    train_df = train_df.sample(frac=1, random_state=0).reset_index(drop=True) # randomly shuffle train_df\n",
    "    train_df.to_csv(f'data-split-8/fold-{i+1}/train.csv', index=False)\n",
    "    \n",
    "    test_df = test_df.sample(frac=1, random_state=0).reset_index(drop=True) # randomly shuffle test_df\n",
    "    test_df.to_csv(f'data-split-8/fold-{i+1}/test.csv', index=False)"
   ]
  }
 ],
 "metadata": {
  "kernelspec": {
   "display_name": "Python 3 (ipykernel)",
   "language": "python",
   "name": "python3"
  },
  "language_info": {
   "codemirror_mode": {
    "name": "ipython",
    "version": 3
   },
   "file_extension": ".py",
   "mimetype": "text/x-python",
   "name": "python",
   "nbconvert_exporter": "python",
   "pygments_lexer": "ipython3",
   "version": "3.9.15"
  }
 },
 "nbformat": 4,
 "nbformat_minor": 5
}
