{
 "cells": [
  {
   "cell_type": "markdown",
   "id": "fd59e140",
   "metadata": {},
   "source": [
    "# 1. Import Libraries"
   ]
  },
  {
   "cell_type": "code",
   "execution_count": 1,
   "id": "e732fbd8",
   "metadata": {},
   "outputs": [],
   "source": [
    "import pandas as pd\n",
    "import numpy as np\n",
    "import matplotlib.pyplot as plt\n",
    "import seaborn as sns\n",
    "sns.set_theme(style=\"whitegrid\")\n",
    "import pickle\n",
    "\n",
    "from sklearn.preprocessing import LabelEncoder\n",
    "from sklearn.preprocessing import StandardScaler\n",
    "\n",
    "from sklearn.ensemble import RandomForestClassifier\n",
    "from sklearn.linear_model import LogisticRegression\n",
    "from sklearn.svm import SVC\n",
    "from xgboost import XGBClassifier"
   ]
  },
  {
   "cell_type": "code",
   "execution_count": 2,
   "id": "0136e7b3",
   "metadata": {},
   "outputs": [],
   "source": [
    "pd.set_option('display.max_columns', None)\n",
    "pd.set_option('display.max_rows', None)"
   ]
  },
  {
   "cell_type": "markdown",
   "id": "da288c97",
   "metadata": {},
   "source": [
    "# 2. Read Dataset"
   ]
  },
  {
   "cell_type": "code",
   "execution_count": 3,
   "id": "772b3ac9",
   "metadata": {},
   "outputs": [],
   "source": [
    "df = pd.read_csv('../../data/input/input_dataset.csv')\n",
    "\n",
    "df = df.dropna(axis=0).reset_index(drop=True)"
   ]
  },
  {
   "cell_type": "markdown",
   "id": "88ef992f",
   "metadata": {},
   "source": [
    "# 3. Feature Selection"
   ]
  },
  {
   "cell_type": "code",
   "execution_count": 4,
   "id": "bbcffe3c",
   "metadata": {},
   "outputs": [],
   "source": [
    "selected_features = ['Shots', 'Corners', 'Fouls', 'GoalsConceded', 'UnbStreak', 'Ovr', 'DrawOdd', 'Venue']"
   ]
  },
  {
   "cell_type": "markdown",
   "id": "dd48e601",
   "metadata": {},
   "source": [
    "# 4. Model Building- Data Split 4\n",
    "\n",
    "- Target Variable: Win/Lose/Draw\n",
    "- Balanced Sampling"
   ]
  },
  {
   "cell_type": "code",
   "execution_count": 5,
   "id": "af5b1396",
   "metadata": {
    "scrolled": true
   },
   "outputs": [
    {
     "data": {
      "text/plain": [
       "{'Anfield': 0,\n",
       " 'Bet365 Stadium': 1,\n",
       " 'Boleyn Ground': 2,\n",
       " 'Bramall Lane': 3,\n",
       " 'Brentford Community Stadium': 4,\n",
       " 'Cardiff City Stadium': 5,\n",
       " 'Carrow Road': 6,\n",
       " 'Craven Cottage': 7,\n",
       " 'DW Stadium': 8,\n",
       " 'Dean Court': 9,\n",
       " 'Elland Road': 10,\n",
       " 'Emirates Stadium': 11,\n",
       " 'Etihad Stadium': 12,\n",
       " 'Falmer Stadium': 13,\n",
       " 'Goodison Park': 14,\n",
       " 'Hull City Stadium': 15,\n",
       " 'King Power Stadium': 16,\n",
       " 'Kirklees Stadium': 17,\n",
       " 'Loftus Road': 18,\n",
       " 'London Stadium': 19,\n",
       " 'Madejski Stadium': 20,\n",
       " 'Molineux Stadium': 21,\n",
       " 'Old Trafford': 22,\n",
       " 'Riverside Stadium': 23,\n",
       " 'Selhurst Park': 24,\n",
       " \"St Mary's Stadium\": 25,\n",
       " 'St. James Park': 26,\n",
       " 'Stadium of Light': 27,\n",
       " 'Stamford Bridge': 28,\n",
       " 'Swansea.com Stadium': 29,\n",
       " 'The Hawthorns': 30,\n",
       " 'Tottenham Hotspur Stadium': 31,\n",
       " 'Turf Moor': 32,\n",
       " 'Vicarage Road': 33,\n",
       " 'Villa Park': 34,\n",
       " 'Wembley Stadium': 35,\n",
       " 'White Hart Lane': 36}"
      ]
     },
     "execution_count": 5,
     "metadata": {},
     "output_type": "execute_result"
    }
   ],
   "source": [
    "# label encode categorical feature- VENUE\n",
    "venue_le = LabelEncoder()\n",
    "df['Venue'] = venue_le.fit_transform(df['Venue'])\n",
    "\n",
    "dict(zip(venue_le.classes_, range(len(venue_le.classes_))))"
   ]
  },
  {
   "cell_type": "markdown",
   "id": "e9ac677b",
   "metadata": {},
   "source": [
    "### LazyPredict"
   ]
  },
  {
   "cell_type": "code",
   "execution_count": 7,
   "id": "703e334f",
   "metadata": {},
   "outputs": [
    {
     "name": "stdout",
     "output_type": "stream",
     "text": [
      "2    620\n",
      "0    620\n",
      "1    620\n",
      "Name: Result, dtype: int64\n",
      "2    870\n",
      "1    439\n",
      "0    155\n",
      "Name: Result, dtype: int64\n"
     ]
    }
   ],
   "source": [
    "# data splitting\n",
    "train_set = pd.read_csv(f'./fold-1/train.csv')\n",
    "test_set = pd.read_csv(f'./fold-1/test.csv')\n",
    "\n",
    "X_train = train_set.loc[:, selected_features]\n",
    "y_train = train_set.iloc[:, -1]\n",
    "X_test = test_set.loc[:, selected_features]\n",
    "y_test = test_set.iloc[:, -1]\n",
    "\n",
    "# label encode train_set & test_set 'Venue' & 'Result'\n",
    "X_train['Venue'] = venue_le.transform(X_train['Venue'])\n",
    "X_test['Venue'] = venue_le.transform(X_test['Venue'])\n",
    "\n",
    "y_train = y_train.map({'D': 0, 'L': 1, 'W': 2})\n",
    "y_test = y_test.map({'D': 0, 'L': 1, 'W': 2})\n",
    "\n",
    "# numerical encode using the appropriate scaler\n",
    "wdl_sc = StandardScaler()\n",
    "X_train.iloc[:, :-1] = wdl_sc.fit_transform(X_train.iloc[:, :-1])\n",
    "X_test.iloc[:, :-1] = wdl_sc.transform(X_test.iloc[:, :-1])\n",
    "\n",
    "print(y_train.value_counts())\n",
    "print(y_test.value_counts())"
   ]
  },
  {
   "cell_type": "code",
   "execution_count": 8,
   "id": "c12135a6",
   "metadata": {},
   "outputs": [
    {
     "name": "stderr",
     "output_type": "stream",
     "text": [
      "100%|██████████████████████████████████████████████████████████████████████████████████| 29/29 [00:05<00:00,  5.41it/s]\n"
     ]
    },
    {
     "data": {
      "text/html": [
       "<div>\n",
       "<style scoped>\n",
       "    .dataframe tbody tr th:only-of-type {\n",
       "        vertical-align: middle;\n",
       "    }\n",
       "\n",
       "    .dataframe tbody tr th {\n",
       "        vertical-align: top;\n",
       "    }\n",
       "\n",
       "    .dataframe thead th {\n",
       "        text-align: right;\n",
       "    }\n",
       "</style>\n",
       "<table border=\"1\" class=\"dataframe\">\n",
       "  <thead>\n",
       "    <tr style=\"text-align: right;\">\n",
       "      <th></th>\n",
       "      <th>Accuracy</th>\n",
       "      <th>Balanced Accuracy</th>\n",
       "      <th>ROC AUC</th>\n",
       "      <th>F1 Score</th>\n",
       "      <th>Time Taken</th>\n",
       "    </tr>\n",
       "    <tr>\n",
       "      <th>Model</th>\n",
       "      <th></th>\n",
       "      <th></th>\n",
       "      <th></th>\n",
       "      <th></th>\n",
       "      <th></th>\n",
       "    </tr>\n",
       "  </thead>\n",
       "  <tbody>\n",
       "    <tr>\n",
       "      <th>LinearDiscriminantAnalysis</th>\n",
       "      <td>0.49</td>\n",
       "      <td>0.49</td>\n",
       "      <td>None</td>\n",
       "      <td>0.54</td>\n",
       "      <td>0.02</td>\n",
       "    </tr>\n",
       "    <tr>\n",
       "      <th>LogisticRegression</th>\n",
       "      <td>0.51</td>\n",
       "      <td>0.49</td>\n",
       "      <td>None</td>\n",
       "      <td>0.56</td>\n",
       "      <td>0.02</td>\n",
       "    </tr>\n",
       "    <tr>\n",
       "      <th>CalibratedClassifierCV</th>\n",
       "      <td>0.52</td>\n",
       "      <td>0.49</td>\n",
       "      <td>None</td>\n",
       "      <td>0.56</td>\n",
       "      <td>0.83</td>\n",
       "    </tr>\n",
       "    <tr>\n",
       "      <th>ExtraTreesClassifier</th>\n",
       "      <td>0.50</td>\n",
       "      <td>0.49</td>\n",
       "      <td>None</td>\n",
       "      <td>0.54</td>\n",
       "      <td>0.37</td>\n",
       "    </tr>\n",
       "    <tr>\n",
       "      <th>RidgeClassifierCV</th>\n",
       "      <td>0.53</td>\n",
       "      <td>0.48</td>\n",
       "      <td>None</td>\n",
       "      <td>0.56</td>\n",
       "      <td>0.02</td>\n",
       "    </tr>\n",
       "    <tr>\n",
       "      <th>RidgeClassifier</th>\n",
       "      <td>0.53</td>\n",
       "      <td>0.48</td>\n",
       "      <td>None</td>\n",
       "      <td>0.56</td>\n",
       "      <td>0.01</td>\n",
       "    </tr>\n",
       "    <tr>\n",
       "      <th>NearestCentroid</th>\n",
       "      <td>0.52</td>\n",
       "      <td>0.48</td>\n",
       "      <td>None</td>\n",
       "      <td>0.56</td>\n",
       "      <td>0.01</td>\n",
       "    </tr>\n",
       "    <tr>\n",
       "      <th>AdaBoostClassifier</th>\n",
       "      <td>0.49</td>\n",
       "      <td>0.48</td>\n",
       "      <td>None</td>\n",
       "      <td>0.53</td>\n",
       "      <td>0.14</td>\n",
       "    </tr>\n",
       "    <tr>\n",
       "      <th>LinearSVC</th>\n",
       "      <td>0.53</td>\n",
       "      <td>0.48</td>\n",
       "      <td>None</td>\n",
       "      <td>0.56</td>\n",
       "      <td>0.19</td>\n",
       "    </tr>\n",
       "    <tr>\n",
       "      <th>GaussianNB</th>\n",
       "      <td>0.46</td>\n",
       "      <td>0.48</td>\n",
       "      <td>None</td>\n",
       "      <td>0.51</td>\n",
       "      <td>0.01</td>\n",
       "    </tr>\n",
       "    <tr>\n",
       "      <th>RandomForestClassifier</th>\n",
       "      <td>0.50</td>\n",
       "      <td>0.48</td>\n",
       "      <td>None</td>\n",
       "      <td>0.54</td>\n",
       "      <td>0.44</td>\n",
       "    </tr>\n",
       "    <tr>\n",
       "      <th>SVC</th>\n",
       "      <td>0.48</td>\n",
       "      <td>0.48</td>\n",
       "      <td>None</td>\n",
       "      <td>0.53</td>\n",
       "      <td>0.38</td>\n",
       "    </tr>\n",
       "    <tr>\n",
       "      <th>QuadraticDiscriminantAnalysis</th>\n",
       "      <td>0.38</td>\n",
       "      <td>0.47</td>\n",
       "      <td>None</td>\n",
       "      <td>0.44</td>\n",
       "      <td>0.01</td>\n",
       "    </tr>\n",
       "    <tr>\n",
       "      <th>BernoulliNB</th>\n",
       "      <td>0.53</td>\n",
       "      <td>0.46</td>\n",
       "      <td>None</td>\n",
       "      <td>0.56</td>\n",
       "      <td>0.01</td>\n",
       "    </tr>\n",
       "    <tr>\n",
       "      <th>LGBMClassifier</th>\n",
       "      <td>0.48</td>\n",
       "      <td>0.46</td>\n",
       "      <td>None</td>\n",
       "      <td>0.52</td>\n",
       "      <td>0.43</td>\n",
       "    </tr>\n",
       "    <tr>\n",
       "      <th>XGBClassifier</th>\n",
       "      <td>0.46</td>\n",
       "      <td>0.44</td>\n",
       "      <td>None</td>\n",
       "      <td>0.50</td>\n",
       "      <td>1.14</td>\n",
       "    </tr>\n",
       "    <tr>\n",
       "      <th>KNeighborsClassifier</th>\n",
       "      <td>0.39</td>\n",
       "      <td>0.44</td>\n",
       "      <td>None</td>\n",
       "      <td>0.43</td>\n",
       "      <td>0.07</td>\n",
       "    </tr>\n",
       "    <tr>\n",
       "      <th>NuSVC</th>\n",
       "      <td>0.41</td>\n",
       "      <td>0.43</td>\n",
       "      <td>None</td>\n",
       "      <td>0.45</td>\n",
       "      <td>0.55</td>\n",
       "    </tr>\n",
       "    <tr>\n",
       "      <th>BaggingClassifier</th>\n",
       "      <td>0.45</td>\n",
       "      <td>0.43</td>\n",
       "      <td>None</td>\n",
       "      <td>0.50</td>\n",
       "      <td>0.11</td>\n",
       "    </tr>\n",
       "    <tr>\n",
       "      <th>PassiveAggressiveClassifier</th>\n",
       "      <td>0.36</td>\n",
       "      <td>0.43</td>\n",
       "      <td>None</td>\n",
       "      <td>0.42</td>\n",
       "      <td>0.02</td>\n",
       "    </tr>\n",
       "    <tr>\n",
       "      <th>DecisionTreeClassifier</th>\n",
       "      <td>0.43</td>\n",
       "      <td>0.42</td>\n",
       "      <td>None</td>\n",
       "      <td>0.47</td>\n",
       "      <td>0.02</td>\n",
       "    </tr>\n",
       "    <tr>\n",
       "      <th>ExtraTreeClassifier</th>\n",
       "      <td>0.42</td>\n",
       "      <td>0.41</td>\n",
       "      <td>None</td>\n",
       "      <td>0.46</td>\n",
       "      <td>0.02</td>\n",
       "    </tr>\n",
       "    <tr>\n",
       "      <th>LabelSpreading</th>\n",
       "      <td>0.40</td>\n",
       "      <td>0.38</td>\n",
       "      <td>None</td>\n",
       "      <td>0.44</td>\n",
       "      <td>0.24</td>\n",
       "    </tr>\n",
       "    <tr>\n",
       "      <th>LabelPropagation</th>\n",
       "      <td>0.40</td>\n",
       "      <td>0.38</td>\n",
       "      <td>None</td>\n",
       "      <td>0.44</td>\n",
       "      <td>0.21</td>\n",
       "    </tr>\n",
       "    <tr>\n",
       "      <th>SGDClassifier</th>\n",
       "      <td>0.44</td>\n",
       "      <td>0.37</td>\n",
       "      <td>None</td>\n",
       "      <td>0.47</td>\n",
       "      <td>0.03</td>\n",
       "    </tr>\n",
       "    <tr>\n",
       "      <th>Perceptron</th>\n",
       "      <td>0.36</td>\n",
       "      <td>0.36</td>\n",
       "      <td>None</td>\n",
       "      <td>0.41</td>\n",
       "      <td>0.01</td>\n",
       "    </tr>\n",
       "    <tr>\n",
       "      <th>DummyClassifier</th>\n",
       "      <td>0.11</td>\n",
       "      <td>0.33</td>\n",
       "      <td>None</td>\n",
       "      <td>0.02</td>\n",
       "      <td>0.01</td>\n",
       "    </tr>\n",
       "  </tbody>\n",
       "</table>\n",
       "</div>"
      ],
      "text/plain": [
       "                               Accuracy  Balanced Accuracy ROC AUC  F1 Score  \\\n",
       "Model                                                                          \n",
       "LinearDiscriminantAnalysis         0.49               0.49    None      0.54   \n",
       "LogisticRegression                 0.51               0.49    None      0.56   \n",
       "CalibratedClassifierCV             0.52               0.49    None      0.56   \n",
       "ExtraTreesClassifier               0.50               0.49    None      0.54   \n",
       "RidgeClassifierCV                  0.53               0.48    None      0.56   \n",
       "RidgeClassifier                    0.53               0.48    None      0.56   \n",
       "NearestCentroid                    0.52               0.48    None      0.56   \n",
       "AdaBoostClassifier                 0.49               0.48    None      0.53   \n",
       "LinearSVC                          0.53               0.48    None      0.56   \n",
       "GaussianNB                         0.46               0.48    None      0.51   \n",
       "RandomForestClassifier             0.50               0.48    None      0.54   \n",
       "SVC                                0.48               0.48    None      0.53   \n",
       "QuadraticDiscriminantAnalysis      0.38               0.47    None      0.44   \n",
       "BernoulliNB                        0.53               0.46    None      0.56   \n",
       "LGBMClassifier                     0.48               0.46    None      0.52   \n",
       "XGBClassifier                      0.46               0.44    None      0.50   \n",
       "KNeighborsClassifier               0.39               0.44    None      0.43   \n",
       "NuSVC                              0.41               0.43    None      0.45   \n",
       "BaggingClassifier                  0.45               0.43    None      0.50   \n",
       "PassiveAggressiveClassifier        0.36               0.43    None      0.42   \n",
       "DecisionTreeClassifier             0.43               0.42    None      0.47   \n",
       "ExtraTreeClassifier                0.42               0.41    None      0.46   \n",
       "LabelSpreading                     0.40               0.38    None      0.44   \n",
       "LabelPropagation                   0.40               0.38    None      0.44   \n",
       "SGDClassifier                      0.44               0.37    None      0.47   \n",
       "Perceptron                         0.36               0.36    None      0.41   \n",
       "DummyClassifier                    0.11               0.33    None      0.02   \n",
       "\n",
       "                               Time Taken  \n",
       "Model                                      \n",
       "LinearDiscriminantAnalysis           0.02  \n",
       "LogisticRegression                   0.02  \n",
       "CalibratedClassifierCV               0.83  \n",
       "ExtraTreesClassifier                 0.37  \n",
       "RidgeClassifierCV                    0.02  \n",
       "RidgeClassifier                      0.01  \n",
       "NearestCentroid                      0.01  \n",
       "AdaBoostClassifier                   0.14  \n",
       "LinearSVC                            0.19  \n",
       "GaussianNB                           0.01  \n",
       "RandomForestClassifier               0.44  \n",
       "SVC                                  0.38  \n",
       "QuadraticDiscriminantAnalysis        0.01  \n",
       "BernoulliNB                          0.01  \n",
       "LGBMClassifier                       0.43  \n",
       "XGBClassifier                        1.14  \n",
       "KNeighborsClassifier                 0.07  \n",
       "NuSVC                                0.55  \n",
       "BaggingClassifier                    0.11  \n",
       "PassiveAggressiveClassifier          0.02  \n",
       "DecisionTreeClassifier               0.02  \n",
       "ExtraTreeClassifier                  0.02  \n",
       "LabelSpreading                       0.24  \n",
       "LabelPropagation                     0.21  \n",
       "SGDClassifier                        0.03  \n",
       "Perceptron                           0.01  \n",
       "DummyClassifier                      0.01  "
      ]
     },
     "execution_count": 8,
     "metadata": {},
     "output_type": "execute_result"
    }
   ],
   "source": [
    "import lazypredict\n",
    "from lazypredict.Supervised import LazyClassifier\n",
    "\n",
    "clf = LazyClassifier(verbose=0,ignore_warnings=True)\n",
    "models, predictions = clf.fit(X_train, X_test, y_train, y_test)\n",
    "models"
   ]
  },
  {
   "cell_type": "markdown",
   "id": "94e4be34",
   "metadata": {},
   "source": [
    "### Random Forest Classifier"
   ]
  },
  {
   "cell_type": "markdown",
   "id": "102c3ad5",
   "metadata": {},
   "source": [
    "#### Fold 1"
   ]
  },
  {
   "cell_type": "code",
   "execution_count": 6,
   "id": "3696d822",
   "metadata": {},
   "outputs": [
    {
     "name": "stdout",
     "output_type": "stream",
     "text": [
      "2    620\n",
      "0    620\n",
      "1    620\n",
      "Name: Result, dtype: int64\n",
      "2    870\n",
      "1    439\n",
      "0    155\n",
      "Name: Result, dtype: int64\n"
     ]
    }
   ],
   "source": [
    "# rf_classifier\n",
    "rf_classifier = RandomForestClassifier(criterion='entropy', max_depth=5, max_features='sqrt', n_estimators=300, random_state=0)\n",
    "\n",
    "# data splitting\n",
    "train_set = pd.read_csv(f'./fold-1/train.csv')\n",
    "test_set = pd.read_csv(f'./fold-1/test.csv')\n",
    "\n",
    "X_train = train_set.loc[:, selected_features]\n",
    "y_train = train_set.iloc[:, -1]\n",
    "X_test = test_set.loc[:, selected_features]\n",
    "y_test = test_set.iloc[:, -1]\n",
    "\n",
    "# label encode train_set & test_set 'Venue' & 'Result'\n",
    "X_train['Venue'] = venue_le.transform(X_train['Venue'])\n",
    "X_test['Venue'] = venue_le.transform(X_test['Venue'])\n",
    "\n",
    "y_train = y_train.map({'D': 0, 'L': 1, 'W': 2})\n",
    "y_test = y_test.map({'D': 0, 'L': 1, 'W': 2})\n",
    "\n",
    "# numerical encode using the appropriate scaler\n",
    "wdl_sc = StandardScaler()\n",
    "X_train.iloc[:, :] = wdl_sc.fit_transform(X_train.iloc[:, :])\n",
    "X_test.iloc[:, :] = wdl_sc.transform(X_test.iloc[:, :])\n",
    "\n",
    "print(y_train.value_counts())\n",
    "print(y_test.value_counts())\n",
    "\n",
    "# train model\n",
    "rf_classifier.fit(X_train, y_train)\n",
    "\n",
    "# predict test set\n",
    "y_pred = rf_classifier.predict(X_test)"
   ]
  },
  {
   "cell_type": "code",
   "execution_count": 7,
   "id": "4e3de647",
   "metadata": {},
   "outputs": [
    {
     "data": {
      "image/png": "[encoded data removed]",
      "text/plain": [
       "<Figure size 300x300 with 2 Axes>"
      ]
     },
     "metadata": {},
     "output_type": "display_data"
    }
   ],
   "source": [
    "from sklearn.metrics import ConfusionMatrixDisplay, confusion_matrix\n",
    "\n",
    "# Plot the confusion matrix\n",
    "fig, ax = plt.subplots(figsize=(3, 3))\n",
    "\n",
    "# Create the matrix\n",
    "cm = confusion_matrix(y_test, y_pred)\n",
    "cmp = ConfusionMatrixDisplay(cm, display_labels=['D', 'L', 'W'])\n",
    "cmp.plot(ax=ax)\n",
    "\n",
    "plt.show()"
   ]
  },
  {
   "cell_type": "code",
   "execution_count": 8,
   "id": "6225c5e1",
   "metadata": {},
   "outputs": [
    {
     "name": "stdout",
     "output_type": "stream",
     "text": [
      "Accuracy on Test Set: 0.5129781420765027\n",
      "ROC score on Test Set: 0.7352915775092786\n",
      "\n",
      "              precision    recall  f1-score   support\n",
      "\n",
      "           0       0.14      0.47      0.22       155\n",
      "           1       0.59      0.50      0.54       439\n",
      "           2       0.80      0.53      0.63       870\n",
      "\n",
      "    accuracy                           0.51      1464\n",
      "   macro avg       0.51      0.50      0.46      1464\n",
      "weighted avg       0.67      0.51      0.56      1464\n",
      "\n"
     ]
    }
   ],
   "source": [
    "from sklearn.metrics import classification_report, accuracy_score, roc_auc_score\n",
    "\n",
    "# Calculate Accuracy\n",
    "print('Accuracy on Test Set:', accuracy_score(y_test, y_pred))\n",
    "\n",
    "# Calculate ROC_AUC\n",
    "y_pred_probs = rf_classifier.predict_proba(X_test)\n",
    "print('ROC score on Test Set:', roc_auc_score(y_test, y_pred_probs, multi_class=\"ovr\", average=\"weighted\"))\n",
    "\n",
    "# Get Classification Report\n",
    "print()\n",
    "print(classification_report(y_test, y_pred, zero_division=0))"
   ]
  },
  {
   "cell_type": "markdown",
   "id": "821ad135",
   "metadata": {},
   "source": [
    "#### Fold 2"
   ]
  },
  {
   "cell_type": "code",
   "execution_count": 9,
   "id": "cf83192b",
   "metadata": {},
   "outputs": [
    {
     "name": "stdout",
     "output_type": "stream",
     "text": [
      "2    620\n",
      "0    620\n",
      "1    620\n",
      "Name: Result, dtype: int64\n",
      "2    870\n",
      "1    439\n",
      "0    155\n",
      "Name: Result, dtype: int64\n"
     ]
    }
   ],
   "source": [
    "# rf_classifier\n",
    "rf_classifier = RandomForestClassifier(criterion='entropy', max_depth=5, max_features='sqrt', n_estimators=300, random_state=0)\n",
    "\n",
    "# data splitting\n",
    "train_set = pd.read_csv(f'./fold-2/train.csv')\n",
    "test_set = pd.read_csv(f'./fold-2/test.csv')\n",
    "\n",
    "X_train = train_set.loc[:, selected_features]\n",
    "y_train = train_set.iloc[:, -1]\n",
    "X_test = test_set.loc[:, selected_features]\n",
    "y_test = test_set.iloc[:, -1]\n",
    "\n",
    "# label encode train_set & test_set 'Venue' & 'Result'\n",
    "X_train['Venue'] = venue_le.transform(X_train['Venue'])\n",
    "X_test['Venue'] = venue_le.transform(X_test['Venue'])\n",
    "\n",
    "y_train = y_train.map({'D': 0, 'L': 1, 'W': 2})\n",
    "y_test = y_test.map({'D': 0, 'L': 1, 'W': 2})\n",
    "\n",
    "# numerical encode using the appropriate scaler\n",
    "wdl_sc = StandardScaler()\n",
    "X_train.iloc[:, :] = wdl_sc.fit_transform(X_train.iloc[:, :])\n",
    "X_test.iloc[:, :] = wdl_sc.transform(X_test.iloc[:, :])\n",
    "\n",
    "print(y_train.value_counts())\n",
    "print(y_test.value_counts())\n",
    "\n",
    "# train model\n",
    "rf_classifier.fit(X_train, y_train)\n",
    "\n",
    "# predict test set\n",
    "y_pred = rf_classifier.predict(X_test)"
   ]
  },
  {
   "cell_type": "code",
   "execution_count": 10,
   "id": "d50ff960",
   "metadata": {},
   "outputs": [
    {
     "data": {
      "image/png": "[encoded data removed]",
      "text/plain": [
       "<Figure size 300x300 with 2 Axes>"
      ]
     },
     "metadata": {},
     "output_type": "display_data"
    }
   ],
   "source": [
    "from sklearn.metrics import ConfusionMatrixDisplay, confusion_matrix\n",
    "\n",
    "# Plot the confusion matrix\n",
    "fig, ax = plt.subplots(figsize=(3, 3))\n",
    "\n",
    "# Create the matrix\n",
    "cm = confusion_matrix(y_test, y_pred)\n",
    "cmp = ConfusionMatrixDisplay(cm, display_labels=['D', 'L', 'W'])\n",
    "cmp.plot(ax=ax)\n",
    "\n",
    "plt.show()"
   ]
  },
  {
   "cell_type": "code",
   "execution_count": 11,
   "id": "5d4d5383",
   "metadata": {},
   "outputs": [
    {
     "name": "stdout",
     "output_type": "stream",
     "text": [
      "Accuracy on Test Set: 0.5095628415300546\n",
      "ROC score on Test Set: 0.731220972145524\n",
      "\n",
      "              precision    recall  f1-score   support\n",
      "\n",
      "           0       0.14      0.46      0.21       155\n",
      "           1       0.57      0.52      0.54       439\n",
      "           2       0.82      0.51      0.63       870\n",
      "\n",
      "    accuracy                           0.51      1464\n",
      "   macro avg       0.51      0.50      0.46      1464\n",
      "weighted avg       0.67      0.51      0.56      1464\n",
      "\n"
     ]
    }
   ],
   "source": [
    "from sklearn.metrics import classification_report, accuracy_score, roc_auc_score\n",
    "\n",
    "# Calculate Accuracy\n",
    "print('Accuracy on Test Set:', accuracy_score(y_test, y_pred))\n",
    "\n",
    "# Calculate ROC_AUC\n",
    "y_pred_probs = rf_classifier.predict_proba(X_test)\n",
    "print('ROC score on Test Set:', roc_auc_score(y_test, y_pred_probs, multi_class=\"ovr\", average=\"weighted\"))\n",
    "\n",
    "# Get Classification Report\n",
    "print()\n",
    "print(classification_report(y_test, y_pred, zero_division=0))"
   ]
  },
  {
   "cell_type": "markdown",
   "id": "787ef928",
   "metadata": {},
   "source": [
    "#### Fold 3"
   ]
  },
  {
   "cell_type": "code",
   "execution_count": 12,
   "id": "521019c4",
   "metadata": {},
   "outputs": [
    {
     "name": "stdout",
     "output_type": "stream",
     "text": [
      "2    620\n",
      "0    620\n",
      "1    620\n",
      "Name: Result, dtype: int64\n",
      "2    870\n",
      "1    439\n",
      "0    155\n",
      "Name: Result, dtype: int64\n"
     ]
    }
   ],
   "source": [
    "# rf_classifier\n",
    "rf_classifier = RandomForestClassifier(criterion='entropy', max_depth=5, max_features='sqrt', n_estimators=300, random_state=0)\n",
    "\n",
    "# data splitting\n",
    "train_set = pd.read_csv(f'./fold-3/train.csv')\n",
    "test_set = pd.read_csv(f'./fold-3/test.csv')\n",
    "\n",
    "X_train = train_set.loc[:, selected_features]\n",
    "y_train = train_set.iloc[:, -1]\n",
    "X_test = test_set.loc[:, selected_features]\n",
    "y_test = test_set.iloc[:, -1]\n",
    "\n",
    "# label encode train_set & test_set 'Venue' & 'Result'\n",
    "X_train['Venue'] = venue_le.transform(X_train['Venue'])\n",
    "X_test['Venue'] = venue_le.transform(X_test['Venue'])\n",
    "\n",
    "y_train = y_train.map({'D': 0, 'L': 1, 'W': 2})\n",
    "y_test = y_test.map({'D': 0, 'L': 1, 'W': 2})\n",
    "\n",
    "# numerical encode using the appropriate scaler\n",
    "wdl_sc = StandardScaler()\n",
    "X_train.iloc[:, :] = wdl_sc.fit_transform(X_train.iloc[:, :])\n",
    "X_test.iloc[:, :] = wdl_sc.transform(X_test.iloc[:, :])\n",
    "\n",
    "print(y_train.value_counts())\n",
    "print(y_test.value_counts())\n",
    "\n",
    "# train model\n",
    "rf_classifier.fit(X_train, y_train)\n",
    "\n",
    "# predict test set\n",
    "y_pred = rf_classifier.predict(X_test)"
   ]
  },
  {
   "cell_type": "code",
   "execution_count": 13,
   "id": "4624f2e2",
   "metadata": {},
   "outputs": [
    {
     "data": {
      "image/png": "[encoded data removed]",
      "text/plain": [
       "<Figure size 300x300 with 2 Axes>"
      ]
     },
     "metadata": {},
     "output_type": "display_data"
    }
   ],
   "source": [
    "from sklearn.metrics import ConfusionMatrixDisplay, confusion_matrix\n",
    "\n",
    "# Plot the confusion matrix\n",
    "fig, ax = plt.subplots(figsize=(3, 3))\n",
    "\n",
    "# Create the matrix\n",
    "cm = confusion_matrix(y_test, y_pred)\n",
    "cmp = ConfusionMatrixDisplay(cm, display_labels=['D', 'L', 'W'])\n",
    "cmp.plot(ax=ax)\n",
    "\n",
    "plt.show()"
   ]
  },
  {
   "cell_type": "code",
   "execution_count": 14,
   "id": "d1044018",
   "metadata": {},
   "outputs": [
    {
     "name": "stdout",
     "output_type": "stream",
     "text": [
      "Accuracy on Test Set: 0.5068306010928961\n",
      "ROC score on Test Set: 0.7245714110492709\n",
      "\n",
      "              precision    recall  f1-score   support\n",
      "\n",
      "           0       0.13      0.43      0.20       155\n",
      "           1       0.55      0.48      0.51       439\n",
      "           2       0.81      0.54      0.64       870\n",
      "\n",
      "    accuracy                           0.51      1464\n",
      "   macro avg       0.50      0.48      0.45      1464\n",
      "weighted avg       0.66      0.51      0.56      1464\n",
      "\n"
     ]
    }
   ],
   "source": [
    "from sklearn.metrics import classification_report, accuracy_score, roc_auc_score\n",
    "\n",
    "# Calculate Accuracy\n",
    "print('Accuracy on Test Set:', accuracy_score(y_test, y_pred))\n",
    "\n",
    "# Calculate ROC_AUC\n",
    "y_pred_probs = rf_classifier.predict_proba(X_test)\n",
    "print('ROC score on Test Set:', roc_auc_score(y_test, y_pred_probs, multi_class=\"ovr\", average=\"weighted\"))\n",
    "\n",
    "# Get Classification Report\n",
    "print()\n",
    "print(classification_report(y_test, y_pred, zero_division=0))"
   ]
  },
  {
   "cell_type": "markdown",
   "id": "4f2d263c",
   "metadata": {},
   "source": [
    "#### Fold 4"
   ]
  },
  {
   "cell_type": "code",
   "execution_count": 15,
   "id": "ea07ba98",
   "metadata": {},
   "outputs": [
    {
     "name": "stdout",
     "output_type": "stream",
     "text": [
      "2    620\n",
      "0    620\n",
      "1    620\n",
      "Name: Result, dtype: int64\n",
      "2    870\n",
      "1    439\n",
      "0    155\n",
      "Name: Result, dtype: int64\n"
     ]
    }
   ],
   "source": [
    "# rf_classifier\n",
    "rf_classifier = RandomForestClassifier(criterion='entropy', max_depth=5, max_features='sqrt', n_estimators=300, random_state=0)\n",
    "\n",
    "# data splitting\n",
    "train_set = pd.read_csv(f'./fold-4/train.csv')\n",
    "test_set = pd.read_csv(f'./fold-4/test.csv')\n",
    "\n",
    "X_train = train_set.loc[:, selected_features]\n",
    "y_train = train_set.iloc[:, -1]\n",
    "X_test = test_set.loc[:, selected_features]\n",
    "y_test = test_set.iloc[:, -1]\n",
    "\n",
    "# label encode train_set & test_set 'Venue' & 'Result'\n",
    "X_train['Venue'] = venue_le.transform(X_train['Venue'])\n",
    "X_test['Venue'] = venue_le.transform(X_test['Venue'])\n",
    "\n",
    "y_train = y_train.map({'D': 0, 'L': 1, 'W': 2})\n",
    "y_test = y_test.map({'D': 0, 'L': 1, 'W': 2})\n",
    "\n",
    "# numerical encode using the appropriate scaler\n",
    "wdl_sc = StandardScaler()\n",
    "X_train.iloc[:, :] = wdl_sc.fit_transform(X_train.iloc[:, :])\n",
    "X_test.iloc[:, :] = wdl_sc.transform(X_test.iloc[:, :])\n",
    "\n",
    "print(y_train.value_counts())\n",
    "print(y_test.value_counts())\n",
    "\n",
    "# train model\n",
    "rf_classifier.fit(X_train, y_train)\n",
    "\n",
    "# predict test set\n",
    "y_pred = rf_classifier.predict(X_test)"
   ]
  },
  {
   "cell_type": "code",
   "execution_count": 16,
   "id": "776c0f04",
   "metadata": {},
   "outputs": [
    {
     "data": {
      "image/png": "[encoded data removed]",
      "text/plain": [
       "<Figure size 300x300 with 2 Axes>"
      ]
     },
     "metadata": {},
     "output_type": "display_data"
    }
   ],
   "source": [
    "from sklearn.metrics import ConfusionMatrixDisplay, confusion_matrix\n",
    "\n",
    "# Plot the confusion matrix\n",
    "fig, ax = plt.subplots(figsize=(3, 3))\n",
    "\n",
    "# Create the matrix\n",
    "cm = confusion_matrix(y_test, y_pred)\n",
    "cmp = ConfusionMatrixDisplay(cm, display_labels=['D', 'L', 'W'])\n",
    "cmp.plot(ax=ax)\n",
    "\n",
    "plt.show()"
   ]
  },
  {
   "cell_type": "code",
   "execution_count": 17,
   "id": "0c012869",
   "metadata": {},
   "outputs": [
    {
     "name": "stdout",
     "output_type": "stream",
     "text": [
      "Accuracy on Test Set: 0.514344262295082\n",
      "ROC score on Test Set: 0.7309752711540232\n",
      "\n",
      "              precision    recall  f1-score   support\n",
      "\n",
      "           0       0.14      0.47      0.22       155\n",
      "           1       0.59      0.48      0.53       439\n",
      "           2       0.80      0.54      0.64       870\n",
      "\n",
      "    accuracy                           0.51      1464\n",
      "   macro avg       0.51      0.50      0.46      1464\n",
      "weighted avg       0.67      0.51      0.56      1464\n",
      "\n"
     ]
    }
   ],
   "source": [
    "from sklearn.metrics import classification_report, accuracy_score, roc_auc_score\n",
    "\n",
    "# Calculate Accuracy\n",
    "print('Accuracy on Test Set:', accuracy_score(y_test, y_pred))\n",
    "\n",
    "# Calculate ROC_AUC\n",
    "y_pred_probs = rf_classifier.predict_proba(X_test)\n",
    "print('ROC score on Test Set:', roc_auc_score(y_test, y_pred_probs, multi_class=\"ovr\", average=\"weighted\"))\n",
    "\n",
    "# Get Classification Report\n",
    "print()\n",
    "print(classification_report(y_test, y_pred, zero_division=0))"
   ]
  },
  {
   "cell_type": "markdown",
   "id": "342d9728",
   "metadata": {},
   "source": [
    "#### Fold 5"
   ]
  },
  {
   "cell_type": "code",
   "execution_count": 18,
   "id": "6f109983",
   "metadata": {},
   "outputs": [
    {
     "name": "stdout",
     "output_type": "stream",
     "text": [
      "2    620\n",
      "0    620\n",
      "1    620\n",
      "Name: Result, dtype: int64\n",
      "2    870\n",
      "1    439\n",
      "0    155\n",
      "Name: Result, dtype: int64\n"
     ]
    }
   ],
   "source": [
    "# rf_classifier\n",
    "rf_classifier = RandomForestClassifier(criterion='entropy', max_depth=5, max_features='sqrt', n_estimators=300, random_state=0)\n",
    "\n",
    "# data splitting\n",
    "train_set = pd.read_csv(f'./fold-5/train.csv')\n",
    "test_set = pd.read_csv(f'./fold-5/test.csv')\n",
    "\n",
    "X_train = train_set.loc[:, selected_features]\n",
    "y_train = train_set.iloc[:, -1]\n",
    "X_test = test_set.loc[:, selected_features]\n",
    "y_test = test_set.iloc[:, -1]\n",
    "\n",
    "# label encode train_set & test_set 'Venue' & 'Result'\n",
    "X_train['Venue'] = venue_le.transform(X_train['Venue'])\n",
    "X_test['Venue'] = venue_le.transform(X_test['Venue'])\n",
    "\n",
    "y_train = y_train.map({'D': 0, 'L': 1, 'W': 2})\n",
    "y_test = y_test.map({'D': 0, 'L': 1, 'W': 2})\n",
    "\n",
    "# numerical encode using the appropriate scaler\n",
    "wdl_sc = StandardScaler()\n",
    "X_train.iloc[:, :] = wdl_sc.fit_transform(X_train.iloc[:, :])\n",
    "X_test.iloc[:, :] = wdl_sc.transform(X_test.iloc[:, :])\n",
    "\n",
    "print(y_train.value_counts())\n",
    "print(y_test.value_counts())\n",
    "\n",
    "# train model\n",
    "rf_classifier.fit(X_train, y_train)\n",
    "\n",
    "# predict test set\n",
    "y_pred = rf_classifier.predict(X_test)"
   ]
  },
  {
   "cell_type": "code",
   "execution_count": 19,
   "id": "e68aa8cc",
   "metadata": {},
   "outputs": [
    {
     "data": {
      "image/png": "[encoded data removed]",
      "text/plain": [
       "<Figure size 300x300 with 2 Axes>"
      ]
     },
     "metadata": {},
     "output_type": "display_data"
    }
   ],
   "source": [
    "from sklearn.metrics import ConfusionMatrixDisplay, confusion_matrix\n",
    "\n",
    "# Plot the confusion matrix\n",
    "fig, ax = plt.subplots(figsize=(3, 3))\n",
    "\n",
    "# Create the matrix\n",
    "cm = confusion_matrix(y_test, y_pred)\n",
    "cmp = ConfusionMatrixDisplay(cm, display_labels=['D', 'L', 'W'])\n",
    "cmp.plot(ax=ax)\n",
    "\n",
    "plt.show()"
   ]
  },
  {
   "cell_type": "code",
   "execution_count": 20,
   "id": "5f15bc6f",
   "metadata": {},
   "outputs": [
    {
     "name": "stdout",
     "output_type": "stream",
     "text": [
      "Accuracy on Test Set: 0.5252732240437158\n",
      "ROC score on Test Set: 0.7308112933325005\n",
      "\n",
      "              precision    recall  f1-score   support\n",
      "\n",
      "           0       0.14      0.44      0.21       155\n",
      "           1       0.59      0.50      0.54       439\n",
      "           2       0.80      0.55      0.65       870\n",
      "\n",
      "    accuracy                           0.53      1464\n",
      "   macro avg       0.51      0.50      0.47      1464\n",
      "weighted avg       0.67      0.53      0.57      1464\n",
      "\n"
     ]
    }
   ],
   "source": [
    "from sklearn.metrics import classification_report, accuracy_score, roc_auc_score\n",
    "\n",
    "# Calculate Accuracy\n",
    "print('Accuracy on Test Set:', accuracy_score(y_test, y_pred))\n",
    "\n",
    "# Calculate ROC_AUC\n",
    "y_pred_probs = rf_classifier.predict_proba(X_test)\n",
    "print('ROC score on Test Set:', roc_auc_score(y_test, y_pred_probs, multi_class=\"ovr\", average=\"weighted\"))\n",
    "\n",
    "# Get Classification Report\n",
    "print()\n",
    "print(classification_report(y_test, y_pred, zero_division=0))"
   ]
  },
  {
   "cell_type": "markdown",
   "id": "5694b7c6",
   "metadata": {},
   "source": [
    "### Logistic Regression"
   ]
  },
  {
   "cell_type": "markdown",
   "id": "29ea60f2",
   "metadata": {},
   "source": [
    "#### Fold 1"
   ]
  },
  {
   "cell_type": "code",
   "execution_count": 21,
   "id": "993e49d2",
   "metadata": {},
   "outputs": [
    {
     "name": "stdout",
     "output_type": "stream",
     "text": [
      "2    620\n",
      "0    620\n",
      "1    620\n",
      "Name: Result, dtype: int64\n",
      "2    870\n",
      "1    439\n",
      "0    155\n",
      "Name: Result, dtype: int64\n"
     ]
    }
   ],
   "source": [
    "# logistic regression\n",
    "lr_classifier = LogisticRegression(C=0.013, penalty='l2', solver='liblinear', random_state = 0)\n",
    "            \n",
    "# data splitting\n",
    "train_set = pd.read_csv(f'./fold-1/train.csv')\n",
    "test_set = pd.read_csv(f'./fold-1/test.csv')\n",
    "\n",
    "X_train = train_set.loc[:, selected_features]\n",
    "y_train = train_set.iloc[:, -1]\n",
    "X_test = test_set.loc[:, selected_features]\n",
    "y_test = test_set.iloc[:, -1]\n",
    "\n",
    "# label encode train_set & test_set 'Venue' & 'Result'\n",
    "X_train['Venue'] = venue_le.transform(X_train['Venue'])\n",
    "X_test['Venue'] = venue_le.transform(X_test['Venue'])\n",
    "\n",
    "y_train = y_train.map({'D': 0, 'L': 1, 'W': 2})\n",
    "y_test = y_test.map({'D': 0, 'L': 1, 'W': 2})\n",
    "\n",
    "# numerical encode using the appropriate scaler\n",
    "wdl_sc = StandardScaler()\n",
    "X_train.iloc[:, :] = wdl_sc.fit_transform(X_train.iloc[:, :])\n",
    "X_test.iloc[:, :] = wdl_sc.transform(X_test.iloc[:, :])\n",
    "\n",
    "print(y_train.value_counts())\n",
    "print(y_test.value_counts())\n",
    "\n",
    "# train model\n",
    "lr_classifier.fit(X_train, y_train)\n",
    "\n",
    "# predict test set\n",
    "y_pred = lr_classifier.predict(X_test)"
   ]
  },
  {
   "cell_type": "code",
   "execution_count": 22,
   "id": "8abaa64b",
   "metadata": {},
   "outputs": [
    {
     "data": {
      "image/png": "[encoded data removed]",
      "text/plain": [
       "<Figure size 300x300 with 2 Axes>"
      ]
     },
     "metadata": {},
     "output_type": "display_data"
    }
   ],
   "source": [
    "from sklearn.metrics import ConfusionMatrixDisplay, confusion_matrix\n",
    "\n",
    "# Plot the confusion matrix\n",
    "fig, ax = plt.subplots(figsize=(3, 3))\n",
    "\n",
    "# Create the matrix\n",
    "cm = confusion_matrix(y_test, y_pred)\n",
    "cmp = ConfusionMatrixDisplay(cm, display_labels=['D', 'L', 'W'])\n",
    "cmp.plot(ax=ax)\n",
    "\n",
    "plt.show()"
   ]
  },
  {
   "cell_type": "code",
   "execution_count": 23,
   "id": "18e8278b",
   "metadata": {},
   "outputs": [
    {
     "name": "stdout",
     "output_type": "stream",
     "text": [
      "Accuracy on Test Set: 0.5286885245901639\n",
      "ROC score on Test Set: 0.7351968188476525\n",
      "\n",
      "              precision    recall  f1-score   support\n",
      "\n",
      "           0       0.14      0.40      0.21       155\n",
      "           1       0.54      0.54      0.54       439\n",
      "           2       0.80      0.54      0.65       870\n",
      "\n",
      "    accuracy                           0.53      1464\n",
      "   macro avg       0.49      0.50      0.47      1464\n",
      "weighted avg       0.65      0.53      0.57      1464\n",
      "\n"
     ]
    }
   ],
   "source": [
    "from sklearn.metrics import classification_report, accuracy_score, roc_auc_score\n",
    "\n",
    "# Calculate Accuracy\n",
    "print('Accuracy on Test Set:', accuracy_score(y_test, y_pred))\n",
    "\n",
    "# Calculate ROC_AUC\n",
    "y_pred_probs = lr_classifier.predict_proba(X_test)\n",
    "print('ROC score on Test Set:', roc_auc_score(y_test, y_pred_probs, multi_class=\"ovr\", average=\"weighted\"))\n",
    "\n",
    "# Get Classification Report\n",
    "print()\n",
    "print(classification_report(y_test, y_pred, zero_division=0))"
   ]
  },
  {
   "cell_type": "markdown",
   "id": "497edd6e",
   "metadata": {},
   "source": [
    "#### Fold 2"
   ]
  },
  {
   "cell_type": "code",
   "execution_count": 24,
   "id": "f1c8a474",
   "metadata": {},
   "outputs": [
    {
     "name": "stdout",
     "output_type": "stream",
     "text": [
      "2    620\n",
      "0    620\n",
      "1    620\n",
      "Name: Result, dtype: int64\n",
      "2    870\n",
      "1    439\n",
      "0    155\n",
      "Name: Result, dtype: int64\n"
     ]
    }
   ],
   "source": [
    "# logistic regression\n",
    "lr_classifier = LogisticRegression(C=0.013, penalty='l2', solver='liblinear', random_state = 0)\n",
    "            \n",
    "# data splitting\n",
    "train_set = pd.read_csv(f'./fold-2/train.csv')\n",
    "test_set = pd.read_csv(f'./fold-2/test.csv')\n",
    "\n",
    "X_train = train_set.loc[:, selected_features]\n",
    "y_train = train_set.iloc[:, -1]\n",
    "X_test = test_set.loc[:, selected_features]\n",
    "y_test = test_set.iloc[:, -1]\n",
    "\n",
    "# label encode train_set & test_set 'Venue' & 'Result'\n",
    "X_train['Venue'] = venue_le.transform(X_train['Venue'])\n",
    "X_test['Venue'] = venue_le.transform(X_test['Venue'])\n",
    "\n",
    "y_train = y_train.map({'D': 0, 'L': 1, 'W': 2})\n",
    "y_test = y_test.map({'D': 0, 'L': 1, 'W': 2})\n",
    "\n",
    "# numerical encode using the appropriate scaler\n",
    "wdl_sc = StandardScaler()\n",
    "X_train.iloc[:, :] = wdl_sc.fit_transform(X_train.iloc[:, :])\n",
    "X_test.iloc[:, :] = wdl_sc.transform(X_test.iloc[:, :])\n",
    "\n",
    "print(y_train.value_counts())\n",
    "print(y_test.value_counts())\n",
    "\n",
    "# train model\n",
    "lr_classifier.fit(X_train, y_train)\n",
    "\n",
    "# predict test set\n",
    "y_pred = lr_classifier.predict(X_test)"
   ]
  },
  {
   "cell_type": "code",
   "execution_count": 25,
   "id": "effd285e",
   "metadata": {},
   "outputs": [
    {
     "data": {
      "image/png": "[encoded data removed]",
      "text/plain": [
       "<Figure size 300x300 with 2 Axes>"
      ]
     },
     "metadata": {},
     "output_type": "display_data"
    }
   ],
   "source": [
    "from sklearn.metrics import ConfusionMatrixDisplay, confusion_matrix\n",
    "\n",
    "# Plot the confusion matrix\n",
    "fig, ax = plt.subplots(figsize=(3, 3))\n",
    "\n",
    "# Create the matrix\n",
    "cm = confusion_matrix(y_test, y_pred)\n",
    "cmp = ConfusionMatrixDisplay(cm, display_labels=['D', 'L', 'W'])\n",
    "cmp.plot(ax=ax)\n",
    "\n",
    "plt.show()"
   ]
  },
  {
   "cell_type": "code",
   "execution_count": 26,
   "id": "395d37fb",
   "metadata": {},
   "outputs": [
    {
     "name": "stdout",
     "output_type": "stream",
     "text": [
      "Accuracy on Test Set: 0.5314207650273224\n",
      "ROC score on Test Set: 0.7287466661186585\n",
      "\n",
      "              precision    recall  f1-score   support\n",
      "\n",
      "           0       0.14      0.37      0.20       155\n",
      "           1       0.53      0.54      0.54       439\n",
      "           2       0.79      0.56      0.65       870\n",
      "\n",
      "    accuracy                           0.53      1464\n",
      "   macro avg       0.49      0.49      0.46      1464\n",
      "weighted avg       0.64      0.53      0.57      1464\n",
      "\n"
     ]
    }
   ],
   "source": [
    "from sklearn.metrics import classification_report, accuracy_score, roc_auc_score\n",
    "\n",
    "# Calculate Accuracy\n",
    "print('Accuracy on Test Set:', accuracy_score(y_test, y_pred))\n",
    "\n",
    "# Calculate ROC_AUC\n",
    "y_pred_probs = lr_classifier.predict_proba(X_test)\n",
    "print('ROC score on Test Set:', roc_auc_score(y_test, y_pred_probs, multi_class=\"ovr\", average=\"weighted\"))\n",
    "\n",
    "# Get Classification Report\n",
    "print()\n",
    "print(classification_report(y_test, y_pred, zero_division=0))"
   ]
  },
  {
   "cell_type": "markdown",
   "id": "eced4e17",
   "metadata": {},
   "source": [
    "#### Fold 3"
   ]
  },
  {
   "cell_type": "code",
   "execution_count": 27,
   "id": "520c963f",
   "metadata": {},
   "outputs": [
    {
     "name": "stdout",
     "output_type": "stream",
     "text": [
      "2    620\n",
      "0    620\n",
      "1    620\n",
      "Name: Result, dtype: int64\n",
      "2    870\n",
      "1    439\n",
      "0    155\n",
      "Name: Result, dtype: int64\n"
     ]
    }
   ],
   "source": [
    "# logistic regression\n",
    "lr_classifier = LogisticRegression(C=0.013, penalty='l2', solver='liblinear', random_state = 0)\n",
    "            \n",
    "# data splitting\n",
    "train_set = pd.read_csv(f'./fold-3/train.csv')\n",
    "test_set = pd.read_csv(f'./fold-3/test.csv')\n",
    "\n",
    "X_train = train_set.loc[:, selected_features]\n",
    "y_train = train_set.iloc[:, -1]\n",
    "X_test = test_set.loc[:, selected_features]\n",
    "y_test = test_set.iloc[:, -1]\n",
    "\n",
    "# label encode train_set & test_set 'Venue' & 'Result'\n",
    "X_train['Venue'] = venue_le.transform(X_train['Venue'])\n",
    "X_test['Venue'] = venue_le.transform(X_test['Venue'])\n",
    "\n",
    "y_train = y_train.map({'D': 0, 'L': 1, 'W': 2})\n",
    "y_test = y_test.map({'D': 0, 'L': 1, 'W': 2})\n",
    "\n",
    "# numerical encode using the appropriate scaler\n",
    "wdl_sc = StandardScaler()\n",
    "X_train.iloc[:, :] = wdl_sc.fit_transform(X_train.iloc[:, :])\n",
    "X_test.iloc[:, :] = wdl_sc.transform(X_test.iloc[:, :])\n",
    "\n",
    "print(y_train.value_counts())\n",
    "print(y_test.value_counts())\n",
    "\n",
    "# train model\n",
    "lr_classifier.fit(X_train, y_train)\n",
    "\n",
    "# predict test set\n",
    "y_pred = lr_classifier.predict(X_test)"
   ]
  },
  {
   "cell_type": "code",
   "execution_count": 28,
   "id": "f0f707a4",
   "metadata": {},
   "outputs": [
    {
     "data": {
      "image/png": "[encoded data removed]",
      "text/plain": [
       "<Figure size 300x300 with 2 Axes>"
      ]
     },
     "metadata": {},
     "output_type": "display_data"
    }
   ],
   "source": [
    "from sklearn.metrics import ConfusionMatrixDisplay, confusion_matrix\n",
    "\n",
    "# Plot the confusion matrix\n",
    "fig, ax = plt.subplots(figsize=(3, 3))\n",
    "\n",
    "# Create the matrix\n",
    "cm = confusion_matrix(y_test, y_pred)\n",
    "cmp = ConfusionMatrixDisplay(cm, display_labels=['D', 'L', 'W'])\n",
    "cmp.plot(ax=ax)\n",
    "\n",
    "plt.show()"
   ]
  },
  {
   "cell_type": "code",
   "execution_count": 29,
   "id": "76f8c16c",
   "metadata": {},
   "outputs": [
    {
     "name": "stdout",
     "output_type": "stream",
     "text": [
      "Accuracy on Test Set: 0.5368852459016393\n",
      "ROC score on Test Set: 0.7256363604573732\n",
      "\n",
      "              precision    recall  f1-score   support\n",
      "\n",
      "           0       0.15      0.40      0.21       155\n",
      "           1       0.54      0.50      0.52       439\n",
      "           2       0.80      0.58      0.67       870\n",
      "\n",
      "    accuracy                           0.54      1464\n",
      "   macro avg       0.49      0.49      0.47      1464\n",
      "weighted avg       0.65      0.54      0.58      1464\n",
      "\n"
     ]
    }
   ],
   "source": [
    "from sklearn.metrics import classification_report, accuracy_score, roc_auc_score\n",
    "\n",
    "# Calculate Accuracy\n",
    "print('Accuracy on Test Set:', accuracy_score(y_test, y_pred))\n",
    "\n",
    "# Calculate ROC_AUC\n",
    "y_pred_probs = lr_classifier.predict_proba(X_test)\n",
    "print('ROC score on Test Set:', roc_auc_score(y_test, y_pred_probs, multi_class=\"ovr\", average=\"weighted\"))\n",
    "\n",
    "# Get Classification Report\n",
    "print()\n",
    "print(classification_report(y_test, y_pred, zero_division=0))"
   ]
  },
  {
   "cell_type": "markdown",
   "id": "84cb6f2d",
   "metadata": {},
   "source": [
    "#### Fold 4"
   ]
  },
  {
   "cell_type": "code",
   "execution_count": 30,
   "id": "92bbd7df",
   "metadata": {},
   "outputs": [
    {
     "name": "stdout",
     "output_type": "stream",
     "text": [
      "2    620\n",
      "0    620\n",
      "1    620\n",
      "Name: Result, dtype: int64\n",
      "2    870\n",
      "1    439\n",
      "0    155\n",
      "Name: Result, dtype: int64\n"
     ]
    }
   ],
   "source": [
    "# logistic regression\n",
    "lr_classifier = LogisticRegression(C=0.013, penalty='l2', solver='liblinear', random_state = 0)\n",
    "            \n",
    "# data splitting\n",
    "train_set = pd.read_csv(f'./fold-4/train.csv')\n",
    "test_set = pd.read_csv(f'./fold-4/test.csv')\n",
    "\n",
    "X_train = train_set.loc[:, selected_features]\n",
    "y_train = train_set.iloc[:, -1]\n",
    "X_test = test_set.loc[:, selected_features]\n",
    "y_test = test_set.iloc[:, -1]\n",
    "\n",
    "# label encode train_set & test_set 'Venue' & 'Result'\n",
    "X_train['Venue'] = venue_le.transform(X_train['Venue'])\n",
    "X_test['Venue'] = venue_le.transform(X_test['Venue'])\n",
    "\n",
    "y_train = y_train.map({'D': 0, 'L': 1, 'W': 2})\n",
    "y_test = y_test.map({'D': 0, 'L': 1, 'W': 2})\n",
    "\n",
    "# numerical encode using the appropriate scaler\n",
    "wdl_sc = StandardScaler()\n",
    "X_train.iloc[:, :] = wdl_sc.fit_transform(X_train.iloc[:, :])\n",
    "X_test.iloc[:, :] = wdl_sc.transform(X_test.iloc[:, :])\n",
    "\n",
    "print(y_train.value_counts())\n",
    "print(y_test.value_counts())\n",
    "\n",
    "# train model\n",
    "lr_classifier.fit(X_train, y_train)\n",
    "\n",
    "# predict test set\n",
    "y_pred = lr_classifier.predict(X_test)"
   ]
  },
  {
   "cell_type": "code",
   "execution_count": 31,
   "id": "9b7f9d9d",
   "metadata": {},
   "outputs": [
    {
     "data": {
      "image/png": "[encoded data removed]",
      "text/plain": [
       "<Figure size 300x300 with 2 Axes>"
      ]
     },
     "metadata": {},
     "output_type": "display_data"
    }
   ],
   "source": [
    "from sklearn.metrics import ConfusionMatrixDisplay, confusion_matrix\n",
    "\n",
    "# Plot the confusion matrix\n",
    "fig, ax = plt.subplots(figsize=(3, 3))\n",
    "\n",
    "# Create the matrix\n",
    "cm = confusion_matrix(y_test, y_pred)\n",
    "cmp = ConfusionMatrixDisplay(cm, display_labels=['D', 'L', 'W'])\n",
    "cmp.plot(ax=ax)\n",
    "\n",
    "plt.show()"
   ]
  },
  {
   "cell_type": "code",
   "execution_count": 32,
   "id": "f3fc46e3",
   "metadata": {},
   "outputs": [
    {
     "name": "stdout",
     "output_type": "stream",
     "text": [
      "Accuracy on Test Set: 0.5314207650273224\n",
      "ROC score on Test Set: 0.731001815648506\n",
      "\n",
      "              precision    recall  f1-score   support\n",
      "\n",
      "           0       0.15      0.43      0.22       155\n",
      "           1       0.57      0.49      0.53       439\n",
      "           2       0.79      0.57      0.66       870\n",
      "\n",
      "    accuracy                           0.53      1464\n",
      "   macro avg       0.50      0.50      0.47      1464\n",
      "weighted avg       0.66      0.53      0.58      1464\n",
      "\n"
     ]
    }
   ],
   "source": [
    "from sklearn.metrics import classification_report, accuracy_score, roc_auc_score\n",
    "\n",
    "# Calculate Accuracy\n",
    "print('Accuracy on Test Set:', accuracy_score(y_test, y_pred))\n",
    "\n",
    "# Calculate ROC_AUC\n",
    "y_pred_probs = lr_classifier.predict_proba(X_test)\n",
    "print('ROC score on Test Set:', roc_auc_score(y_test, y_pred_probs, multi_class=\"ovr\", average=\"weighted\"))\n",
    "\n",
    "# Get Classification Report\n",
    "print()\n",
    "print(classification_report(y_test, y_pred, zero_division=0))"
   ]
  },
  {
   "cell_type": "markdown",
   "id": "e1c0b91b",
   "metadata": {},
   "source": [
    "#### Fold 5"
   ]
  },
  {
   "cell_type": "code",
   "execution_count": 33,
   "id": "5a469298",
   "metadata": {},
   "outputs": [
    {
     "name": "stdout",
     "output_type": "stream",
     "text": [
      "2    620\n",
      "0    620\n",
      "1    620\n",
      "Name: Result, dtype: int64\n",
      "2    870\n",
      "1    439\n",
      "0    155\n",
      "Name: Result, dtype: int64\n"
     ]
    }
   ],
   "source": [
    "# logistic regression\n",
    "lr_classifier = LogisticRegression(C=0.013, penalty='l2', solver='liblinear', random_state = 0)\n",
    "            \n",
    "# data splitting\n",
    "train_set = pd.read_csv(f'./fold-5/train.csv')\n",
    "test_set = pd.read_csv(f'./fold-5/test.csv')\n",
    "\n",
    "X_train = train_set.loc[:, selected_features]\n",
    "y_train = train_set.iloc[:, -1]\n",
    "X_test = test_set.loc[:, selected_features]\n",
    "y_test = test_set.iloc[:, -1]\n",
    "\n",
    "# label encode train_set & test_set 'Venue' & 'Result'\n",
    "X_train['Venue'] = venue_le.transform(X_train['Venue'])\n",
    "X_test['Venue'] = venue_le.transform(X_test['Venue'])\n",
    "\n",
    "y_train = y_train.map({'D': 0, 'L': 1, 'W': 2})\n",
    "y_test = y_test.map({'D': 0, 'L': 1, 'W': 2})\n",
    "\n",
    "# numerical encode using the appropriate scaler\n",
    "wdl_sc = StandardScaler()\n",
    "X_train.iloc[:, :] = wdl_sc.fit_transform(X_train.iloc[:, :])\n",
    "X_test.iloc[:, :] = wdl_sc.transform(X_test.iloc[:, :])\n",
    "\n",
    "print(y_train.value_counts())\n",
    "print(y_test.value_counts())\n",
    "\n",
    "# train model\n",
    "lr_classifier.fit(X_train, y_train)\n",
    "\n",
    "# predict test set\n",
    "y_pred = lr_classifier.predict(X_test)"
   ]
  },
  {
   "cell_type": "code",
   "execution_count": 34,
   "id": "f6088b5d",
   "metadata": {},
   "outputs": [
    {
     "data": {
      "image/png": "[encoded data removed]",
      "text/plain": [
       "<Figure size 300x300 with 2 Axes>"
      ]
     },
     "metadata": {},
     "output_type": "display_data"
    }
   ],
   "source": [
    "from sklearn.metrics import ConfusionMatrixDisplay, confusion_matrix\n",
    "\n",
    "# Plot the confusion matrix\n",
    "fig, ax = plt.subplots(figsize=(3, 3))\n",
    "\n",
    "# Create the matrix\n",
    "cm = confusion_matrix(y_test, y_pred)\n",
    "cmp = ConfusionMatrixDisplay(cm, display_labels=['D', 'L', 'W'])\n",
    "cmp.plot(ax=ax)\n",
    "\n",
    "plt.show()"
   ]
  },
  {
   "cell_type": "code",
   "execution_count": 35,
   "id": "3f192bc6",
   "metadata": {},
   "outputs": [
    {
     "name": "stdout",
     "output_type": "stream",
     "text": [
      "Accuracy on Test Set: 0.5382513661202186\n",
      "ROC score on Test Set: 0.7267392394728911\n",
      "\n",
      "              precision    recall  f1-score   support\n",
      "\n",
      "           0       0.15      0.43      0.23       155\n",
      "           1       0.57      0.51      0.54       439\n",
      "           2       0.79      0.57      0.66       870\n",
      "\n",
      "    accuracy                           0.54      1464\n",
      "   macro avg       0.50      0.50      0.48      1464\n",
      "weighted avg       0.66      0.54      0.58      1464\n",
      "\n"
     ]
    }
   ],
   "source": [
    "from sklearn.metrics import classification_report, accuracy_score, roc_auc_score\n",
    "\n",
    "# Calculate Accuracy\n",
    "print('Accuracy on Test Set:', accuracy_score(y_test, y_pred))\n",
    "\n",
    "# Calculate ROC_AUC\n",
    "y_pred_probs = lr_classifier.predict_proba(X_test)\n",
    "print('ROC score on Test Set:', roc_auc_score(y_test, y_pred_probs, multi_class=\"ovr\", average=\"weighted\"))\n",
    "\n",
    "# Get Classification Report\n",
    "print()\n",
    "print(classification_report(y_test, y_pred, zero_division=0))"
   ]
  },
  {
   "cell_type": "markdown",
   "id": "761b48ed",
   "metadata": {},
   "source": [
    "### SVM Classifier"
   ]
  },
  {
   "cell_type": "markdown",
   "id": "ec660050",
   "metadata": {},
   "source": [
    "#### Fold 1"
   ]
  },
  {
   "cell_type": "code",
   "execution_count": 36,
   "id": "5c9218eb",
   "metadata": {},
   "outputs": [
    {
     "name": "stdout",
     "output_type": "stream",
     "text": [
      "2    620\n",
      "0    620\n",
      "1    620\n",
      "Name: Result, dtype: int64\n",
      "2    870\n",
      "1    439\n",
      "0    155\n",
      "Name: Result, dtype: int64\n"
     ]
    }
   ],
   "source": [
    "# svm classifier\n",
    "svc_classifier = SVC(C=100, gamma=0.01, kernel='rbf', random_state = 0, probability=True)\n",
    "\n",
    "# data splitting\n",
    "train_set = pd.read_csv(f'./fold-1/train.csv')\n",
    "test_set = pd.read_csv(f'./fold-1/test.csv')\n",
    "\n",
    "X_train = train_set.loc[:, selected_features]\n",
    "y_train = train_set.iloc[:, -1]\n",
    "X_test = test_set.loc[:, selected_features]\n",
    "y_test = test_set.iloc[:, -1]\n",
    "\n",
    "# label encode train_set & test_set 'Venue' & 'Result'\n",
    "X_train['Venue'] = venue_le.transform(X_train['Venue'])\n",
    "X_test['Venue'] = venue_le.transform(X_test['Venue'])\n",
    "\n",
    "y_train = y_train.map({'D': 0, 'L': 1, 'W': 2})\n",
    "y_test = y_test.map({'D': 0, 'L': 1, 'W': 2})\n",
    "\n",
    "# numerical encode using the appropriate scaler\n",
    "wdl_sc = StandardScaler()\n",
    "X_train.iloc[:, :] = wdl_sc.fit_transform(X_train.iloc[:, :])\n",
    "X_test.iloc[:, :] = wdl_sc.transform(X_test.iloc[:, :])\n",
    "\n",
    "print(y_train.value_counts())\n",
    "print(y_test.value_counts())\n",
    "\n",
    "# train model\n",
    "svc_classifier.fit(X_train, y_train)\n",
    "\n",
    "# predict test set\n",
    "y_pred = svc_classifier.predict(X_test)"
   ]
  },
  {
   "cell_type": "code",
   "execution_count": 37,
   "id": "2e2e573f",
   "metadata": {},
   "outputs": [
    {
     "data": {
      "image/png": "[encoded data removed]",
      "text/plain": [
       "<Figure size 300x300 with 2 Axes>"
      ]
     },
     "metadata": {},
     "output_type": "display_data"
    }
   ],
   "source": [
    "from sklearn.metrics import ConfusionMatrixDisplay, confusion_matrix\n",
    "\n",
    "# Plot the confusion matrix\n",
    "fig, ax = plt.subplots(figsize=(3, 3))\n",
    "\n",
    "# Create the matrix\n",
    "cm = confusion_matrix(y_test, y_pred)\n",
    "cmp = ConfusionMatrixDisplay(cm, display_labels=['D', 'L', 'W'])\n",
    "cmp.plot(ax=ax)\n",
    "\n",
    "plt.show()"
   ]
  },
  {
   "cell_type": "code",
   "execution_count": 38,
   "id": "a8bc715b",
   "metadata": {},
   "outputs": [
    {
     "name": "stdout",
     "output_type": "stream",
     "text": [
      "Accuracy on Test Set: 0.48565573770491804\n",
      "ROC score on Test Set: 0.7248914630358327\n",
      "\n",
      "              precision    recall  f1-score   support\n",
      "\n",
      "           0       0.14      0.50      0.21       155\n",
      "           1       0.57      0.49      0.53       439\n",
      "           2       0.79      0.48      0.60       870\n",
      "\n",
      "    accuracy                           0.49      1464\n",
      "   macro avg       0.50      0.49      0.45      1464\n",
      "weighted avg       0.66      0.49      0.54      1464\n",
      "\n"
     ]
    }
   ],
   "source": [
    "from sklearn.metrics import classification_report, accuracy_score, roc_auc_score\n",
    "\n",
    "# Calculate Accuracy\n",
    "print('Accuracy on Test Set:', accuracy_score(y_test, y_pred))\n",
    "\n",
    "# Calculate ROC_AUC\n",
    "y_pred_probs = svc_classifier.predict_proba(X_test)\n",
    "print('ROC score on Test Set:', roc_auc_score(y_test, y_pred_probs, multi_class=\"ovr\", average=\"weighted\"))\n",
    "\n",
    "# Get Classification Report\n",
    "print()\n",
    "print(classification_report(y_test, y_pred, zero_division=0))"
   ]
  },
  {
   "cell_type": "markdown",
   "id": "b2c8f574",
   "metadata": {},
   "source": [
    "#### Fold 2"
   ]
  },
  {
   "cell_type": "code",
   "execution_count": 39,
   "id": "529ff7a0",
   "metadata": {},
   "outputs": [
    {
     "name": "stdout",
     "output_type": "stream",
     "text": [
      "2    620\n",
      "0    620\n",
      "1    620\n",
      "Name: Result, dtype: int64\n",
      "2    870\n",
      "1    439\n",
      "0    155\n",
      "Name: Result, dtype: int64\n"
     ]
    }
   ],
   "source": [
    "# svm classifier\n",
    "svc_classifier = SVC(C=100, gamma=0.01, kernel='rbf', random_state = 0, probability=True)\n",
    "\n",
    "# data splitting\n",
    "train_set = pd.read_csv(f'./fold-2/train.csv')\n",
    "test_set = pd.read_csv(f'./fold-2/test.csv')\n",
    "\n",
    "X_train = train_set.loc[:, selected_features]\n",
    "y_train = train_set.iloc[:, -1]\n",
    "X_test = test_set.loc[:, selected_features]\n",
    "y_test = test_set.iloc[:, -1]\n",
    "\n",
    "# label encode train_set & test_set 'Venue' & 'Result'\n",
    "X_train['Venue'] = venue_le.transform(X_train['Venue'])\n",
    "X_test['Venue'] = venue_le.transform(X_test['Venue'])\n",
    "\n",
    "y_train = y_train.map({'D': 0, 'L': 1, 'W': 2})\n",
    "y_test = y_test.map({'D': 0, 'L': 1, 'W': 2})\n",
    "\n",
    "# numerical encode using the appropriate scaler\n",
    "wdl_sc = StandardScaler()\n",
    "X_train.iloc[:, :] = wdl_sc.fit_transform(X_train.iloc[:, :])\n",
    "X_test.iloc[:, :] = wdl_sc.transform(X_test.iloc[:, :])\n",
    "\n",
    "print(y_train.value_counts())\n",
    "print(y_test.value_counts())\n",
    "\n",
    "# train model\n",
    "svc_classifier.fit(X_train, y_train)\n",
    "\n",
    "# predict test set\n",
    "y_pred = svc_classifier.predict(X_test)"
   ]
  },
  {
   "cell_type": "code",
   "execution_count": 40,
   "id": "5442184f",
   "metadata": {},
   "outputs": [
    {
     "data": {
      "image/png": "[encoded data removed]",
      "text/plain": [
       "<Figure size 300x300 with 2 Axes>"
      ]
     },
     "metadata": {},
     "output_type": "display_data"
    }
   ],
   "source": [
    "from sklearn.metrics import ConfusionMatrixDisplay, confusion_matrix\n",
    "\n",
    "# Plot the confusion matrix\n",
    "fig, ax = plt.subplots(figsize=(3, 3))\n",
    "\n",
    "# Create the matrix\n",
    "cm = confusion_matrix(y_test, y_pred)\n",
    "cmp = ConfusionMatrixDisplay(cm, display_labels=['D', 'L', 'W'])\n",
    "cmp.plot(ax=ax)\n",
    "\n",
    "plt.show()"
   ]
  },
  {
   "cell_type": "code",
   "execution_count": 41,
   "id": "fd3d8561",
   "metadata": {},
   "outputs": [
    {
     "name": "stdout",
     "output_type": "stream",
     "text": [
      "Accuracy on Test Set: 0.4849726775956284\n",
      "ROC score on Test Set: 0.7245051380083641\n",
      "\n",
      "              precision    recall  f1-score   support\n",
      "\n",
      "           0       0.14      0.50      0.21       155\n",
      "           1       0.57      0.51      0.54       439\n",
      "           2       0.80      0.47      0.59       870\n",
      "\n",
      "    accuracy                           0.48      1464\n",
      "   macro avg       0.50      0.49      0.45      1464\n",
      "weighted avg       0.66      0.48      0.54      1464\n",
      "\n"
     ]
    }
   ],
   "source": [
    "from sklearn.metrics import classification_report, accuracy_score, roc_auc_score\n",
    "\n",
    "# Calculate Accuracy\n",
    "print('Accuracy on Test Set:', accuracy_score(y_test, y_pred))\n",
    "\n",
    "# Calculate ROC_AUC\n",
    "y_pred_probs = svc_classifier.predict_proba(X_test)\n",
    "print('ROC score on Test Set:', roc_auc_score(y_test, y_pred_probs, multi_class=\"ovr\", average=\"weighted\"))\n",
    "\n",
    "# Get Classification Report\n",
    "print()\n",
    "print(classification_report(y_test, y_pred, zero_division=0))"
   ]
  },
  {
   "cell_type": "markdown",
   "id": "2662013e",
   "metadata": {},
   "source": [
    "#### Fold 3"
   ]
  },
  {
   "cell_type": "code",
   "execution_count": 42,
   "id": "3fbabe39",
   "metadata": {},
   "outputs": [
    {
     "name": "stdout",
     "output_type": "stream",
     "text": [
      "2    620\n",
      "0    620\n",
      "1    620\n",
      "Name: Result, dtype: int64\n",
      "2    870\n",
      "1    439\n",
      "0    155\n",
      "Name: Result, dtype: int64\n"
     ]
    }
   ],
   "source": [
    "# svm classifier\n",
    "svc_classifier = SVC(C=100, gamma=0.01, kernel='rbf', random_state = 0, probability=True)\n",
    "\n",
    "# data splitting\n",
    "train_set = pd.read_csv(f'./fold-3/train.csv')\n",
    "test_set = pd.read_csv(f'./fold-3/test.csv')\n",
    "\n",
    "X_train = train_set.loc[:, selected_features]\n",
    "y_train = train_set.iloc[:, -1]\n",
    "X_test = test_set.loc[:, selected_features]\n",
    "y_test = test_set.iloc[:, -1]\n",
    "\n",
    "# label encode train_set & test_set 'Venue' & 'Result'\n",
    "X_train['Venue'] = venue_le.transform(X_train['Venue'])\n",
    "X_test['Venue'] = venue_le.transform(X_test['Venue'])\n",
    "\n",
    "y_train = y_train.map({'D': 0, 'L': 1, 'W': 2})\n",
    "y_test = y_test.map({'D': 0, 'L': 1, 'W': 2})\n",
    "\n",
    "# numerical encode using the appropriate scaler\n",
    "wdl_sc = StandardScaler()\n",
    "X_train.iloc[:, :] = wdl_sc.fit_transform(X_train.iloc[:, :])\n",
    "X_test.iloc[:, :] = wdl_sc.transform(X_test.iloc[:, :])\n",
    "\n",
    "print(y_train.value_counts())\n",
    "print(y_test.value_counts())\n",
    "\n",
    "# train model\n",
    "svc_classifier.fit(X_train, y_train)\n",
    "\n",
    "# predict test set\n",
    "y_pred = svc_classifier.predict(X_test)"
   ]
  },
  {
   "cell_type": "code",
   "execution_count": 43,
   "id": "076d5d88",
   "metadata": {},
   "outputs": [
    {
     "data": {
      "image/png": "[encoded data removed]",
      "text/plain": [
       "<Figure size 300x300 with 2 Axes>"
      ]
     },
     "metadata": {},
     "output_type": "display_data"
    }
   ],
   "source": [
    "from sklearn.metrics import ConfusionMatrixDisplay, confusion_matrix\n",
    "\n",
    "# Plot the confusion matrix\n",
    "fig, ax = plt.subplots(figsize=(3, 3))\n",
    "\n",
    "# Create the matrix\n",
    "cm = confusion_matrix(y_test, y_pred)\n",
    "cmp = ConfusionMatrixDisplay(cm, display_labels=['D', 'L', 'W'])\n",
    "cmp.plot(ax=ax)\n",
    "\n",
    "plt.show()"
   ]
  },
  {
   "cell_type": "code",
   "execution_count": 44,
   "id": "5c6b0076",
   "metadata": {},
   "outputs": [
    {
     "name": "stdout",
     "output_type": "stream",
     "text": [
      "Accuracy on Test Set: 0.48770491803278687\n",
      "ROC score on Test Set: 0.7138728377967585\n",
      "\n",
      "              precision    recall  f1-score   support\n",
      "\n",
      "           0       0.13      0.48      0.20       155\n",
      "           1       0.58      0.48      0.53       439\n",
      "           2       0.81      0.49      0.61       870\n",
      "\n",
      "    accuracy                           0.49      1464\n",
      "   macro avg       0.51      0.48      0.45      1464\n",
      "weighted avg       0.67      0.49      0.54      1464\n",
      "\n"
     ]
    }
   ],
   "source": [
    "from sklearn.metrics import classification_report, accuracy_score, roc_auc_score\n",
    "\n",
    "# Calculate Accuracy\n",
    "print('Accuracy on Test Set:', accuracy_score(y_test, y_pred))\n",
    "\n",
    "# Calculate ROC_AUC\n",
    "y_pred_probs = svc_classifier.predict_proba(X_test)\n",
    "print('ROC score on Test Set:', roc_auc_score(y_test, y_pred_probs, multi_class=\"ovr\", average=\"weighted\"))\n",
    "\n",
    "# Get Classification Report\n",
    "print()\n",
    "print(classification_report(y_test, y_pred, zero_division=0))"
   ]
  },
  {
   "cell_type": "markdown",
   "id": "fc5fca29",
   "metadata": {},
   "source": [
    "#### Fold 4"
   ]
  },
  {
   "cell_type": "code",
   "execution_count": 45,
   "id": "3528491e",
   "metadata": {},
   "outputs": [
    {
     "name": "stdout",
     "output_type": "stream",
     "text": [
      "2    620\n",
      "0    620\n",
      "1    620\n",
      "Name: Result, dtype: int64\n",
      "2    870\n",
      "1    439\n",
      "0    155\n",
      "Name: Result, dtype: int64\n"
     ]
    }
   ],
   "source": [
    "# svm classifier\n",
    "svc_classifier = SVC(C=100, gamma=0.01, kernel='rbf', random_state = 0, probability=True)\n",
    "\n",
    "# data splitting\n",
    "train_set = pd.read_csv(f'./fold-4/train.csv')\n",
    "test_set = pd.read_csv(f'./fold-4/test.csv')\n",
    "\n",
    "X_train = train_set.loc[:, selected_features]\n",
    "y_train = train_set.iloc[:, -1]\n",
    "X_test = test_set.loc[:, selected_features]\n",
    "y_test = test_set.iloc[:, -1]\n",
    "\n",
    "# label encode train_set & test_set 'Venue' & 'Result'\n",
    "X_train['Venue'] = venue_le.transform(X_train['Venue'])\n",
    "X_test['Venue'] = venue_le.transform(X_test['Venue'])\n",
    "\n",
    "y_train = y_train.map({'D': 0, 'L': 1, 'W': 2})\n",
    "y_test = y_test.map({'D': 0, 'L': 1, 'W': 2})\n",
    "\n",
    "# numerical encode using the appropriate scaler\n",
    "wdl_sc = StandardScaler()\n",
    "X_train.iloc[:, :] = wdl_sc.fit_transform(X_train.iloc[:, :])\n",
    "X_test.iloc[:, :] = wdl_sc.transform(X_test.iloc[:, :])\n",
    "\n",
    "print(y_train.value_counts())\n",
    "print(y_test.value_counts())\n",
    "\n",
    "# train model\n",
    "svc_classifier.fit(X_train, y_train)\n",
    "\n",
    "# predict test set\n",
    "y_pred = svc_classifier.predict(X_test)"
   ]
  },
  {
   "cell_type": "code",
   "execution_count": 46,
   "id": "3969f8a6",
   "metadata": {},
   "outputs": [
    {
     "data": {
      "image/png": "[encoded data removed]",
      "text/plain": [
       "<Figure size 300x300 with 2 Axes>"
      ]
     },
     "metadata": {},
     "output_type": "display_data"
    }
   ],
   "source": [
    "from sklearn.metrics import ConfusionMatrixDisplay, confusion_matrix\n",
    "\n",
    "# Plot the confusion matrix\n",
    "fig, ax = plt.subplots(figsize=(3, 3))\n",
    "\n",
    "# Create the matrix\n",
    "cm = confusion_matrix(y_test, y_pred)\n",
    "cmp = ConfusionMatrixDisplay(cm, display_labels=['D', 'L', 'W'])\n",
    "cmp.plot(ax=ax)\n",
    "\n",
    "plt.show()"
   ]
  },
  {
   "cell_type": "code",
   "execution_count": 47,
   "id": "9706f7e1",
   "metadata": {},
   "outputs": [
    {
     "name": "stdout",
     "output_type": "stream",
     "text": [
      "Accuracy on Test Set: 0.49043715846994534\n",
      "ROC score on Test Set: 0.7188049118316815\n",
      "\n",
      "              precision    recall  f1-score   support\n",
      "\n",
      "           0       0.14      0.52      0.22       155\n",
      "           1       0.60      0.47      0.53       439\n",
      "           2       0.81      0.50      0.61       870\n",
      "\n",
      "    accuracy                           0.49      1464\n",
      "   macro avg       0.52      0.49      0.45      1464\n",
      "weighted avg       0.67      0.49      0.55      1464\n",
      "\n"
     ]
    }
   ],
   "source": [
    "from sklearn.metrics import classification_report, accuracy_score, roc_auc_score\n",
    "\n",
    "# Calculate Accuracy\n",
    "print('Accuracy on Test Set:', accuracy_score(y_test, y_pred))\n",
    "\n",
    "# Calculate ROC_AUC\n",
    "y_pred_probs = svc_classifier.predict_proba(X_test)\n",
    "print('ROC score on Test Set:', roc_auc_score(y_test, y_pred_probs, multi_class=\"ovr\", average=\"weighted\"))\n",
    "\n",
    "# Get Classification Report\n",
    "print()\n",
    "print(classification_report(y_test, y_pred, zero_division=0))"
   ]
  },
  {
   "cell_type": "markdown",
   "id": "eb1392e8",
   "metadata": {},
   "source": [
    "#### Fold 5"
   ]
  },
  {
   "cell_type": "code",
   "execution_count": 48,
   "id": "9d50dda5",
   "metadata": {},
   "outputs": [
    {
     "name": "stdout",
     "output_type": "stream",
     "text": [
      "2    620\n",
      "0    620\n",
      "1    620\n",
      "Name: Result, dtype: int64\n",
      "2    870\n",
      "1    439\n",
      "0    155\n",
      "Name: Result, dtype: int64\n"
     ]
    }
   ],
   "source": [
    "# svm classifier\n",
    "svc_classifier = SVC(C=100, gamma=0.01, kernel='rbf', random_state = 0, probability=True)\n",
    "\n",
    "# data splitting\n",
    "train_set = pd.read_csv(f'./fold-5/train.csv')\n",
    "test_set = pd.read_csv(f'./fold-5/test.csv')\n",
    "\n",
    "X_train = train_set.loc[:, selected_features]\n",
    "y_train = train_set.iloc[:, -1]\n",
    "X_test = test_set.loc[:, selected_features]\n",
    "y_test = test_set.iloc[:, -1]\n",
    "\n",
    "# label encode train_set & test_set 'Venue' & 'Result'\n",
    "X_train['Venue'] = venue_le.transform(X_train['Venue'])\n",
    "X_test['Venue'] = venue_le.transform(X_test['Venue'])\n",
    "\n",
    "y_train = y_train.map({'D': 0, 'L': 1, 'W': 2})\n",
    "y_test = y_test.map({'D': 0, 'L': 1, 'W': 2})\n",
    "\n",
    "# numerical encode using the appropriate scaler\n",
    "wdl_sc = StandardScaler()\n",
    "X_train.iloc[:, :] = wdl_sc.fit_transform(X_train.iloc[:, :])\n",
    "X_test.iloc[:, :] = wdl_sc.transform(X_test.iloc[:, :])\n",
    "\n",
    "print(y_train.value_counts())\n",
    "print(y_test.value_counts())\n",
    "\n",
    "# train model\n",
    "svc_classifier.fit(X_train, y_train)\n",
    "\n",
    "# predict test set\n",
    "y_pred = svc_classifier.predict(X_test)"
   ]
  },
  {
   "cell_type": "code",
   "execution_count": 49,
   "id": "9fdfefd3",
   "metadata": {},
   "outputs": [
    {
     "data": {
      "image/png": "[encoded data removed]",
      "text/plain": [
       "<Figure size 300x300 with 2 Axes>"
      ]
     },
     "metadata": {},
     "output_type": "display_data"
    }
   ],
   "source": [
    "from sklearn.metrics import ConfusionMatrixDisplay, confusion_matrix\n",
    "\n",
    "# Plot the confusion matrix\n",
    "fig, ax = plt.subplots(figsize=(3, 3))\n",
    "\n",
    "# Create the matrix\n",
    "cm = confusion_matrix(y_test, y_pred)\n",
    "cmp = ConfusionMatrixDisplay(cm, display_labels=['D', 'L', 'W'])\n",
    "cmp.plot(ax=ax)\n",
    "\n",
    "plt.show()"
   ]
  },
  {
   "cell_type": "code",
   "execution_count": 50,
   "id": "5b9f3ad2",
   "metadata": {},
   "outputs": [
    {
     "name": "stdout",
     "output_type": "stream",
     "text": [
      "Accuracy on Test Set: 0.48975409836065575\n",
      "ROC score on Test Set: 0.7259443497874596\n",
      "\n",
      "              precision    recall  f1-score   support\n",
      "\n",
      "           0       0.13      0.52      0.21       155\n",
      "           1       0.59      0.45      0.51       439\n",
      "           2       0.82      0.50      0.62       870\n",
      "\n",
      "    accuracy                           0.49      1464\n",
      "   macro avg       0.51      0.49      0.45      1464\n",
      "weighted avg       0.68      0.49      0.55      1464\n",
      "\n"
     ]
    }
   ],
   "source": [
    "from sklearn.metrics import classification_report, accuracy_score, roc_auc_score\n",
    "\n",
    "# Calculate Accuracy\n",
    "print('Accuracy on Test Set:', accuracy_score(y_test, y_pred))\n",
    "\n",
    "# Calculate ROC_AUC\n",
    "y_pred_probs = svc_classifier.predict_proba(X_test)\n",
    "print('ROC score on Test Set:', roc_auc_score(y_test, y_pred_probs, multi_class=\"ovr\", average=\"weighted\"))\n",
    "\n",
    "# Get Classification Report\n",
    "print()\n",
    "print(classification_report(y_test, y_pred, zero_division=0))"
   ]
  },
  {
   "cell_type": "markdown",
   "id": "de5833b3",
   "metadata": {},
   "source": [
    "### XGBoost Classifier"
   ]
  },
  {
   "cell_type": "markdown",
   "id": "b2852529",
   "metadata": {},
   "source": [
    "#### Fold 1"
   ]
  },
  {
   "cell_type": "code",
   "execution_count": 51,
   "id": "8c4f1617",
   "metadata": {},
   "outputs": [
    {
     "name": "stdout",
     "output_type": "stream",
     "text": [
      "2    620\n",
      "0    620\n",
      "1    620\n",
      "Name: Result, dtype: int64\n",
      "2    870\n",
      "1    439\n",
      "0    155\n",
      "Name: Result, dtype: int64\n"
     ]
    }
   ],
   "source": [
    "# xgboost classifier\n",
    "xgb_classifier = XGBClassifier(learning_rate=0.01, max_depth= 3, n_estimators=180)\n",
    "\n",
    "# data splitting\n",
    "train_set = pd.read_csv(f'./fold-1/train.csv')\n",
    "test_set = pd.read_csv(f'./fold-1/test.csv')\n",
    "\n",
    "X_train = train_set.loc[:, selected_features]\n",
    "y_train = train_set.iloc[:, -1]\n",
    "X_test = test_set.loc[:, selected_features]\n",
    "y_test = test_set.iloc[:, -1]\n",
    "\n",
    "# label encode train_set & test_set 'Venue' & 'Result'\n",
    "X_train['Venue'] = venue_le.transform(X_train['Venue'])\n",
    "X_test['Venue'] = venue_le.transform(X_test['Venue'])\n",
    "\n",
    "y_train = y_train.map({'D': 0, 'L': 1, 'W': 2})\n",
    "y_test = y_test.map({'D': 0, 'L': 1, 'W': 2})\n",
    "\n",
    "# numerical encode using the appropriate scaler\n",
    "wdl_sc = StandardScaler()\n",
    "X_train.iloc[:, :] = wdl_sc.fit_transform(X_train.iloc[:, :])\n",
    "X_test.iloc[:, :] = wdl_sc.transform(X_test.iloc[:, :])\n",
    "\n",
    "print(y_train.value_counts())\n",
    "print(y_test.value_counts())\n",
    "\n",
    "# train model\n",
    "xgb_classifier.fit(X_train, y_train)\n",
    "\n",
    "# predict test set\n",
    "y_pred = xgb_classifier.predict(X_test)"
   ]
  },
  {
   "cell_type": "code",
   "execution_count": 52,
   "id": "77ac5d0b",
   "metadata": {},
   "outputs": [
    {
     "data": {
      "image/png": "[encoded data removed]",
      "text/plain": [
       "<Figure size 300x300 with 2 Axes>"
      ]
     },
     "metadata": {},
     "output_type": "display_data"
    }
   ],
   "source": [
    "from sklearn.metrics import ConfusionMatrixDisplay, confusion_matrix\n",
    "\n",
    "# Plot the confusion matrix\n",
    "fig, ax = plt.subplots(figsize=(3, 3))\n",
    "\n",
    "# Create the matrix\n",
    "cm = confusion_matrix(y_test, y_pred)\n",
    "cmp = ConfusionMatrixDisplay(cm, display_labels=['D', 'L', 'W'])\n",
    "cmp.plot(ax=ax)\n",
    "\n",
    "plt.show()"
   ]
  },
  {
   "cell_type": "code",
   "execution_count": 53,
   "id": "c87b09e4",
   "metadata": {},
   "outputs": [
    {
     "name": "stdout",
     "output_type": "stream",
     "text": [
      "Accuracy on Test Set: 0.5266393442622951\n",
      "ROC score on Test Set: 0.7335613700836239\n",
      "\n",
      "              precision    recall  f1-score   support\n",
      "\n",
      "           0       0.15      0.47      0.23       155\n",
      "           1       0.60      0.51      0.55       439\n",
      "           2       0.79      0.54      0.64       870\n",
      "\n",
      "    accuracy                           0.53      1464\n",
      "   macro avg       0.51      0.51      0.47      1464\n",
      "weighted avg       0.67      0.53      0.57      1464\n",
      "\n"
     ]
    }
   ],
   "source": [
    "from sklearn.metrics import classification_report, accuracy_score, roc_auc_score\n",
    "\n",
    "# Calculate Accuracy\n",
    "print('Accuracy on Test Set:', accuracy_score(y_test, y_pred))\n",
    "\n",
    "# Calculate ROC_AUC\n",
    "y_pred_probs = xgb_classifier.predict_proba(X_test)\n",
    "print('ROC score on Test Set:', roc_auc_score(y_test, y_pred_probs, multi_class=\"ovr\", average=\"weighted\"))\n",
    "\n",
    "# Get Classification Report\n",
    "print()\n",
    "print(classification_report(y_test, y_pred, zero_division=0))"
   ]
  },
  {
   "cell_type": "markdown",
   "id": "a3e60eb5",
   "metadata": {},
   "source": [
    "#### Fold 2"
   ]
  },
  {
   "cell_type": "code",
   "execution_count": 54,
   "id": "5d35cae9",
   "metadata": {},
   "outputs": [
    {
     "name": "stdout",
     "output_type": "stream",
     "text": [
      "2    620\n",
      "0    620\n",
      "1    620\n",
      "Name: Result, dtype: int64\n",
      "2    870\n",
      "1    439\n",
      "0    155\n",
      "Name: Result, dtype: int64\n"
     ]
    }
   ],
   "source": [
    "# xgboost classifier\n",
    "xgb_classifier = XGBClassifier(learning_rate=0.01, max_depth= 3, n_estimators=180)\n",
    "\n",
    "# data splitting\n",
    "train_set = pd.read_csv(f'./fold-2/train.csv')\n",
    "test_set = pd.read_csv(f'./fold-2/test.csv')\n",
    "\n",
    "X_train = train_set.loc[:, selected_features]\n",
    "y_train = train_set.iloc[:, -1]\n",
    "X_test = test_set.loc[:, selected_features]\n",
    "y_test = test_set.iloc[:, -1]\n",
    "\n",
    "# label encode train_set & test_set 'Venue' & 'Result'\n",
    "X_train['Venue'] = venue_le.transform(X_train['Venue'])\n",
    "X_test['Venue'] = venue_le.transform(X_test['Venue'])\n",
    "\n",
    "y_train = y_train.map({'D': 0, 'L': 1, 'W': 2})\n",
    "y_test = y_test.map({'D': 0, 'L': 1, 'W': 2})\n",
    "\n",
    "# numerical encode using the appropriate scaler\n",
    "wdl_sc = StandardScaler()\n",
    "X_train.iloc[:, :] = wdl_sc.fit_transform(X_train.iloc[:, :])\n",
    "X_test.iloc[:, :] = wdl_sc.transform(X_test.iloc[:, :])\n",
    "\n",
    "print(y_train.value_counts())\n",
    "print(y_test.value_counts())\n",
    "\n",
    "# train model\n",
    "xgb_classifier.fit(X_train, y_train)\n",
    "\n",
    "# predict test set\n",
    "y_pred = xgb_classifier.predict(X_test)"
   ]
  },
  {
   "cell_type": "code",
   "execution_count": 55,
   "id": "3b5b4a86",
   "metadata": {},
   "outputs": [
    {
     "data": {
      "image/png": "[encoded data removed]",
      "text/plain": [
       "<Figure size 300x300 with 2 Axes>"
      ]
     },
     "metadata": {},
     "output_type": "display_data"
    }
   ],
   "source": [
    "from sklearn.metrics import ConfusionMatrixDisplay, confusion_matrix\n",
    "\n",
    "# Plot the confusion matrix\n",
    "fig, ax = plt.subplots(figsize=(3, 3))\n",
    "\n",
    "# Create the matrix\n",
    "cm = confusion_matrix(y_test, y_pred)\n",
    "cmp = ConfusionMatrixDisplay(cm, display_labels=['D', 'L', 'W'])\n",
    "cmp.plot(ax=ax)\n",
    "\n",
    "plt.show()"
   ]
  },
  {
   "cell_type": "code",
   "execution_count": 56,
   "id": "6f2cce42",
   "metadata": {},
   "outputs": [
    {
     "name": "stdout",
     "output_type": "stream",
     "text": [
      "Accuracy on Test Set: 0.5129781420765027\n",
      "ROC score on Test Set: 0.7318736700115718\n",
      "\n",
      "              precision    recall  f1-score   support\n",
      "\n",
      "           0       0.14      0.43      0.21       155\n",
      "           1       0.56      0.51      0.53       439\n",
      "           2       0.81      0.53      0.64       870\n",
      "\n",
      "    accuracy                           0.51      1464\n",
      "   macro avg       0.50      0.49      0.46      1464\n",
      "weighted avg       0.66      0.51      0.56      1464\n",
      "\n"
     ]
    }
   ],
   "source": [
    "from sklearn.metrics import classification_report, accuracy_score, roc_auc_score\n",
    "\n",
    "# Calculate Accuracy\n",
    "print('Accuracy on Test Set:', accuracy_score(y_test, y_pred))\n",
    "\n",
    "# Calculate ROC_AUC\n",
    "y_pred_probs = xgb_classifier.predict_proba(X_test)\n",
    "print('ROC score on Test Set:', roc_auc_score(y_test, y_pred_probs, multi_class=\"ovr\", average=\"weighted\"))\n",
    "\n",
    "# Get Classification Report\n",
    "print()\n",
    "print(classification_report(y_test, y_pred, zero_division=0))"
   ]
  },
  {
   "cell_type": "markdown",
   "id": "643f21e3",
   "metadata": {},
   "source": [
    "#### Fold 3"
   ]
  },
  {
   "cell_type": "code",
   "execution_count": 57,
   "id": "f7149c28",
   "metadata": {},
   "outputs": [
    {
     "name": "stdout",
     "output_type": "stream",
     "text": [
      "2    620\n",
      "0    620\n",
      "1    620\n",
      "Name: Result, dtype: int64\n",
      "2    870\n",
      "1    439\n",
      "0    155\n",
      "Name: Result, dtype: int64\n"
     ]
    }
   ],
   "source": [
    "# xgboost classifier\n",
    "xgb_classifier = XGBClassifier(learning_rate=0.01, max_depth= 3, n_estimators=180)\n",
    "\n",
    "# data splitting\n",
    "train_set = pd.read_csv(f'./fold-3/train.csv')\n",
    "test_set = pd.read_csv(f'./fold-3/test.csv')\n",
    "\n",
    "X_train = train_set.loc[:, selected_features]\n",
    "y_train = train_set.iloc[:, -1]\n",
    "X_test = test_set.loc[:, selected_features]\n",
    "y_test = test_set.iloc[:, -1]\n",
    "\n",
    "# label encode train_set & test_set 'Venue' & 'Result'\n",
    "X_train['Venue'] = venue_le.transform(X_train['Venue'])\n",
    "X_test['Venue'] = venue_le.transform(X_test['Venue'])\n",
    "\n",
    "y_train = y_train.map({'D': 0, 'L': 1, 'W': 2})\n",
    "y_test = y_test.map({'D': 0, 'L': 1, 'W': 2})\n",
    "\n",
    "# numerical encode using the appropriate scaler\n",
    "wdl_sc = StandardScaler()\n",
    "X_train.iloc[:, :] = wdl_sc.fit_transform(X_train.iloc[:, :])\n",
    "X_test.iloc[:, :] = wdl_sc.transform(X_test.iloc[:, :])\n",
    "\n",
    "print(y_train.value_counts())\n",
    "print(y_test.value_counts())\n",
    "\n",
    "# train model\n",
    "xgb_classifier.fit(X_train, y_train)\n",
    "\n",
    "# predict test set\n",
    "y_pred = xgb_classifier.predict(X_test)"
   ]
  },
  {
   "cell_type": "code",
   "execution_count": 58,
   "id": "25bfc55c",
   "metadata": {},
   "outputs": [
    {
     "data": {
      "image/png": "[encoded data removed]",
      "text/plain": [
       "<Figure size 300x300 with 2 Axes>"
      ]
     },
     "metadata": {},
     "output_type": "display_data"
    }
   ],
   "source": [
    "from sklearn.metrics import ConfusionMatrixDisplay, confusion_matrix\n",
    "\n",
    "# Plot the confusion matrix\n",
    "fig, ax = plt.subplots(figsize=(3, 3))\n",
    "\n",
    "# Create the matrix\n",
    "cm = confusion_matrix(y_test, y_pred)\n",
    "cmp = ConfusionMatrixDisplay(cm, display_labels=['D', 'L', 'W'])\n",
    "cmp.plot(ax=ax)\n",
    "\n",
    "plt.show()"
   ]
  },
  {
   "cell_type": "code",
   "execution_count": 59,
   "id": "4b8c73ce",
   "metadata": {},
   "outputs": [
    {
     "name": "stdout",
     "output_type": "stream",
     "text": [
      "Accuracy on Test Set: 0.5034153005464481\n",
      "ROC score on Test Set: 0.7231295173411268\n",
      "\n",
      "              precision    recall  f1-score   support\n",
      "\n",
      "           0       0.13      0.45      0.21       155\n",
      "           1       0.54      0.48      0.51       439\n",
      "           2       0.81      0.53      0.64       870\n",
      "\n",
      "    accuracy                           0.50      1464\n",
      "   macro avg       0.50      0.48      0.45      1464\n",
      "weighted avg       0.66      0.50      0.55      1464\n",
      "\n"
     ]
    }
   ],
   "source": [
    "from sklearn.metrics import classification_report, accuracy_score, roc_auc_score\n",
    "\n",
    "# Calculate Accuracy\n",
    "print('Accuracy on Test Set:', accuracy_score(y_test, y_pred))\n",
    "\n",
    "# Calculate ROC_AUC\n",
    "y_pred_probs = xgb_classifier.predict_proba(X_test)\n",
    "print('ROC score on Test Set:', roc_auc_score(y_test, y_pred_probs, multi_class=\"ovr\", average=\"weighted\"))\n",
    "\n",
    "# Get Classification Report\n",
    "print()\n",
    "print(classification_report(y_test, y_pred, zero_division=0))"
   ]
  },
  {
   "cell_type": "markdown",
   "id": "561209cb",
   "metadata": {},
   "source": [
    "#### Fold 4"
   ]
  },
  {
   "cell_type": "code",
   "execution_count": 60,
   "id": "02492175",
   "metadata": {},
   "outputs": [
    {
     "name": "stdout",
     "output_type": "stream",
     "text": [
      "2    620\n",
      "0    620\n",
      "1    620\n",
      "Name: Result, dtype: int64\n",
      "2    870\n",
      "1    439\n",
      "0    155\n",
      "Name: Result, dtype: int64\n"
     ]
    }
   ],
   "source": [
    "# xgboost classifier\n",
    "xgb_classifier = XGBClassifier(learning_rate=0.01, max_depth= 3, n_estimators=180)\n",
    "\n",
    "# data splitting\n",
    "train_set = pd.read_csv(f'./fold-4/train.csv')\n",
    "test_set = pd.read_csv(f'./fold-4/test.csv')\n",
    "\n",
    "X_train = train_set.loc[:, selected_features]\n",
    "y_train = train_set.iloc[:, -1]\n",
    "X_test = test_set.loc[:, selected_features]\n",
    "y_test = test_set.iloc[:, -1]\n",
    "\n",
    "# label encode train_set & test_set 'Venue' & 'Result'\n",
    "X_train['Venue'] = venue_le.transform(X_train['Venue'])\n",
    "X_test['Venue'] = venue_le.transform(X_test['Venue'])\n",
    "\n",
    "y_train = y_train.map({'D': 0, 'L': 1, 'W': 2})\n",
    "y_test = y_test.map({'D': 0, 'L': 1, 'W': 2})\n",
    "\n",
    "# numerical encode using the appropriate scaler\n",
    "wdl_sc = StandardScaler()\n",
    "X_train.iloc[:, :] = wdl_sc.fit_transform(X_train.iloc[:, :])\n",
    "X_test.iloc[:, :] = wdl_sc.transform(X_test.iloc[:, :])\n",
    "\n",
    "print(y_train.value_counts())\n",
    "print(y_test.value_counts())\n",
    "\n",
    "# train model\n",
    "xgb_classifier.fit(X_train, y_train)\n",
    "\n",
    "# predict test set\n",
    "y_pred = xgb_classifier.predict(X_test)"
   ]
  },
  {
   "cell_type": "code",
   "execution_count": 61,
   "id": "76e49d5d",
   "metadata": {},
   "outputs": [
    {
     "data": {
      "image/png": "[encoded data removed]",
      "text/plain": [
       "<Figure size 300x300 with 2 Axes>"
      ]
     },
     "metadata": {},
     "output_type": "display_data"
    }
   ],
   "source": [
    "from sklearn.metrics import ConfusionMatrixDisplay, confusion_matrix\n",
    "\n",
    "# Plot the confusion matrix\n",
    "fig, ax = plt.subplots(figsize=(3, 3))\n",
    "\n",
    "# Create the matrix\n",
    "cm = confusion_matrix(y_test, y_pred)\n",
    "cmp = ConfusionMatrixDisplay(cm, display_labels=['D', 'L', 'W'])\n",
    "cmp.plot(ax=ax)\n",
    "\n",
    "plt.show()"
   ]
  },
  {
   "cell_type": "code",
   "execution_count": 62,
   "id": "b77de2b6",
   "metadata": {},
   "outputs": [
    {
     "name": "stdout",
     "output_type": "stream",
     "text": [
      "Accuracy on Test Set: 0.514344262295082\n",
      "ROC score on Test Set: 0.7268702969537929\n",
      "\n",
      "              precision    recall  f1-score   support\n",
      "\n",
      "           0       0.14      0.46      0.21       155\n",
      "           1       0.58      0.48      0.53       439\n",
      "           2       0.80      0.54      0.65       870\n",
      "\n",
      "    accuracy                           0.51      1464\n",
      "   macro avg       0.51      0.49      0.46      1464\n",
      "weighted avg       0.67      0.51      0.57      1464\n",
      "\n"
     ]
    }
   ],
   "source": [
    "from sklearn.metrics import classification_report, accuracy_score, roc_auc_score\n",
    "\n",
    "# Calculate Accuracy\n",
    "print('Accuracy on Test Set:', accuracy_score(y_test, y_pred))\n",
    "\n",
    "# Calculate ROC_AUC\n",
    "y_pred_probs = xgb_classifier.predict_proba(X_test)\n",
    "print('ROC score on Test Set:', roc_auc_score(y_test, y_pred_probs, multi_class=\"ovr\", average=\"weighted\"))\n",
    "\n",
    "# Get Classification Report\n",
    "print()\n",
    "print(classification_report(y_test, y_pred, zero_division=0))"
   ]
  },
  {
   "cell_type": "markdown",
   "id": "c37c4a3c",
   "metadata": {},
   "source": [
    "#### Fold 5"
   ]
  },
  {
   "cell_type": "code",
   "execution_count": 63,
   "id": "2ef29c0f",
   "metadata": {},
   "outputs": [
    {
     "name": "stdout",
     "output_type": "stream",
     "text": [
      "2    620\n",
      "0    620\n",
      "1    620\n",
      "Name: Result, dtype: int64\n",
      "2    870\n",
      "1    439\n",
      "0    155\n",
      "Name: Result, dtype: int64\n"
     ]
    }
   ],
   "source": [
    "# xgboost classifier\n",
    "xgb_classifier = XGBClassifier(learning_rate=0.01, max_depth= 3, n_estimators=180)\n",
    "\n",
    "# data splitting\n",
    "train_set = pd.read_csv(f'./fold-5/train.csv')\n",
    "test_set = pd.read_csv(f'./fold-5/test.csv')\n",
    "\n",
    "X_train = train_set.loc[:, selected_features]\n",
    "y_train = train_set.iloc[:, -1]\n",
    "X_test = test_set.loc[:, selected_features]\n",
    "y_test = test_set.iloc[:, -1]\n",
    "\n",
    "# label encode train_set & test_set 'Venue' & 'Result'\n",
    "X_train['Venue'] = venue_le.transform(X_train['Venue'])\n",
    "X_test['Venue'] = venue_le.transform(X_test['Venue'])\n",
    "\n",
    "y_train = y_train.map({'D': 0, 'L': 1, 'W': 2})\n",
    "y_test = y_test.map({'D': 0, 'L': 1, 'W': 2})\n",
    "\n",
    "# numerical encode using the appropriate scaler\n",
    "wdl_sc = StandardScaler()\n",
    "X_train.iloc[:, :] = wdl_sc.fit_transform(X_train.iloc[:, :])\n",
    "X_test.iloc[:, :] = wdl_sc.transform(X_test.iloc[:, :])\n",
    "\n",
    "print(y_train.value_counts())\n",
    "print(y_test.value_counts())\n",
    "\n",
    "# train model\n",
    "xgb_classifier.fit(X_train, y_train)\n",
    "\n",
    "# predict test set\n",
    "y_pred = xgb_classifier.predict(X_test)"
   ]
  },
  {
   "cell_type": "code",
   "execution_count": 64,
   "id": "b00ddfb4",
   "metadata": {},
   "outputs": [
    {
     "data": {
      "image/png": "[encoded data removed]",
      "text/plain": [
       "<Figure size 300x300 with 2 Axes>"
      ]
     },
     "metadata": {},
     "output_type": "display_data"
    }
   ],
   "source": [
    "from sklearn.metrics import ConfusionMatrixDisplay, confusion_matrix\n",
    "\n",
    "# Plot the confusion matrix\n",
    "fig, ax = plt.subplots(figsize=(3, 3))\n",
    "\n",
    "# Create the matrix\n",
    "cm = confusion_matrix(y_test, y_pred)\n",
    "cmp = ConfusionMatrixDisplay(cm, display_labels=['D', 'L', 'W'])\n",
    "cmp.plot(ax=ax)\n",
    "\n",
    "plt.show()"
   ]
  },
  {
   "cell_type": "code",
   "execution_count": 65,
   "id": "a6a94b3a",
   "metadata": {},
   "outputs": [
    {
     "name": "stdout",
     "output_type": "stream",
     "text": [
      "Accuracy on Test Set: 0.5416666666666666\n",
      "ROC score on Test Set: 0.7288114048818787\n",
      "\n",
      "              precision    recall  f1-score   support\n",
      "\n",
      "           0       0.14      0.39      0.21       155\n",
      "           1       0.58      0.52      0.55       439\n",
      "           2       0.79      0.58      0.67       870\n",
      "\n",
      "    accuracy                           0.54      1464\n",
      "   macro avg       0.50      0.50      0.47      1464\n",
      "weighted avg       0.66      0.54      0.58      1464\n",
      "\n"
     ]
    }
   ],
   "source": [
    "from sklearn.metrics import classification_report, accuracy_score, roc_auc_score\n",
    "\n",
    "# Calculate Accuracy\n",
    "print('Accuracy on Test Set:', accuracy_score(y_test, y_pred))\n",
    "\n",
    "# Calculate ROC_AUC\n",
    "y_pred_probs = xgb_classifier.predict_proba(X_test)\n",
    "print('ROC score on Test Set:', roc_auc_score(y_test, y_pred_probs, multi_class=\"ovr\", average=\"weighted\"))\n",
    "\n",
    "# Get Classification Report\n",
    "print()\n",
    "print(classification_report(y_test, y_pred, zero_division=0))"
   ]
  }
 ],
 "metadata": {
  "kernelspec": {
   "display_name": "Python 3 (ipykernel)",
   "language": "python",
   "name": "python3"
  },
  "language_info": {
   "codemirror_mode": {
    "name": "ipython",
    "version": 3
   },
   "file_extension": ".py",
   "mimetype": "text/x-python",
   "name": "python",
   "nbconvert_exporter": "python",
   "pygments_lexer": "ipython3",
   "version": "3.9.15"
  }
 },
 "nbformat": 4,
 "nbformat_minor": 5
}
