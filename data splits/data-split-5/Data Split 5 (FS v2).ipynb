{
 "cells": [
  {
   "cell_type": "markdown",
   "id": "fd59e140",
   "metadata": {},
   "source": [
    "# 1. Import Libraries"
   ]
  },
  {
   "cell_type": "code",
   "execution_count": 1,
   "id": "e732fbd8",
   "metadata": {},
   "outputs": [],
   "source": [
    "import pandas as pd\n",
    "import numpy as np\n",
    "import matplotlib.pyplot as plt\n",
    "import seaborn as sns\n",
    "sns.set_theme(style=\"whitegrid\")\n",
    "\n",
    "from sklearn.preprocessing import LabelEncoder\n",
    "from sklearn.preprocessing import StandardScaler\n",
    "\n",
    "from sklearn.model_selection import GridSearchCV\n",
    "\n",
    "from sklearn.ensemble import RandomForestClassifier\n",
    "from sklearn.linear_model import LogisticRegression\n",
    "from sklearn.calibration import CalibratedClassifierCV\n",
    "from sklearn.svm import LinearSVC\n",
    "from xgboost import XGBClassifier"
   ]
  },
  {
   "cell_type": "code",
   "execution_count": 2,
   "id": "0136e7b3",
   "metadata": {},
   "outputs": [],
   "source": [
    "pd.set_option('display.max_columns', None)\n",
    "pd.set_option('display.max_rows', None)"
   ]
  },
  {
   "cell_type": "markdown",
   "id": "da288c97",
   "metadata": {},
   "source": [
    "# 2. Read Dataset"
   ]
  },
  {
   "cell_type": "code",
   "execution_count": 3,
   "id": "772b3ac9",
   "metadata": {},
   "outputs": [
    {
     "data": {
      "text/html": [
       "<div>\n",
       "<style scoped>\n",
       "    .dataframe tbody tr th:only-of-type {\n",
       "        vertical-align: middle;\n",
       "    }\n",
       "\n",
       "    .dataframe tbody tr th {\n",
       "        vertical-align: top;\n",
       "    }\n",
       "\n",
       "    .dataframe thead th {\n",
       "        text-align: right;\n",
       "    }\n",
       "</style>\n",
       "<table border=\"1\" class=\"dataframe\">\n",
       "  <thead>\n",
       "    <tr style=\"text-align: right;\">\n",
       "      <th></th>\n",
       "      <th>Referee</th>\n",
       "      <th>Day Of Week</th>\n",
       "      <th>Round</th>\n",
       "      <th>Days</th>\n",
       "      <th>Shots</th>\n",
       "      <th>ShotsOT</th>\n",
       "      <th>Corners</th>\n",
       "      <th>Fouls</th>\n",
       "      <th>YCards</th>\n",
       "      <th>RCards</th>\n",
       "      <th>GoalsScored</th>\n",
       "      <th>GoalsConceded</th>\n",
       "      <th>GoalsDiff</th>\n",
       "      <th>HTGoalsScored</th>\n",
       "      <th>HTGoalsConceded</th>\n",
       "      <th>HTGoalsDiff</th>\n",
       "      <th>Points</th>\n",
       "      <th>WinPercent</th>\n",
       "      <th>WinStreak</th>\n",
       "      <th>UnbPercent</th>\n",
       "      <th>UnbStreak</th>\n",
       "      <th>Def</th>\n",
       "      <th>Mid</th>\n",
       "      <th>Att</th>\n",
       "      <th>Ovr</th>\n",
       "      <th>LastSeasonRank</th>\n",
       "      <th>PromotedMatchup</th>\n",
       "      <th>WinnerOdd</th>\n",
       "      <th>DrawOdd</th>\n",
       "      <th>Venue</th>\n",
       "      <th>Result</th>\n",
       "    </tr>\n",
       "  </thead>\n",
       "  <tbody>\n",
       "    <tr>\n",
       "      <th>0</th>\n",
       "      <td>L Probert</td>\n",
       "      <td>Sat</td>\n",
       "      <td>1.0</td>\n",
       "      <td>-4</td>\n",
       "      <td>10.4</td>\n",
       "      <td>6.6</td>\n",
       "      <td>3.8</td>\n",
       "      <td>-1.8</td>\n",
       "      <td>0.0</td>\n",
       "      <td>0.0</td>\n",
       "      <td>0.8</td>\n",
       "      <td>0.4</td>\n",
       "      <td>2.0</td>\n",
       "      <td>0.0</td>\n",
       "      <td>0.4</td>\n",
       "      <td>-2.0</td>\n",
       "      <td>0.4</td>\n",
       "      <td>20.0</td>\n",
       "      <td>0.0</td>\n",
       "      <td>0.0</td>\n",
       "      <td>1.0</td>\n",
       "      <td>7</td>\n",
       "      <td>8</td>\n",
       "      <td>8</td>\n",
       "      <td>7.67</td>\n",
       "      <td>-12</td>\n",
       "      <td>0</td>\n",
       "      <td>-9.71</td>\n",
       "      <td>5.50</td>\n",
       "      <td>Etihad Stadium</td>\n",
       "      <td>W</td>\n",
       "    </tr>\n",
       "    <tr>\n",
       "      <th>1</th>\n",
       "      <td>M Halsey</td>\n",
       "      <td>Sat</td>\n",
       "      <td>1.0</td>\n",
       "      <td>1</td>\n",
       "      <td>-1.0</td>\n",
       "      <td>-0.2</td>\n",
       "      <td>0.0</td>\n",
       "      <td>-1.8</td>\n",
       "      <td>0.4</td>\n",
       "      <td>0.0</td>\n",
       "      <td>0.2</td>\n",
       "      <td>0.0</td>\n",
       "      <td>1.0</td>\n",
       "      <td>0.4</td>\n",
       "      <td>0.2</td>\n",
       "      <td>1.0</td>\n",
       "      <td>-0.2</td>\n",
       "      <td>0.0</td>\n",
       "      <td>0.0</td>\n",
       "      <td>-20.0</td>\n",
       "      <td>-1.0</td>\n",
       "      <td>1</td>\n",
       "      <td>1</td>\n",
       "      <td>-2</td>\n",
       "      <td>0.00</td>\n",
       "      <td>1</td>\n",
       "      <td>0</td>\n",
       "      <td>-2.25</td>\n",
       "      <td>3.30</td>\n",
       "      <td>Bet365 Stadium</td>\n",
       "      <td>D</td>\n",
       "    </tr>\n",
       "    <tr>\n",
       "      <th>2</th>\n",
       "      <td>L Mason</td>\n",
       "      <td>Sat</td>\n",
       "      <td>1.0</td>\n",
       "      <td>0</td>\n",
       "      <td>6.8</td>\n",
       "      <td>5.0</td>\n",
       "      <td>1.8</td>\n",
       "      <td>-0.2</td>\n",
       "      <td>0.4</td>\n",
       "      <td>0.2</td>\n",
       "      <td>1.6</td>\n",
       "      <td>0.6</td>\n",
       "      <td>5.0</td>\n",
       "      <td>1.4</td>\n",
       "      <td>1.0</td>\n",
       "      <td>2.0</td>\n",
       "      <td>0.4</td>\n",
       "      <td>0.0</td>\n",
       "      <td>0.0</td>\n",
       "      <td>40.0</td>\n",
       "      <td>7.0</td>\n",
       "      <td>3</td>\n",
       "      <td>0</td>\n",
       "      <td>-1</td>\n",
       "      <td>0.67</td>\n",
       "      <td>-6</td>\n",
       "      <td>0</td>\n",
       "      <td>-6.56</td>\n",
       "      <td>4.20</td>\n",
       "      <td>Goodison Park</td>\n",
       "      <td>W</td>\n",
       "    </tr>\n",
       "    <tr>\n",
       "      <th>3</th>\n",
       "      <td>L Probert</td>\n",
       "      <td>Sun</td>\n",
       "      <td>1.0</td>\n",
       "      <td>0</td>\n",
       "      <td>3.4</td>\n",
       "      <td>2.2</td>\n",
       "      <td>2.0</td>\n",
       "      <td>0.2</td>\n",
       "      <td>-0.6</td>\n",
       "      <td>0.0</td>\n",
       "      <td>1.8</td>\n",
       "      <td>0.6</td>\n",
       "      <td>6.0</td>\n",
       "      <td>0.4</td>\n",
       "      <td>0.4</td>\n",
       "      <td>0.0</td>\n",
       "      <td>1.0</td>\n",
       "      <td>20.0</td>\n",
       "      <td>0.0</td>\n",
       "      <td>60.0</td>\n",
       "      <td>5.0</td>\n",
       "      <td>1</td>\n",
       "      <td>2</td>\n",
       "      <td>1</td>\n",
       "      <td>1.34</td>\n",
       "      <td>-4</td>\n",
       "      <td>0</td>\n",
       "      <td>-3.58</td>\n",
       "      <td>3.75</td>\n",
       "      <td>Craven Cottage</td>\n",
       "      <td>L</td>\n",
       "    </tr>\n",
       "    <tr>\n",
       "      <th>4</th>\n",
       "      <td>P Dowd</td>\n",
       "      <td>Sun</td>\n",
       "      <td>1.0</td>\n",
       "      <td>-1</td>\n",
       "      <td>-2.4</td>\n",
       "      <td>-1.8</td>\n",
       "      <td>-0.6</td>\n",
       "      <td>0.6</td>\n",
       "      <td>-1.0</td>\n",
       "      <td>0.0</td>\n",
       "      <td>-0.4</td>\n",
       "      <td>-1.2</td>\n",
       "      <td>4.0</td>\n",
       "      <td>0.2</td>\n",
       "      <td>0.0</td>\n",
       "      <td>1.0</td>\n",
       "      <td>1.0</td>\n",
       "      <td>20.0</td>\n",
       "      <td>0.0</td>\n",
       "      <td>60.0</td>\n",
       "      <td>6.0</td>\n",
       "      <td>-1</td>\n",
       "      <td>-3</td>\n",
       "      <td>-5</td>\n",
       "      <td>-3.00</td>\n",
       "      <td>-1</td>\n",
       "      <td>0</td>\n",
       "      <td>-1.50</td>\n",
       "      <td>3.30</td>\n",
       "      <td>Carrow Road</td>\n",
       "      <td>W</td>\n",
       "    </tr>\n",
       "  </tbody>\n",
       "</table>\n",
       "</div>"
      ],
      "text/plain": [
       "     Referee Day Of Week  Round  Days  Shots  ShotsOT  Corners  Fouls  YCards  \\\n",
       "0  L Probert         Sat    1.0    -4   10.4      6.6      3.8   -1.8     0.0   \n",
       "1   M Halsey         Sat    1.0     1   -1.0     -0.2      0.0   -1.8     0.4   \n",
       "2    L Mason         Sat    1.0     0    6.8      5.0      1.8   -0.2     0.4   \n",
       "3  L Probert         Sun    1.0     0    3.4      2.2      2.0    0.2    -0.6   \n",
       "4     P Dowd         Sun    1.0    -1   -2.4     -1.8     -0.6    0.6    -1.0   \n",
       "\n",
       "   RCards  GoalsScored  GoalsConceded  GoalsDiff  HTGoalsScored  \\\n",
       "0     0.0          0.8            0.4        2.0            0.0   \n",
       "1     0.0          0.2            0.0        1.0            0.4   \n",
       "2     0.2          1.6            0.6        5.0            1.4   \n",
       "3     0.0          1.8            0.6        6.0            0.4   \n",
       "4     0.0         -0.4           -1.2        4.0            0.2   \n",
       "\n",
       "   HTGoalsConceded  HTGoalsDiff  Points  WinPercent  WinStreak  UnbPercent  \\\n",
       "0              0.4         -2.0     0.4        20.0        0.0         0.0   \n",
       "1              0.2          1.0    -0.2         0.0        0.0       -20.0   \n",
       "2              1.0          2.0     0.4         0.0        0.0        40.0   \n",
       "3              0.4          0.0     1.0        20.0        0.0        60.0   \n",
       "4              0.0          1.0     1.0        20.0        0.0        60.0   \n",
       "\n",
       "   UnbStreak  Def  Mid  Att   Ovr  LastSeasonRank  PromotedMatchup  WinnerOdd  \\\n",
       "0        1.0    7    8    8  7.67             -12                0      -9.71   \n",
       "1       -1.0    1    1   -2  0.00               1                0      -2.25   \n",
       "2        7.0    3    0   -1  0.67              -6                0      -6.56   \n",
       "3        5.0    1    2    1  1.34              -4                0      -3.58   \n",
       "4        6.0   -1   -3   -5 -3.00              -1                0      -1.50   \n",
       "\n",
       "   DrawOdd           Venue Result  \n",
       "0     5.50  Etihad Stadium      W  \n",
       "1     3.30  Bet365 Stadium      D  \n",
       "2     4.20   Goodison Park      W  \n",
       "3     3.75  Craven Cottage      L  \n",
       "4     3.30     Carrow Road      W  "
      ]
     },
     "execution_count": 3,
     "metadata": {},
     "output_type": "execute_result"
    }
   ],
   "source": [
    "df = pd.read_csv('../../data/input/input_dataset.csv')\n",
    "\n",
    "df = df.dropna(axis=0).reset_index(drop=True)\n",
    "df.head()"
   ]
  },
  {
   "cell_type": "code",
   "execution_count": 4,
   "id": "3d4d9963",
   "metadata": {},
   "outputs": [],
   "source": [
    "# label encode categorical feature- Day Of Week\n",
    "dayOfWeek_le = LabelEncoder()\n",
    "df['Day Of Week'] = dayOfWeek_le.fit_transform(df['Day Of Week'])\n",
    "\n",
    "# label encode categorical feature- Referee\n",
    "referee_le = LabelEncoder()\n",
    "df['Referee'] = referee_le.fit_transform(df['Referee'])\n",
    "\n",
    "# label encode categorical feature- Venue\n",
    "venue_le = LabelEncoder()\n",
    "df['Venue'] = venue_le.fit_transform(df['Venue'])"
   ]
  },
  {
   "cell_type": "markdown",
   "id": "88ef992f",
   "metadata": {},
   "source": [
    "# 3. Feature Selection"
   ]
  },
  {
   "cell_type": "code",
   "execution_count": 5,
   "id": "bbcffe3c",
   "metadata": {},
   "outputs": [],
   "source": [
    "selected_features = ['Shots', 'Corners', 'Points', 'UnbStreak', 'LastSeasonRank', 'Venue']"
   ]
  },
  {
   "cell_type": "markdown",
   "id": "dd48e601",
   "metadata": {},
   "source": [
    "# 4. Model Building- Data Split 5\n",
    "\n",
    "- Target Variable: Lose/Draw\n",
    "- Stratified Sampling"
   ]
  },
  {
   "cell_type": "markdown",
   "id": "94e4be34",
   "metadata": {},
   "source": [
    "### Random Forest Classifier"
   ]
  },
  {
   "cell_type": "markdown",
   "id": "e826b793",
   "metadata": {},
   "source": [
    "#### Hyperparameter Tuning using Fold 1"
   ]
  },
  {
   "cell_type": "code",
   "execution_count": 6,
   "id": "13e31d6f",
   "metadata": {},
   "outputs": [
    {
     "name": "stdout",
     "output_type": "stream",
     "text": [
      "Fitting 5 folds for each of 50 candidates, totalling 250 fits\n",
      "{'criterion': 'entropy', 'max_depth': 4, 'max_features': 'sqrt', 'n_estimators': 500}\n"
     ]
    }
   ],
   "source": [
    "# data splitting\n",
    "train_set = pd.read_csv('./fold-1/train.csv')\n",
    "test_set = pd.read_csv('./fold-1/test.csv')\n",
    "\n",
    "X_train = train_set.loc[:, selected_features]\n",
    "y_train = train_set.iloc[:, -1]\n",
    "X_test = test_set.loc[:, selected_features]\n",
    "y_test = test_set.iloc[:, -1]\n",
    "\n",
    "# label encode train_set & test_set 'Venue' & 'Result'\n",
    "X_train['Venue'] = venue_le.transform(X_train['Venue'])\n",
    "X_test['Venue'] = venue_le.transform(X_test['Venue'])\n",
    "\n",
    "y_train = y_train.map({'D': 0, 'L': 1})\n",
    "y_test = y_test.map({'D': 0, 'L': 1})\n",
    "\n",
    "# numerical encode using the appropriate scaler\n",
    "dl_sc = StandardScaler()\n",
    "X_train.iloc[:, :-1] = dl_sc.fit_transform(X_train.iloc[:, :-1])\n",
    "X_test.iloc[:, :-1] = dl_sc.transform(X_test.iloc[:, :-1])\n",
    "\n",
    "classifier = RandomForestClassifier(random_state = 0)\n",
    "param_grid = { \n",
    "    'n_estimators': [100, 200, 300, 400, 500],\n",
    "    'max_features': ['sqrt', 'log2'],\n",
    "    'max_depth' : [2, 3, 4, 5, 6],\n",
    "    'criterion' :['entropy']    \n",
    "}\n",
    "# rf_classifier = GridSearchCV(estimator=classifier, param_grid=param_grid, cv=5, verbose=1, scoring='f1_macro')\n",
    "rf_classifier = GridSearchCV(estimator=classifier, param_grid=param_grid, cv=5, verbose=1, scoring='accuracy')\n",
    "rf_classifier.fit(X_train, y_train)\n",
    "\n",
    "# get the best parameters\n",
    "print(rf_classifier.best_params_)"
   ]
  },
  {
   "cell_type": "markdown",
   "id": "102c3ad5",
   "metadata": {},
   "source": [
    "#### Fold 1"
   ]
  },
  {
   "cell_type": "code",
   "execution_count": 70,
   "id": "3696d822",
   "metadata": {},
   "outputs": [
    {
     "name": "stdout",
     "output_type": "stream",
     "text": [
      "1    823\n",
      "0    617\n",
      "Name: Result, dtype: int64\n",
      "1    206\n",
      "0    155\n",
      "Name: Result, dtype: int64\n"
     ]
    }
   ],
   "source": [
    "# rf_classifier\n",
    "rf_classifier = RandomForestClassifier(criterion='entropy', max_depth=4, max_features='sqrt', n_estimators=500, random_state=0)\n",
    "\n",
    "# data splitting\n",
    "train_set = pd.read_csv(f'./fold-1/train.csv')\n",
    "test_set = pd.read_csv(f'./fold-1/test.csv')\n",
    "\n",
    "X_train = train_set.loc[:, selected_features]\n",
    "y_train = train_set.iloc[:, -1]\n",
    "X_test = test_set.loc[:, selected_features]\n",
    "y_test = test_set.iloc[:, -1]\n",
    "\n",
    "# label encode train_set & test_set 'Venue' & 'Result'\n",
    "X_train['Venue'] = venue_le.transform(X_train['Venue'])\n",
    "X_test['Venue'] = venue_le.transform(X_test['Venue'])\n",
    "\n",
    "y_train = y_train.map({'D': 0, 'L': 1})\n",
    "y_test = y_test.map({'D': 0, 'L': 1})\n",
    "\n",
    "# numerical encode using the appropriate scaler\n",
    "dl_sc = StandardScaler()\n",
    "X_train.iloc[:, :-1] = dl_sc.fit_transform(X_train.iloc[:, :-1])\n",
    "X_test.iloc[:, :-1] = dl_sc.transform(X_test.iloc[:, :-1])\n",
    "\n",
    "print(y_train.value_counts())\n",
    "print(y_test.value_counts())\n",
    "\n",
    "# train model\n",
    "rf_classifier.fit(X_train, y_train)\n",
    "\n",
    "# predict test set\n",
    "y_pred = rf_classifier.predict(X_test)"
   ]
  },
  {
   "cell_type": "code",
   "execution_count": 71,
   "id": "4e3de647",
   "metadata": {},
   "outputs": [
    {
     "data": {
      "image/png": "[encoded data removed]",
      "text/plain": [
       "<Figure size 300x300 with 2 Axes>"
      ]
     },
     "metadata": {},
     "output_type": "display_data"
    }
   ],
   "source": [
    "from sklearn.metrics import ConfusionMatrixDisplay, confusion_matrix\n",
    "\n",
    "# Plot the confusion matrix\n",
    "fig, ax = plt.subplots(figsize=(3, 3))\n",
    "\n",
    "# Create the matrix\n",
    "cm = confusion_matrix(y_test, y_pred)\n",
    "cmp = ConfusionMatrixDisplay(cm, display_labels=['D', 'L'])\n",
    "cmp.plot(ax=ax)\n",
    "\n",
    "plt.show()"
   ]
  },
  {
   "cell_type": "code",
   "execution_count": 72,
   "id": "6225c5e1",
   "metadata": {},
   "outputs": [
    {
     "name": "stdout",
     "output_type": "stream",
     "text": [
      "Accuracy on Test Set: 0.6204986149584487\n",
      "ROC score on Test Set: 0.6664578766050736\n",
      "\n",
      "              precision    recall  f1-score   support\n",
      "\n",
      "           0       0.58      0.41      0.48       155\n",
      "           1       0.64      0.78      0.70       206\n",
      "\n",
      "    accuracy                           0.62       361\n",
      "   macro avg       0.61      0.59      0.59       361\n",
      "weighted avg       0.61      0.62      0.61       361\n",
      "\n"
     ]
    }
   ],
   "source": [
    "from sklearn.metrics import classification_report, accuracy_score, roc_auc_score\n",
    "\n",
    "# Calculate Accuracy\n",
    "print('Accuracy on Test Set:', accuracy_score(y_test, y_pred))\n",
    "\n",
    "# Calculate ROC_AUC\n",
    "y_pred_probs = rf_classifier.predict_proba(X_test)[:, 1]\n",
    "print('ROC score on Test Set:', roc_auc_score(y_test, y_pred_probs))\n",
    "\n",
    "# Get Classification Report\n",
    "print()\n",
    "print(classification_report(y_test, y_pred, zero_division=0))"
   ]
  },
  {
   "cell_type": "markdown",
   "id": "821ad135",
   "metadata": {},
   "source": [
    "#### Fold 2"
   ]
  },
  {
   "cell_type": "code",
   "execution_count": 13,
   "id": "cf83192b",
   "metadata": {},
   "outputs": [
    {
     "name": "stdout",
     "output_type": "stream",
     "text": [
      "1    823\n",
      "0    617\n",
      "Name: Result, dtype: int64\n",
      "1    206\n",
      "0    155\n",
      "Name: Result, dtype: int64\n"
     ]
    }
   ],
   "source": [
    "# rf_classifier\n",
    "rf_classifier = RandomForestClassifier(criterion='entropy', max_depth=4, max_features='sqrt', n_estimators=500, random_state=0)\n",
    "\n",
    "# data splitting\n",
    "train_set = pd.read_csv(f'./fold-2/train.csv')\n",
    "test_set = pd.read_csv(f'./fold-2/test.csv')\n",
    "\n",
    "X_train = train_set.loc[:, selected_features]\n",
    "y_train = train_set.iloc[:, -1]\n",
    "X_test = test_set.loc[:, selected_features]\n",
    "y_test = test_set.iloc[:, -1]\n",
    "\n",
    "# label encode train_set & test_set 'Venue' & 'Result'\n",
    "X_train['Venue'] = venue_le.transform(X_train['Venue'])\n",
    "X_test['Venue'] = venue_le.transform(X_test['Venue'])\n",
    "\n",
    "y_train = y_train.map({'D': 0, 'L': 1})\n",
    "y_test = y_test.map({'D': 0, 'L': 1})\n",
    "\n",
    "# numerical encode using the appropriate scaler\n",
    "dl_sc = StandardScaler()\n",
    "X_train.iloc[:, :-1] = dl_sc.fit_transform(X_train.iloc[:, :-1])\n",
    "X_test.iloc[:, :-1] = dl_sc.transform(X_test.iloc[:, :-1])\n",
    "\n",
    "print(y_train.value_counts())\n",
    "print(y_test.value_counts())\n",
    "\n",
    "# train model\n",
    "rf_classifier.fit(X_train, y_train)\n",
    "\n",
    "# predict test set\n",
    "y_pred = rf_classifier.predict(X_test)"
   ]
  },
  {
   "cell_type": "code",
   "execution_count": 14,
   "id": "d50ff960",
   "metadata": {},
   "outputs": [
    {
     "data": {
      "image/png": "[encoded data removed]",
      "text/plain": [
       "<Figure size 300x300 with 2 Axes>"
      ]
     },
     "metadata": {},
     "output_type": "display_data"
    }
   ],
   "source": [
    "from sklearn.metrics import ConfusionMatrixDisplay, confusion_matrix\n",
    "\n",
    "# Plot the confusion matrix\n",
    "fig, ax = plt.subplots(figsize=(3, 3))\n",
    "\n",
    "# Create the matrix\n",
    "cm = confusion_matrix(y_test, y_pred)\n",
    "cmp = ConfusionMatrixDisplay(cm, display_labels=['D', 'L'])\n",
    "cmp.plot(ax=ax)\n",
    "\n",
    "plt.show()"
   ]
  },
  {
   "cell_type": "code",
   "execution_count": 15,
   "id": "5d4d5383",
   "metadata": {},
   "outputs": [
    {
     "name": "stdout",
     "output_type": "stream",
     "text": [
      "Accuracy on Test Set: 0.590027700831025\n",
      "ROC score on Test Set: 0.6208268086439086\n",
      "\n",
      "              precision    recall  f1-score   support\n",
      "\n",
      "           0       0.53      0.39      0.45       155\n",
      "           1       0.62      0.74      0.67       206\n",
      "\n",
      "    accuracy                           0.59       361\n",
      "   macro avg       0.57      0.57      0.56       361\n",
      "weighted avg       0.58      0.59      0.58       361\n",
      "\n"
     ]
    }
   ],
   "source": [
    "from sklearn.metrics import classification_report, accuracy_score, roc_auc_score\n",
    "\n",
    "# Calculate Accuracy\n",
    "print('Accuracy on Test Set:', accuracy_score(y_test, y_pred))\n",
    "\n",
    "# Calculate ROC_AUC\n",
    "y_pred_probs = rf_classifier.predict_proba(X_test)[:, 1]\n",
    "print('ROC score on Test Set:', roc_auc_score(y_test, y_pred_probs))\n",
    "\n",
    "# Get Classification Report\n",
    "print()\n",
    "print(classification_report(y_test, y_pred, zero_division=0))"
   ]
  },
  {
   "cell_type": "markdown",
   "id": "787ef928",
   "metadata": {},
   "source": [
    "#### Fold 3"
   ]
  },
  {
   "cell_type": "code",
   "execution_count": 16,
   "id": "521019c4",
   "metadata": {},
   "outputs": [
    {
     "name": "stdout",
     "output_type": "stream",
     "text": [
      "1    823\n",
      "0    618\n",
      "Name: Result, dtype: int64\n",
      "1    206\n",
      "0    154\n",
      "Name: Result, dtype: int64\n"
     ]
    }
   ],
   "source": [
    "# rf_classifier\n",
    "rf_classifier = RandomForestClassifier(criterion='entropy', max_depth=4, max_features='sqrt', n_estimators=500, random_state=0)\n",
    "\n",
    "# data splitting\n",
    "train_set = pd.read_csv(f'./fold-3/train.csv')\n",
    "test_set = pd.read_csv(f'./fold-3/test.csv')\n",
    "\n",
    "X_train = train_set.loc[:, selected_features]\n",
    "y_train = train_set.iloc[:, -1]\n",
    "X_test = test_set.loc[:, selected_features]\n",
    "y_test = test_set.iloc[:, -1]\n",
    "\n",
    "# label encode train_set & test_set 'Venue' & 'Result'\n",
    "X_train['Venue'] = venue_le.transform(X_train['Venue'])\n",
    "X_test['Venue'] = venue_le.transform(X_test['Venue'])\n",
    "\n",
    "y_train = y_train.map({'D': 0, 'L': 1})\n",
    "y_test = y_test.map({'D': 0, 'L': 1})\n",
    "\n",
    "# numerical encode using the appropriate scaler\n",
    "dl_sc = StandardScaler()\n",
    "X_train.iloc[:, :-1] = dl_sc.fit_transform(X_train.iloc[:, :-1])\n",
    "X_test.iloc[:, :-1] = dl_sc.transform(X_test.iloc[:, :-1])\n",
    "\n",
    "print(y_train.value_counts())\n",
    "print(y_test.value_counts())\n",
    "\n",
    "# train model\n",
    "rf_classifier.fit(X_train, y_train)\n",
    "\n",
    "# predict test set\n",
    "y_pred = rf_classifier.predict(X_test)"
   ]
  },
  {
   "cell_type": "code",
   "execution_count": 17,
   "id": "4624f2e2",
   "metadata": {},
   "outputs": [
    {
     "data": {
      "image/png": "[encoded data removed]",
      "text/plain": [
       "<Figure size 300x300 with 2 Axes>"
      ]
     },
     "metadata": {},
     "output_type": "display_data"
    }
   ],
   "source": [
    "from sklearn.metrics import ConfusionMatrixDisplay, confusion_matrix\n",
    "\n",
    "# Plot the confusion matrix\n",
    "fig, ax = plt.subplots(figsize=(3, 3))\n",
    "\n",
    "# Create the matrix\n",
    "cm = confusion_matrix(y_test, y_pred)\n",
    "cmp = ConfusionMatrixDisplay(cm, display_labels=['D', 'L'])\n",
    "cmp.plot(ax=ax)\n",
    "\n",
    "plt.show()"
   ]
  },
  {
   "cell_type": "code",
   "execution_count": 18,
   "id": "d1044018",
   "metadata": {},
   "outputs": [
    {
     "name": "stdout",
     "output_type": "stream",
     "text": [
      "Accuracy on Test Set: 0.6138888888888889\n",
      "ROC score on Test Set: 0.6606670029000126\n",
      "\n",
      "              precision    recall  f1-score   support\n",
      "\n",
      "           0       0.57      0.38      0.46       154\n",
      "           1       0.63      0.79      0.70       206\n",
      "\n",
      "    accuracy                           0.61       360\n",
      "   macro avg       0.60      0.58      0.58       360\n",
      "weighted avg       0.61      0.61      0.60       360\n",
      "\n"
     ]
    }
   ],
   "source": [
    "from sklearn.metrics import classification_report, accuracy_score, roc_auc_score\n",
    "\n",
    "# Calculate Accuracy\n",
    "print('Accuracy on Test Set:', accuracy_score(y_test, y_pred))\n",
    "\n",
    "# Calculate ROC_AUC\n",
    "y_pred_probs = rf_classifier.predict_proba(X_test)[:, 1]\n",
    "print('ROC score on Test Set:', roc_auc_score(y_test, y_pred_probs))\n",
    "\n",
    "# Get Classification Report\n",
    "print()\n",
    "print(classification_report(y_test, y_pred, zero_division=0))"
   ]
  },
  {
   "cell_type": "markdown",
   "id": "4f2d263c",
   "metadata": {},
   "source": [
    "#### Fold 4"
   ]
  },
  {
   "cell_type": "code",
   "execution_count": 19,
   "id": "ea07ba98",
   "metadata": {},
   "outputs": [
    {
     "name": "stdout",
     "output_type": "stream",
     "text": [
      "1    823\n",
      "0    618\n",
      "Name: Result, dtype: int64\n",
      "1    206\n",
      "0    154\n",
      "Name: Result, dtype: int64\n"
     ]
    }
   ],
   "source": [
    "# rf_classifier\n",
    "rf_classifier = RandomForestClassifier(criterion='entropy', max_depth=4, max_features='sqrt', n_estimators=500, random_state=0)\n",
    "\n",
    "# data splitting\n",
    "train_set = pd.read_csv(f'./fold-4/train.csv')\n",
    "test_set = pd.read_csv(f'./fold-4/test.csv')\n",
    "\n",
    "X_train = train_set.loc[:, selected_features]\n",
    "y_train = train_set.iloc[:, -1]\n",
    "X_test = test_set.loc[:, selected_features]\n",
    "y_test = test_set.iloc[:, -1]\n",
    "\n",
    "# label encode train_set & test_set 'Venue' & 'Result'\n",
    "X_train['Venue'] = venue_le.transform(X_train['Venue'])\n",
    "X_test['Venue'] = venue_le.transform(X_test['Venue'])\n",
    "\n",
    "y_train = y_train.map({'D': 0, 'L': 1})\n",
    "y_test = y_test.map({'D': 0, 'L': 1})\n",
    "\n",
    "# numerical encode using the appropriate scaler\n",
    "dl_sc = StandardScaler()\n",
    "X_train.iloc[:, :-1] = dl_sc.fit_transform(X_train.iloc[:, :-1])\n",
    "X_test.iloc[:, :-1] = dl_sc.transform(X_test.iloc[:, :-1])\n",
    "\n",
    "print(y_train.value_counts())\n",
    "print(y_test.value_counts())\n",
    "\n",
    "# train model\n",
    "rf_classifier.fit(X_train, y_train)\n",
    "\n",
    "# predict test set\n",
    "y_pred = rf_classifier.predict(X_test)"
   ]
  },
  {
   "cell_type": "code",
   "execution_count": 20,
   "id": "776c0f04",
   "metadata": {},
   "outputs": [
    {
     "data": {
      "image/png": "[encoded data removed]",
      "text/plain": [
       "<Figure size 300x300 with 2 Axes>"
      ]
     },
     "metadata": {},
     "output_type": "display_data"
    }
   ],
   "source": [
    "from sklearn.metrics import ConfusionMatrixDisplay, confusion_matrix\n",
    "\n",
    "# Plot the confusion matrix\n",
    "fig, ax = plt.subplots(figsize=(3, 3))\n",
    "\n",
    "# Create the matrix\n",
    "cm = confusion_matrix(y_test, y_pred)\n",
    "cmp = ConfusionMatrixDisplay(cm, display_labels=['D', 'L'])\n",
    "cmp.plot(ax=ax)\n",
    "\n",
    "plt.show()"
   ]
  },
  {
   "cell_type": "code",
   "execution_count": 21,
   "id": "0c012869",
   "metadata": {},
   "outputs": [
    {
     "name": "stdout",
     "output_type": "stream",
     "text": [
      "Accuracy on Test Set: 0.6\n",
      "ROC score on Test Set: 0.6318244861934182\n",
      "\n",
      "              precision    recall  f1-score   support\n",
      "\n",
      "           0       0.54      0.40      0.46       154\n",
      "           1       0.62      0.75      0.68       206\n",
      "\n",
      "    accuracy                           0.60       360\n",
      "   macro avg       0.58      0.57      0.57       360\n",
      "weighted avg       0.59      0.60      0.59       360\n",
      "\n"
     ]
    }
   ],
   "source": [
    "from sklearn.metrics import classification_report, accuracy_score, roc_auc_score\n",
    "\n",
    "# Calculate Accuracy\n",
    "print('Accuracy on Test Set:', accuracy_score(y_test, y_pred))\n",
    "\n",
    "# Calculate ROC_AUC\n",
    "y_pred_probs = rf_classifier.predict_proba(X_test)[:, 1]\n",
    "print('ROC score on Test Set:', roc_auc_score(y_test, y_pred_probs))\n",
    "\n",
    "# Get Classification Report\n",
    "print()\n",
    "print(classification_report(y_test, y_pred, zero_division=0))"
   ]
  },
  {
   "cell_type": "markdown",
   "id": "342d9728",
   "metadata": {},
   "source": [
    "#### Fold 5"
   ]
  },
  {
   "cell_type": "code",
   "execution_count": 22,
   "id": "6f109983",
   "metadata": {},
   "outputs": [
    {
     "name": "stdout",
     "output_type": "stream",
     "text": [
      "1    824\n",
      "0    618\n",
      "Name: Result, dtype: int64\n",
      "1    205\n",
      "0    154\n",
      "Name: Result, dtype: int64\n"
     ]
    }
   ],
   "source": [
    "# rf_classifier\n",
    "rf_classifier = RandomForestClassifier(criterion='entropy', max_depth=4, max_features='sqrt', n_estimators=500, random_state=0)\n",
    "\n",
    "# data splitting\n",
    "train_set = pd.read_csv(f'./fold-5/train.csv')\n",
    "test_set = pd.read_csv(f'./fold-5/test.csv')\n",
    "\n",
    "X_train = train_set.loc[:, selected_features]\n",
    "y_train = train_set.iloc[:, -1]\n",
    "X_test = test_set.loc[:, selected_features]\n",
    "y_test = test_set.iloc[:, -1]\n",
    "\n",
    "# label encode train_set & test_set 'Venue' & 'Result'\n",
    "X_train['Venue'] = venue_le.transform(X_train['Venue'])\n",
    "X_test['Venue'] = venue_le.transform(X_test['Venue'])\n",
    "\n",
    "y_train = y_train.map({'D': 0, 'L': 1})\n",
    "y_test = y_test.map({'D': 0, 'L': 1})\n",
    "\n",
    "# numerical encode using the appropriate scaler\n",
    "dl_sc = StandardScaler()\n",
    "X_train.iloc[:, :-1] = dl_sc.fit_transform(X_train.iloc[:, :-1])\n",
    "X_test.iloc[:, :-1] = dl_sc.transform(X_test.iloc[:, :-1])\n",
    "\n",
    "print(y_train.value_counts())\n",
    "print(y_test.value_counts())\n",
    "\n",
    "# train model\n",
    "rf_classifier.fit(X_train, y_train)\n",
    "\n",
    "# predict test set\n",
    "y_pred = rf_classifier.predict(X_test)"
   ]
  },
  {
   "cell_type": "code",
   "execution_count": 23,
   "id": "e68aa8cc",
   "metadata": {},
   "outputs": [
    {
     "data": {
      "image/png": "[encoded data removed]",
      "text/plain": [
       "<Figure size 300x300 with 2 Axes>"
      ]
     },
     "metadata": {},
     "output_type": "display_data"
    }
   ],
   "source": [
    "from sklearn.metrics import ConfusionMatrixDisplay, confusion_matrix\n",
    "\n",
    "# Plot the confusion matrix\n",
    "fig, ax = plt.subplots(figsize=(3, 3))\n",
    "\n",
    "# Create the matrix\n",
    "cm = confusion_matrix(y_test, y_pred)\n",
    "cmp = ConfusionMatrixDisplay(cm, display_labels=['D', 'L'])\n",
    "cmp.plot(ax=ax)\n",
    "\n",
    "plt.show()"
   ]
  },
  {
   "cell_type": "code",
   "execution_count": 24,
   "id": "5f15bc6f",
   "metadata": {},
   "outputs": [
    {
     "name": "stdout",
     "output_type": "stream",
     "text": [
      "Accuracy on Test Set: 0.6155988857938719\n",
      "ROC score on Test Set: 0.631548938866012\n",
      "\n",
      "              precision    recall  f1-score   support\n",
      "\n",
      "           0       0.57      0.40      0.47       154\n",
      "           1       0.63      0.78      0.70       205\n",
      "\n",
      "    accuracy                           0.62       359\n",
      "   macro avg       0.60      0.59      0.59       359\n",
      "weighted avg       0.61      0.62      0.60       359\n",
      "\n"
     ]
    }
   ],
   "source": [
    "from sklearn.metrics import classification_report, accuracy_score, roc_auc_score\n",
    "\n",
    "# Calculate Accuracy\n",
    "print('Accuracy on Test Set:', accuracy_score(y_test, y_pred))\n",
    "\n",
    "# Calculate ROC_AUC\n",
    "y_pred_probs = rf_classifier.predict_proba(X_test)[:, 1]\n",
    "print('ROC score on Test Set:', roc_auc_score(y_test, y_pred_probs))\n",
    "\n",
    "# Get Classification Report\n",
    "print()\n",
    "print(classification_report(y_test, y_pred, zero_division=0))"
   ]
  },
  {
   "cell_type": "markdown",
   "id": "5694b7c6",
   "metadata": {},
   "source": [
    "### Logistic Regression"
   ]
  },
  {
   "cell_type": "markdown",
   "id": "9628c508",
   "metadata": {},
   "source": [
    "#### Hyperparameter Tuning using Fold 1"
   ]
  },
  {
   "cell_type": "code",
   "execution_count": 8,
   "id": "4af5a521",
   "metadata": {},
   "outputs": [
    {
     "name": "stdout",
     "output_type": "stream",
     "text": [
      "Fitting 5 folds for each of 40 candidates, totalling 200 fits\n",
      "{'C': 0.03359818286283781, 'penalty': 'l1', 'solver': 'liblinear'}\n"
     ]
    }
   ],
   "source": [
    "# data splitting\n",
    "train_set = pd.read_csv(f'./fold-1/train.csv')\n",
    "test_set = pd.read_csv(f'./fold-1/test.csv')\n",
    "\n",
    "X_train = train_set.loc[:, selected_features]\n",
    "y_train = train_set.iloc[:, -1]\n",
    "X_test = test_set.loc[:, selected_features]\n",
    "y_test = test_set.iloc[:, -1]\n",
    "\n",
    "# label encode train_set & test_set 'Venue' & 'Result'\n",
    "X_train['Venue'] = venue_le.transform(X_train['Venue'])\n",
    "X_test['Venue'] = venue_le.transform(X_test['Venue'])\n",
    "\n",
    "y_train = y_train.map({'D': 0, 'L': 1})\n",
    "y_test = y_test.map({'D': 0, 'L': 1})\n",
    "\n",
    "# numerical encode using the appropriate scaler\n",
    "dl_sc = StandardScaler()\n",
    "X_train.iloc[:, :-1] = dl_sc.fit_transform(X_train.iloc[:, :-1])\n",
    "X_test.iloc[:, :-1] = dl_sc.transform(X_test.iloc[:, :-1])\n",
    "\n",
    "classifier = LogisticRegression(random_state = 0)\n",
    "param_grid = {\n",
    "    'penalty' : ['l1', 'l2'],\n",
    "    'C' : np.logspace(-4, 4, 20),\n",
    "    'solver' : ['liblinear']\n",
    "}\n",
    "# lr_classifier = GridSearchCV(estimator=classifier, param_grid=param_grid, cv=5, verbose=1, scoring='f1_macro') \n",
    "lr_classifier = GridSearchCV(estimator=classifier, param_grid=param_grid, cv=5, verbose=1, scoring='accuracy') \n",
    "lr_classifier.fit(X_train, y_train)\n",
    "\n",
    "# get the best parameters\n",
    "print(lr_classifier.best_params_)"
   ]
  },
  {
   "cell_type": "markdown",
   "id": "29ea60f2",
   "metadata": {},
   "source": [
    "#### Fold 1"
   ]
  },
  {
   "cell_type": "code",
   "execution_count": 25,
   "id": "993e49d2",
   "metadata": {},
   "outputs": [
    {
     "name": "stdout",
     "output_type": "stream",
     "text": [
      "1    823\n",
      "0    617\n",
      "Name: Result, dtype: int64\n",
      "1    206\n",
      "0    155\n",
      "Name: Result, dtype: int64\n"
     ]
    }
   ],
   "source": [
    "# logistic regression\n",
    "lr_classifier = LogisticRegression(C=0.0336, penalty='l1', solver='liblinear', random_state = 0)\n",
    "            \n",
    "# data splitting\n",
    "train_set = pd.read_csv(f'./fold-1/train.csv')\n",
    "test_set = pd.read_csv(f'./fold-1/test.csv')\n",
    "\n",
    "X_train = train_set.loc[:, selected_features]\n",
    "y_train = train_set.iloc[:, -1]\n",
    "X_test = test_set.loc[:, selected_features]\n",
    "y_test = test_set.iloc[:, -1]\n",
    "\n",
    "# label encode train_set & test_set 'Venue' & 'Result'\n",
    "X_train['Venue'] = venue_le.transform(X_train['Venue'])\n",
    "X_test['Venue'] = venue_le.transform(X_test['Venue'])\n",
    "\n",
    "y_train = y_train.map({'D': 0, 'L': 1})\n",
    "y_test = y_test.map({'D': 0, 'L': 1})\n",
    "\n",
    "# numerical encode using the appropriate scaler\n",
    "dl_sc = StandardScaler()\n",
    "X_train.iloc[:, :-1] = dl_sc.fit_transform(X_train.iloc[:, :-1])\n",
    "X_test.iloc[:, :-1] = dl_sc.transform(X_test.iloc[:, :-1])\n",
    "\n",
    "print(y_train.value_counts())\n",
    "print(y_test.value_counts())\n",
    "\n",
    "# train model\n",
    "lr_classifier.fit(X_train, y_train)\n",
    "\n",
    "# predict test set\n",
    "y_pred = lr_classifier.predict(X_test)"
   ]
  },
  {
   "cell_type": "code",
   "execution_count": 26,
   "id": "8abaa64b",
   "metadata": {},
   "outputs": [
    {
     "data": {
      "image/png": "[encoded data removed]",
      "text/plain": [
       "<Figure size 300x300 with 2 Axes>"
      ]
     },
     "metadata": {},
     "output_type": "display_data"
    }
   ],
   "source": [
    "from sklearn.metrics import ConfusionMatrixDisplay, confusion_matrix\n",
    "\n",
    "# Plot the confusion matrix\n",
    "fig, ax = plt.subplots(figsize=(3, 3))\n",
    "\n",
    "# Create the matrix\n",
    "cm = confusion_matrix(y_test, y_pred)\n",
    "cmp = ConfusionMatrixDisplay(cm, display_labels=['D', 'L'])\n",
    "cmp.plot(ax=ax)\n",
    "\n",
    "plt.show()"
   ]
  },
  {
   "cell_type": "code",
   "execution_count": 27,
   "id": "18e8278b",
   "metadata": {},
   "outputs": [
    {
     "name": "stdout",
     "output_type": "stream",
     "text": [
      "Accuracy on Test Set: 0.6121883656509696\n",
      "ROC score on Test Set: 0.6681803946132164\n",
      "\n",
      "              precision    recall  f1-score   support\n",
      "\n",
      "           0       0.57      0.38      0.46       155\n",
      "           1       0.63      0.79      0.70       206\n",
      "\n",
      "    accuracy                           0.61       361\n",
      "   macro avg       0.60      0.58      0.58       361\n",
      "weighted avg       0.60      0.61      0.59       361\n",
      "\n"
     ]
    }
   ],
   "source": [
    "from sklearn.metrics import classification_report, accuracy_score, roc_auc_score\n",
    "\n",
    "# Calculate Accuracy\n",
    "print('Accuracy on Test Set:', accuracy_score(y_test, y_pred))\n",
    "\n",
    "# Calculate ROC_AUC\n",
    "y_pred_probs = lr_classifier.predict_proba(X_test)[:, 1]\n",
    "print('ROC score on Test Set:', roc_auc_score(y_test, y_pred_probs))\n",
    "\n",
    "# Get Classification Report\n",
    "print()\n",
    "print(classification_report(y_test, y_pred, zero_division=0))"
   ]
  },
  {
   "cell_type": "markdown",
   "id": "497edd6e",
   "metadata": {},
   "source": [
    "#### Fold 2"
   ]
  },
  {
   "cell_type": "code",
   "execution_count": 28,
   "id": "f1c8a474",
   "metadata": {},
   "outputs": [
    {
     "name": "stdout",
     "output_type": "stream",
     "text": [
      "1    823\n",
      "0    617\n",
      "Name: Result, dtype: int64\n",
      "1    206\n",
      "0    155\n",
      "Name: Result, dtype: int64\n"
     ]
    }
   ],
   "source": [
    "# logistic regression\n",
    "lr_classifier = LogisticRegression(C=0.0336, penalty='l1', solver='liblinear', random_state = 0)\n",
    "            \n",
    "# data splitting\n",
    "train_set = pd.read_csv(f'./fold-2/train.csv')\n",
    "test_set = pd.read_csv(f'./fold-2/test.csv')\n",
    "\n",
    "X_train = train_set.loc[:, selected_features]\n",
    "y_train = train_set.iloc[:, -1]\n",
    "X_test = test_set.loc[:, selected_features]\n",
    "y_test = test_set.iloc[:, -1]\n",
    "\n",
    "# label encode train_set & test_set 'Venue' & 'Result'\n",
    "X_train['Venue'] = venue_le.transform(X_train['Venue'])\n",
    "X_test['Venue'] = venue_le.transform(X_test['Venue'])\n",
    "\n",
    "y_train = y_train.map({'D': 0, 'L': 1})\n",
    "y_test = y_test.map({'D': 0, 'L': 1})\n",
    "\n",
    "# numerical encode using the appropriate scaler\n",
    "dl_sc = StandardScaler()\n",
    "X_train.iloc[:, :-1] = dl_sc.fit_transform(X_train.iloc[:, :-1])\n",
    "X_test.iloc[:, :-1] = dl_sc.transform(X_test.iloc[:, :-1])\n",
    "\n",
    "print(y_train.value_counts())\n",
    "print(y_test.value_counts())\n",
    "\n",
    "# train model\n",
    "lr_classifier.fit(X_train, y_train)\n",
    "\n",
    "# predict test set\n",
    "y_pred = lr_classifier.predict(X_test)"
   ]
  },
  {
   "cell_type": "code",
   "execution_count": 29,
   "id": "effd285e",
   "metadata": {},
   "outputs": [
    {
     "data": {
      "image/png": "[encoded data removed]",
      "text/plain": [
       "<Figure size 300x300 with 2 Axes>"
      ]
     },
     "metadata": {},
     "output_type": "display_data"
    }
   ],
   "source": [
    "from sklearn.metrics import ConfusionMatrixDisplay, confusion_matrix\n",
    "\n",
    "# Plot the confusion matrix\n",
    "fig, ax = plt.subplots(figsize=(3, 3))\n",
    "\n",
    "# Create the matrix\n",
    "cm = confusion_matrix(y_test, y_pred)\n",
    "cmp = ConfusionMatrixDisplay(cm, display_labels=['D', 'L'])\n",
    "cmp.plot(ax=ax)\n",
    "\n",
    "plt.show()"
   ]
  },
  {
   "cell_type": "code",
   "execution_count": 30,
   "id": "395d37fb",
   "metadata": {},
   "outputs": [
    {
     "name": "stdout",
     "output_type": "stream",
     "text": [
      "Accuracy on Test Set: 0.6038781163434903\n",
      "ROC score on Test Set: 0.622862511744441\n",
      "\n",
      "              precision    recall  f1-score   support\n",
      "\n",
      "           0       0.56      0.37      0.45       155\n",
      "           1       0.62      0.78      0.69       206\n",
      "\n",
      "    accuracy                           0.60       361\n",
      "   macro avg       0.59      0.58      0.57       361\n",
      "weighted avg       0.59      0.60      0.59       361\n",
      "\n"
     ]
    }
   ],
   "source": [
    "from sklearn.metrics import classification_report, accuracy_score, roc_auc_score\n",
    "\n",
    "# Calculate Accuracy\n",
    "print('Accuracy on Test Set:', accuracy_score(y_test, y_pred))\n",
    "\n",
    "# Calculate ROC_AUC\n",
    "y_pred_probs = lr_classifier.predict_proba(X_test)[:, 1]\n",
    "print('ROC score on Test Set:', roc_auc_score(y_test, y_pred_probs))\n",
    "\n",
    "# Get Classification Report\n",
    "print()\n",
    "print(classification_report(y_test, y_pred, zero_division=0))"
   ]
  },
  {
   "cell_type": "markdown",
   "id": "eced4e17",
   "metadata": {},
   "source": [
    "#### Fold 3"
   ]
  },
  {
   "cell_type": "code",
   "execution_count": 31,
   "id": "520c963f",
   "metadata": {},
   "outputs": [
    {
     "name": "stdout",
     "output_type": "stream",
     "text": [
      "1    823\n",
      "0    618\n",
      "Name: Result, dtype: int64\n",
      "1    206\n",
      "0    154\n",
      "Name: Result, dtype: int64\n"
     ]
    }
   ],
   "source": [
    "# logistic regression\n",
    "lr_classifier = LogisticRegression(C=0.0336, penalty='l1', solver='liblinear', random_state = 0)\n",
    "            \n",
    "# data splitting\n",
    "train_set = pd.read_csv(f'./fold-3/train.csv')\n",
    "test_set = pd.read_csv(f'./fold-3/test.csv')\n",
    "\n",
    "X_train = train_set.loc[:, selected_features]\n",
    "y_train = train_set.iloc[:, -1]\n",
    "X_test = test_set.loc[:, selected_features]\n",
    "y_test = test_set.iloc[:, -1]\n",
    "\n",
    "# label encode train_set & test_set 'Venue' & 'Result'\n",
    "X_train['Venue'] = venue_le.transform(X_train['Venue'])\n",
    "X_test['Venue'] = venue_le.transform(X_test['Venue'])\n",
    "\n",
    "y_train = y_train.map({'D': 0, 'L': 1})\n",
    "y_test = y_test.map({'D': 0, 'L': 1})\n",
    "\n",
    "# numerical encode using the appropriate scaler\n",
    "dl_sc = StandardScaler()\n",
    "X_train.iloc[:, :-1] = dl_sc.fit_transform(X_train.iloc[:, :-1])\n",
    "X_test.iloc[:, :-1] = dl_sc.transform(X_test.iloc[:, :-1])\n",
    "\n",
    "print(y_train.value_counts())\n",
    "print(y_test.value_counts())\n",
    "\n",
    "# train model\n",
    "lr_classifier.fit(X_train, y_train)\n",
    "\n",
    "# predict test set\n",
    "y_pred = lr_classifier.predict(X_test)"
   ]
  },
  {
   "cell_type": "code",
   "execution_count": 32,
   "id": "f0f707a4",
   "metadata": {},
   "outputs": [
    {
     "data": {
      "image/png": "[encoded data removed]",
      "text/plain": [
       "<Figure size 300x300 with 2 Axes>"
      ]
     },
     "metadata": {},
     "output_type": "display_data"
    }
   ],
   "source": [
    "from sklearn.metrics import ConfusionMatrixDisplay, confusion_matrix\n",
    "\n",
    "# Plot the confusion matrix\n",
    "fig, ax = plt.subplots(figsize=(3, 3))\n",
    "\n",
    "# Create the matrix\n",
    "cm = confusion_matrix(y_test, y_pred)\n",
    "cmp = ConfusionMatrixDisplay(cm, display_labels=['D', 'L'])\n",
    "cmp.plot(ax=ax)\n",
    "\n",
    "plt.show()"
   ]
  },
  {
   "cell_type": "code",
   "execution_count": 33,
   "id": "76f8c16c",
   "metadata": {},
   "outputs": [
    {
     "name": "stdout",
     "output_type": "stream",
     "text": [
      "Accuracy on Test Set: 0.6361111111111111\n",
      "ROC score on Test Set: 0.6490354305888286\n",
      "\n",
      "              precision    recall  f1-score   support\n",
      "\n",
      "           0       0.62      0.40      0.48       154\n",
      "           1       0.64      0.82      0.72       206\n",
      "\n",
      "    accuracy                           0.64       360\n",
      "   macro avg       0.63      0.61      0.60       360\n",
      "weighted avg       0.63      0.64      0.62       360\n",
      "\n"
     ]
    }
   ],
   "source": [
    "from sklearn.metrics import classification_report, accuracy_score, roc_auc_score\n",
    "\n",
    "# Calculate Accuracy\n",
    "print('Accuracy on Test Set:', accuracy_score(y_test, y_pred))\n",
    "\n",
    "# Calculate ROC_AUC\n",
    "y_pred_probs = lr_classifier.predict_proba(X_test)[:, 1]\n",
    "print('ROC score on Test Set:', roc_auc_score(y_test, y_pred_probs))\n",
    "\n",
    "# Get Classification Report\n",
    "print()\n",
    "print(classification_report(y_test, y_pred, zero_division=0))"
   ]
  },
  {
   "cell_type": "markdown",
   "id": "84cb6f2d",
   "metadata": {},
   "source": [
    "#### Fold 4"
   ]
  },
  {
   "cell_type": "code",
   "execution_count": 34,
   "id": "92bbd7df",
   "metadata": {},
   "outputs": [
    {
     "name": "stdout",
     "output_type": "stream",
     "text": [
      "1    823\n",
      "0    618\n",
      "Name: Result, dtype: int64\n",
      "1    206\n",
      "0    154\n",
      "Name: Result, dtype: int64\n"
     ]
    }
   ],
   "source": [
    "# logistic regression\n",
    "lr_classifier = LogisticRegression(C=0.0336, penalty='l1', solver='liblinear', random_state = 0)\n",
    "            \n",
    "# data splitting\n",
    "train_set = pd.read_csv(f'./fold-4/train.csv')\n",
    "test_set = pd.read_csv(f'./fold-4/test.csv')\n",
    "\n",
    "X_train = train_set.loc[:, selected_features]\n",
    "y_train = train_set.iloc[:, -1]\n",
    "X_test = test_set.loc[:, selected_features]\n",
    "y_test = test_set.iloc[:, -1]\n",
    "\n",
    "# label encode train_set & test_set 'Venue' & 'Result'\n",
    "X_train['Venue'] = venue_le.transform(X_train['Venue'])\n",
    "X_test['Venue'] = venue_le.transform(X_test['Venue'])\n",
    "\n",
    "y_train = y_train.map({'D': 0, 'L': 1})\n",
    "y_test = y_test.map({'D': 0, 'L': 1})\n",
    "\n",
    "# numerical encode using the appropriate scaler\n",
    "dl_sc = StandardScaler()\n",
    "X_train.iloc[:, :-1] = dl_sc.fit_transform(X_train.iloc[:, :-1])\n",
    "X_test.iloc[:, :-1] = dl_sc.transform(X_test.iloc[:, :-1])\n",
    "\n",
    "print(y_train.value_counts())\n",
    "print(y_test.value_counts())\n",
    "\n",
    "# train model\n",
    "lr_classifier.fit(X_train, y_train)\n",
    "\n",
    "# predict test set\n",
    "y_pred = lr_classifier.predict(X_test)"
   ]
  },
  {
   "cell_type": "code",
   "execution_count": 35,
   "id": "9b7f9d9d",
   "metadata": {},
   "outputs": [
    {
     "data": {
      "image/png": "[encoded data removed]",
      "text/plain": [
       "<Figure size 300x300 with 2 Axes>"
      ]
     },
     "metadata": {},
     "output_type": "display_data"
    }
   ],
   "source": [
    "from sklearn.metrics import ConfusionMatrixDisplay, confusion_matrix\n",
    "\n",
    "# Plot the confusion matrix\n",
    "fig, ax = plt.subplots(figsize=(3, 3))\n",
    "\n",
    "# Create the matrix\n",
    "cm = confusion_matrix(y_test, y_pred)\n",
    "cmp = ConfusionMatrixDisplay(cm, display_labels=['D', 'L'])\n",
    "cmp.plot(ax=ax)\n",
    "\n",
    "plt.show()"
   ]
  },
  {
   "cell_type": "code",
   "execution_count": 36,
   "id": "f3fc46e3",
   "metadata": {},
   "outputs": [
    {
     "name": "stdout",
     "output_type": "stream",
     "text": [
      "Accuracy on Test Set: 0.6\n",
      "ROC score on Test Set: 0.6149287605598285\n",
      "\n",
      "              precision    recall  f1-score   support\n",
      "\n",
      "           0       0.55      0.34      0.42       154\n",
      "           1       0.62      0.80      0.69       206\n",
      "\n",
      "    accuracy                           0.60       360\n",
      "   macro avg       0.58      0.57      0.56       360\n",
      "weighted avg       0.59      0.60      0.58       360\n",
      "\n"
     ]
    }
   ],
   "source": [
    "from sklearn.metrics import classification_report, accuracy_score, roc_auc_score\n",
    "\n",
    "# Calculate Accuracy\n",
    "print('Accuracy on Test Set:', accuracy_score(y_test, y_pred))\n",
    "\n",
    "# Calculate ROC_AUC\n",
    "y_pred_probs = lr_classifier.predict_proba(X_test)[:, 1]\n",
    "print('ROC score on Test Set:', roc_auc_score(y_test, y_pred_probs))\n",
    "\n",
    "# Get Classification Report\n",
    "print()\n",
    "print(classification_report(y_test, y_pred, zero_division=0))"
   ]
  },
  {
   "cell_type": "markdown",
   "id": "e1c0b91b",
   "metadata": {},
   "source": [
    "#### Fold 5"
   ]
  },
  {
   "cell_type": "code",
   "execution_count": 37,
   "id": "5a469298",
   "metadata": {},
   "outputs": [
    {
     "name": "stdout",
     "output_type": "stream",
     "text": [
      "1    824\n",
      "0    618\n",
      "Name: Result, dtype: int64\n",
      "1    205\n",
      "0    154\n",
      "Name: Result, dtype: int64\n"
     ]
    }
   ],
   "source": [
    "# logistic regression\n",
    "lr_classifier = LogisticRegression(C=0.0336, penalty='l1', solver='liblinear', random_state = 0)\n",
    "            \n",
    "# data splitting\n",
    "train_set = pd.read_csv(f'./fold-5/train.csv')\n",
    "test_set = pd.read_csv(f'./fold-5/test.csv')\n",
    "\n",
    "X_train = train_set.loc[:, selected_features]\n",
    "y_train = train_set.iloc[:, -1]\n",
    "X_test = test_set.loc[:, selected_features]\n",
    "y_test = test_set.iloc[:, -1]\n",
    "\n",
    "# label encode train_set & test_set 'Venue' & 'Result'\n",
    "X_train['Venue'] = venue_le.transform(X_train['Venue'])\n",
    "X_test['Venue'] = venue_le.transform(X_test['Venue'])\n",
    "\n",
    "y_train = y_train.map({'D': 0, 'L': 1})\n",
    "y_test = y_test.map({'D': 0, 'L': 1})\n",
    "\n",
    "# numerical encode using the appropriate scaler\n",
    "dl_sc = StandardScaler()\n",
    "X_train.iloc[:, :-1] = dl_sc.fit_transform(X_train.iloc[:, :-1])\n",
    "X_test.iloc[:, :-1] = dl_sc.transform(X_test.iloc[:, :-1])\n",
    "\n",
    "print(y_train.value_counts())\n",
    "print(y_test.value_counts())\n",
    "\n",
    "# train model\n",
    "lr_classifier.fit(X_train, y_train)\n",
    "\n",
    "# predict test set\n",
    "y_pred = lr_classifier.predict(X_test)"
   ]
  },
  {
   "cell_type": "code",
   "execution_count": 38,
   "id": "f6088b5d",
   "metadata": {},
   "outputs": [
    {
     "data": {
      "image/png": "[encoded data removed]",
      "text/plain": [
       "<Figure size 300x300 with 2 Axes>"
      ]
     },
     "metadata": {},
     "output_type": "display_data"
    }
   ],
   "source": [
    "from sklearn.metrics import ConfusionMatrixDisplay, confusion_matrix\n",
    "\n",
    "# Plot the confusion matrix\n",
    "fig, ax = plt.subplots(figsize=(3, 3))\n",
    "\n",
    "# Create the matrix\n",
    "cm = confusion_matrix(y_test, y_pred)\n",
    "cmp = ConfusionMatrixDisplay(cm, display_labels=['D', 'L'])\n",
    "cmp.plot(ax=ax)\n",
    "\n",
    "plt.show()"
   ]
  },
  {
   "cell_type": "code",
   "execution_count": 39,
   "id": "3f192bc6",
   "metadata": {},
   "outputs": [
    {
     "name": "stdout",
     "output_type": "stream",
     "text": [
      "Accuracy on Test Set: 0.6211699164345403\n",
      "ROC score on Test Set: 0.6569528032942669\n",
      "\n",
      "              precision    recall  f1-score   support\n",
      "\n",
      "           0       0.59      0.37      0.46       154\n",
      "           1       0.63      0.81      0.71       205\n",
      "\n",
      "    accuracy                           0.62       359\n",
      "   macro avg       0.61      0.59      0.58       359\n",
      "weighted avg       0.62      0.62      0.60       359\n",
      "\n"
     ]
    }
   ],
   "source": [
    "from sklearn.metrics import classification_report, accuracy_score, roc_auc_score\n",
    "\n",
    "# Calculate Accuracy\n",
    "print('Accuracy on Test Set:', accuracy_score(y_test, y_pred))\n",
    "\n",
    "# Calculate ROC_AUC\n",
    "y_pred_probs = lr_classifier.predict_proba(X_test)[:, 1]\n",
    "print('ROC score on Test Set:', roc_auc_score(y_test, y_pred_probs))\n",
    "\n",
    "# Get Classification Report\n",
    "print()\n",
    "print(classification_report(y_test, y_pred, zero_division=0))"
   ]
  },
  {
   "cell_type": "markdown",
   "id": "761b48ed",
   "metadata": {},
   "source": [
    "### SVM Classifier"
   ]
  },
  {
   "cell_type": "markdown",
   "id": "ac5ea6e8",
   "metadata": {},
   "source": [
    "#### Hyperparameter Tuning using Fold 1"
   ]
  },
  {
   "cell_type": "code",
   "execution_count": 9,
   "id": "43d9a401",
   "metadata": {},
   "outputs": [
    {
     "name": "stdout",
     "output_type": "stream",
     "text": [
      "Fitting 5 folds for each of 90 candidates, totalling 450 fits\n",
      "{'C': 1, 'tol': 1e-300}\n"
     ]
    }
   ],
   "source": [
    "# data splitting\n",
    "train_set = pd.read_csv(f'./fold-1/train.csv')\n",
    "test_set = pd.read_csv(f'./fold-1/test.csv')\n",
    "\n",
    "X_train = train_set.loc[:, selected_features]\n",
    "y_train = train_set.iloc[:, -1]\n",
    "X_test = test_set.loc[:, selected_features]\n",
    "y_test = test_set.iloc[:, -1]\n",
    "\n",
    "# label encode train_set & test_set 'Venue' & 'Result'\n",
    "X_train['Venue'] = venue_le.transform(X_train['Venue'])\n",
    "X_test['Venue'] = venue_le.transform(X_test['Venue'])\n",
    "\n",
    "y_train = y_train.map({'D': 0, 'L': 1})\n",
    "y_test = y_test.map({'D': 0, 'L': 1})\n",
    "\n",
    "# numerical encode using the appropriate scaler\n",
    "dl_sc = StandardScaler()\n",
    "X_train.iloc[:, :-1] = dl_sc.fit_transform(X_train.iloc[:, :-1])\n",
    "X_test.iloc[:, :-1] = dl_sc.transform(X_test.iloc[:, :-1])\n",
    "\n",
    "classifier = LinearSVC(random_state = 0, dual=False)\n",
    "param_grid = {\n",
    "    'C': [1e-50, 1e-30, 1e-20, 1e-10, 1e-5, 1e-1, 1, 100, 1000], \n",
    "    'tol': [1e-300, 1e-200, 1e-100, 1e-50, 1e-30, 1e-20, 1e-10, 1e-5, 1e-1, 1],\n",
    "}\n",
    "# svc_classifier = GridSearchCV(estimator=classifier, param_grid=param_grid, cv=5, verbose=1, scoring='f1_macro') \n",
    "svc_classifier = GridSearchCV(estimator=classifier, param_grid=param_grid, cv=5, verbose=1, scoring='accuracy') \n",
    "svc_classifier.fit(X_train, y_train)\n",
    "\n",
    "# get the best parameters\n",
    "print(svc_classifier.best_params_)"
   ]
  },
  {
   "cell_type": "markdown",
   "id": "ec660050",
   "metadata": {},
   "source": [
    "#### Fold 1"
   ]
  },
  {
   "cell_type": "code",
   "execution_count": 40,
   "id": "5c9218eb",
   "metadata": {},
   "outputs": [
    {
     "name": "stdout",
     "output_type": "stream",
     "text": [
      "1    823\n",
      "0    617\n",
      "Name: Result, dtype: int64\n",
      "1    206\n",
      "0    155\n",
      "Name: Result, dtype: int64\n"
     ]
    }
   ],
   "source": [
    "# linear SVC\n",
    "svc_classifier = CalibratedClassifierCV(LinearSVC(C=1, tol=1e-300, random_state=0, dual=False))\n",
    "\n",
    "# data splitting\n",
    "train_set = pd.read_csv(f'./fold-1/train.csv')\n",
    "test_set = pd.read_csv(f'./fold-1/test.csv')\n",
    "\n",
    "X_train = train_set.loc[:, selected_features]\n",
    "y_train = train_set.iloc[:, -1]\n",
    "X_test = test_set.loc[:, selected_features]\n",
    "y_test = test_set.iloc[:, -1]\n",
    "\n",
    "# label encode train_set & test_set 'Venue' & 'Result'\n",
    "X_train['Venue'] = venue_le.transform(X_train['Venue'])\n",
    "X_test['Venue'] = venue_le.transform(X_test['Venue'])\n",
    "\n",
    "y_train = y_train.map({'D': 0, 'L': 1})\n",
    "y_test = y_test.map({'D': 0, 'L': 1})\n",
    "\n",
    "# numerical encode using the appropriate scaler\n",
    "dl_sc = StandardScaler()\n",
    "X_train.iloc[:, :-1] = dl_sc.fit_transform(X_train.iloc[:, :-1])\n",
    "X_test.iloc[:, :-1] = dl_sc.transform(X_test.iloc[:, :-1])\n",
    "\n",
    "print(y_train.value_counts())\n",
    "print(y_test.value_counts())\n",
    "\n",
    "# train model\n",
    "svc_classifier.fit(X_train, y_train)\n",
    "\n",
    "# predict test set\n",
    "y_pred = svc_classifier.predict(X_test)"
   ]
  },
  {
   "cell_type": "code",
   "execution_count": 41,
   "id": "2e2e573f",
   "metadata": {},
   "outputs": [
    {
     "data": {
      "image/png": "[encoded data removed]",
      "text/plain": [
       "<Figure size 300x300 with 2 Axes>"
      ]
     },
     "metadata": {},
     "output_type": "display_data"
    }
   ],
   "source": [
    "from sklearn.metrics import ConfusionMatrixDisplay, confusion_matrix\n",
    "\n",
    "# Plot the confusion matrix\n",
    "fig, ax = plt.subplots(figsize=(3, 3))\n",
    "\n",
    "# Create the matrix\n",
    "cm = confusion_matrix(y_test, y_pred)\n",
    "cmp = ConfusionMatrixDisplay(cm, display_labels=['D', 'L'])\n",
    "cmp.plot(ax=ax)\n",
    "\n",
    "plt.show()"
   ]
  },
  {
   "cell_type": "code",
   "execution_count": 42,
   "id": "a8bc715b",
   "metadata": {},
   "outputs": [
    {
     "name": "stdout",
     "output_type": "stream",
     "text": [
      "Accuracy on Test Set: 0.6121883656509696\n",
      "ROC score on Test Set: 0.6696210460382086\n",
      "\n",
      "              precision    recall  f1-score   support\n",
      "\n",
      "           0       0.57      0.39      0.46       155\n",
      "           1       0.63      0.78      0.70       206\n",
      "\n",
      "    accuracy                           0.61       361\n",
      "   macro avg       0.60      0.58      0.58       361\n",
      "weighted avg       0.60      0.61      0.60       361\n",
      "\n"
     ]
    }
   ],
   "source": [
    "from sklearn.metrics import classification_report, accuracy_score, roc_auc_score\n",
    "\n",
    "# Calculate Accuracy\n",
    "print('Accuracy on Test Set:', accuracy_score(y_test, y_pred))\n",
    "\n",
    "# Calculate ROC_AUC\n",
    "y_pred_probs = svc_classifier.predict_proba(X_test)[:, 1]\n",
    "print('ROC score on Test Set:', roc_auc_score(y_test, y_pred_probs))\n",
    "\n",
    "# Get Classification Report\n",
    "print()\n",
    "print(classification_report(y_test, y_pred, zero_division=0))"
   ]
  },
  {
   "cell_type": "markdown",
   "id": "b2c8f574",
   "metadata": {},
   "source": [
    "#### Fold 2"
   ]
  },
  {
   "cell_type": "code",
   "execution_count": 43,
   "id": "529ff7a0",
   "metadata": {},
   "outputs": [
    {
     "name": "stdout",
     "output_type": "stream",
     "text": [
      "1    823\n",
      "0    617\n",
      "Name: Result, dtype: int64\n",
      "1    206\n",
      "0    155\n",
      "Name: Result, dtype: int64\n"
     ]
    }
   ],
   "source": [
    "# linear SVC\n",
    "svc_classifier = CalibratedClassifierCV(LinearSVC(C=1, tol=1e-300, random_state=0, dual=False))\n",
    "\n",
    "# data splitting\n",
    "train_set = pd.read_csv(f'./fold-2/train.csv')\n",
    "test_set = pd.read_csv(f'./fold-2/test.csv')\n",
    "\n",
    "X_train = train_set.loc[:, selected_features]\n",
    "y_train = train_set.iloc[:, -1]\n",
    "X_test = test_set.loc[:, selected_features]\n",
    "y_test = test_set.iloc[:, -1]\n",
    "\n",
    "# label encode train_set & test_set 'Venue' & 'Result'\n",
    "X_train['Venue'] = venue_le.transform(X_train['Venue'])\n",
    "X_test['Venue'] = venue_le.transform(X_test['Venue'])\n",
    "\n",
    "y_train = y_train.map({'D': 0, 'L': 1})\n",
    "y_test = y_test.map({'D': 0, 'L': 1})\n",
    "\n",
    "# numerical encode using the appropriate scaler\n",
    "dl_sc = StandardScaler()\n",
    "X_train.iloc[:, :-1] = dl_sc.fit_transform(X_train.iloc[:, :-1])\n",
    "X_test.iloc[:, :-1] = dl_sc.transform(X_test.iloc[:, :-1])\n",
    "\n",
    "print(y_train.value_counts())\n",
    "print(y_test.value_counts())\n",
    "\n",
    "# train model\n",
    "svc_classifier.fit(X_train, y_train)\n",
    "\n",
    "# predict test set\n",
    "y_pred = svc_classifier.predict(X_test)"
   ]
  },
  {
   "cell_type": "code",
   "execution_count": 44,
   "id": "5442184f",
   "metadata": {},
   "outputs": [
    {
     "data": {
      "image/png": "[encoded data removed]",
      "text/plain": [
       "<Figure size 300x300 with 2 Axes>"
      ]
     },
     "metadata": {},
     "output_type": "display_data"
    }
   ],
   "source": [
    "from sklearn.metrics import ConfusionMatrixDisplay, confusion_matrix\n",
    "\n",
    "# Plot the confusion matrix\n",
    "fig, ax = plt.subplots(figsize=(3, 3))\n",
    "\n",
    "# Create the matrix\n",
    "cm = confusion_matrix(y_test, y_pred)\n",
    "cmp = ConfusionMatrixDisplay(cm, display_labels=['D', 'L'])\n",
    "cmp.plot(ax=ax)\n",
    "\n",
    "plt.show()"
   ]
  },
  {
   "cell_type": "code",
   "execution_count": 45,
   "id": "fd3d8561",
   "metadata": {},
   "outputs": [
    {
     "name": "stdout",
     "output_type": "stream",
     "text": [
      "Accuracy on Test Set: 0.5789473684210527\n",
      "ROC score on Test Set: 0.6152834325086126\n",
      "\n",
      "              precision    recall  f1-score   support\n",
      "\n",
      "           0       0.52      0.32      0.40       155\n",
      "           1       0.60      0.77      0.68       206\n",
      "\n",
      "    accuracy                           0.58       361\n",
      "   macro avg       0.56      0.55      0.54       361\n",
      "weighted avg       0.57      0.58      0.56       361\n",
      "\n"
     ]
    }
   ],
   "source": [
    "from sklearn.metrics import classification_report, accuracy_score, roc_auc_score\n",
    "\n",
    "# Calculate Accuracy\n",
    "print('Accuracy on Test Set:', accuracy_score(y_test, y_pred))\n",
    "\n",
    "# Calculate ROC_AUC\n",
    "y_pred_probs = svc_classifier.predict_proba(X_test)[:, 1]\n",
    "print('ROC score on Test Set:', roc_auc_score(y_test, y_pred_probs))\n",
    "\n",
    "# Get Classification Report\n",
    "print()\n",
    "print(classification_report(y_test, y_pred, zero_division=0))"
   ]
  },
  {
   "cell_type": "markdown",
   "id": "2662013e",
   "metadata": {},
   "source": [
    "#### Fold 3"
   ]
  },
  {
   "cell_type": "code",
   "execution_count": 46,
   "id": "3fbabe39",
   "metadata": {},
   "outputs": [
    {
     "name": "stdout",
     "output_type": "stream",
     "text": [
      "1    823\n",
      "0    618\n",
      "Name: Result, dtype: int64\n",
      "1    206\n",
      "0    154\n",
      "Name: Result, dtype: int64\n"
     ]
    }
   ],
   "source": [
    "# linear SVC\n",
    "svc_classifier = CalibratedClassifierCV(LinearSVC(C=1, tol=1e-300, random_state=0, dual=False))\n",
    "\n",
    "# data splitting\n",
    "train_set = pd.read_csv(f'./fold-3/train.csv')\n",
    "test_set = pd.read_csv(f'./fold-3/test.csv')\n",
    "\n",
    "X_train = train_set.loc[:, selected_features]\n",
    "y_train = train_set.iloc[:, -1]\n",
    "X_test = test_set.loc[:, selected_features]\n",
    "y_test = test_set.iloc[:, -1]\n",
    "\n",
    "# label encode train_set & test_set 'Venue' & 'Result'\n",
    "X_train['Venue'] = venue_le.transform(X_train['Venue'])\n",
    "X_test['Venue'] = venue_le.transform(X_test['Venue'])\n",
    "\n",
    "y_train = y_train.map({'D': 0, 'L': 1})\n",
    "y_test = y_test.map({'D': 0, 'L': 1})\n",
    "\n",
    "# numerical encode using the appropriate scaler\n",
    "dl_sc = StandardScaler()\n",
    "X_train.iloc[:, :-1] = dl_sc.fit_transform(X_train.iloc[:, :-1])\n",
    "X_test.iloc[:, :-1] = dl_sc.transform(X_test.iloc[:, :-1])\n",
    "\n",
    "print(y_train.value_counts())\n",
    "print(y_test.value_counts())\n",
    "\n",
    "# train model\n",
    "svc_classifier.fit(X_train, y_train)\n",
    "\n",
    "# predict test set\n",
    "y_pred = svc_classifier.predict(X_test)"
   ]
  },
  {
   "cell_type": "code",
   "execution_count": 47,
   "id": "076d5d88",
   "metadata": {},
   "outputs": [
    {
     "data": {
      "image/png": "[encoded data removed]",
      "text/plain": [
       "<Figure size 300x300 with 2 Axes>"
      ]
     },
     "metadata": {},
     "output_type": "display_data"
    }
   ],
   "source": [
    "from sklearn.metrics import ConfusionMatrixDisplay, confusion_matrix\n",
    "\n",
    "# Plot the confusion matrix\n",
    "fig, ax = plt.subplots(figsize=(3, 3))\n",
    "\n",
    "# Create the matrix\n",
    "cm = confusion_matrix(y_test, y_pred)\n",
    "cmp = ConfusionMatrixDisplay(cm, display_labels=['D', 'L'])\n",
    "cmp.plot(ax=ax)\n",
    "\n",
    "plt.show()"
   ]
  },
  {
   "cell_type": "code",
   "execution_count": 48,
   "id": "5c6b0076",
   "metadata": {},
   "outputs": [
    {
     "name": "stdout",
     "output_type": "stream",
     "text": [
      "Accuracy on Test Set: 0.6222222222222222\n",
      "ROC score on Test Set: 0.6569158996343463\n",
      "\n",
      "              precision    recall  f1-score   support\n",
      "\n",
      "           0       0.59      0.38      0.46       154\n",
      "           1       0.63      0.80      0.71       206\n",
      "\n",
      "    accuracy                           0.62       360\n",
      "   macro avg       0.61      0.59      0.59       360\n",
      "weighted avg       0.62      0.62      0.60       360\n",
      "\n"
     ]
    }
   ],
   "source": [
    "from sklearn.metrics import classification_report, accuracy_score, roc_auc_score\n",
    "\n",
    "# Calculate Accuracy\n",
    "print('Accuracy on Test Set:', accuracy_score(y_test, y_pred))\n",
    "\n",
    "# Calculate ROC_AUC\n",
    "y_pred_probs = svc_classifier.predict_proba(X_test)[:, 1]\n",
    "print('ROC score on Test Set:', roc_auc_score(y_test, y_pred_probs))\n",
    "\n",
    "# Get Classification Report\n",
    "print()\n",
    "print(classification_report(y_test, y_pred, zero_division=0))"
   ]
  },
  {
   "cell_type": "markdown",
   "id": "fc5fca29",
   "metadata": {},
   "source": [
    "#### Fold 4"
   ]
  },
  {
   "cell_type": "code",
   "execution_count": 49,
   "id": "3528491e",
   "metadata": {},
   "outputs": [
    {
     "name": "stdout",
     "output_type": "stream",
     "text": [
      "1    823\n",
      "0    618\n",
      "Name: Result, dtype: int64\n",
      "1    206\n",
      "0    154\n",
      "Name: Result, dtype: int64\n"
     ]
    }
   ],
   "source": [
    "# linear SVC\n",
    "svc_classifier = CalibratedClassifierCV(LinearSVC(C=1, tol=1e-300, random_state=0, dual=False))\n",
    "\n",
    "# data splitting\n",
    "train_set = pd.read_csv(f'./fold-4/train.csv')\n",
    "test_set = pd.read_csv(f'./fold-4/test.csv')\n",
    "\n",
    "X_train = train_set.loc[:, selected_features]\n",
    "y_train = train_set.iloc[:, -1]\n",
    "X_test = test_set.loc[:, selected_features]\n",
    "y_test = test_set.iloc[:, -1]\n",
    "\n",
    "# label encode train_set & test_set 'Venue' & 'Result'\n",
    "X_train['Venue'] = venue_le.transform(X_train['Venue'])\n",
    "X_test['Venue'] = venue_le.transform(X_test['Venue'])\n",
    "\n",
    "y_train = y_train.map({'D': 0, 'L': 1})\n",
    "y_test = y_test.map({'D': 0, 'L': 1})\n",
    "\n",
    "# numerical encode using the appropriate scaler\n",
    "dl_sc = StandardScaler()\n",
    "X_train.iloc[:, :-1] = dl_sc.fit_transform(X_train.iloc[:, :-1])\n",
    "X_test.iloc[:, :-1] = dl_sc.transform(X_test.iloc[:, :-1])\n",
    "\n",
    "print(y_train.value_counts())\n",
    "print(y_test.value_counts())\n",
    "\n",
    "# train model\n",
    "svc_classifier.fit(X_train, y_train)\n",
    "\n",
    "# predict test set\n",
    "y_pred = svc_classifier.predict(X_test)"
   ]
  },
  {
   "cell_type": "code",
   "execution_count": 50,
   "id": "3969f8a6",
   "metadata": {},
   "outputs": [
    {
     "data": {
      "image/png": "[encoded data removed]",
      "text/plain": [
       "<Figure size 300x300 with 2 Axes>"
      ]
     },
     "metadata": {},
     "output_type": "display_data"
    }
   ],
   "source": [
    "from sklearn.metrics import ConfusionMatrixDisplay, confusion_matrix\n",
    "\n",
    "# Plot the confusion matrix\n",
    "fig, ax = plt.subplots(figsize=(3, 3))\n",
    "\n",
    "# Create the matrix\n",
    "cm = confusion_matrix(y_test, y_pred)\n",
    "cmp = ConfusionMatrixDisplay(cm, display_labels=['D', 'L'])\n",
    "cmp.plot(ax=ax)\n",
    "\n",
    "plt.show()"
   ]
  },
  {
   "cell_type": "code",
   "execution_count": 51,
   "id": "9706f7e1",
   "metadata": {},
   "outputs": [
    {
     "name": "stdout",
     "output_type": "stream",
     "text": [
      "Accuracy on Test Set: 0.5861111111111111\n",
      "ROC score on Test Set: 0.6201613920060522\n",
      "\n",
      "              precision    recall  f1-score   support\n",
      "\n",
      "           0       0.53      0.32      0.40       154\n",
      "           1       0.61      0.78      0.68       206\n",
      "\n",
      "    accuracy                           0.59       360\n",
      "   macro avg       0.57      0.55      0.54       360\n",
      "weighted avg       0.57      0.59      0.56       360\n",
      "\n"
     ]
    }
   ],
   "source": [
    "from sklearn.metrics import classification_report, accuracy_score, roc_auc_score\n",
    "\n",
    "# Calculate Accuracy\n",
    "print('Accuracy on Test Set:', accuracy_score(y_test, y_pred))\n",
    "\n",
    "# Calculate ROC_AUC\n",
    "y_pred_probs = svc_classifier.predict_proba(X_test)[:, 1]\n",
    "print('ROC score on Test Set:', roc_auc_score(y_test, y_pred_probs))\n",
    "\n",
    "# Get Classification Report\n",
    "print()\n",
    "print(classification_report(y_test, y_pred, zero_division=0))"
   ]
  },
  {
   "cell_type": "markdown",
   "id": "eb1392e8",
   "metadata": {},
   "source": [
    "#### Fold 5"
   ]
  },
  {
   "cell_type": "code",
   "execution_count": 52,
   "id": "9d50dda5",
   "metadata": {},
   "outputs": [
    {
     "name": "stdout",
     "output_type": "stream",
     "text": [
      "1    824\n",
      "0    618\n",
      "Name: Result, dtype: int64\n",
      "1    205\n",
      "0    154\n",
      "Name: Result, dtype: int64\n"
     ]
    }
   ],
   "source": [
    "# linear SVC\n",
    "svc_classifier = CalibratedClassifierCV(LinearSVC(C=1, tol=1e-300, random_state=0, dual=False))\n",
    "\n",
    "# data splitting\n",
    "train_set = pd.read_csv(f'./fold-5/train.csv')\n",
    "test_set = pd.read_csv(f'./fold-5/test.csv')\n",
    "\n",
    "X_train = train_set.loc[:, selected_features]\n",
    "y_train = train_set.iloc[:, -1]\n",
    "X_test = test_set.loc[:, selected_features]\n",
    "y_test = test_set.iloc[:, -1]\n",
    "\n",
    "# label encode train_set & test_set 'Venue' & 'Result'\n",
    "X_train['Venue'] = venue_le.transform(X_train['Venue'])\n",
    "X_test['Venue'] = venue_le.transform(X_test['Venue'])\n",
    "\n",
    "y_train = y_train.map({'D': 0, 'L': 1})\n",
    "y_test = y_test.map({'D': 0, 'L': 1})\n",
    "\n",
    "# numerical encode using the appropriate scaler\n",
    "dl_sc = StandardScaler()\n",
    "X_train.iloc[:, :-1] = dl_sc.fit_transform(X_train.iloc[:, :-1])\n",
    "X_test.iloc[:, :-1] = dl_sc.transform(X_test.iloc[:, :-1])\n",
    "\n",
    "print(y_train.value_counts())\n",
    "print(y_test.value_counts())\n",
    "\n",
    "# train model\n",
    "svc_classifier.fit(X_train, y_train)\n",
    "\n",
    "# predict test set\n",
    "y_pred = svc_classifier.predict(X_test)"
   ]
  },
  {
   "cell_type": "code",
   "execution_count": 53,
   "id": "9fdfefd3",
   "metadata": {},
   "outputs": [
    {
     "data": {
      "image/png": "[encoded data removed]",
      "text/plain": [
       "<Figure size 300x300 with 2 Axes>"
      ]
     },
     "metadata": {},
     "output_type": "display_data"
    }
   ],
   "source": [
    "from sklearn.metrics import ConfusionMatrixDisplay, confusion_matrix\n",
    "\n",
    "# Plot the confusion matrix\n",
    "fig, ax = plt.subplots(figsize=(3, 3))\n",
    "\n",
    "# Create the matrix\n",
    "cm = confusion_matrix(y_test, y_pred)\n",
    "cmp = ConfusionMatrixDisplay(cm, display_labels=['D', 'L'])\n",
    "cmp.plot(ax=ax)\n",
    "\n",
    "plt.show()"
   ]
  },
  {
   "cell_type": "code",
   "execution_count": 54,
   "id": "5b9f3ad2",
   "metadata": {},
   "outputs": [
    {
     "name": "stdout",
     "output_type": "stream",
     "text": [
      "Accuracy on Test Set: 0.6155988857938719\n",
      "ROC score on Test Set: 0.6496040544821032\n",
      "\n",
      "              precision    recall  f1-score   support\n",
      "\n",
      "           0       0.58      0.36      0.45       154\n",
      "           1       0.63      0.80      0.71       205\n",
      "\n",
      "    accuracy                           0.62       359\n",
      "   macro avg       0.61      0.58      0.58       359\n",
      "weighted avg       0.61      0.62      0.59       359\n",
      "\n"
     ]
    }
   ],
   "source": [
    "from sklearn.metrics import classification_report, accuracy_score, roc_auc_score\n",
    "\n",
    "# Calculate Accuracy\n",
    "print('Accuracy on Test Set:', accuracy_score(y_test, y_pred))\n",
    "\n",
    "# Calculate ROC_AUC\n",
    "y_pred_probs = svc_classifier.predict_proba(X_test)[:, 1]\n",
    "print('ROC score on Test Set:', roc_auc_score(y_test, y_pred_probs))\n",
    "\n",
    "# Get Classification Report\n",
    "print()\n",
    "print(classification_report(y_test, y_pred, zero_division=0))"
   ]
  },
  {
   "cell_type": "markdown",
   "id": "de5833b3",
   "metadata": {},
   "source": [
    "### XGBoost Classifier"
   ]
  },
  {
   "cell_type": "markdown",
   "id": "2db94f6c",
   "metadata": {},
   "source": [
    "#### Hyperparameter Tuning using Fold 1"
   ]
  },
  {
   "cell_type": "code",
   "execution_count": 7,
   "id": "8a494085",
   "metadata": {},
   "outputs": [
    {
     "name": "stdout",
     "output_type": "stream",
     "text": [
      "Fitting 5 folds for each of 96 candidates, totalling 480 fits\n",
      "{'learning_rate': 0.05, 'max_depth': 2, 'n_estimators': 100}\n"
     ]
    }
   ],
   "source": [
    "# data splitting\n",
    "train_set = pd.read_csv(f'./fold-1/train.csv')\n",
    "test_set = pd.read_csv(f'./fold-1/test.csv')\n",
    "\n",
    "X_train = train_set.loc[:, selected_features]\n",
    "y_train = train_set.iloc[:, -1]\n",
    "X_test = test_set.loc[:, selected_features]\n",
    "y_test = test_set.iloc[:, -1]\n",
    "\n",
    "# label encode train_set & test_set 'Venue' & 'Result'\n",
    "X_train['Venue'] = venue_le.transform(X_train['Venue'])\n",
    "X_test['Venue'] = venue_le.transform(X_test['Venue'])\n",
    "\n",
    "y_train = y_train.map({'D': 0, 'L': 1})\n",
    "y_test = y_test.map({'D': 0, 'L': 1})\n",
    "\n",
    "# numerical encode using the appropriate scaler\n",
    "dl_sc = StandardScaler()\n",
    "X_train.iloc[:, :-1] = dl_sc.fit_transform(X_train.iloc[:, :-1])\n",
    "X_test.iloc[:, :-1] = dl_sc.transform(X_test.iloc[:, :-1])\n",
    "\n",
    "classifier = XGBClassifier()\n",
    "param_grid = {\n",
    "    'max_depth': range (2, 10, 1),\n",
    "    'n_estimators': range(60, 220, 40),\n",
    "    'learning_rate': [0.1, 0.01, 0.05]\n",
    "}\n",
    "# xgb_classifier = GridSearchCV(estimator=classifier, param_grid=param_grid, cv=5, verbose=1, scoring='f1_macro')\n",
    "xgb_classifier = GridSearchCV(estimator=classifier, param_grid=param_grid, cv=5, verbose=1, scoring='accuracy')\n",
    "xgb_classifier.fit(X_train, y_train)\n",
    "\n",
    "# get the best parameters\n",
    "print(xgb_classifier.best_params_)"
   ]
  },
  {
   "cell_type": "markdown",
   "id": "b2852529",
   "metadata": {},
   "source": [
    "#### Fold 1"
   ]
  },
  {
   "cell_type": "code",
   "execution_count": 55,
   "id": "8c4f1617",
   "metadata": {},
   "outputs": [
    {
     "name": "stdout",
     "output_type": "stream",
     "text": [
      "1    823\n",
      "0    617\n",
      "Name: Result, dtype: int64\n",
      "1    206\n",
      "0    155\n",
      "Name: Result, dtype: int64\n"
     ]
    }
   ],
   "source": [
    "# xgboost classifier\n",
    "xgb_classifier = XGBClassifier(learning_rate=0.05, max_depth=2, n_estimators=100)\n",
    "\n",
    "# data splitting\n",
    "train_set = pd.read_csv(f'./fold-1/train.csv')\n",
    "test_set = pd.read_csv(f'./fold-1/test.csv')\n",
    "\n",
    "X_train = train_set.loc[:, selected_features]\n",
    "y_train = train_set.iloc[:, -1]\n",
    "X_test = test_set.loc[:, selected_features]\n",
    "y_test = test_set.iloc[:, -1]\n",
    "\n",
    "# label encode train_set & test_set 'Venue' & 'Result'\n",
    "X_train['Venue'] = venue_le.transform(X_train['Venue'])\n",
    "X_test['Venue'] = venue_le.transform(X_test['Venue'])\n",
    "\n",
    "y_train = y_train.map({'D': 0, 'L': 1})\n",
    "y_test = y_test.map({'D': 0, 'L': 1})\n",
    "\n",
    "# numerical encode using the appropriate scaler\n",
    "dl_sc = StandardScaler()\n",
    "X_train.iloc[:, :-1] = dl_sc.fit_transform(X_train.iloc[:, :-1])\n",
    "X_test.iloc[:, :-1] = dl_sc.transform(X_test.iloc[:, :-1])\n",
    "\n",
    "print(y_train.value_counts())\n",
    "print(y_test.value_counts())\n",
    "\n",
    "# train model\n",
    "xgb_classifier.fit(X_train, y_train)\n",
    "\n",
    "# predict test set\n",
    "y_pred = xgb_classifier.predict(X_test)"
   ]
  },
  {
   "cell_type": "code",
   "execution_count": 56,
   "id": "77ac5d0b",
   "metadata": {},
   "outputs": [
    {
     "data": {
      "image/png": "[encoded data removed]",
      "text/plain": [
       "<Figure size 300x300 with 2 Axes>"
      ]
     },
     "metadata": {},
     "output_type": "display_data"
    }
   ],
   "source": [
    "from sklearn.metrics import ConfusionMatrixDisplay, confusion_matrix\n",
    "\n",
    "# Plot the confusion matrix\n",
    "fig, ax = plt.subplots(figsize=(3, 3))\n",
    "\n",
    "# Create the matrix\n",
    "cm = confusion_matrix(y_test, y_pred)\n",
    "cmp = ConfusionMatrixDisplay(cm, display_labels=['D', 'L'])\n",
    "cmp.plot(ax=ax)\n",
    "\n",
    "plt.show()"
   ]
  },
  {
   "cell_type": "code",
   "execution_count": 57,
   "id": "c87b09e4",
   "metadata": {},
   "outputs": [
    {
     "name": "stdout",
     "output_type": "stream",
     "text": [
      "Accuracy on Test Set: 0.590027700831025\n",
      "ROC score on Test Set: 0.6572658941434388\n",
      "\n",
      "              precision    recall  f1-score   support\n",
      "\n",
      "           0       0.53      0.39      0.45       155\n",
      "           1       0.62      0.74      0.67       206\n",
      "\n",
      "    accuracy                           0.59       361\n",
      "   macro avg       0.57      0.56      0.56       361\n",
      "weighted avg       0.58      0.59      0.58       361\n",
      "\n"
     ]
    }
   ],
   "source": [
    "from sklearn.metrics import classification_report, accuracy_score, roc_auc_score\n",
    "\n",
    "# Calculate Accuracy\n",
    "print('Accuracy on Test Set:', accuracy_score(y_test, y_pred))\n",
    "\n",
    "# Calculate ROC_AUC\n",
    "y_pred_probs = xgb_classifier.predict_proba(X_test)[:, 1]\n",
    "print('ROC score on Test Set:', roc_auc_score(y_test, y_pred_probs))\n",
    "\n",
    "# Get Classification Report\n",
    "print()\n",
    "print(classification_report(y_test, y_pred, zero_division=0))"
   ]
  },
  {
   "cell_type": "markdown",
   "id": "a3e60eb5",
   "metadata": {},
   "source": [
    "#### Fold 2"
   ]
  },
  {
   "cell_type": "code",
   "execution_count": 58,
   "id": "5d35cae9",
   "metadata": {},
   "outputs": [
    {
     "name": "stdout",
     "output_type": "stream",
     "text": [
      "1    823\n",
      "0    617\n",
      "Name: Result, dtype: int64\n",
      "1    206\n",
      "0    155\n",
      "Name: Result, dtype: int64\n"
     ]
    }
   ],
   "source": [
    "# xgboost classifier\n",
    "xgb_classifier = XGBClassifier(learning_rate=0.05, max_depth=2, n_estimators=100)\n",
    "\n",
    "# data splitting\n",
    "train_set = pd.read_csv(f'./fold-2/train.csv')\n",
    "test_set = pd.read_csv(f'./fold-2/test.csv')\n",
    "\n",
    "X_train = train_set.loc[:, selected_features]\n",
    "y_train = train_set.iloc[:, -1]\n",
    "X_test = test_set.loc[:, selected_features]\n",
    "y_test = test_set.iloc[:, -1]\n",
    "\n",
    "# label encode train_set & test_set 'Venue' & 'Result'\n",
    "X_train['Venue'] = venue_le.transform(X_train['Venue'])\n",
    "X_test['Venue'] = venue_le.transform(X_test['Venue'])\n",
    "\n",
    "y_train = y_train.map({'D': 0, 'L': 1})\n",
    "y_test = y_test.map({'D': 0, 'L': 1})\n",
    "\n",
    "# numerical encode using the appropriate scaler\n",
    "dl_sc = StandardScaler()\n",
    "X_train.iloc[:, :-1] = dl_sc.fit_transform(X_train.iloc[:, :-1])\n",
    "X_test.iloc[:, :-1] = dl_sc.transform(X_test.iloc[:, :-1])\n",
    "\n",
    "print(y_train.value_counts())\n",
    "print(y_test.value_counts())\n",
    "\n",
    "# train model\n",
    "xgb_classifier.fit(X_train, y_train)\n",
    "\n",
    "# predict test set\n",
    "y_pred = xgb_classifier.predict(X_test)"
   ]
  },
  {
   "cell_type": "code",
   "execution_count": 59,
   "id": "3b5b4a86",
   "metadata": {},
   "outputs": [
    {
     "data": {
      "image/png": "[encoded data removed]",
      "text/plain": [
       "<Figure size 300x300 with 2 Axes>"
      ]
     },
     "metadata": {},
     "output_type": "display_data"
    }
   ],
   "source": [
    "from sklearn.metrics import ConfusionMatrixDisplay, confusion_matrix\n",
    "\n",
    "# Plot the confusion matrix\n",
    "fig, ax = plt.subplots(figsize=(3, 3))\n",
    "\n",
    "# Create the matrix\n",
    "cm = confusion_matrix(y_test, y_pred)\n",
    "cmp = ConfusionMatrixDisplay(cm, display_labels=['D', 'L'])\n",
    "cmp.plot(ax=ax)\n",
    "\n",
    "plt.show()"
   ]
  },
  {
   "cell_type": "code",
   "execution_count": 60,
   "id": "6f2cce42",
   "metadata": {},
   "outputs": [
    {
     "name": "stdout",
     "output_type": "stream",
     "text": [
      "Accuracy on Test Set: 0.590027700831025\n",
      "ROC score on Test Set: 0.6088631381146258\n",
      "\n",
      "              precision    recall  f1-score   support\n",
      "\n",
      "           0       0.54      0.32      0.40       155\n",
      "           1       0.61      0.79      0.69       206\n",
      "\n",
      "    accuracy                           0.59       361\n",
      "   macro avg       0.57      0.56      0.55       361\n",
      "weighted avg       0.58      0.59      0.57       361\n",
      "\n"
     ]
    }
   ],
   "source": [
    "from sklearn.metrics import classification_report, accuracy_score, roc_auc_score\n",
    "\n",
    "# Calculate Accuracy\n",
    "print('Accuracy on Test Set:', accuracy_score(y_test, y_pred))\n",
    "\n",
    "# Calculate ROC_AUC\n",
    "y_pred_probs = xgb_classifier.predict_proba(X_test)[:, 1]\n",
    "print('ROC score on Test Set:', roc_auc_score(y_test, y_pred_probs))\n",
    "\n",
    "# Get Classification Report\n",
    "print()\n",
    "print(classification_report(y_test, y_pred, zero_division=0))"
   ]
  },
  {
   "cell_type": "markdown",
   "id": "643f21e3",
   "metadata": {},
   "source": [
    "#### Fold 3"
   ]
  },
  {
   "cell_type": "code",
   "execution_count": 61,
   "id": "f7149c28",
   "metadata": {},
   "outputs": [
    {
     "name": "stdout",
     "output_type": "stream",
     "text": [
      "1    823\n",
      "0    618\n",
      "Name: Result, dtype: int64\n",
      "1    206\n",
      "0    154\n",
      "Name: Result, dtype: int64\n"
     ]
    }
   ],
   "source": [
    "# xgboost classifier\n",
    "xgb_classifier = XGBClassifier(learning_rate=0.05, max_depth=2, n_estimators=100)\n",
    "\n",
    "# data splitting\n",
    "train_set = pd.read_csv(f'./fold-3/train.csv')\n",
    "test_set = pd.read_csv(f'./fold-3/test.csv')\n",
    "\n",
    "X_train = train_set.loc[:, selected_features]\n",
    "y_train = train_set.iloc[:, -1]\n",
    "X_test = test_set.loc[:, selected_features]\n",
    "y_test = test_set.iloc[:, -1]\n",
    "\n",
    "# label encode train_set & test_set 'Venue' & 'Result'\n",
    "X_train['Venue'] = venue_le.transform(X_train['Venue'])\n",
    "X_test['Venue'] = venue_le.transform(X_test['Venue'])\n",
    "\n",
    "y_train = y_train.map({'D': 0, 'L': 1})\n",
    "y_test = y_test.map({'D': 0, 'L': 1})\n",
    "\n",
    "# numerical encode using the appropriate scaler\n",
    "dl_sc = StandardScaler()\n",
    "X_train.iloc[:, :-1] = dl_sc.fit_transform(X_train.iloc[:, :-1])\n",
    "X_test.iloc[:, :-1] = dl_sc.transform(X_test.iloc[:, :-1])\n",
    "\n",
    "print(y_train.value_counts())\n",
    "print(y_test.value_counts())\n",
    "\n",
    "# train model\n",
    "xgb_classifier.fit(X_train, y_train)\n",
    "\n",
    "# predict test set\n",
    "y_pred = xgb_classifier.predict(X_test)"
   ]
  },
  {
   "cell_type": "code",
   "execution_count": 62,
   "id": "25bfc55c",
   "metadata": {},
   "outputs": [
    {
     "data": {
      "image/png": "[encoded data removed]",
      "text/plain": [
       "<Figure size 300x300 with 2 Axes>"
      ]
     },
     "metadata": {},
     "output_type": "display_data"
    }
   ],
   "source": [
    "from sklearn.metrics import ConfusionMatrixDisplay, confusion_matrix\n",
    "\n",
    "# Plot the confusion matrix\n",
    "fig, ax = plt.subplots(figsize=(3, 3))\n",
    "\n",
    "# Create the matrix\n",
    "cm = confusion_matrix(y_test, y_pred)\n",
    "cmp = ConfusionMatrixDisplay(cm, display_labels=['D', 'L'])\n",
    "cmp.plot(ax=ax)\n",
    "\n",
    "plt.show()"
   ]
  },
  {
   "cell_type": "code",
   "execution_count": 63,
   "id": "4b8c73ce",
   "metadata": {},
   "outputs": [
    {
     "name": "stdout",
     "output_type": "stream",
     "text": [
      "Accuracy on Test Set: 0.6333333333333333\n",
      "ROC score on Test Set: 0.6616914638759299\n",
      "\n",
      "              precision    recall  f1-score   support\n",
      "\n",
      "           0       0.60      0.42      0.49       154\n",
      "           1       0.65      0.80      0.71       206\n",
      "\n",
      "    accuracy                           0.63       360\n",
      "   macro avg       0.62      0.61      0.60       360\n",
      "weighted avg       0.63      0.63      0.62       360\n",
      "\n"
     ]
    }
   ],
   "source": [
    "from sklearn.metrics import classification_report, accuracy_score, roc_auc_score\n",
    "\n",
    "# Calculate Accuracy\n",
    "print('Accuracy on Test Set:', accuracy_score(y_test, y_pred))\n",
    "\n",
    "# Calculate ROC_AUC\n",
    "y_pred_probs = xgb_classifier.predict_proba(X_test)[:, 1]\n",
    "print('ROC score on Test Set:', roc_auc_score(y_test, y_pred_probs))\n",
    "\n",
    "# Get Classification Report\n",
    "print()\n",
    "print(classification_report(y_test, y_pred, zero_division=0))"
   ]
  },
  {
   "cell_type": "markdown",
   "id": "561209cb",
   "metadata": {},
   "source": [
    "#### Fold 4"
   ]
  },
  {
   "cell_type": "code",
   "execution_count": 64,
   "id": "02492175",
   "metadata": {},
   "outputs": [
    {
     "name": "stdout",
     "output_type": "stream",
     "text": [
      "1    823\n",
      "0    618\n",
      "Name: Result, dtype: int64\n",
      "1    206\n",
      "0    154\n",
      "Name: Result, dtype: int64\n"
     ]
    }
   ],
   "source": [
    "# xgboost classifier\n",
    "xgb_classifier = XGBClassifier(learning_rate=0.05, max_depth=2, n_estimators=100)\n",
    "\n",
    "# data splitting\n",
    "train_set = pd.read_csv(f'./fold-4/train.csv')\n",
    "test_set = pd.read_csv(f'./fold-4/test.csv')\n",
    "\n",
    "X_train = train_set.loc[:, selected_features]\n",
    "y_train = train_set.iloc[:, -1]\n",
    "X_test = test_set.loc[:, selected_features]\n",
    "y_test = test_set.iloc[:, -1]\n",
    "\n",
    "# label encode train_set & test_set 'Venue' & 'Result'\n",
    "X_train['Venue'] = venue_le.transform(X_train['Venue'])\n",
    "X_test['Venue'] = venue_le.transform(X_test['Venue'])\n",
    "\n",
    "y_train = y_train.map({'D': 0, 'L': 1})\n",
    "y_test = y_test.map({'D': 0, 'L': 1})\n",
    "\n",
    "# numerical encode using the appropriate scaler\n",
    "dl_sc = StandardScaler()\n",
    "X_train.iloc[:, :-1] = dl_sc.fit_transform(X_train.iloc[:, :-1])\n",
    "X_test.iloc[:, :-1] = dl_sc.transform(X_test.iloc[:, :-1])\n",
    "\n",
    "print(y_train.value_counts())\n",
    "print(y_test.value_counts())\n",
    "\n",
    "# train model\n",
    "xgb_classifier.fit(X_train, y_train)\n",
    "\n",
    "# predict test set\n",
    "y_pred = xgb_classifier.predict(X_test)"
   ]
  },
  {
   "cell_type": "code",
   "execution_count": 65,
   "id": "76e49d5d",
   "metadata": {},
   "outputs": [
    {
     "data": {
      "image/png": "[encoded data removed]",
      "text/plain": [
       "<Figure size 300x300 with 2 Axes>"
      ]
     },
     "metadata": {},
     "output_type": "display_data"
    }
   ],
   "source": [
    "from sklearn.metrics import ConfusionMatrixDisplay, confusion_matrix\n",
    "\n",
    "# Plot the confusion matrix\n",
    "fig, ax = plt.subplots(figsize=(3, 3))\n",
    "\n",
    "# Create the matrix\n",
    "cm = confusion_matrix(y_test, y_pred)\n",
    "cmp = ConfusionMatrixDisplay(cm, display_labels=['D', 'L'])\n",
    "cmp.plot(ax=ax)\n",
    "\n",
    "plt.show()"
   ]
  },
  {
   "cell_type": "code",
   "execution_count": 66,
   "id": "b77de2b6",
   "metadata": {},
   "outputs": [
    {
     "name": "stdout",
     "output_type": "stream",
     "text": [
      "Accuracy on Test Set: 0.5916666666666667\n",
      "ROC score on Test Set: 0.6335266675072501\n",
      "\n",
      "              precision    recall  f1-score   support\n",
      "\n",
      "           0       0.53      0.40      0.46       154\n",
      "           1       0.62      0.73      0.67       206\n",
      "\n",
      "    accuracy                           0.59       360\n",
      "   macro avg       0.58      0.57      0.57       360\n",
      "weighted avg       0.58      0.59      0.58       360\n",
      "\n"
     ]
    }
   ],
   "source": [
    "from sklearn.metrics import classification_report, accuracy_score, roc_auc_score\n",
    "\n",
    "# Calculate Accuracy\n",
    "print('Accuracy on Test Set:', accuracy_score(y_test, y_pred))\n",
    "\n",
    "# Calculate ROC_AUC\n",
    "y_pred_probs = xgb_classifier.predict_proba(X_test)[:, 1]\n",
    "print('ROC score on Test Set:', roc_auc_score(y_test, y_pred_probs))\n",
    "\n",
    "# Get Classification Report\n",
    "print()\n",
    "print(classification_report(y_test, y_pred, zero_division=0))"
   ]
  },
  {
   "cell_type": "markdown",
   "id": "c37c4a3c",
   "metadata": {},
   "source": [
    "#### Fold 5"
   ]
  },
  {
   "cell_type": "code",
   "execution_count": 67,
   "id": "2ef29c0f",
   "metadata": {},
   "outputs": [
    {
     "name": "stdout",
     "output_type": "stream",
     "text": [
      "1    824\n",
      "0    618\n",
      "Name: Result, dtype: int64\n",
      "1    205\n",
      "0    154\n",
      "Name: Result, dtype: int64\n"
     ]
    }
   ],
   "source": [
    "# xgboost classifier\n",
    "xgb_classifier = XGBClassifier(learning_rate=0.05, max_depth=2, n_estimators=100)\n",
    "\n",
    "# data splitting\n",
    "train_set = pd.read_csv(f'./fold-5/train.csv')\n",
    "test_set = pd.read_csv(f'./fold-5/test.csv')\n",
    "\n",
    "X_train = train_set.loc[:, selected_features]\n",
    "y_train = train_set.iloc[:, -1]\n",
    "X_test = test_set.loc[:, selected_features]\n",
    "y_test = test_set.iloc[:, -1]\n",
    "\n",
    "# label encode train_set & test_set 'Venue' & 'Result'\n",
    "X_train['Venue'] = venue_le.transform(X_train['Venue'])\n",
    "X_test['Venue'] = venue_le.transform(X_test['Venue'])\n",
    "\n",
    "y_train = y_train.map({'D': 0, 'L': 1})\n",
    "y_test = y_test.map({'D': 0, 'L': 1})\n",
    "\n",
    "# numerical encode using the appropriate scaler\n",
    "dl_sc = StandardScaler()\n",
    "X_train.iloc[:, :-1] = dl_sc.fit_transform(X_train.iloc[:, :-1])\n",
    "X_test.iloc[:, :-1] = dl_sc.transform(X_test.iloc[:, :-1])\n",
    "\n",
    "print(y_train.value_counts())\n",
    "print(y_test.value_counts())\n",
    "\n",
    "# train model\n",
    "xgb_classifier.fit(X_train, y_train)\n",
    "\n",
    "# predict test set\n",
    "y_pred = xgb_classifier.predict(X_test)"
   ]
  },
  {
   "cell_type": "code",
   "execution_count": 68,
   "id": "b00ddfb4",
   "metadata": {},
   "outputs": [
    {
     "data": {
      "image/png": "[encoded data removed]",
      "text/plain": [
       "<Figure size 300x300 with 2 Axes>"
      ]
     },
     "metadata": {},
     "output_type": "display_data"
    }
   ],
   "source": [
    "from sklearn.metrics import ConfusionMatrixDisplay, confusion_matrix\n",
    "\n",
    "# Plot the confusion matrix\n",
    "fig, ax = plt.subplots(figsize=(3, 3))\n",
    "\n",
    "# Create the matrix\n",
    "cm = confusion_matrix(y_test, y_pred)\n",
    "cmp = ConfusionMatrixDisplay(cm, display_labels=['D', 'L'])\n",
    "cmp.plot(ax=ax)\n",
    "\n",
    "plt.show()"
   ]
  },
  {
   "cell_type": "code",
   "execution_count": 69,
   "id": "a6a94b3a",
   "metadata": {},
   "outputs": [
    {
     "name": "stdout",
     "output_type": "stream",
     "text": [
      "Accuracy on Test Set: 0.6100278551532033\n",
      "ROC score on Test Set: 0.6308520747545138\n",
      "\n",
      "              precision    recall  f1-score   support\n",
      "\n",
      "           0       0.57      0.35      0.44       154\n",
      "           1       0.62      0.80      0.70       205\n",
      "\n",
      "    accuracy                           0.61       359\n",
      "   macro avg       0.60      0.58      0.57       359\n",
      "weighted avg       0.60      0.61      0.59       359\n",
      "\n"
     ]
    }
   ],
   "source": [
    "from sklearn.metrics import classification_report, accuracy_score, roc_auc_score\n",
    "\n",
    "# Calculate Accuracy\n",
    "print('Accuracy on Test Set:', accuracy_score(y_test, y_pred))\n",
    "\n",
    "# Calculate ROC_AUC\n",
    "y_pred_probs = xgb_classifier.predict_proba(X_test)[:, 1]\n",
    "print('ROC score on Test Set:', roc_auc_score(y_test, y_pred_probs))\n",
    "\n",
    "# Get Classification Report\n",
    "print()\n",
    "print(classification_report(y_test, y_pred, zero_division=0))"
   ]
  }
 ],
 "metadata": {
  "kernelspec": {
   "display_name": "Python 3 (ipykernel)",
   "language": "python",
   "name": "python3"
  },
  "language_info": {
   "codemirror_mode": {
    "name": "ipython",
    "version": 3
   },
   "file_extension": ".py",
   "mimetype": "text/x-python",
   "name": "python",
   "nbconvert_exporter": "python",
   "pygments_lexer": "ipython3",
   "version": "3.9.15"
  }
 },
 "nbformat": 4,
 "nbformat_minor": 5
}
