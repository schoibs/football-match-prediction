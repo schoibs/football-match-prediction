{
 "cells": [
  {
   "cell_type": "markdown",
   "id": "fd59e140",
   "metadata": {},
   "source": [
    "# 1. Import Libraries"
   ]
  },
  {
   "cell_type": "code",
   "execution_count": 1,
   "id": "e732fbd8",
   "metadata": {},
   "outputs": [],
   "source": [
    "import pandas as pd\n",
    "import numpy as np\n",
    "import matplotlib.pyplot as plt\n",
    "import seaborn as sns\n",
    "sns.set_theme(style=\"whitegrid\")\n",
    "\n",
    "from sklearn.preprocessing import LabelEncoder\n",
    "from sklearn.preprocessing import StandardScaler\n",
    "\n",
    "from sklearn.model_selection import GridSearchCV\n",
    "\n",
    "from sklearn.ensemble import RandomForestClassifier\n",
    "from sklearn.linear_model import LogisticRegression\n",
    "from sklearn.calibration import CalibratedClassifierCV\n",
    "from sklearn.svm import LinearSVC\n",
    "from xgboost import XGBClassifier"
   ]
  },
  {
   "cell_type": "code",
   "execution_count": 2,
   "id": "0136e7b3",
   "metadata": {},
   "outputs": [],
   "source": [
    "pd.set_option('display.max_columns', None)\n",
    "pd.set_option('display.max_rows', None)"
   ]
  },
  {
   "cell_type": "markdown",
   "id": "da288c97",
   "metadata": {},
   "source": [
    "# 2. Read Dataset"
   ]
  },
  {
   "cell_type": "code",
   "execution_count": 3,
   "id": "772b3ac9",
   "metadata": {},
   "outputs": [
    {
     "data": {
      "text/html": [
       "<div>\n",
       "<style scoped>\n",
       "    .dataframe tbody tr th:only-of-type {\n",
       "        vertical-align: middle;\n",
       "    }\n",
       "\n",
       "    .dataframe tbody tr th {\n",
       "        vertical-align: top;\n",
       "    }\n",
       "\n",
       "    .dataframe thead th {\n",
       "        text-align: right;\n",
       "    }\n",
       "</style>\n",
       "<table border=\"1\" class=\"dataframe\">\n",
       "  <thead>\n",
       "    <tr style=\"text-align: right;\">\n",
       "      <th></th>\n",
       "      <th>Referee</th>\n",
       "      <th>Day Of Week</th>\n",
       "      <th>Round</th>\n",
       "      <th>Days</th>\n",
       "      <th>Shots</th>\n",
       "      <th>ShotsOT</th>\n",
       "      <th>Corners</th>\n",
       "      <th>Fouls</th>\n",
       "      <th>YCards</th>\n",
       "      <th>RCards</th>\n",
       "      <th>GoalsScored</th>\n",
       "      <th>GoalsConceded</th>\n",
       "      <th>GoalsDiff</th>\n",
       "      <th>HTGoalsScored</th>\n",
       "      <th>HTGoalsConceded</th>\n",
       "      <th>HTGoalsDiff</th>\n",
       "      <th>Points</th>\n",
       "      <th>WinPercent</th>\n",
       "      <th>WinStreak</th>\n",
       "      <th>UnbPercent</th>\n",
       "      <th>UnbStreak</th>\n",
       "      <th>Def</th>\n",
       "      <th>Mid</th>\n",
       "      <th>Att</th>\n",
       "      <th>Ovr</th>\n",
       "      <th>LastSeasonRank</th>\n",
       "      <th>PromotedMatchup</th>\n",
       "      <th>WinnerOdd</th>\n",
       "      <th>DrawOdd</th>\n",
       "      <th>Venue</th>\n",
       "      <th>Result</th>\n",
       "    </tr>\n",
       "  </thead>\n",
       "  <tbody>\n",
       "    <tr>\n",
       "      <th>0</th>\n",
       "      <td>L Probert</td>\n",
       "      <td>Sat</td>\n",
       "      <td>1.0</td>\n",
       "      <td>-4</td>\n",
       "      <td>10.4</td>\n",
       "      <td>6.6</td>\n",
       "      <td>3.8</td>\n",
       "      <td>-1.8</td>\n",
       "      <td>0.0</td>\n",
       "      <td>0.0</td>\n",
       "      <td>0.8</td>\n",
       "      <td>0.4</td>\n",
       "      <td>2.0</td>\n",
       "      <td>0.0</td>\n",
       "      <td>0.4</td>\n",
       "      <td>-2.0</td>\n",
       "      <td>0.4</td>\n",
       "      <td>20.0</td>\n",
       "      <td>0.0</td>\n",
       "      <td>0.0</td>\n",
       "      <td>1.0</td>\n",
       "      <td>7</td>\n",
       "      <td>8</td>\n",
       "      <td>8</td>\n",
       "      <td>7.67</td>\n",
       "      <td>-12</td>\n",
       "      <td>0</td>\n",
       "      <td>-9.71</td>\n",
       "      <td>5.50</td>\n",
       "      <td>Etihad Stadium</td>\n",
       "      <td>W</td>\n",
       "    </tr>\n",
       "    <tr>\n",
       "      <th>1</th>\n",
       "      <td>M Halsey</td>\n",
       "      <td>Sat</td>\n",
       "      <td>1.0</td>\n",
       "      <td>1</td>\n",
       "      <td>-1.0</td>\n",
       "      <td>-0.2</td>\n",
       "      <td>0.0</td>\n",
       "      <td>-1.8</td>\n",
       "      <td>0.4</td>\n",
       "      <td>0.0</td>\n",
       "      <td>0.2</td>\n",
       "      <td>0.0</td>\n",
       "      <td>1.0</td>\n",
       "      <td>0.4</td>\n",
       "      <td>0.2</td>\n",
       "      <td>1.0</td>\n",
       "      <td>-0.2</td>\n",
       "      <td>0.0</td>\n",
       "      <td>0.0</td>\n",
       "      <td>-20.0</td>\n",
       "      <td>-1.0</td>\n",
       "      <td>1</td>\n",
       "      <td>1</td>\n",
       "      <td>-2</td>\n",
       "      <td>0.00</td>\n",
       "      <td>1</td>\n",
       "      <td>0</td>\n",
       "      <td>-2.25</td>\n",
       "      <td>3.30</td>\n",
       "      <td>Bet365 Stadium</td>\n",
       "      <td>D</td>\n",
       "    </tr>\n",
       "    <tr>\n",
       "      <th>2</th>\n",
       "      <td>L Mason</td>\n",
       "      <td>Sat</td>\n",
       "      <td>1.0</td>\n",
       "      <td>0</td>\n",
       "      <td>6.8</td>\n",
       "      <td>5.0</td>\n",
       "      <td>1.8</td>\n",
       "      <td>-0.2</td>\n",
       "      <td>0.4</td>\n",
       "      <td>0.2</td>\n",
       "      <td>1.6</td>\n",
       "      <td>0.6</td>\n",
       "      <td>5.0</td>\n",
       "      <td>1.4</td>\n",
       "      <td>1.0</td>\n",
       "      <td>2.0</td>\n",
       "      <td>0.4</td>\n",
       "      <td>0.0</td>\n",
       "      <td>0.0</td>\n",
       "      <td>40.0</td>\n",
       "      <td>7.0</td>\n",
       "      <td>3</td>\n",
       "      <td>0</td>\n",
       "      <td>-1</td>\n",
       "      <td>0.67</td>\n",
       "      <td>-6</td>\n",
       "      <td>0</td>\n",
       "      <td>-6.56</td>\n",
       "      <td>4.20</td>\n",
       "      <td>Goodison Park</td>\n",
       "      <td>W</td>\n",
       "    </tr>\n",
       "    <tr>\n",
       "      <th>3</th>\n",
       "      <td>L Probert</td>\n",
       "      <td>Sun</td>\n",
       "      <td>1.0</td>\n",
       "      <td>0</td>\n",
       "      <td>3.4</td>\n",
       "      <td>2.2</td>\n",
       "      <td>2.0</td>\n",
       "      <td>0.2</td>\n",
       "      <td>-0.6</td>\n",
       "      <td>0.0</td>\n",
       "      <td>1.8</td>\n",
       "      <td>0.6</td>\n",
       "      <td>6.0</td>\n",
       "      <td>0.4</td>\n",
       "      <td>0.4</td>\n",
       "      <td>0.0</td>\n",
       "      <td>1.0</td>\n",
       "      <td>20.0</td>\n",
       "      <td>0.0</td>\n",
       "      <td>60.0</td>\n",
       "      <td>5.0</td>\n",
       "      <td>1</td>\n",
       "      <td>2</td>\n",
       "      <td>1</td>\n",
       "      <td>1.34</td>\n",
       "      <td>-4</td>\n",
       "      <td>0</td>\n",
       "      <td>-3.58</td>\n",
       "      <td>3.75</td>\n",
       "      <td>Craven Cottage</td>\n",
       "      <td>L</td>\n",
       "    </tr>\n",
       "    <tr>\n",
       "      <th>4</th>\n",
       "      <td>P Dowd</td>\n",
       "      <td>Sun</td>\n",
       "      <td>1.0</td>\n",
       "      <td>-1</td>\n",
       "      <td>-2.4</td>\n",
       "      <td>-1.8</td>\n",
       "      <td>-0.6</td>\n",
       "      <td>0.6</td>\n",
       "      <td>-1.0</td>\n",
       "      <td>0.0</td>\n",
       "      <td>-0.4</td>\n",
       "      <td>-1.2</td>\n",
       "      <td>4.0</td>\n",
       "      <td>0.2</td>\n",
       "      <td>0.0</td>\n",
       "      <td>1.0</td>\n",
       "      <td>1.0</td>\n",
       "      <td>20.0</td>\n",
       "      <td>0.0</td>\n",
       "      <td>60.0</td>\n",
       "      <td>6.0</td>\n",
       "      <td>-1</td>\n",
       "      <td>-3</td>\n",
       "      <td>-5</td>\n",
       "      <td>-3.00</td>\n",
       "      <td>-1</td>\n",
       "      <td>0</td>\n",
       "      <td>-1.50</td>\n",
       "      <td>3.30</td>\n",
       "      <td>Carrow Road</td>\n",
       "      <td>W</td>\n",
       "    </tr>\n",
       "  </tbody>\n",
       "</table>\n",
       "</div>"
      ],
      "text/plain": [
       "     Referee Day Of Week  Round  Days  Shots  ShotsOT  Corners  Fouls  YCards  \\\n",
       "0  L Probert         Sat    1.0    -4   10.4      6.6      3.8   -1.8     0.0   \n",
       "1   M Halsey         Sat    1.0     1   -1.0     -0.2      0.0   -1.8     0.4   \n",
       "2    L Mason         Sat    1.0     0    6.8      5.0      1.8   -0.2     0.4   \n",
       "3  L Probert         Sun    1.0     0    3.4      2.2      2.0    0.2    -0.6   \n",
       "4     P Dowd         Sun    1.0    -1   -2.4     -1.8     -0.6    0.6    -1.0   \n",
       "\n",
       "   RCards  GoalsScored  GoalsConceded  GoalsDiff  HTGoalsScored  \\\n",
       "0     0.0          0.8            0.4        2.0            0.0   \n",
       "1     0.0          0.2            0.0        1.0            0.4   \n",
       "2     0.2          1.6            0.6        5.0            1.4   \n",
       "3     0.0          1.8            0.6        6.0            0.4   \n",
       "4     0.0         -0.4           -1.2        4.0            0.2   \n",
       "\n",
       "   HTGoalsConceded  HTGoalsDiff  Points  WinPercent  WinStreak  UnbPercent  \\\n",
       "0              0.4         -2.0     0.4        20.0        0.0         0.0   \n",
       "1              0.2          1.0    -0.2         0.0        0.0       -20.0   \n",
       "2              1.0          2.0     0.4         0.0        0.0        40.0   \n",
       "3              0.4          0.0     1.0        20.0        0.0        60.0   \n",
       "4              0.0          1.0     1.0        20.0        0.0        60.0   \n",
       "\n",
       "   UnbStreak  Def  Mid  Att   Ovr  LastSeasonRank  PromotedMatchup  WinnerOdd  \\\n",
       "0        1.0    7    8    8  7.67             -12                0      -9.71   \n",
       "1       -1.0    1    1   -2  0.00               1                0      -2.25   \n",
       "2        7.0    3    0   -1  0.67              -6                0      -6.56   \n",
       "3        5.0    1    2    1  1.34              -4                0      -3.58   \n",
       "4        6.0   -1   -3   -5 -3.00              -1                0      -1.50   \n",
       "\n",
       "   DrawOdd           Venue Result  \n",
       "0     5.50  Etihad Stadium      W  \n",
       "1     3.30  Bet365 Stadium      D  \n",
       "2     4.20   Goodison Park      W  \n",
       "3     3.75  Craven Cottage      L  \n",
       "4     3.30     Carrow Road      W  "
      ]
     },
     "execution_count": 3,
     "metadata": {},
     "output_type": "execute_result"
    }
   ],
   "source": [
    "df = pd.read_csv('../../data/input/input_dataset.csv')\n",
    "\n",
    "df = df.dropna(axis=0).reset_index(drop=True)\n",
    "df.head()"
   ]
  },
  {
   "cell_type": "code",
   "execution_count": 4,
   "id": "478fe697",
   "metadata": {},
   "outputs": [],
   "source": [
    "# label encode categorical feature- Day Of Week\n",
    "dayOfWeek_le = LabelEncoder()\n",
    "df['Day Of Week'] = dayOfWeek_le.fit_transform(df['Day Of Week'])\n",
    "\n",
    "# label encode categorical feature- Referee\n",
    "referee_le = LabelEncoder()\n",
    "df['Referee'] = referee_le.fit_transform(df['Referee'])\n",
    "\n",
    "# label encode categorical feature- Venue\n",
    "venue_le = LabelEncoder()\n",
    "df['Venue'] = venue_le.fit_transform(df['Venue'])"
   ]
  },
  {
   "cell_type": "markdown",
   "id": "88ef992f",
   "metadata": {},
   "source": [
    "# 3. Feature Selection"
   ]
  },
  {
   "cell_type": "code",
   "execution_count": 5,
   "id": "bbcffe3c",
   "metadata": {},
   "outputs": [],
   "source": [
    "selected_features = ['Referee', 'Shots', 'Corners', 'Points', 'UnbStreak', 'LastSeasonRank', 'PromotedMatchup', 'Venue']"
   ]
  },
  {
   "cell_type": "markdown",
   "id": "dd48e601",
   "metadata": {},
   "source": [
    "# 4. Model Building- Data Split 7\n",
    "\n",
    "- Target Variable: Win/ Non-Win\n",
    "- Stratified Sampling"
   ]
  },
  {
   "cell_type": "markdown",
   "id": "94e4be34",
   "metadata": {},
   "source": [
    "### Random Forest Classifier"
   ]
  },
  {
   "cell_type": "markdown",
   "id": "8c9e5ca6",
   "metadata": {},
   "source": [
    "#### Hyperparameter Tuning using Fold 1"
   ]
  },
  {
   "cell_type": "code",
   "execution_count": 6,
   "id": "d35a474e",
   "metadata": {},
   "outputs": [
    {
     "name": "stdout",
     "output_type": "stream",
     "text": [
      "Fitting 5 folds for each of 50 candidates, totalling 250 fits\n",
      "{'criterion': 'entropy', 'max_depth': 3, 'max_features': 'log2', 'n_estimators': 100}\n"
     ]
    }
   ],
   "source": [
    "# data splitting\n",
    "train_set = pd.read_csv('./fold-1/train.csv')\n",
    "test_set = pd.read_csv('./fold-1/test.csv')\n",
    "\n",
    "X_train = train_set.loc[:, selected_features]\n",
    "y_train = train_set.iloc[:, -1]\n",
    "X_test = test_set.loc[:, selected_features]\n",
    "y_test = test_set.iloc[:, -1]\n",
    "\n",
    "# label encode train_set & test_set 'Venue' & 'Result'\n",
    "X_train['Referee'] = referee_le.transform(X_train['Referee'])\n",
    "X_test['Referee'] = referee_le.transform(X_test['Referee'])\n",
    "\n",
    "X_train['Venue'] = venue_le.transform(X_train['Venue'])\n",
    "X_test['Venue'] = venue_le.transform(X_test['Venue'])\n",
    "\n",
    "y_train = y_train.map({'W': 0, 'NW': 1})\n",
    "y_test = y_test.map({'W': 0, 'NW': 1})\n",
    "\n",
    "# numerical encode using the appropriate scaler\n",
    "wnw_sc = StandardScaler()\n",
    "X_train.iloc[:, 1:-2] = wnw_sc.fit_transform(X_train.iloc[:, 1:-2])\n",
    "X_test.iloc[:, 1:-2] = wnw_sc.transform(X_test.iloc[:, 1:-2])\n",
    "\n",
    "classifier = RandomForestClassifier(random_state = 0)\n",
    "param_grid = { \n",
    "    'n_estimators': [100, 200, 300, 400, 500],\n",
    "    'max_features': ['sqrt', 'log2'],\n",
    "    'max_depth' : [2, 3, 4, 5, 6],\n",
    "    'criterion' :['entropy']    \n",
    "}\n",
    "# rf_classifier = GridSearchCV(estimator=classifier, param_grid=param_grid, cv=5, verbose=1, scoring='f1_macro')\n",
    "rf_classifier = GridSearchCV(estimator=classifier, param_grid=param_grid, cv=5, verbose=1, scoring='accuracy')\n",
    "rf_classifier.fit(X_train, y_train)\n",
    "\n",
    "# get the best parameters\n",
    "print(rf_classifier.best_params_)"
   ]
  },
  {
   "cell_type": "markdown",
   "id": "102c3ad5",
   "metadata": {},
   "source": [
    "#### Fold 1"
   ]
  },
  {
   "cell_type": "code",
   "execution_count": 70,
   "id": "3696d822",
   "metadata": {},
   "outputs": [
    {
     "name": "stdout",
     "output_type": "stream",
     "text": [
      "1    1440\n",
      "0    1197\n",
      "Name: Result, dtype: int64\n",
      "1    361\n",
      "0    299\n",
      "Name: Result, dtype: int64\n"
     ]
    }
   ],
   "source": [
    "# rf_classifier\n",
    "rf_classifier = RandomForestClassifier(criterion='entropy', max_depth=3, max_features='log2', n_estimators=100, random_state=0)\n",
    "\n",
    "# data splitting\n",
    "train_set = pd.read_csv('./fold-1/train.csv')\n",
    "test_set = pd.read_csv('./fold-1/test.csv')\n",
    "\n",
    "X_train = train_set.loc[:, selected_features]\n",
    "y_train = train_set.iloc[:, -1]\n",
    "X_test = test_set.loc[:, selected_features]\n",
    "y_test = test_set.iloc[:, -1]\n",
    "\n",
    "# label encode train_set & test_set 'Venue' & 'Result'\n",
    "X_train['Referee'] = referee_le.transform(X_train['Referee'])\n",
    "X_test['Referee'] = referee_le.transform(X_test['Referee'])\n",
    "\n",
    "X_train['Venue'] = venue_le.transform(X_train['Venue'])\n",
    "X_test['Venue'] = venue_le.transform(X_test['Venue'])\n",
    "\n",
    "y_train = y_train.map({'W': 0, 'NW': 1})\n",
    "y_test = y_test.map({'W': 0, 'NW': 1})\n",
    "\n",
    "# numerical encode using the appropriate scaler\n",
    "wnw_sc = StandardScaler()\n",
    "X_train.iloc[:, 1:-2] = wnw_sc.fit_transform(X_train.iloc[:, 1:-2])\n",
    "X_test.iloc[:, 1:-2] = wnw_sc.transform(X_test.iloc[:, 1:-2])\n",
    "\n",
    "print(y_train.value_counts())\n",
    "print(y_test.value_counts())\n",
    "\n",
    "# train model\n",
    "rf_classifier.fit(X_train, y_train)\n",
    "\n",
    "# predict test set\n",
    "y_pred = rf_classifier.predict(X_test)"
   ]
  },
  {
   "cell_type": "code",
   "execution_count": 71,
   "id": "4e3de647",
   "metadata": {},
   "outputs": [
    {
     "data": {
      "image/png": "[encoded data removed]",
      "text/plain": [
       "<Figure size 200x200 with 2 Axes>"
      ]
     },
     "metadata": {},
     "output_type": "display_data"
    }
   ],
   "source": [
    "from sklearn.metrics import ConfusionMatrixDisplay, confusion_matrix\n",
    "\n",
    "# Plot the confusion matrix\n",
    "fig, ax = plt.subplots(figsize=(2, 2))\n",
    "\n",
    "# Create the matrix\n",
    "cm = confusion_matrix(y_test, y_pred)\n",
    "cmp = ConfusionMatrixDisplay(cm, display_labels=['W', 'NW'])\n",
    "cmp.plot(ax=ax)\n",
    "\n",
    "plt.show()"
   ]
  },
  {
   "cell_type": "code",
   "execution_count": 73,
   "id": "6225c5e1",
   "metadata": {},
   "outputs": [
    {
     "name": "stdout",
     "output_type": "stream",
     "text": [
      "Accuracy on Test Set: 0.6424242424242425\n",
      "ROC score on Test Set: 0.7079971094785018\n",
      "\n",
      "              precision    recall  f1-score   support\n",
      "\n",
      "           0       0.62      0.54      0.58       299\n",
      "           1       0.66      0.73      0.69       361\n",
      "\n",
      "    accuracy                           0.64       660\n",
      "   macro avg       0.64      0.63      0.63       660\n",
      "weighted avg       0.64      0.64      0.64       660\n",
      "\n"
     ]
    }
   ],
   "source": [
    "from sklearn.metrics import classification_report, accuracy_score, roc_auc_score\n",
    "\n",
    "# Calculate Accuracy\n",
    "print('Accuracy on Test Set:', accuracy_score(y_test, y_pred))\n",
    "\n",
    "# Calculate ROC_AUC\n",
    "y_pred_probs = rf_classifier.predict_proba(X_test)[:, 1]\n",
    "# y_pred_probs = rf_classifier.predict_proba(X_test)\n",
    "print('ROC score on Test Set:', roc_auc_score(y_test, y_pred_probs))\n",
    "\n",
    "# Get Classification Report\n",
    "print()\n",
    "print(classification_report(y_test, y_pred, zero_division=0))"
   ]
  },
  {
   "cell_type": "markdown",
   "id": "821ad135",
   "metadata": {},
   "source": [
    "#### Fold 2"
   ]
  },
  {
   "cell_type": "code",
   "execution_count": 74,
   "id": "cf83192b",
   "metadata": {},
   "outputs": [
    {
     "name": "stdout",
     "output_type": "stream",
     "text": [
      "1    1441\n",
      "0    1197\n",
      "Name: Result, dtype: int64\n",
      "1    360\n",
      "0    299\n",
      "Name: Result, dtype: int64\n"
     ]
    }
   ],
   "source": [
    "# rf_classifier\n",
    "rf_classifier = RandomForestClassifier(criterion='entropy', max_depth=3, max_features='log2', n_estimators=100, random_state=0)\n",
    "\n",
    "# data splitting\n",
    "train_set = pd.read_csv(f'./fold-2/train.csv')\n",
    "test_set = pd.read_csv(f'./fold-2/test.csv')\n",
    "\n",
    "X_train = train_set.loc[:, selected_features]\n",
    "y_train = train_set.iloc[:, -1]\n",
    "X_test = test_set.loc[:, selected_features]\n",
    "y_test = test_set.iloc[:, -1]\n",
    "\n",
    "# label encode train_set & test_set 'Venue' & 'Result'\n",
    "X_train['Referee'] = referee_le.transform(X_train['Referee'])\n",
    "X_test['Referee'] = referee_le.transform(X_test['Referee'])\n",
    "\n",
    "X_train['Venue'] = venue_le.transform(X_train['Venue'])\n",
    "X_test['Venue'] = venue_le.transform(X_test['Venue'])\n",
    "\n",
    "y_train = y_train.map({'W': 0, 'NW': 1})\n",
    "y_test = y_test.map({'W': 0, 'NW': 1})\n",
    "\n",
    "# numerical encode using the appropriate scaler\n",
    "wnw_sc = StandardScaler()\n",
    "X_train.iloc[:, 1:-2] = wnw_sc.fit_transform(X_train.iloc[:, 1:-2])\n",
    "X_test.iloc[:, 1:-2] = wnw_sc.transform(X_test.iloc[:, 1:-2])\n",
    "\n",
    "print(y_train.value_counts())\n",
    "print(y_test.value_counts())\n",
    "\n",
    "# train model\n",
    "rf_classifier.fit(X_train, y_train)\n",
    "\n",
    "# predict test set\n",
    "y_pred = rf_classifier.predict(X_test)"
   ]
  },
  {
   "cell_type": "code",
   "execution_count": 75,
   "id": "d50ff960",
   "metadata": {},
   "outputs": [
    {
     "data": {
      "image/png": "[encoded data removed]",
      "text/plain": [
       "<Figure size 200x200 with 2 Axes>"
      ]
     },
     "metadata": {},
     "output_type": "display_data"
    }
   ],
   "source": [
    "from sklearn.metrics import ConfusionMatrixDisplay, confusion_matrix\n",
    "\n",
    "# Plot the confusion matrix\n",
    "fig, ax = plt.subplots(figsize=(2, 2))\n",
    "\n",
    "# Create the matrix\n",
    "cm = confusion_matrix(y_test, y_pred)\n",
    "cmp = ConfusionMatrixDisplay(cm, display_labels=['W', 'NW'])\n",
    "cmp.plot(ax=ax)\n",
    "\n",
    "plt.show()"
   ]
  },
  {
   "cell_type": "code",
   "execution_count": 76,
   "id": "5d4d5383",
   "metadata": {},
   "outputs": [
    {
     "name": "stdout",
     "output_type": "stream",
     "text": [
      "Accuracy on Test Set: 0.6327769347496206\n",
      "ROC score on Test Set: 0.6855072463768115\n",
      "\n",
      "              precision    recall  f1-score   support\n",
      "\n",
      "           0       0.61      0.54      0.57       299\n",
      "           1       0.65      0.71      0.68       360\n",
      "\n",
      "    accuracy                           0.63       659\n",
      "   macro avg       0.63      0.62      0.62       659\n",
      "weighted avg       0.63      0.63      0.63       659\n",
      "\n"
     ]
    }
   ],
   "source": [
    "from sklearn.metrics import classification_report, accuracy_score, roc_auc_score\n",
    "\n",
    "# Calculate Accuracy\n",
    "print('Accuracy on Test Set:', accuracy_score(y_test, y_pred))\n",
    "\n",
    "# Calculate ROC_AUC\n",
    "y_pred_probs = rf_classifier.predict_proba(X_test)[:, 1]\n",
    "# y_pred_probs = rf_classifier.predict_proba(X_test)\n",
    "print('ROC score on Test Set:', roc_auc_score(y_test, y_pred_probs))\n",
    "\n",
    "# Get Classification Report\n",
    "print()\n",
    "print(classification_report(y_test, y_pred, zero_division=0))"
   ]
  },
  {
   "cell_type": "markdown",
   "id": "787ef928",
   "metadata": {},
   "source": [
    "#### Fold 3"
   ]
  },
  {
   "cell_type": "code",
   "execution_count": 77,
   "id": "521019c4",
   "metadata": {},
   "outputs": [
    {
     "name": "stdout",
     "output_type": "stream",
     "text": [
      "1    1441\n",
      "0    1197\n",
      "Name: Result, dtype: int64\n",
      "1    360\n",
      "0    299\n",
      "Name: Result, dtype: int64\n"
     ]
    }
   ],
   "source": [
    "# rf_classifier\n",
    "rf_classifier = RandomForestClassifier(criterion='entropy', max_depth=3, max_features='log2', n_estimators=100, random_state=0)\n",
    "\n",
    "# data splitting\n",
    "train_set = pd.read_csv(f'./fold-3/train.csv')\n",
    "test_set = pd.read_csv(f'./fold-3/test.csv')\n",
    "\n",
    "X_train = train_set.loc[:, selected_features]\n",
    "y_train = train_set.iloc[:, -1]\n",
    "X_test = test_set.loc[:, selected_features]\n",
    "y_test = test_set.iloc[:, -1]\n",
    "\n",
    "# label encode train_set & test_set 'Venue' & 'Result'\n",
    "X_train['Referee'] = referee_le.transform(X_train['Referee'])\n",
    "X_test['Referee'] = referee_le.transform(X_test['Referee'])\n",
    "\n",
    "X_train['Venue'] = venue_le.transform(X_train['Venue'])\n",
    "X_test['Venue'] = venue_le.transform(X_test['Venue'])\n",
    "\n",
    "y_train = y_train.map({'W': 0, 'NW': 1})\n",
    "y_test = y_test.map({'W': 0, 'NW': 1})\n",
    "\n",
    "# numerical encode using the appropriate scaler\n",
    "wnw_sc = StandardScaler()\n",
    "X_train.iloc[:, 1:-2] = wnw_sc.fit_transform(X_train.iloc[:, 1:-2])\n",
    "X_test.iloc[:, 1:-2] = wnw_sc.transform(X_test.iloc[:, 1:-2])\n",
    "\n",
    "print(y_train.value_counts())\n",
    "print(y_test.value_counts())\n",
    "\n",
    "# train model\n",
    "rf_classifier.fit(X_train, y_train)\n",
    "\n",
    "# predict test set\n",
    "y_pred = rf_classifier.predict(X_test)"
   ]
  },
  {
   "cell_type": "code",
   "execution_count": 78,
   "id": "4624f2e2",
   "metadata": {},
   "outputs": [
    {
     "data": {
      "image/png": "[encoded data removed]",
      "text/plain": [
       "<Figure size 200x200 with 2 Axes>"
      ]
     },
     "metadata": {},
     "output_type": "display_data"
    }
   ],
   "source": [
    "from sklearn.metrics import ConfusionMatrixDisplay, confusion_matrix\n",
    "\n",
    "# Plot the confusion matrix\n",
    "fig, ax = plt.subplots(figsize=(2, 2))\n",
    "\n",
    "# Create the matrix\n",
    "cm = confusion_matrix(y_test, y_pred)\n",
    "cmp = ConfusionMatrixDisplay(cm, display_labels=['W', 'NW'])\n",
    "cmp.plot(ax=ax)\n",
    "\n",
    "plt.show()"
   ]
  },
  {
   "cell_type": "code",
   "execution_count": 79,
   "id": "d1044018",
   "metadata": {},
   "outputs": [
    {
     "name": "stdout",
     "output_type": "stream",
     "text": [
      "Accuracy on Test Set: 0.6403641881638846\n",
      "ROC score on Test Set: 0.6918849869936826\n",
      "\n",
      "              precision    recall  f1-score   support\n",
      "\n",
      "           0       0.63      0.51      0.56       299\n",
      "           1       0.65      0.75      0.70       360\n",
      "\n",
      "    accuracy                           0.64       659\n",
      "   macro avg       0.64      0.63      0.63       659\n",
      "weighted avg       0.64      0.64      0.63       659\n",
      "\n"
     ]
    }
   ],
   "source": [
    "from sklearn.metrics import classification_report, accuracy_score, roc_auc_score\n",
    "\n",
    "# Calculate Accuracy\n",
    "print('Accuracy on Test Set:', accuracy_score(y_test, y_pred))\n",
    "\n",
    "# Calculate ROC_AUC\n",
    "y_pred_probs = rf_classifier.predict_proba(X_test)[:, 1]\n",
    "# y_pred_probs = rf_classifier.predict_proba(X_test)\n",
    "print('ROC score on Test Set:', roc_auc_score(y_test, y_pred_probs))\n",
    "\n",
    "# Get Classification Report\n",
    "print()\n",
    "print(classification_report(y_test, y_pred, zero_division=0))"
   ]
  },
  {
   "cell_type": "markdown",
   "id": "4f2d263c",
   "metadata": {},
   "source": [
    "#### Fold 4"
   ]
  },
  {
   "cell_type": "code",
   "execution_count": 80,
   "id": "ea07ba98",
   "metadata": {},
   "outputs": [
    {
     "name": "stdout",
     "output_type": "stream",
     "text": [
      "1    1441\n",
      "0    1197\n",
      "Name: Result, dtype: int64\n",
      "1    360\n",
      "0    299\n",
      "Name: Result, dtype: int64\n"
     ]
    }
   ],
   "source": [
    "# rf_classifier\n",
    "rf_classifier = RandomForestClassifier(criterion='entropy', max_depth=3, max_features='log2', n_estimators=100, random_state=0)\n",
    "\n",
    "# data splitting\n",
    "train_set = pd.read_csv(f'./fold-4/train.csv')\n",
    "test_set = pd.read_csv(f'./fold-4/test.csv')\n",
    "\n",
    "X_train = train_set.loc[:, selected_features]\n",
    "y_train = train_set.iloc[:, -1]\n",
    "X_test = test_set.loc[:, selected_features]\n",
    "y_test = test_set.iloc[:, -1]\n",
    "\n",
    "# label encode train_set & test_set 'Venue' & 'Result'\n",
    "X_train['Referee'] = referee_le.transform(X_train['Referee'])\n",
    "X_test['Referee'] = referee_le.transform(X_test['Referee'])\n",
    "\n",
    "X_train['Venue'] = venue_le.transform(X_train['Venue'])\n",
    "X_test['Venue'] = venue_le.transform(X_test['Venue'])\n",
    "\n",
    "y_train = y_train.map({'W': 0, 'NW': 1})\n",
    "y_test = y_test.map({'W': 0, 'NW': 1})\n",
    "\n",
    "# numerical encode using the appropriate scaler\n",
    "wnw_sc = StandardScaler()\n",
    "X_train.iloc[:, 1:-2] = wnw_sc.fit_transform(X_train.iloc[:, 1:-2])\n",
    "X_test.iloc[:, 1:-2] = wnw_sc.transform(X_test.iloc[:, 1:-2])\n",
    "\n",
    "print(y_train.value_counts())\n",
    "print(y_test.value_counts())\n",
    "\n",
    "# train model\n",
    "rf_classifier.fit(X_train, y_train)\n",
    "\n",
    "# predict test set\n",
    "y_pred = rf_classifier.predict(X_test)"
   ]
  },
  {
   "cell_type": "code",
   "execution_count": 81,
   "id": "776c0f04",
   "metadata": {},
   "outputs": [
    {
     "data": {
      "image/png": "[encoded data removed]",
      "text/plain": [
       "<Figure size 200x200 with 2 Axes>"
      ]
     },
     "metadata": {},
     "output_type": "display_data"
    }
   ],
   "source": [
    "from sklearn.metrics import ConfusionMatrixDisplay, confusion_matrix\n",
    "\n",
    "# Plot the confusion matrix\n",
    "fig, ax = plt.subplots(figsize=(2, 2))\n",
    "\n",
    "# Create the matrix\n",
    "cm = confusion_matrix(y_test, y_pred)\n",
    "cmp = ConfusionMatrixDisplay(cm, display_labels=['W', 'NW'])\n",
    "cmp.plot(ax=ax)\n",
    "\n",
    "plt.show()"
   ]
  },
  {
   "cell_type": "code",
   "execution_count": 82,
   "id": "0c012869",
   "metadata": {},
   "outputs": [
    {
     "name": "stdout",
     "output_type": "stream",
     "text": [
      "Accuracy on Test Set: 0.6646433990895296\n",
      "ROC score on Test Set: 0.7020903010033445\n",
      "\n",
      "              precision    recall  f1-score   support\n",
      "\n",
      "           0       0.65      0.57      0.60       299\n",
      "           1       0.67      0.75      0.71       360\n",
      "\n",
      "    accuracy                           0.66       659\n",
      "   macro avg       0.66      0.66      0.66       659\n",
      "weighted avg       0.66      0.66      0.66       659\n",
      "\n"
     ]
    }
   ],
   "source": [
    "from sklearn.metrics import classification_report, accuracy_score, roc_auc_score\n",
    "\n",
    "# Calculate Accuracy\n",
    "print('Accuracy on Test Set:', accuracy_score(y_test, y_pred))\n",
    "\n",
    "# Calculate ROC_AUC\n",
    "y_pred_probs = rf_classifier.predict_proba(X_test)[:, 1]\n",
    "# y_pred_probs = rf_classifier.predict_proba(X_test)\n",
    "print('ROC score on Test Set:', roc_auc_score(y_test, y_pred_probs))\n",
    "\n",
    "# Get Classification Report\n",
    "print()\n",
    "print(classification_report(y_test, y_pred, zero_division=0))"
   ]
  },
  {
   "cell_type": "markdown",
   "id": "342d9728",
   "metadata": {},
   "source": [
    "#### Fold 5"
   ]
  },
  {
   "cell_type": "code",
   "execution_count": 83,
   "id": "6f109983",
   "metadata": {},
   "outputs": [
    {
     "name": "stdout",
     "output_type": "stream",
     "text": [
      "1    1441\n",
      "0    1196\n",
      "Name: Result, dtype: int64\n",
      "1    360\n",
      "0    300\n",
      "Name: Result, dtype: int64\n"
     ]
    }
   ],
   "source": [
    "# rf_classifier\n",
    "rf_classifier = RandomForestClassifier(criterion='entropy', max_depth=3, max_features='log2', n_estimators=100, random_state=0)\n",
    "\n",
    "# data splitting\n",
    "train_set = pd.read_csv(f'./fold-5/train.csv')\n",
    "test_set = pd.read_csv(f'./fold-5/test.csv')\n",
    "\n",
    "X_train = train_set.loc[:, selected_features]\n",
    "y_train = train_set.iloc[:, -1]\n",
    "X_test = test_set.loc[:, selected_features]\n",
    "y_test = test_set.iloc[:, -1]\n",
    "\n",
    "# label encode train_set & test_set 'Venue' & 'Result'\n",
    "X_train['Referee'] = referee_le.transform(X_train['Referee'])\n",
    "X_test['Referee'] = referee_le.transform(X_test['Referee'])\n",
    "\n",
    "X_train['Venue'] = venue_le.transform(X_train['Venue'])\n",
    "X_test['Venue'] = venue_le.transform(X_test['Venue'])\n",
    "\n",
    "y_train = y_train.map({'W': 0, 'NW': 1})\n",
    "y_test = y_test.map({'W': 0, 'NW': 1})\n",
    "\n",
    "# numerical encode using the appropriate scaler\n",
    "wnw_sc = StandardScaler()\n",
    "X_train.iloc[:, 1:-2] = wnw_sc.fit_transform(X_train.iloc[:, 1:-2])\n",
    "X_test.iloc[:, 1:-2] = wnw_sc.transform(X_test.iloc[:, 1:-2])\n",
    "\n",
    "print(y_train.value_counts())\n",
    "print(y_test.value_counts())\n",
    "\n",
    "# train model\n",
    "rf_classifier.fit(X_train, y_train)\n",
    "\n",
    "# predict test set\n",
    "y_pred = rf_classifier.predict(X_test)"
   ]
  },
  {
   "cell_type": "code",
   "execution_count": 84,
   "id": "e68aa8cc",
   "metadata": {},
   "outputs": [
    {
     "data": {
      "image/png": "[encoded data removed]",
      "text/plain": [
       "<Figure size 200x200 with 2 Axes>"
      ]
     },
     "metadata": {},
     "output_type": "display_data"
    }
   ],
   "source": [
    "from sklearn.metrics import ConfusionMatrixDisplay, confusion_matrix\n",
    "\n",
    "# Plot the confusion matrix\n",
    "fig, ax = plt.subplots(figsize=(2, 2))\n",
    "\n",
    "# Create the matrix\n",
    "cm = confusion_matrix(y_test, y_pred)\n",
    "cmp = ConfusionMatrixDisplay(cm, display_labels=['W', 'NW'])\n",
    "cmp.plot(ax=ax)\n",
    "\n",
    "plt.show()"
   ]
  },
  {
   "cell_type": "code",
   "execution_count": 85,
   "id": "5f15bc6f",
   "metadata": {},
   "outputs": [
    {
     "name": "stdout",
     "output_type": "stream",
     "text": [
      "Accuracy on Test Set: 0.6727272727272727\n",
      "ROC score on Test Set: 0.7448703703703704\n",
      "\n",
      "              precision    recall  f1-score   support\n",
      "\n",
      "           0       0.70      0.49      0.58       300\n",
      "           1       0.66      0.82      0.73       360\n",
      "\n",
      "    accuracy                           0.67       660\n",
      "   macro avg       0.68      0.66      0.66       660\n",
      "weighted avg       0.68      0.67      0.66       660\n",
      "\n"
     ]
    }
   ],
   "source": [
    "from sklearn.metrics import classification_report, accuracy_score, roc_auc_score\n",
    "\n",
    "# Calculate Accuracy\n",
    "print('Accuracy on Test Set:', accuracy_score(y_test, y_pred))\n",
    "\n",
    "# Calculate ROC_AUC\n",
    "y_pred_probs = rf_classifier.predict_proba(X_test)[:, 1]\n",
    "# y_pred_probs = rf_classifier.predict_proba(X_test)\n",
    "print('ROC score on Test Set:', roc_auc_score(y_test, y_pred_probs))\n",
    "\n",
    "# Get Classification Report\n",
    "print()\n",
    "print(classification_report(y_test, y_pred, zero_division=0))"
   ]
  },
  {
   "cell_type": "markdown",
   "id": "5694b7c6",
   "metadata": {},
   "source": [
    "### Logistic Regression"
   ]
  },
  {
   "cell_type": "markdown",
   "id": "699c5e65",
   "metadata": {},
   "source": [
    "#### Hyperparameter Tuning using Fold 1"
   ]
  },
  {
   "cell_type": "code",
   "execution_count": 9,
   "id": "0df19be3",
   "metadata": {},
   "outputs": [
    {
     "name": "stdout",
     "output_type": "stream",
     "text": [
      "Fitting 5 folds for each of 40 candidates, totalling 200 fits\n",
      "{'C': 0.03359818286283781, 'penalty': 'l1', 'solver': 'liblinear'}\n"
     ]
    }
   ],
   "source": [
    "# data splitting\n",
    "train_set = pd.read_csv(f'./fold-1/train.csv')\n",
    "test_set = pd.read_csv(f'./fold-1/test.csv')\n",
    "\n",
    "X_train = train_set.loc[:, selected_features]\n",
    "y_train = train_set.iloc[:, -1]\n",
    "X_test = test_set.loc[:, selected_features]\n",
    "y_test = test_set.iloc[:, -1]\n",
    "\n",
    "# label encode train_set & test_set 'Venue' & 'Result'\n",
    "X_train['Referee'] = referee_le.transform(X_train['Referee'])\n",
    "X_test['Referee'] = referee_le.transform(X_test['Referee'])\n",
    "\n",
    "X_train['Venue'] = venue_le.transform(X_train['Venue'])\n",
    "X_test['Venue'] = venue_le.transform(X_test['Venue'])\n",
    "\n",
    "y_train = y_train.map({'W': 0, 'NW': 1})\n",
    "y_test = y_test.map({'W': 0, 'NW': 1})\n",
    "\n",
    "# numerical encode using the appropriate scaler\n",
    "wnw_sc = StandardScaler()\n",
    "X_train.iloc[:, 1:-2] = wnw_sc.fit_transform(X_train.iloc[:, 1:-2])\n",
    "X_test.iloc[:, 1:-2] = wnw_sc.transform(X_test.iloc[:, 1:-2])\n",
    "\n",
    "classifier = LogisticRegression(random_state = 0)\n",
    "param_grid = {\n",
    "    'penalty' : ['l1', 'l2'],\n",
    "    'C' : np.logspace(-4, 4, 20),\n",
    "    'solver' : ['liblinear']\n",
    "}\n",
    "# lr_classifier = GridSearchCV(estimator=classifier, param_grid=param_grid, cv=5, verbose=1, scoring='f1_macro') \n",
    "lr_classifier = GridSearchCV(estimator=classifier, param_grid=param_grid, cv=5, verbose=1, scoring='accuracy') \n",
    "lr_classifier.fit(X_train, y_train)\n",
    "\n",
    "# get the best parameters\n",
    "print(lr_classifier.best_params_)"
   ]
  },
  {
   "cell_type": "markdown",
   "id": "29ea60f2",
   "metadata": {},
   "source": [
    "#### Fold 1"
   ]
  },
  {
   "cell_type": "code",
   "execution_count": 86,
   "id": "993e49d2",
   "metadata": {},
   "outputs": [
    {
     "name": "stdout",
     "output_type": "stream",
     "text": [
      "1    1440\n",
      "0    1197\n",
      "Name: Result, dtype: int64\n",
      "1    361\n",
      "0    299\n",
      "Name: Result, dtype: int64\n"
     ]
    }
   ],
   "source": [
    "# logistic regression\n",
    "lr_classifier = LogisticRegression(C=0.0336, penalty='l1', solver='liblinear', random_state = 0)\n",
    "\n",
    "# data splitting\n",
    "train_set = pd.read_csv(f'./fold-1/train.csv')\n",
    "test_set = pd.read_csv(f'./fold-1/test.csv')\n",
    "\n",
    "X_train = train_set.loc[:, selected_features]\n",
    "y_train = train_set.iloc[:, -1]\n",
    "X_test = test_set.loc[:, selected_features]\n",
    "y_test = test_set.iloc[:, -1]\n",
    "\n",
    "# label encode train_set & test_set 'Venue' & 'Result'\n",
    "X_train['Referee'] = referee_le.transform(X_train['Referee'])\n",
    "X_test['Referee'] = referee_le.transform(X_test['Referee'])\n",
    "\n",
    "X_train['Venue'] = venue_le.transform(X_train['Venue'])\n",
    "X_test['Venue'] = venue_le.transform(X_test['Venue'])\n",
    "\n",
    "y_train = y_train.map({'W': 0, 'NW': 1})\n",
    "y_test = y_test.map({'W': 0, 'NW': 1})\n",
    "\n",
    "# numerical encode using the appropriate scaler\n",
    "wnw_sc = StandardScaler()\n",
    "X_train.iloc[:, 1:-2] = wnw_sc.fit_transform(X_train.iloc[:, 1:-2])\n",
    "X_test.iloc[:, 1:-2] = wnw_sc.transform(X_test.iloc[:, 1:-2])\n",
    "\n",
    "print(y_train.value_counts())\n",
    "print(y_test.value_counts())\n",
    "\n",
    "# train model\n",
    "lr_classifier.fit(X_train, y_train)\n",
    "\n",
    "# predict test set\n",
    "y_pred = lr_classifier.predict(X_test)"
   ]
  },
  {
   "cell_type": "code",
   "execution_count": 87,
   "id": "8abaa64b",
   "metadata": {},
   "outputs": [
    {
     "data": {
      "image/png": "[encoded data removed]",
      "text/plain": [
       "<Figure size 200x200 with 2 Axes>"
      ]
     },
     "metadata": {},
     "output_type": "display_data"
    }
   ],
   "source": [
    "from sklearn.metrics import ConfusionMatrixDisplay, confusion_matrix\n",
    "\n",
    "# Plot the confusion matrix\n",
    "fig, ax = plt.subplots(figsize=(2, 2))\n",
    "\n",
    "# Create the matrix\n",
    "cm = confusion_matrix(y_test, y_pred)\n",
    "cmp = ConfusionMatrixDisplay(cm, display_labels=['W', 'NW'])\n",
    "cmp.plot(ax=ax)\n",
    "\n",
    "plt.show()"
   ]
  },
  {
   "cell_type": "code",
   "execution_count": 88,
   "id": "18e8278b",
   "metadata": {},
   "outputs": [
    {
     "name": "stdout",
     "output_type": "stream",
     "text": [
      "Accuracy on Test Set: 0.6515151515151515\n",
      "ROC score on Test Set: 0.711874299372794\n",
      "\n",
      "              precision    recall  f1-score   support\n",
      "\n",
      "           0       0.63      0.57      0.60       299\n",
      "           1       0.67      0.72      0.69       361\n",
      "\n",
      "    accuracy                           0.65       660\n",
      "   macro avg       0.65      0.64      0.65       660\n",
      "weighted avg       0.65      0.65      0.65       660\n",
      "\n"
     ]
    }
   ],
   "source": [
    "from sklearn.metrics import classification_report, accuracy_score, roc_auc_score\n",
    "\n",
    "# Calculate Accuracy\n",
    "print('Accuracy on Test Set:', accuracy_score(y_test, y_pred))\n",
    "\n",
    "# Calculate ROC_AUC\n",
    "y_pred_probs = lr_classifier.predict_proba(X_test)[:, 1]\n",
    "print('ROC score on Test Set:', roc_auc_score(y_test, y_pred_probs))\n",
    "\n",
    "# Get Classification Report\n",
    "print()\n",
    "print(classification_report(y_test, y_pred, zero_division=0))"
   ]
  },
  {
   "cell_type": "markdown",
   "id": "497edd6e",
   "metadata": {},
   "source": [
    "#### Fold 2"
   ]
  },
  {
   "cell_type": "code",
   "execution_count": 89,
   "id": "f1c8a474",
   "metadata": {},
   "outputs": [
    {
     "name": "stdout",
     "output_type": "stream",
     "text": [
      "1    1441\n",
      "0    1197\n",
      "Name: Result, dtype: int64\n",
      "1    360\n",
      "0    299\n",
      "Name: Result, dtype: int64\n"
     ]
    }
   ],
   "source": [
    "# logistic regression\n",
    "lr_classifier = LogisticRegression(C=0.0336, penalty='l1', solver='liblinear', random_state = 0)\n",
    "            \n",
    "# data splitting\n",
    "train_set = pd.read_csv(f'./fold-2/train.csv')\n",
    "test_set = pd.read_csv(f'./fold-2/test.csv')\n",
    "\n",
    "X_train = train_set.loc[:, selected_features]\n",
    "y_train = train_set.iloc[:, -1]\n",
    "X_test = test_set.loc[:, selected_features]\n",
    "y_test = test_set.iloc[:, -1]\n",
    "\n",
    "# label encode train_set & test_set 'Venue' & 'Result'\n",
    "X_train['Referee'] = referee_le.transform(X_train['Referee'])\n",
    "X_test['Referee'] = referee_le.transform(X_test['Referee'])\n",
    "\n",
    "X_train['Venue'] = venue_le.transform(X_train['Venue'])\n",
    "X_test['Venue'] = venue_le.transform(X_test['Venue'])\n",
    "\n",
    "y_train = y_train.map({'W': 0, 'NW': 1})\n",
    "y_test = y_test.map({'W': 0, 'NW': 1})\n",
    "\n",
    "# numerical encode using the appropriate scaler\n",
    "wnw_sc = StandardScaler()\n",
    "X_train.iloc[:, 1:-2] = wnw_sc.fit_transform(X_train.iloc[:, 1:-2])\n",
    "X_test.iloc[:, 1:-2] = wnw_sc.transform(X_test.iloc[:, 1:-2])\n",
    "\n",
    "print(y_train.value_counts())\n",
    "print(y_test.value_counts())\n",
    "\n",
    "# train model\n",
    "lr_classifier.fit(X_train, y_train)\n",
    "\n",
    "# predict test set\n",
    "y_pred = lr_classifier.predict(X_test)"
   ]
  },
  {
   "cell_type": "code",
   "execution_count": 90,
   "id": "effd285e",
   "metadata": {},
   "outputs": [
    {
     "data": {
      "image/png": "[encoded data removed]",
      "text/plain": [
       "<Figure size 200x200 with 2 Axes>"
      ]
     },
     "metadata": {},
     "output_type": "display_data"
    }
   ],
   "source": [
    "from sklearn.metrics import ConfusionMatrixDisplay, confusion_matrix\n",
    "\n",
    "# Plot the confusion matrix\n",
    "fig, ax = plt.subplots(figsize=(2, 2))\n",
    "\n",
    "# Create the matrix\n",
    "cm = confusion_matrix(y_test, y_pred)\n",
    "cmp = ConfusionMatrixDisplay(cm, display_labels=['W', 'NW'])\n",
    "cmp.plot(ax=ax)\n",
    "\n",
    "plt.show()"
   ]
  },
  {
   "cell_type": "code",
   "execution_count": 91,
   "id": "395d37fb",
   "metadata": {},
   "outputs": [
    {
     "name": "stdout",
     "output_type": "stream",
     "text": [
      "Accuracy on Test Set: 0.6251896813353566\n",
      "ROC score on Test Set: 0.6785488665923449\n",
      "\n",
      "              precision    recall  f1-score   support\n",
      "\n",
      "           0       0.60      0.54      0.57       299\n",
      "           1       0.65      0.70      0.67       360\n",
      "\n",
      "    accuracy                           0.63       659\n",
      "   macro avg       0.62      0.62      0.62       659\n",
      "weighted avg       0.62      0.63      0.62       659\n",
      "\n"
     ]
    }
   ],
   "source": [
    "from sklearn.metrics import classification_report, accuracy_score, roc_auc_score\n",
    "\n",
    "# Calculate Accuracy\n",
    "print('Accuracy on Test Set:', accuracy_score(y_test, y_pred))\n",
    "\n",
    "# Calculate ROC_AUC\n",
    "y_pred_probs = lr_classifier.predict_proba(X_test)[:, 1]\n",
    "print('ROC score on Test Set:', roc_auc_score(y_test, y_pred_probs))\n",
    "\n",
    "# Get Classification Report\n",
    "print()\n",
    "print(classification_report(y_test, y_pred, zero_division=0))"
   ]
  },
  {
   "cell_type": "markdown",
   "id": "eced4e17",
   "metadata": {},
   "source": [
    "#### Fold 3"
   ]
  },
  {
   "cell_type": "code",
   "execution_count": 92,
   "id": "520c963f",
   "metadata": {},
   "outputs": [
    {
     "name": "stdout",
     "output_type": "stream",
     "text": [
      "1    1441\n",
      "0    1197\n",
      "Name: Result, dtype: int64\n",
      "1    360\n",
      "0    299\n",
      "Name: Result, dtype: int64\n"
     ]
    }
   ],
   "source": [
    "# logistic regression\n",
    "lr_classifier = LogisticRegression(C=0.0336, penalty='l1', solver='liblinear', random_state = 0)\n",
    "            \n",
    "# data splitting\n",
    "train_set = pd.read_csv(f'./fold-3/train.csv')\n",
    "test_set = pd.read_csv(f'./fold-3/test.csv')\n",
    "\n",
    "X_train = train_set.loc[:, selected_features]\n",
    "y_train = train_set.iloc[:, -1]\n",
    "X_test = test_set.loc[:, selected_features]\n",
    "y_test = test_set.iloc[:, -1]\n",
    "\n",
    "# label encode train_set & test_set 'Venue' & 'Result'\n",
    "X_train['Referee'] = referee_le.transform(X_train['Referee'])\n",
    "X_test['Referee'] = referee_le.transform(X_test['Referee'])\n",
    "\n",
    "X_train['Venue'] = venue_le.transform(X_train['Venue'])\n",
    "X_test['Venue'] = venue_le.transform(X_test['Venue'])\n",
    "\n",
    "y_train = y_train.map({'W': 0, 'NW': 1})\n",
    "y_test = y_test.map({'W': 0, 'NW': 1})\n",
    "\n",
    "# numerical encode using the appropriate scaler\n",
    "wnw_sc = StandardScaler()\n",
    "X_train.iloc[:, 1:-2] = wnw_sc.fit_transform(X_train.iloc[:, 1:-2])\n",
    "X_test.iloc[:, 1:-2] = wnw_sc.transform(X_test.iloc[:, 1:-2])\n",
    "\n",
    "print(y_train.value_counts())\n",
    "print(y_test.value_counts())\n",
    "\n",
    "# train model\n",
    "lr_classifier.fit(X_train, y_train)\n",
    "\n",
    "# predict test set\n",
    "y_pred = lr_classifier.predict(X_test)"
   ]
  },
  {
   "cell_type": "code",
   "execution_count": 93,
   "id": "f0f707a4",
   "metadata": {},
   "outputs": [
    {
     "data": {
      "image/png": "[encoded data removed]",
      "text/plain": [
       "<Figure size 200x200 with 2 Axes>"
      ]
     },
     "metadata": {},
     "output_type": "display_data"
    }
   ],
   "source": [
    "from sklearn.metrics import ConfusionMatrixDisplay, confusion_matrix\n",
    "\n",
    "# Plot the confusion matrix\n",
    "fig, ax = plt.subplots(figsize=(2, 2))\n",
    "\n",
    "# Create the matrix\n",
    "cm = confusion_matrix(y_test, y_pred)\n",
    "cmp = ConfusionMatrixDisplay(cm, display_labels=['W', 'NW'])\n",
    "cmp.plot(ax=ax)\n",
    "\n",
    "plt.show()"
   ]
  },
  {
   "cell_type": "code",
   "execution_count": 94,
   "id": "76f8c16c",
   "metadata": {},
   "outputs": [
    {
     "name": "stdout",
     "output_type": "stream",
     "text": [
      "Accuracy on Test Set: 0.644916540212443\n",
      "ROC score on Test Set: 0.693998513563731\n",
      "\n",
      "              precision    recall  f1-score   support\n",
      "\n",
      "           0       0.63      0.52      0.57       299\n",
      "           1       0.65      0.75      0.70       360\n",
      "\n",
      "    accuracy                           0.64       659\n",
      "   macro avg       0.64      0.63      0.63       659\n",
      "weighted avg       0.64      0.64      0.64       659\n",
      "\n"
     ]
    }
   ],
   "source": [
    "from sklearn.metrics import classification_report, accuracy_score, roc_auc_score\n",
    "\n",
    "# Calculate Accuracy\n",
    "print('Accuracy on Test Set:', accuracy_score(y_test, y_pred))\n",
    "\n",
    "# Calculate ROC_AUC\n",
    "y_pred_probs = lr_classifier.predict_proba(X_test)[:, 1]\n",
    "print('ROC score on Test Set:', roc_auc_score(y_test, y_pred_probs))\n",
    "\n",
    "# Get Classification Report\n",
    "print()\n",
    "print(classification_report(y_test, y_pred, zero_division=0))"
   ]
  },
  {
   "cell_type": "markdown",
   "id": "84cb6f2d",
   "metadata": {},
   "source": [
    "#### Fold 4"
   ]
  },
  {
   "cell_type": "code",
   "execution_count": 95,
   "id": "92bbd7df",
   "metadata": {},
   "outputs": [
    {
     "name": "stdout",
     "output_type": "stream",
     "text": [
      "1    1441\n",
      "0    1197\n",
      "Name: Result, dtype: int64\n",
      "1    360\n",
      "0    299\n",
      "Name: Result, dtype: int64\n"
     ]
    }
   ],
   "source": [
    "# logistic regression\n",
    "lr_classifier = LogisticRegression(C=0.0336, penalty='l1', solver='liblinear', random_state = 0)\n",
    "            \n",
    "# data splitting\n",
    "train_set = pd.read_csv(f'./fold-4/train.csv')\n",
    "test_set = pd.read_csv(f'./fold-4/test.csv')\n",
    "\n",
    "X_train = train_set.loc[:, selected_features]\n",
    "y_train = train_set.iloc[:, -1]\n",
    "X_test = test_set.loc[:, selected_features]\n",
    "y_test = test_set.iloc[:, -1]\n",
    "\n",
    "# label encode train_set & test_set 'Venue' & 'Result'\n",
    "X_train['Referee'] = referee_le.transform(X_train['Referee'])\n",
    "X_test['Referee'] = referee_le.transform(X_test['Referee'])\n",
    "\n",
    "X_train['Venue'] = venue_le.transform(X_train['Venue'])\n",
    "X_test['Venue'] = venue_le.transform(X_test['Venue'])\n",
    "\n",
    "y_train = y_train.map({'W': 0, 'NW': 1})\n",
    "y_test = y_test.map({'W': 0, 'NW': 1})\n",
    "\n",
    "# numerical encode using the appropriate scaler\n",
    "wnw_sc = StandardScaler()\n",
    "X_train.iloc[:, 1:-2] = wnw_sc.fit_transform(X_train.iloc[:, 1:-2])\n",
    "X_test.iloc[:, 1:-2] = wnw_sc.transform(X_test.iloc[:, 1:-2])\n",
    "\n",
    "print(y_train.value_counts())\n",
    "print(y_test.value_counts())\n",
    "\n",
    "# train model\n",
    "lr_classifier.fit(X_train, y_train)\n",
    "\n",
    "# predict test set\n",
    "y_pred = lr_classifier.predict(X_test)"
   ]
  },
  {
   "cell_type": "code",
   "execution_count": 96,
   "id": "9b7f9d9d",
   "metadata": {},
   "outputs": [
    {
     "data": {
      "image/png": "[encoded data removed]",
      "text/plain": [
       "<Figure size 200x200 with 2 Axes>"
      ]
     },
     "metadata": {},
     "output_type": "display_data"
    }
   ],
   "source": [
    "from sklearn.metrics import ConfusionMatrixDisplay, confusion_matrix\n",
    "\n",
    "# Plot the confusion matrix\n",
    "fig, ax = plt.subplots(figsize=(2, 2))\n",
    "\n",
    "# Create the matrix\n",
    "cm = confusion_matrix(y_test, y_pred)\n",
    "cmp = ConfusionMatrixDisplay(cm, display_labels=['W', 'NW'])\n",
    "cmp.plot(ax=ax)\n",
    "\n",
    "plt.show()"
   ]
  },
  {
   "cell_type": "code",
   "execution_count": 97,
   "id": "f3fc46e3",
   "metadata": {},
   "outputs": [
    {
     "name": "stdout",
     "output_type": "stream",
     "text": [
      "Accuracy on Test Set: 0.6646433990895296\n",
      "ROC score on Test Set: 0.7108695652173913\n",
      "\n",
      "              precision    recall  f1-score   support\n",
      "\n",
      "           0       0.64      0.59      0.61       299\n",
      "           1       0.68      0.73      0.70       360\n",
      "\n",
      "    accuracy                           0.66       659\n",
      "   macro avg       0.66      0.66      0.66       659\n",
      "weighted avg       0.66      0.66      0.66       659\n",
      "\n"
     ]
    }
   ],
   "source": [
    "from sklearn.metrics import classification_report, accuracy_score, roc_auc_score\n",
    "\n",
    "# Calculate Accuracy\n",
    "print('Accuracy on Test Set:', accuracy_score(y_test, y_pred))\n",
    "\n",
    "# Calculate ROC_AUC\n",
    "y_pred_probs = lr_classifier.predict_proba(X_test)[:, 1]\n",
    "print('ROC score on Test Set:', roc_auc_score(y_test, y_pred_probs))\n",
    "\n",
    "# Get Classification Report\n",
    "print()\n",
    "print(classification_report(y_test, y_pred, zero_division=0))"
   ]
  },
  {
   "cell_type": "markdown",
   "id": "e1c0b91b",
   "metadata": {},
   "source": [
    "#### Fold 5"
   ]
  },
  {
   "cell_type": "code",
   "execution_count": 98,
   "id": "5a469298",
   "metadata": {},
   "outputs": [
    {
     "name": "stdout",
     "output_type": "stream",
     "text": [
      "1    1441\n",
      "0    1196\n",
      "Name: Result, dtype: int64\n",
      "1    360\n",
      "0    300\n",
      "Name: Result, dtype: int64\n"
     ]
    }
   ],
   "source": [
    "# logistic regression\n",
    "lr_classifier = LogisticRegression(C=0.0336, penalty='l1', solver='liblinear', random_state = 0)\n",
    "            \n",
    "# data splitting\n",
    "train_set = pd.read_csv(f'./fold-5/train.csv')\n",
    "test_set = pd.read_csv(f'./fold-5/test.csv')\n",
    "\n",
    "X_train = train_set.loc[:, selected_features]\n",
    "y_train = train_set.iloc[:, -1]\n",
    "X_test = test_set.loc[:, selected_features]\n",
    "y_test = test_set.iloc[:, -1]\n",
    "\n",
    "# label encode train_set & test_set 'Venue' & 'Result'\n",
    "X_train['Referee'] = referee_le.transform(X_train['Referee'])\n",
    "X_test['Referee'] = referee_le.transform(X_test['Referee'])\n",
    "\n",
    "X_train['Venue'] = venue_le.transform(X_train['Venue'])\n",
    "X_test['Venue'] = venue_le.transform(X_test['Venue'])\n",
    "\n",
    "y_train = y_train.map({'W': 0, 'NW': 1})\n",
    "y_test = y_test.map({'W': 0, 'NW': 1})\n",
    "\n",
    "# numerical encode using the appropriate scaler\n",
    "wnw_sc = StandardScaler()\n",
    "X_train.iloc[:, 1:-2] = wnw_sc.fit_transform(X_train.iloc[:, 1:-2])\n",
    "X_test.iloc[:, 1:-2] = wnw_sc.transform(X_test.iloc[:, 1:-2])\n",
    "\n",
    "print(y_train.value_counts())\n",
    "print(y_test.value_counts())\n",
    "\n",
    "# train model\n",
    "lr_classifier.fit(X_train, y_train)\n",
    "\n",
    "# predict test set\n",
    "y_pred = lr_classifier.predict(X_test)"
   ]
  },
  {
   "cell_type": "code",
   "execution_count": 99,
   "id": "f6088b5d",
   "metadata": {},
   "outputs": [
    {
     "data": {
      "image/png": "[encoded data removed]",
      "text/plain": [
       "<Figure size 200x200 with 2 Axes>"
      ]
     },
     "metadata": {},
     "output_type": "display_data"
    }
   ],
   "source": [
    "from sklearn.metrics import ConfusionMatrixDisplay, confusion_matrix\n",
    "\n",
    "# Plot the confusion matrix\n",
    "fig, ax = plt.subplots(figsize=(2, 2))\n",
    "\n",
    "# Create the matrix\n",
    "cm = confusion_matrix(y_test, y_pred)\n",
    "cmp = ConfusionMatrixDisplay(cm, display_labels=['W', 'NW'])\n",
    "cmp.plot(ax=ax)\n",
    "\n",
    "plt.show()"
   ]
  },
  {
   "cell_type": "code",
   "execution_count": 100,
   "id": "3f192bc6",
   "metadata": {},
   "outputs": [
    {
     "name": "stdout",
     "output_type": "stream",
     "text": [
      "Accuracy on Test Set: 0.6772727272727272\n",
      "ROC score on Test Set: 0.7378703703703704\n",
      "\n",
      "              precision    recall  f1-score   support\n",
      "\n",
      "           0       0.68      0.55      0.61       300\n",
      "           1       0.68      0.78      0.73       360\n",
      "\n",
      "    accuracy                           0.68       660\n",
      "   macro avg       0.68      0.67      0.67       660\n",
      "weighted avg       0.68      0.68      0.67       660\n",
      "\n"
     ]
    }
   ],
   "source": [
    "from sklearn.metrics import classification_report, accuracy_score, roc_auc_score\n",
    "\n",
    "# Calculate Accuracy\n",
    "print('Accuracy on Test Set:', accuracy_score(y_test, y_pred))\n",
    "\n",
    "# Calculate ROC_AUC\n",
    "y_pred_probs = lr_classifier.predict_proba(X_test)[:, 1]\n",
    "print('ROC score on Test Set:', roc_auc_score(y_test, y_pred_probs))\n",
    "\n",
    "# Get Classification Report\n",
    "print()\n",
    "print(classification_report(y_test, y_pred, zero_division=0))"
   ]
  },
  {
   "cell_type": "markdown",
   "id": "761b48ed",
   "metadata": {},
   "source": [
    "### SVM Classifier"
   ]
  },
  {
   "cell_type": "markdown",
   "id": "53593b95",
   "metadata": {},
   "source": [
    "#### Hyperparameter Tuning using Fold 1"
   ]
  },
  {
   "cell_type": "code",
   "execution_count": 8,
   "id": "6e14a62d",
   "metadata": {},
   "outputs": [
    {
     "name": "stdout",
     "output_type": "stream",
     "text": [
      "Fitting 5 folds for each of 90 candidates, totalling 450 fits\n",
      "{'C': 1, 'tol': 1e-300}\n"
     ]
    }
   ],
   "source": [
    "# data splitting\n",
    "train_set = pd.read_csv(f'./fold-1/train.csv')\n",
    "test_set = pd.read_csv(f'./fold-1/test.csv')\n",
    "\n",
    "X_train = train_set.loc[:, selected_features]\n",
    "y_train = train_set.iloc[:, -1]\n",
    "X_test = test_set.loc[:, selected_features]\n",
    "y_test = test_set.iloc[:, -1]\n",
    "\n",
    "# label encode train_set & test_set 'Venue' & 'Result'\n",
    "X_train['Referee'] = referee_le.transform(X_train['Referee'])\n",
    "X_test['Referee'] = referee_le.transform(X_test['Referee'])\n",
    "\n",
    "X_train['Venue'] = venue_le.transform(X_train['Venue'])\n",
    "X_test['Venue'] = venue_le.transform(X_test['Venue'])\n",
    "\n",
    "y_train = y_train.map({'W': 0, 'NW': 1})\n",
    "y_test = y_test.map({'W': 0, 'NW': 1})\n",
    "\n",
    "# numerical encode using the appropriate scaler\n",
    "wnw_sc = StandardScaler()\n",
    "X_train.iloc[:, 1:-2] = wnw_sc.fit_transform(X_train.iloc[:, 1:-2])\n",
    "X_test.iloc[:, 1:-2] = wnw_sc.transform(X_test.iloc[:, 1:-2])\n",
    "\n",
    "classifier = LinearSVC(random_state = 0, dual=False)\n",
    "param_grid = {\n",
    "    'C': [1e-50, 1e-30, 1e-20, 1e-10, 1e-5, 1e-1, 1, 100, 1000], \n",
    "    'tol': [1e-300, 1e-200, 1e-100, 1e-50, 1e-30, 1e-20, 1e-10, 1e-5, 1e-1, 1],\n",
    "}\n",
    "# svc_classifier = GridSearchCV(estimator=classifier, param_grid=param_grid, cv=5, verbose=1, scoring='f1_macro') \n",
    "svc_classifier = GridSearchCV(estimator=classifier, param_grid=param_grid, cv=5, verbose=1, scoring='accuracy') \n",
    "svc_classifier.fit(X_train, y_train)\n",
    "\n",
    "# get the best parameters\n",
    "print(svc_classifier.best_params_)"
   ]
  },
  {
   "cell_type": "markdown",
   "id": "ec660050",
   "metadata": {},
   "source": [
    "#### Fold 1"
   ]
  },
  {
   "cell_type": "code",
   "execution_count": 101,
   "id": "5c9218eb",
   "metadata": {},
   "outputs": [
    {
     "name": "stdout",
     "output_type": "stream",
     "text": [
      "1    1440\n",
      "0    1197\n",
      "Name: Result, dtype: int64\n",
      "1    361\n",
      "0    299\n",
      "Name: Result, dtype: int64\n"
     ]
    }
   ],
   "source": [
    "# Linear SVC\n",
    "svc_classifier = CalibratedClassifierCV(LinearSVC(C=1, tol=1e-300, random_state=0, dual=False))\n",
    "\n",
    "# data splitting\n",
    "train_set = pd.read_csv(f'./fold-1/train.csv')\n",
    "test_set = pd.read_csv(f'./fold-1/test.csv')\n",
    "\n",
    "X_train = train_set.loc[:, selected_features]\n",
    "y_train = train_set.iloc[:, -1]\n",
    "X_test = test_set.loc[:, selected_features]\n",
    "y_test = test_set.iloc[:, -1]\n",
    "\n",
    "# label encode train_set & test_set 'Venue' & 'Result'\n",
    "X_train['Referee'] = referee_le.transform(X_train['Referee'])\n",
    "X_test['Referee'] = referee_le.transform(X_test['Referee'])\n",
    "\n",
    "X_train['Venue'] = venue_le.transform(X_train['Venue'])\n",
    "X_test['Venue'] = venue_le.transform(X_test['Venue'])\n",
    "\n",
    "y_train = y_train.map({'W': 0, 'NW': 1})\n",
    "y_test = y_test.map({'W': 0, 'NW': 1})\n",
    "\n",
    "# numerical encode using the appropriate scaler\n",
    "wnw_sc = StandardScaler()\n",
    "X_train.iloc[:, 1:-2] = wnw_sc.fit_transform(X_train.iloc[:, 1:-2])\n",
    "X_test.iloc[:, 1:-2] = wnw_sc.transform(X_test.iloc[:, 1:-2])\n",
    "\n",
    "print(y_train.value_counts())\n",
    "print(y_test.value_counts())\n",
    "\n",
    "# train model\n",
    "svc_classifier.fit(X_train, y_train)\n",
    "\n",
    "# predict test set\n",
    "y_pred = svc_classifier.predict(X_test)"
   ]
  },
  {
   "cell_type": "code",
   "execution_count": 102,
   "id": "2e2e573f",
   "metadata": {},
   "outputs": [
    {
     "data": {
      "image/png": "[encoded data removed]",
      "text/plain": [
       "<Figure size 200x200 with 2 Axes>"
      ]
     },
     "metadata": {},
     "output_type": "display_data"
    }
   ],
   "source": [
    "from sklearn.metrics import ConfusionMatrixDisplay, confusion_matrix\n",
    "\n",
    "# Plot the confusion matrix\n",
    "fig, ax = plt.subplots(figsize=(2, 2))\n",
    "\n",
    "# Create the matrix\n",
    "cm = confusion_matrix(y_test, y_pred)\n",
    "cmp = ConfusionMatrixDisplay(cm, display_labels=['W', 'NW'])\n",
    "cmp.plot(ax=ax)\n",
    "\n",
    "plt.show()"
   ]
  },
  {
   "cell_type": "code",
   "execution_count": 103,
   "id": "a8bc715b",
   "metadata": {},
   "outputs": [
    {
     "name": "stdout",
     "output_type": "stream",
     "text": [
      "Accuracy on Test Set: 0.6545454545454545\n",
      "ROC score on Test Set: 0.7133751470738103\n",
      "\n",
      "              precision    recall  f1-score   support\n",
      "\n",
      "           0       0.63      0.58      0.60       299\n",
      "           1       0.67      0.71      0.69       361\n",
      "\n",
      "    accuracy                           0.65       660\n",
      "   macro avg       0.65      0.65      0.65       660\n",
      "weighted avg       0.65      0.65      0.65       660\n",
      "\n"
     ]
    }
   ],
   "source": [
    "from sklearn.metrics import classification_report, accuracy_score, roc_auc_score\n",
    "\n",
    "# Calculate Accuracy\n",
    "print('Accuracy on Test Set:', accuracy_score(y_test, y_pred))\n",
    "\n",
    "# Calculate ROC_AUC\n",
    "y_pred_probs = svc_classifier.predict_proba(X_test)[:, 1]\n",
    "print('ROC score on Test Set:', roc_auc_score(y_test, y_pred_probs))\n",
    "\n",
    "# Get Classification Report\n",
    "print()\n",
    "print(classification_report(y_test, y_pred, zero_division=0))"
   ]
  },
  {
   "cell_type": "markdown",
   "id": "b2c8f574",
   "metadata": {},
   "source": [
    "#### Fold 2"
   ]
  },
  {
   "cell_type": "code",
   "execution_count": 104,
   "id": "529ff7a0",
   "metadata": {},
   "outputs": [
    {
     "name": "stdout",
     "output_type": "stream",
     "text": [
      "1    1441\n",
      "0    1197\n",
      "Name: Result, dtype: int64\n",
      "1    360\n",
      "0    299\n",
      "Name: Result, dtype: int64\n"
     ]
    }
   ],
   "source": [
    "# Linear SVC\n",
    "svc_classifier = CalibratedClassifierCV(LinearSVC(C=1, tol=1e-300, random_state=0, dual=False))\n",
    "            \n",
    "# data splitting\n",
    "train_set = pd.read_csv(f'./fold-2/train.csv')\n",
    "test_set = pd.read_csv(f'./fold-2/test.csv')\n",
    "\n",
    "X_train = train_set.loc[:, selected_features]\n",
    "y_train = train_set.iloc[:, -1]\n",
    "X_test = test_set.loc[:, selected_features]\n",
    "y_test = test_set.iloc[:, -1]\n",
    "\n",
    "# label encode train_set & test_set 'Venue' & 'Result'\n",
    "X_train['Referee'] = referee_le.transform(X_train['Referee'])\n",
    "X_test['Referee'] = referee_le.transform(X_test['Referee'])\n",
    "\n",
    "X_train['Venue'] = venue_le.transform(X_train['Venue'])\n",
    "X_test['Venue'] = venue_le.transform(X_test['Venue'])\n",
    "\n",
    "y_train = y_train.map({'W': 0, 'NW': 1})\n",
    "y_test = y_test.map({'W': 0, 'NW': 1})\n",
    "\n",
    "# numerical encode using the appropriate scaler\n",
    "wnw_sc = StandardScaler()\n",
    "X_train.iloc[:, 1:-2] = wnw_sc.fit_transform(X_train.iloc[:, 1:-2])\n",
    "X_test.iloc[:, 1:-2] = wnw_sc.transform(X_test.iloc[:, 1:-2])\n",
    "\n",
    "print(y_train.value_counts())\n",
    "print(y_test.value_counts())\n",
    "\n",
    "# train model\n",
    "svc_classifier.fit(X_train, y_train)\n",
    "\n",
    "# predict test set\n",
    "y_pred = svc_classifier.predict(X_test)"
   ]
  },
  {
   "cell_type": "code",
   "execution_count": 105,
   "id": "5442184f",
   "metadata": {},
   "outputs": [
    {
     "data": {
      "image/png": "[encoded data removed]",
      "text/plain": [
       "<Figure size 200x200 with 2 Axes>"
      ]
     },
     "metadata": {},
     "output_type": "display_data"
    }
   ],
   "source": [
    "from sklearn.metrics import ConfusionMatrixDisplay, confusion_matrix\n",
    "\n",
    "# Plot the confusion matrix\n",
    "fig, ax = plt.subplots(figsize=(2, 2))\n",
    "\n",
    "# Create the matrix\n",
    "cm = confusion_matrix(y_test, y_pred)\n",
    "cmp = ConfusionMatrixDisplay(cm, display_labels=['W', 'NW'])\n",
    "cmp.plot(ax=ax)\n",
    "\n",
    "plt.show()"
   ]
  },
  {
   "cell_type": "code",
   "execution_count": 106,
   "id": "fd3d8561",
   "metadata": {},
   "outputs": [
    {
     "name": "stdout",
     "output_type": "stream",
     "text": [
      "Accuracy on Test Set: 0.629742033383915\n",
      "ROC score on Test Set: 0.68173541434411\n",
      "\n",
      "              precision    recall  f1-score   support\n",
      "\n",
      "           0       0.60      0.53      0.57       299\n",
      "           1       0.65      0.71      0.68       360\n",
      "\n",
      "    accuracy                           0.63       659\n",
      "   macro avg       0.63      0.62      0.62       659\n",
      "weighted avg       0.63      0.63      0.63       659\n",
      "\n"
     ]
    }
   ],
   "source": [
    "from sklearn.metrics import classification_report, accuracy_score, roc_auc_score\n",
    "\n",
    "# Calculate Accuracy\n",
    "print('Accuracy on Test Set:', accuracy_score(y_test, y_pred))\n",
    "\n",
    "# Calculate ROC_AUC\n",
    "y_pred_probs = svc_classifier.predict_proba(X_test)[:, 1]\n",
    "print('ROC score on Test Set:', roc_auc_score(y_test, y_pred_probs))\n",
    "\n",
    "# Get Classification Report\n",
    "print()\n",
    "print(classification_report(y_test, y_pred, zero_division=0))"
   ]
  },
  {
   "cell_type": "markdown",
   "id": "2662013e",
   "metadata": {},
   "source": [
    "#### Fold 3"
   ]
  },
  {
   "cell_type": "code",
   "execution_count": 107,
   "id": "3fbabe39",
   "metadata": {},
   "outputs": [
    {
     "name": "stdout",
     "output_type": "stream",
     "text": [
      "1    1441\n",
      "0    1197\n",
      "Name: Result, dtype: int64\n",
      "1    360\n",
      "0    299\n",
      "Name: Result, dtype: int64\n"
     ]
    }
   ],
   "source": [
    "# Linear SVC\n",
    "svc_classifier = CalibratedClassifierCV(LinearSVC(C=1, tol=1e-300, random_state=0, dual=False))\n",
    "            \n",
    "# data splitting\n",
    "train_set = pd.read_csv(f'./fold-3/train.csv')\n",
    "test_set = pd.read_csv(f'./fold-3/test.csv')\n",
    "\n",
    "X_train = train_set.loc[:, selected_features]\n",
    "y_train = train_set.iloc[:, -1]\n",
    "X_test = test_set.loc[:, selected_features]\n",
    "y_test = test_set.iloc[:, -1]\n",
    "\n",
    "# label encode train_set & test_set 'Venue' & 'Result'\n",
    "X_train['Referee'] = referee_le.transform(X_train['Referee'])\n",
    "X_test['Referee'] = referee_le.transform(X_test['Referee'])\n",
    "\n",
    "X_train['Venue'] = venue_le.transform(X_train['Venue'])\n",
    "X_test['Venue'] = venue_le.transform(X_test['Venue'])\n",
    "\n",
    "y_train = y_train.map({'W': 0, 'NW': 1})\n",
    "y_test = y_test.map({'W': 0, 'NW': 1})\n",
    "\n",
    "# numerical encode using the appropriate scaler\n",
    "wnw_sc = StandardScaler()\n",
    "X_train.iloc[:, 1:-2] = wnw_sc.fit_transform(X_train.iloc[:, 1:-2])\n",
    "X_test.iloc[:, 1:-2] = wnw_sc.transform(X_test.iloc[:, 1:-2])\n",
    "\n",
    "print(y_train.value_counts())\n",
    "print(y_test.value_counts())\n",
    "\n",
    "# train model\n",
    "svc_classifier.fit(X_train, y_train)\n",
    "\n",
    "# predict test set\n",
    "y_pred = svc_classifier.predict(X_test)"
   ]
  },
  {
   "cell_type": "code",
   "execution_count": 108,
   "id": "076d5d88",
   "metadata": {},
   "outputs": [
    {
     "data": {
      "image/png": "[encoded data removed]",
      "text/plain": [
       "<Figure size 200x200 with 2 Axes>"
      ]
     },
     "metadata": {},
     "output_type": "display_data"
    }
   ],
   "source": [
    "from sklearn.metrics import ConfusionMatrixDisplay, confusion_matrix\n",
    "\n",
    "# Plot the confusion matrix\n",
    "fig, ax = plt.subplots(figsize=(2, 2))\n",
    "\n",
    "# Create the matrix\n",
    "cm = confusion_matrix(y_test, y_pred)\n",
    "cmp = ConfusionMatrixDisplay(cm, display_labels=['W', 'NW'])\n",
    "cmp.plot(ax=ax)\n",
    "\n",
    "plt.show()"
   ]
  },
  {
   "cell_type": "code",
   "execution_count": 109,
   "id": "5c6b0076",
   "metadata": {},
   "outputs": [
    {
     "name": "stdout",
     "output_type": "stream",
     "text": [
      "Accuracy on Test Set: 0.644916540212443\n",
      "ROC score on Test Set: 0.6943050910442214\n",
      "\n",
      "              precision    recall  f1-score   support\n",
      "\n",
      "           0       0.63      0.53      0.58       299\n",
      "           1       0.66      0.74      0.69       360\n",
      "\n",
      "    accuracy                           0.64       659\n",
      "   macro avg       0.64      0.64      0.64       659\n",
      "weighted avg       0.64      0.64      0.64       659\n",
      "\n"
     ]
    }
   ],
   "source": [
    "from sklearn.metrics import classification_report, accuracy_score, roc_auc_score\n",
    "\n",
    "# Calculate Accuracy\n",
    "print('Accuracy on Test Set:', accuracy_score(y_test, y_pred))\n",
    "\n",
    "# Calculate ROC_AUC\n",
    "y_pred_probs = svc_classifier.predict_proba(X_test)[:, 1]\n",
    "print('ROC score on Test Set:', roc_auc_score(y_test, y_pred_probs))\n",
    "\n",
    "# Get Classification Report\n",
    "print()\n",
    "print(classification_report(y_test, y_pred, zero_division=0))"
   ]
  },
  {
   "cell_type": "markdown",
   "id": "fc5fca29",
   "metadata": {},
   "source": [
    "#### Fold 4"
   ]
  },
  {
   "cell_type": "code",
   "execution_count": 110,
   "id": "3528491e",
   "metadata": {},
   "outputs": [
    {
     "name": "stdout",
     "output_type": "stream",
     "text": [
      "1    1441\n",
      "0    1197\n",
      "Name: Result, dtype: int64\n",
      "1    360\n",
      "0    299\n",
      "Name: Result, dtype: int64\n"
     ]
    }
   ],
   "source": [
    "# Linear SVC\n",
    "svc_classifier = CalibratedClassifierCV(LinearSVC(C=1, tol=1e-300, random_state=0, dual=False))\n",
    "            \n",
    "# data splitting\n",
    "train_set = pd.read_csv(f'./fold-4/train.csv')\n",
    "test_set = pd.read_csv(f'./fold-4/test.csv')\n",
    "\n",
    "X_train = train_set.loc[:, selected_features]\n",
    "y_train = train_set.iloc[:, -1]\n",
    "X_test = test_set.loc[:, selected_features]\n",
    "y_test = test_set.iloc[:, -1]\n",
    "\n",
    "# label encode train_set & test_set 'Venue' & 'Result'\n",
    "X_train['Referee'] = referee_le.transform(X_train['Referee'])\n",
    "X_test['Referee'] = referee_le.transform(X_test['Referee'])\n",
    "\n",
    "X_train['Venue'] = venue_le.transform(X_train['Venue'])\n",
    "X_test['Venue'] = venue_le.transform(X_test['Venue'])\n",
    "\n",
    "y_train = y_train.map({'W': 0, 'NW': 1})\n",
    "y_test = y_test.map({'W': 0, 'NW': 1})\n",
    "\n",
    "# numerical encode using the appropriate scaler\n",
    "wnw_sc = StandardScaler()\n",
    "X_train.iloc[:, 1:-2] = wnw_sc.fit_transform(X_train.iloc[:, 1:-2])\n",
    "X_test.iloc[:, 1:-2] = wnw_sc.transform(X_test.iloc[:, 1:-2])\n",
    "\n",
    "print(y_train.value_counts())\n",
    "print(y_test.value_counts())\n",
    "\n",
    "# train model\n",
    "svc_classifier.fit(X_train, y_train)\n",
    "\n",
    "# predict test set\n",
    "y_pred = svc_classifier.predict(X_test)"
   ]
  },
  {
   "cell_type": "code",
   "execution_count": 111,
   "id": "3969f8a6",
   "metadata": {},
   "outputs": [
    {
     "data": {
      "image/png": "[encoded data removed]",
      "text/plain": [
       "<Figure size 200x200 with 2 Axes>"
      ]
     },
     "metadata": {},
     "output_type": "display_data"
    }
   ],
   "source": [
    "from sklearn.metrics import ConfusionMatrixDisplay, confusion_matrix\n",
    "\n",
    "# Plot the confusion matrix\n",
    "fig, ax = plt.subplots(figsize=(2, 2))\n",
    "\n",
    "# Create the matrix\n",
    "cm = confusion_matrix(y_test, y_pred)\n",
    "cmp = ConfusionMatrixDisplay(cm, display_labels=['W', 'NW'])\n",
    "cmp.plot(ax=ax)\n",
    "\n",
    "plt.show()"
   ]
  },
  {
   "cell_type": "code",
   "execution_count": 112,
   "id": "9706f7e1",
   "metadata": {},
   "outputs": [
    {
     "name": "stdout",
     "output_type": "stream",
     "text": [
      "Accuracy on Test Set: 0.6767830045523521\n",
      "ROC score on Test Set: 0.7130806391675957\n",
      "\n",
      "              precision    recall  f1-score   support\n",
      "\n",
      "           0       0.66      0.59      0.62       299\n",
      "           1       0.69      0.75      0.72       360\n",
      "\n",
      "    accuracy                           0.68       659\n",
      "   macro avg       0.67      0.67      0.67       659\n",
      "weighted avg       0.68      0.68      0.67       659\n",
      "\n"
     ]
    }
   ],
   "source": [
    "from sklearn.metrics import classification_report, accuracy_score, roc_auc_score\n",
    "\n",
    "# Calculate Accuracy\n",
    "print('Accuracy on Test Set:', accuracy_score(y_test, y_pred))\n",
    "\n",
    "# Calculate ROC_AUC\n",
    "y_pred_probs = svc_classifier.predict_proba(X_test)[:, 1]\n",
    "print('ROC score on Test Set:', roc_auc_score(y_test, y_pred_probs))\n",
    "\n",
    "# Get Classification Report\n",
    "print()\n",
    "print(classification_report(y_test, y_pred, zero_division=0))"
   ]
  },
  {
   "cell_type": "markdown",
   "id": "eb1392e8",
   "metadata": {},
   "source": [
    "#### Fold 5"
   ]
  },
  {
   "cell_type": "code",
   "execution_count": 113,
   "id": "9d50dda5",
   "metadata": {},
   "outputs": [
    {
     "name": "stdout",
     "output_type": "stream",
     "text": [
      "1    1441\n",
      "0    1196\n",
      "Name: Result, dtype: int64\n",
      "1    360\n",
      "0    300\n",
      "Name: Result, dtype: int64\n"
     ]
    }
   ],
   "source": [
    "# Linear SVC\n",
    "svc_classifier = CalibratedClassifierCV(LinearSVC(C=1, tol=1e-300, random_state=0, dual=False))\n",
    "            \n",
    "# data splitting\n",
    "train_set = pd.read_csv(f'./fold-5/train.csv')\n",
    "test_set = pd.read_csv(f'./fold-5/test.csv')\n",
    "\n",
    "X_train = train_set.loc[:, selected_features]\n",
    "y_train = train_set.iloc[:, -1]\n",
    "X_test = test_set.loc[:, selected_features]\n",
    "y_test = test_set.iloc[:, -1]\n",
    "\n",
    "# label encode train_set & test_set 'Venue' & 'Result'\n",
    "X_train['Referee'] = referee_le.transform(X_train['Referee'])\n",
    "X_test['Referee'] = referee_le.transform(X_test['Referee'])\n",
    "\n",
    "X_train['Venue'] = venue_le.transform(X_train['Venue'])\n",
    "X_test['Venue'] = venue_le.transform(X_test['Venue'])\n",
    "\n",
    "y_train = y_train.map({'W': 0, 'NW': 1})\n",
    "y_test = y_test.map({'W': 0, 'NW': 1})\n",
    "\n",
    "# numerical encode using the appropriate scaler\n",
    "wnw_sc = StandardScaler()\n",
    "X_train.iloc[:, 1:-2] = wnw_sc.fit_transform(X_train.iloc[:, 1:-2])\n",
    "X_test.iloc[:, 1:-2] = wnw_sc.transform(X_test.iloc[:, 1:-2])\n",
    "\n",
    "print(y_train.value_counts())\n",
    "print(y_test.value_counts())\n",
    "\n",
    "# train model\n",
    "svc_classifier.fit(X_train, y_train)\n",
    "\n",
    "# predict test set\n",
    "y_pred = svc_classifier.predict(X_test)"
   ]
  },
  {
   "cell_type": "code",
   "execution_count": 114,
   "id": "9fdfefd3",
   "metadata": {},
   "outputs": [
    {
     "data": {
      "image/png": "[encoded data removed]",
      "text/plain": [
       "<Figure size 200x200 with 2 Axes>"
      ]
     },
     "metadata": {},
     "output_type": "display_data"
    }
   ],
   "source": [
    "from sklearn.metrics import ConfusionMatrixDisplay, confusion_matrix\n",
    "\n",
    "# Plot the confusion matrix\n",
    "fig, ax = plt.subplots(figsize=(2, 2))\n",
    "\n",
    "# Create the matrix\n",
    "cm = confusion_matrix(y_test, y_pred)\n",
    "cmp = ConfusionMatrixDisplay(cm, display_labels=['W', 'NW'])\n",
    "cmp.plot(ax=ax)\n",
    "\n",
    "plt.show()"
   ]
  },
  {
   "cell_type": "code",
   "execution_count": 115,
   "id": "5b9f3ad2",
   "metadata": {},
   "outputs": [
    {
     "name": "stdout",
     "output_type": "stream",
     "text": [
      "Accuracy on Test Set: 0.6727272727272727\n",
      "ROC score on Test Set: 0.7326481481481482\n",
      "\n",
      "              precision    recall  f1-score   support\n",
      "\n",
      "           0       0.67      0.55      0.60       300\n",
      "           1       0.67      0.78      0.72       360\n",
      "\n",
      "    accuracy                           0.67       660\n",
      "   macro avg       0.67      0.66      0.66       660\n",
      "weighted avg       0.67      0.67      0.67       660\n",
      "\n"
     ]
    }
   ],
   "source": [
    "from sklearn.metrics import classification_report, accuracy_score, roc_auc_score\n",
    "\n",
    "# Calculate Accuracy\n",
    "print('Accuracy on Test Set:', accuracy_score(y_test, y_pred))\n",
    "\n",
    "# Calculate ROC_AUC\n",
    "y_pred_probs = svc_classifier.predict_proba(X_test)[:, 1]\n",
    "print('ROC score on Test Set:', roc_auc_score(y_test, y_pred_probs))\n",
    "\n",
    "# Get Classification Report\n",
    "print()\n",
    "print(classification_report(y_test, y_pred, zero_division=0))"
   ]
  },
  {
   "cell_type": "markdown",
   "id": "de5833b3",
   "metadata": {},
   "source": [
    "### XGBoost Classifier"
   ]
  },
  {
   "cell_type": "markdown",
   "id": "f62d1424",
   "metadata": {},
   "source": [
    "#### Hyperparameter Tuning using Fold 1"
   ]
  },
  {
   "cell_type": "code",
   "execution_count": 7,
   "id": "7a79ef75",
   "metadata": {},
   "outputs": [
    {
     "name": "stdout",
     "output_type": "stream",
     "text": [
      "Fitting 5 folds for each of 96 candidates, totalling 480 fits\n",
      "{'learning_rate': 0.01, 'max_depth': 6, 'n_estimators': 60}\n"
     ]
    }
   ],
   "source": [
    "# data splitting\n",
    "train_set = pd.read_csv(f'./fold-1/train.csv')\n",
    "test_set = pd.read_csv(f'./fold-1/test.csv')\n",
    "\n",
    "X_train = train_set.loc[:, selected_features]\n",
    "y_train = train_set.iloc[:, -1]\n",
    "X_test = test_set.loc[:, selected_features]\n",
    "y_test = test_set.iloc[:, -1]\n",
    "\n",
    "# label encode train_set & test_set 'Venue' & 'Result'\n",
    "X_train['Referee'] = referee_le.transform(X_train['Referee'])\n",
    "X_test['Referee'] = referee_le.transform(X_test['Referee'])\n",
    "\n",
    "X_train['Venue'] = venue_le.transform(X_train['Venue'])\n",
    "X_test['Venue'] = venue_le.transform(X_test['Venue'])\n",
    "\n",
    "y_train = y_train.map({'W': 0, 'NW': 1})\n",
    "y_test = y_test.map({'W': 0, 'NW': 1})\n",
    "\n",
    "# numerical encode using the appropriate scaler\n",
    "wnw_sc = StandardScaler()\n",
    "X_train.iloc[:, 1:-2] = wnw_sc.fit_transform(X_train.iloc[:, 1:-2])\n",
    "X_test.iloc[:, 1:-2] = wnw_sc.transform(X_test.iloc[:, 1:-2])\n",
    "\n",
    "classifier = XGBClassifier()\n",
    "param_grid = {\n",
    "    'max_depth': range (2, 10, 1),\n",
    "    'n_estimators': range(60, 220, 40),\n",
    "    'learning_rate': [0.1, 0.01, 0.05]\n",
    "}\n",
    "# xgb_classifier = GridSearchCV(estimator=classifier, param_grid=param_grid, cv=5, verbose=1, scoring='f1_macro')\n",
    "xgb_classifier = GridSearchCV(estimator=classifier, param_grid=param_grid, cv=5, verbose=1, scoring='accuracy')\n",
    "xgb_classifier.fit(X_train, y_train)\n",
    "\n",
    "# get the best parameters\n",
    "print(xgb_classifier.best_params_)"
   ]
  },
  {
   "cell_type": "markdown",
   "id": "b2852529",
   "metadata": {},
   "source": [
    "#### Fold 1"
   ]
  },
  {
   "cell_type": "code",
   "execution_count": 116,
   "id": "8c4f1617",
   "metadata": {},
   "outputs": [
    {
     "name": "stdout",
     "output_type": "stream",
     "text": [
      "1    1440\n",
      "0    1197\n",
      "Name: Result, dtype: int64\n",
      "1    361\n",
      "0    299\n",
      "Name: Result, dtype: int64\n"
     ]
    }
   ],
   "source": [
    "# XGBoost regression\n",
    "xgb_classifier = XGBClassifier(learning_rate=0.01, max_depth=6, n_estimators=60)\n",
    "            \n",
    "# data splitting\n",
    "train_set = pd.read_csv(f'./fold-1/train.csv')\n",
    "test_set = pd.read_csv(f'./fold-1/test.csv')\n",
    "\n",
    "X_train = train_set.loc[:, selected_features]\n",
    "y_train = train_set.iloc[:, -1]\n",
    "X_test = test_set.loc[:, selected_features]\n",
    "y_test = test_set.iloc[:, -1]\n",
    "\n",
    "# label encode train_set & test_set 'Venue' & 'Result'\n",
    "X_train['Referee'] = referee_le.transform(X_train['Referee'])\n",
    "X_test['Referee'] = referee_le.transform(X_test['Referee'])\n",
    "\n",
    "X_train['Venue'] = venue_le.transform(X_train['Venue'])\n",
    "X_test['Venue'] = venue_le.transform(X_test['Venue'])\n",
    "\n",
    "y_train = y_train.map({'W': 0, 'NW': 1})\n",
    "y_test = y_test.map({'W': 0, 'NW': 1})\n",
    "\n",
    "# numerical encode using the appropriate scaler\n",
    "wnw_sc = StandardScaler()\n",
    "X_train.iloc[:, 1:-2] = wnw_sc.fit_transform(X_train.iloc[:, 1:-2])\n",
    "X_test.iloc[:, 1:-2] = wnw_sc.transform(X_test.iloc[:, 1:-2])\n",
    "\n",
    "print(y_train.value_counts())\n",
    "print(y_test.value_counts())\n",
    "\n",
    "# train model\n",
    "xgb_classifier.fit(X_train, y_train)\n",
    "\n",
    "# predict test set\n",
    "y_pred = xgb_classifier.predict(X_test)"
   ]
  },
  {
   "cell_type": "code",
   "execution_count": 117,
   "id": "77ac5d0b",
   "metadata": {},
   "outputs": [
    {
     "data": {
      "image/png": "[encoded data removed]",
      "text/plain": [
       "<Figure size 200x200 with 2 Axes>"
      ]
     },
     "metadata": {},
     "output_type": "display_data"
    }
   ],
   "source": [
    "from sklearn.metrics import ConfusionMatrixDisplay, confusion_matrix\n",
    "\n",
    "# Plot the confusion matrix\n",
    "fig, ax = plt.subplots(figsize=(2, 2))\n",
    "\n",
    "# Create the matrix\n",
    "cm = confusion_matrix(y_test, y_pred)\n",
    "cmp = ConfusionMatrixDisplay(cm, display_labels=['W', 'NW'])\n",
    "cmp.plot(ax=ax)\n",
    "\n",
    "plt.show()"
   ]
  },
  {
   "cell_type": "code",
   "execution_count": 118,
   "id": "c87b09e4",
   "metadata": {},
   "outputs": [
    {
     "name": "stdout",
     "output_type": "stream",
     "text": [
      "Accuracy on Test Set: 0.6257575757575757\n",
      "ROC score on Test Set: 0.6722083769536498\n",
      "\n",
      "              precision    recall  f1-score   support\n",
      "\n",
      "           0       0.61      0.47      0.53       299\n",
      "           1       0.63      0.75      0.69       361\n",
      "\n",
      "    accuracy                           0.63       660\n",
      "   macro avg       0.62      0.61      0.61       660\n",
      "weighted avg       0.62      0.63      0.62       660\n",
      "\n"
     ]
    }
   ],
   "source": [
    "from sklearn.metrics import classification_report, accuracy_score, roc_auc_score\n",
    "\n",
    "# Calculate Accuracy\n",
    "print('Accuracy on Test Set:', accuracy_score(y_test, y_pred))\n",
    "\n",
    "# Calculate ROC_AUC\n",
    "y_pred_probs = xgb_classifier.predict_proba(X_test)[:, 1]\n",
    "print('ROC score on Test Set:', roc_auc_score(y_test, y_pred_probs))\n",
    "\n",
    "# Get Classification Report\n",
    "print()\n",
    "print(classification_report(y_test, y_pred, zero_division=0))"
   ]
  },
  {
   "cell_type": "markdown",
   "id": "a3e60eb5",
   "metadata": {},
   "source": [
    "#### Fold 2"
   ]
  },
  {
   "cell_type": "code",
   "execution_count": 119,
   "id": "5d35cae9",
   "metadata": {},
   "outputs": [
    {
     "name": "stdout",
     "output_type": "stream",
     "text": [
      "1    1441\n",
      "0    1197\n",
      "Name: Result, dtype: int64\n",
      "1    360\n",
      "0    299\n",
      "Name: Result, dtype: int64\n"
     ]
    }
   ],
   "source": [
    "# XGBoost regression\n",
    "xgb_classifier = XGBClassifier(learning_rate=0.01, max_depth=6, n_estimators=60)\n",
    "            \n",
    "# data splitting\n",
    "train_set = pd.read_csv(f'./fold-2/train.csv')\n",
    "test_set = pd.read_csv(f'./fold-2/test.csv')\n",
    "\n",
    "X_train = train_set.loc[:, selected_features]\n",
    "y_train = train_set.iloc[:, -1]\n",
    "X_test = test_set.loc[:, selected_features]\n",
    "y_test = test_set.iloc[:, -1]\n",
    "\n",
    "# label encode train_set & test_set 'Venue' & 'Result'\n",
    "X_train['Referee'] = referee_le.transform(X_train['Referee'])\n",
    "X_test['Referee'] = referee_le.transform(X_test['Referee'])\n",
    "\n",
    "X_train['Venue'] = venue_le.transform(X_train['Venue'])\n",
    "X_test['Venue'] = venue_le.transform(X_test['Venue'])\n",
    "\n",
    "y_train = y_train.map({'W': 0, 'NW': 1})\n",
    "y_test = y_test.map({'W': 0, 'NW': 1})\n",
    "\n",
    "# numerical encode using the appropriate scaler\n",
    "wnw_sc = StandardScaler()\n",
    "X_train.iloc[:, 1:-2] = wnw_sc.fit_transform(X_train.iloc[:, 1:-2])\n",
    "X_test.iloc[:, 1:-2] = wnw_sc.transform(X_test.iloc[:, 1:-2])\n",
    "\n",
    "print(y_train.value_counts())\n",
    "print(y_test.value_counts())\n",
    "\n",
    "# train model\n",
    "xgb_classifier.fit(X_train, y_train)\n",
    "\n",
    "# predict test set\n",
    "y_pred = xgb_classifier.predict(X_test)"
   ]
  },
  {
   "cell_type": "code",
   "execution_count": 120,
   "id": "3b5b4a86",
   "metadata": {},
   "outputs": [
    {
     "data": {
      "image/png": "[encoded data removed]",
      "text/plain": [
       "<Figure size 200x200 with 2 Axes>"
      ]
     },
     "metadata": {},
     "output_type": "display_data"
    }
   ],
   "source": [
    "from sklearn.metrics import ConfusionMatrixDisplay, confusion_matrix\n",
    "\n",
    "# Plot the confusion matrix\n",
    "fig, ax = plt.subplots(figsize=(2, 2))\n",
    "\n",
    "# Create the matrix\n",
    "cm = confusion_matrix(y_test, y_pred)\n",
    "cmp = ConfusionMatrixDisplay(cm, display_labels=['W', 'NW'])\n",
    "cmp.plot(ax=ax)\n",
    "\n",
    "plt.show()"
   ]
  },
  {
   "cell_type": "code",
   "execution_count": 121,
   "id": "6f2cce42",
   "metadata": {},
   "outputs": [
    {
     "name": "stdout",
     "output_type": "stream",
     "text": [
      "Accuracy on Test Set: 0.6388467374810318\n",
      "ROC score on Test Set: 0.6861296915644741\n",
      "\n",
      "              precision    recall  f1-score   support\n",
      "\n",
      "           0       0.62      0.54      0.58       299\n",
      "           1       0.65      0.72      0.69       360\n",
      "\n",
      "    accuracy                           0.64       659\n",
      "   macro avg       0.64      0.63      0.63       659\n",
      "weighted avg       0.64      0.64      0.64       659\n",
      "\n"
     ]
    }
   ],
   "source": [
    "from sklearn.metrics import classification_report, accuracy_score, roc_auc_score\n",
    "\n",
    "# Calculate Accuracy\n",
    "print('Accuracy on Test Set:', accuracy_score(y_test, y_pred))\n",
    "\n",
    "# Calculate ROC_AUC\n",
    "y_pred_probs = xgb_classifier.predict_proba(X_test)[:, 1]\n",
    "print('ROC score on Test Set:', roc_auc_score(y_test, y_pred_probs))\n",
    "\n",
    "# Get Classification Report\n",
    "print()\n",
    "print(classification_report(y_test, y_pred, zero_division=0))"
   ]
  },
  {
   "cell_type": "markdown",
   "id": "643f21e3",
   "metadata": {},
   "source": [
    "#### Fold 3"
   ]
  },
  {
   "cell_type": "code",
   "execution_count": 122,
   "id": "f7149c28",
   "metadata": {},
   "outputs": [
    {
     "name": "stdout",
     "output_type": "stream",
     "text": [
      "1    1441\n",
      "0    1197\n",
      "Name: Result, dtype: int64\n",
      "1    360\n",
      "0    299\n",
      "Name: Result, dtype: int64\n"
     ]
    }
   ],
   "source": [
    "# XGBoost regression\n",
    "xgb_classifier = XGBClassifier(learning_rate=0.01, max_depth=6, n_estimators=60)\n",
    "            \n",
    "# data splitting\n",
    "train_set = pd.read_csv(f'./fold-3/train.csv')\n",
    "test_set = pd.read_csv(f'./fold-3/test.csv')\n",
    "\n",
    "X_train = train_set.loc[:, selected_features]\n",
    "y_train = train_set.iloc[:, -1]\n",
    "X_test = test_set.loc[:, selected_features]\n",
    "y_test = test_set.iloc[:, -1]\n",
    "\n",
    "# label encode train_set & test_set 'Venue' & 'Result'\n",
    "X_train['Referee'] = referee_le.transform(X_train['Referee'])\n",
    "X_test['Referee'] = referee_le.transform(X_test['Referee'])\n",
    "\n",
    "X_train['Venue'] = venue_le.transform(X_train['Venue'])\n",
    "X_test['Venue'] = venue_le.transform(X_test['Venue'])\n",
    "\n",
    "y_train = y_train.map({'W': 0, 'NW': 1})\n",
    "y_test = y_test.map({'W': 0, 'NW': 1})\n",
    "\n",
    "# numerical encode using the appropriate scaler\n",
    "wnw_sc = StandardScaler()\n",
    "X_train.iloc[:, 1:-2] = wnw_sc.fit_transform(X_train.iloc[:, 1:-2])\n",
    "X_test.iloc[:, 1:-2] = wnw_sc.transform(X_test.iloc[:, 1:-2])\n",
    "\n",
    "print(y_train.value_counts())\n",
    "print(y_test.value_counts())\n",
    "\n",
    "# train model\n",
    "xgb_classifier.fit(X_train, y_train)\n",
    "\n",
    "# predict test set\n",
    "y_pred = xgb_classifier.predict(X_test)"
   ]
  },
  {
   "cell_type": "code",
   "execution_count": 123,
   "id": "25bfc55c",
   "metadata": {},
   "outputs": [
    {
     "data": {
      "image/png": "[encoded data removed]",
      "text/plain": [
       "<Figure size 200x200 with 2 Axes>"
      ]
     },
     "metadata": {},
     "output_type": "display_data"
    }
   ],
   "source": [
    "from sklearn.metrics import ConfusionMatrixDisplay, confusion_matrix\n",
    "\n",
    "# Plot the confusion matrix\n",
    "fig, ax = plt.subplots(figsize=(2, 2))\n",
    "\n",
    "# Create the matrix\n",
    "cm = confusion_matrix(y_test, y_pred)\n",
    "cmp = ConfusionMatrixDisplay(cm, display_labels=['W', 'NW'])\n",
    "cmp.plot(ax=ax)\n",
    "\n",
    "plt.show()"
   ]
  },
  {
   "cell_type": "code",
   "execution_count": 124,
   "id": "4b8c73ce",
   "metadata": {},
   "outputs": [
    {
     "name": "stdout",
     "output_type": "stream",
     "text": [
      "Accuracy on Test Set: 0.6236722306525038\n",
      "ROC score on Test Set: 0.6597918989223337\n",
      "\n",
      "              precision    recall  f1-score   support\n",
      "\n",
      "           0       0.61      0.46      0.53       299\n",
      "           1       0.63      0.76      0.69       360\n",
      "\n",
      "    accuracy                           0.62       659\n",
      "   macro avg       0.62      0.61      0.61       659\n",
      "weighted avg       0.62      0.62      0.61       659\n",
      "\n"
     ]
    }
   ],
   "source": [
    "from sklearn.metrics import classification_report, accuracy_score, roc_auc_score\n",
    "\n",
    "# Calculate Accuracy\n",
    "print('Accuracy on Test Set:', accuracy_score(y_test, y_pred))\n",
    "\n",
    "# Calculate ROC_AUC\n",
    "y_pred_probs = xgb_classifier.predict_proba(X_test)[:, 1]\n",
    "print('ROC score on Test Set:', roc_auc_score(y_test, y_pred_probs))\n",
    "\n",
    "# Get Classification Report\n",
    "print()\n",
    "print(classification_report(y_test, y_pred, zero_division=0))"
   ]
  },
  {
   "cell_type": "markdown",
   "id": "561209cb",
   "metadata": {},
   "source": [
    "#### Fold 4"
   ]
  },
  {
   "cell_type": "code",
   "execution_count": 125,
   "id": "02492175",
   "metadata": {},
   "outputs": [
    {
     "name": "stdout",
     "output_type": "stream",
     "text": [
      "1    1441\n",
      "0    1197\n",
      "Name: Result, dtype: int64\n",
      "1    360\n",
      "0    299\n",
      "Name: Result, dtype: int64\n"
     ]
    }
   ],
   "source": [
    "# XGBoost regression\n",
    "xgb_classifier = XGBClassifier(learning_rate=0.01, max_depth=6, n_estimators=60)\n",
    "            \n",
    "# data splitting\n",
    "train_set = pd.read_csv(f'./fold-4/train.csv')\n",
    "test_set = pd.read_csv(f'./fold-4/test.csv')\n",
    "\n",
    "X_train = train_set.loc[:, selected_features]\n",
    "y_train = train_set.iloc[:, -1]\n",
    "X_test = test_set.loc[:, selected_features]\n",
    "y_test = test_set.iloc[:, -1]\n",
    "\n",
    "# label encode train_set & test_set 'Venue' & 'Result'\n",
    "X_train['Referee'] = referee_le.transform(X_train['Referee'])\n",
    "X_test['Referee'] = referee_le.transform(X_test['Referee'])\n",
    "\n",
    "X_train['Venue'] = venue_le.transform(X_train['Venue'])\n",
    "X_test['Venue'] = venue_le.transform(X_test['Venue'])\n",
    "\n",
    "y_train = y_train.map({'W': 0, 'NW': 1})\n",
    "y_test = y_test.map({'W': 0, 'NW': 1})\n",
    "\n",
    "# numerical encode using the appropriate scaler\n",
    "wnw_sc = StandardScaler()\n",
    "X_train.iloc[:, 1:-2] = wnw_sc.fit_transform(X_train.iloc[:, 1:-2])\n",
    "X_test.iloc[:, 1:-2] = wnw_sc.transform(X_test.iloc[:, 1:-2])\n",
    "\n",
    "print(y_train.value_counts())\n",
    "print(y_test.value_counts())\n",
    "\n",
    "# train model\n",
    "xgb_classifier.fit(X_train, y_train)\n",
    "\n",
    "# predict test set\n",
    "y_pred = xgb_classifier.predict(X_test)"
   ]
  },
  {
   "cell_type": "code",
   "execution_count": 126,
   "id": "76e49d5d",
   "metadata": {},
   "outputs": [
    {
     "data": {
      "image/png": "[encoded data removed]",
      "text/plain": [
       "<Figure size 200x200 with 2 Axes>"
      ]
     },
     "metadata": {},
     "output_type": "display_data"
    }
   ],
   "source": [
    "from sklearn.metrics import ConfusionMatrixDisplay, confusion_matrix\n",
    "\n",
    "# Plot the confusion matrix\n",
    "fig, ax = plt.subplots(figsize=(2, 2))\n",
    "\n",
    "# Create the matrix\n",
    "cm = confusion_matrix(y_test, y_pred)\n",
    "cmp = ConfusionMatrixDisplay(cm, display_labels=['W', 'NW'])\n",
    "cmp.plot(ax=ax)\n",
    "\n",
    "plt.show()"
   ]
  },
  {
   "cell_type": "code",
   "execution_count": 127,
   "id": "b77de2b6",
   "metadata": {},
   "outputs": [
    {
     "name": "stdout",
     "output_type": "stream",
     "text": [
      "Accuracy on Test Set: 0.6494688922610015\n",
      "ROC score on Test Set: 0.6843088071348941\n",
      "\n",
      "              precision    recall  f1-score   support\n",
      "\n",
      "           0       0.63      0.55      0.59       299\n",
      "           1       0.66      0.73      0.70       360\n",
      "\n",
      "    accuracy                           0.65       659\n",
      "   macro avg       0.65      0.64      0.64       659\n",
      "weighted avg       0.65      0.65      0.65       659\n",
      "\n"
     ]
    }
   ],
   "source": [
    "from sklearn.metrics import classification_report, accuracy_score, roc_auc_score\n",
    "\n",
    "# Calculate Accuracy\n",
    "print('Accuracy on Test Set:', accuracy_score(y_test, y_pred))\n",
    "\n",
    "# Calculate ROC_AUC\n",
    "y_pred_probs = xgb_classifier.predict_proba(X_test)[:, 1]\n",
    "print('ROC score on Test Set:', roc_auc_score(y_test, y_pred_probs))\n",
    "\n",
    "# Get Classification Report\n",
    "print()\n",
    "print(classification_report(y_test, y_pred, zero_division=0))"
   ]
  },
  {
   "cell_type": "markdown",
   "id": "c37c4a3c",
   "metadata": {},
   "source": [
    "#### Fold 5"
   ]
  },
  {
   "cell_type": "code",
   "execution_count": 128,
   "id": "2ef29c0f",
   "metadata": {},
   "outputs": [
    {
     "name": "stdout",
     "output_type": "stream",
     "text": [
      "1    1441\n",
      "0    1196\n",
      "Name: Result, dtype: int64\n",
      "1    360\n",
      "0    300\n",
      "Name: Result, dtype: int64\n"
     ]
    }
   ],
   "source": [
    "# XGBoost regression\n",
    "xgb_classifier = XGBClassifier(learning_rate=0.01, max_depth=6, n_estimators=60)\n",
    "            \n",
    "# data splitting\n",
    "train_set = pd.read_csv(f'./fold-5/train.csv')\n",
    "test_set = pd.read_csv(f'./fold-5/test.csv')\n",
    "\n",
    "X_train = train_set.loc[:, selected_features]\n",
    "y_train = train_set.iloc[:, -1]\n",
    "X_test = test_set.loc[:, selected_features]\n",
    "y_test = test_set.iloc[:, -1]\n",
    "\n",
    "# label encode train_set & test_set 'Venue' & 'Result'\n",
    "X_train['Referee'] = referee_le.transform(X_train['Referee'])\n",
    "X_test['Referee'] = referee_le.transform(X_test['Referee'])\n",
    "\n",
    "X_train['Venue'] = venue_le.transform(X_train['Venue'])\n",
    "X_test['Venue'] = venue_le.transform(X_test['Venue'])\n",
    "\n",
    "y_train = y_train.map({'W': 0, 'NW': 1})\n",
    "y_test = y_test.map({'W': 0, 'NW': 1})\n",
    "\n",
    "# numerical encode using the appropriate scaler\n",
    "wnw_sc = StandardScaler()\n",
    "X_train.iloc[:, 1:-2] = wnw_sc.fit_transform(X_train.iloc[:, 1:-2])\n",
    "X_test.iloc[:, 1:-2] = wnw_sc.transform(X_test.iloc[:, 1:-2])\n",
    "\n",
    "print(y_train.value_counts())\n",
    "print(y_test.value_counts())\n",
    "\n",
    "# train model\n",
    "xgb_classifier.fit(X_train, y_train)\n",
    "\n",
    "# predict test set\n",
    "y_pred = xgb_classifier.predict(X_test)"
   ]
  },
  {
   "cell_type": "code",
   "execution_count": 129,
   "id": "b00ddfb4",
   "metadata": {},
   "outputs": [
    {
     "data": {
      "image/png": "[encoded data removed]",
      "text/plain": [
       "<Figure size 200x200 with 2 Axes>"
      ]
     },
     "metadata": {},
     "output_type": "display_data"
    }
   ],
   "source": [
    "from sklearn.metrics import ConfusionMatrixDisplay, confusion_matrix\n",
    "\n",
    "# Plot the confusion matrix\n",
    "fig, ax = plt.subplots(figsize=(2, 2))\n",
    "\n",
    "# Create the matrix\n",
    "cm = confusion_matrix(y_test, y_pred)\n",
    "cmp = ConfusionMatrixDisplay(cm, display_labels=['W', 'NW'])\n",
    "cmp.plot(ax=ax)\n",
    "\n",
    "plt.show()"
   ]
  },
  {
   "cell_type": "code",
   "execution_count": 130,
   "id": "a6a94b3a",
   "metadata": {},
   "outputs": [
    {
     "name": "stdout",
     "output_type": "stream",
     "text": [
      "Accuracy on Test Set: 0.6621212121212121\n",
      "ROC score on Test Set: 0.7160879629629631\n",
      "\n",
      "              precision    recall  f1-score   support\n",
      "\n",
      "           0       0.68      0.49      0.57       300\n",
      "           1       0.65      0.81      0.72       360\n",
      "\n",
      "    accuracy                           0.66       660\n",
      "   macro avg       0.67      0.65      0.65       660\n",
      "weighted avg       0.66      0.66      0.65       660\n",
      "\n"
     ]
    }
   ],
   "source": [
    "from sklearn.metrics import classification_report, accuracy_score, roc_auc_score\n",
    "\n",
    "# Calculate Accuracy\n",
    "print('Accuracy on Test Set:', accuracy_score(y_test, y_pred))\n",
    "\n",
    "# Calculate ROC_AUC\n",
    "y_pred_probs = xgb_classifier.predict_proba(X_test)[:, 1]\n",
    "print('ROC score on Test Set:', roc_auc_score(y_test, y_pred_probs))\n",
    "\n",
    "# Get Classification Report\n",
    "print()\n",
    "print(classification_report(y_test, y_pred, zero_division=0))"
   ]
  }
 ],
 "metadata": {
  "kernelspec": {
   "display_name": "Python 3 (ipykernel)",
   "language": "python",
   "name": "python3"
  },
  "language_info": {
   "codemirror_mode": {
    "name": "ipython",
    "version": 3
   },
   "file_extension": ".py",
   "mimetype": "text/x-python",
   "name": "python",
   "nbconvert_exporter": "python",
   "pygments_lexer": "ipython3",
   "version": "3.9.15"
  }
 },
 "nbformat": 4,
 "nbformat_minor": 5
}
