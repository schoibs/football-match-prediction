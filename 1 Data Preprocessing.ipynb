{
 "cells": [
  {
   "cell_type": "markdown",
   "id": "5c96b0a6",
   "metadata": {},
   "source": [
    "# Import Libraries"
   ]
  },
  {
   "cell_type": "code",
   "execution_count": 1,
   "id": "8fe0f855",
   "metadata": {},
   "outputs": [],
   "source": [
    "import pandas as pd\n",
    "import numpy as np\n",
    "\n",
    "import glob\n",
    "import os"
   ]
  },
  {
   "cell_type": "code",
   "execution_count": 2,
   "id": "4c88b580",
   "metadata": {},
   "outputs": [],
   "source": [
    "pd.set_option('display.max_columns', None)\n",
    "pd.set_option('display.max_rows', None)"
   ]
  },
  {
   "cell_type": "markdown",
   "id": "54161276",
   "metadata": {},
   "source": [
    "# Features to be used\n",
    "\n",
    "**Fatigue**\n",
    "- Days since last match (Done)\n",
    "\n",
    "**Home Team Form**\n",
    "- Goals difference of home team in the last x matches    \n",
    "- Goals difference of home team in the last x home matches    \n",
    "- Average number of points gained by home team in the last x matches\n",
    "- Number of home matches won by home team in its last x home matches\n",
    "- Home Team Win streak  \n",
    "- Home Team Newly Promoted Team?\n",
    "\n",
    "**Away Team Form**\n",
    "- Goals difference of away team in the last x matches  \n",
    "- Goals difference of away team in the last x away matches\n",
    "- Average number of points gained by away team in the last x matches\n",
    "- Number of away matches won by away team in its last x away matches\n",
    "- Away Team Win streak\n",
    "- Away Team Newly Promoted Team?\n",
    "\n",
    "**Home Team Performance Index**\n",
    "- Home Defense Performance Index\n",
    "- Home Midfield Performance Index\n",
    "- Home Attack Performance Index\n",
    "\n",
    "**Away Team Performance Index**\n",
    "- Away Defense Performance Index\n",
    "- Away Midfield Performance Index\n",
    "- Away Attack Performance Index\n",
    "\n",
    "**Betting Odds**\n",
    "- B365H (Done)\n",
    "- B365D (Done)\n",
    "- B365A (Done)"
   ]
  },
  {
   "cell_type": "markdown",
   "id": "3ef06566",
   "metadata": {},
   "source": [
    "# Data Preparation\n",
    "\n",
    "There are two main data sources for this project: \n",
    "- www.football-data.co.uk \n",
    "- www.fbref.com/en. \n",
    "\n",
    "Both of these two data sources provide match statistics data for Premier League matches. We will extract match statistics from both of these websites and integrate them into one DataFrame.\n",
    "\n",
    "First we create an empty DataFrame that will eventually contain the data integrated from the various data sources."
   ]
  },
  {
   "cell_type": "code",
   "execution_count": 3,
   "id": "0be0e8ec",
   "metadata": {},
   "outputs": [],
   "source": [
    "df = pd.DataFrame()"
   ]
  },
  {
   "cell_type": "markdown",
   "id": "bca16631",
   "metadata": {},
   "source": [
    "## Data Source 1\n",
    "\n",
    "www.football-data-co.uk"
   ]
  },
  {
   "cell_type": "code",
   "execution_count": 4,
   "id": "4cfac2d5",
   "metadata": {},
   "outputs": [],
   "source": [
    "# standardize the teams names across all datasets\n",
    "\n",
    "rename_teams = {'Arsenal': 'arsenal', 'Brighton': 'brighton', 'Chelsea': 'chelsea', 'Crystal Palace': 'palace', 'Everton': 'everton', \n",
    "                'Southampton': 'southampton', 'Watford': 'watford', 'West Brom': 'west-brom', 'Man United': 'united', 'Newcastle': 'newcastle',\n",
    "                'Bournemouth': 'bournemouth', 'Burnley': 'burnley', 'Leicester': 'leicester', 'Liverpool': 'liverpool', 'Stoke': 'stoke',\n",
    "                'Swansea': 'swansea', 'Huddersfield': 'huddersfield', 'Tottenham': 'tottenham', 'Man City': 'city', 'West Ham': 'west-ham',\n",
    "                'Fulham': 'fulham', 'Wolves': 'wolves', 'Cardiff': 'cardiff', 'Aston Villa': 'aston-villa', 'Norwich': 'norwich',\n",
    "                'Sheffield United': 'sheffield', 'Leeds': 'leeds', 'Brentford':'brentford'}"
   ]
  },
  {
   "cell_type": "code",
   "execution_count": 5,
   "id": "e6347835",
   "metadata": {},
   "outputs": [],
   "source": [
    "dataset1_df = pd.DataFrame()\n",
    "seasons = ['2017-2018', '2018-2019', '2019-2020', '2020-2021', '2021-2022']\n",
    "\n",
    "for season in seasons:\n",
    "    # read csv file for match statistics\n",
    "    temp_df = pd.read_csv(f'datasets/{season}/dataset1.csv')\n",
    "\n",
    "    # convert 'Date' column to datetime object\n",
    "    temp_df['Date'] =  pd.to_datetime(temp_df['Date'], format=\"%d/%m/%Y\")\n",
    "    \n",
    "    # rename team names in the 'HomeTeam' and 'AwayTeam' columns for standardized team names\n",
    "    temp_df['HomeTeam'] = temp_df['HomeTeam'].apply(lambda word : rename_teams[word])\n",
    "    temp_df['AwayTeam'] = temp_df['AwayTeam'].apply(lambda word : rename_teams[word])\n",
    "    \n",
    "    # concatenate temp_df to dataset1_df\n",
    "    if dataset1_df.empty:\n",
    "        dataset1_df = temp_df\n",
    "    else:\n",
    "        dataset1_df = pd.concat([dataset1_df, temp_df]).reset_index(drop=True)"
   ]
  },
  {
   "cell_type": "code",
   "execution_count": 6,
   "id": "7263a05a",
   "metadata": {},
   "outputs": [
    {
     "data": {
      "text/plain": [
       "(1900, 21)"
      ]
     },
     "execution_count": 6,
     "metadata": {},
     "output_type": "execute_result"
    }
   ],
   "source": [
    "# Make sure we have 5 seasons x 380 matches = 1900 matches in the DataFrame\n",
    "dataset1_df.shape"
   ]
  },
  {
   "cell_type": "code",
   "execution_count": 7,
   "id": "93bd0b57",
   "metadata": {
    "scrolled": true
   },
   "outputs": [
    {
     "data": {
      "text/html": [
       "<div>\n",
       "<style scoped>\n",
       "    .dataframe tbody tr th:only-of-type {\n",
       "        vertical-align: middle;\n",
       "    }\n",
       "\n",
       "    .dataframe tbody tr th {\n",
       "        vertical-align: top;\n",
       "    }\n",
       "\n",
       "    .dataframe thead th {\n",
       "        text-align: right;\n",
       "    }\n",
       "</style>\n",
       "<table border=\"1\" class=\"dataframe\">\n",
       "  <thead>\n",
       "    <tr style=\"text-align: right;\">\n",
       "      <th></th>\n",
       "      <th>Date</th>\n",
       "      <th>HomeTeam</th>\n",
       "      <th>AwayTeam</th>\n",
       "      <th>FTHG</th>\n",
       "      <th>FTAG</th>\n",
       "      <th>FTR</th>\n",
       "      <th>HS</th>\n",
       "      <th>AS</th>\n",
       "      <th>HST</th>\n",
       "      <th>AST</th>\n",
       "      <th>HF</th>\n",
       "      <th>AF</th>\n",
       "      <th>HC</th>\n",
       "      <th>AC</th>\n",
       "      <th>HY</th>\n",
       "      <th>AY</th>\n",
       "      <th>HR</th>\n",
       "      <th>AR</th>\n",
       "      <th>B365H</th>\n",
       "      <th>B365D</th>\n",
       "      <th>B365A</th>\n",
       "    </tr>\n",
       "  </thead>\n",
       "  <tbody>\n",
       "    <tr>\n",
       "      <th>0</th>\n",
       "      <td>2017-08-11</td>\n",
       "      <td>arsenal</td>\n",
       "      <td>leicester</td>\n",
       "      <td>4</td>\n",
       "      <td>3</td>\n",
       "      <td>H</td>\n",
       "      <td>27</td>\n",
       "      <td>6</td>\n",
       "      <td>10</td>\n",
       "      <td>3</td>\n",
       "      <td>9</td>\n",
       "      <td>12</td>\n",
       "      <td>9</td>\n",
       "      <td>4</td>\n",
       "      <td>0</td>\n",
       "      <td>1</td>\n",
       "      <td>0</td>\n",
       "      <td>0</td>\n",
       "      <td>1.53</td>\n",
       "      <td>4.5</td>\n",
       "      <td>6.50</td>\n",
       "    </tr>\n",
       "    <tr>\n",
       "      <th>1</th>\n",
       "      <td>2017-08-12</td>\n",
       "      <td>brighton</td>\n",
       "      <td>city</td>\n",
       "      <td>0</td>\n",
       "      <td>2</td>\n",
       "      <td>A</td>\n",
       "      <td>6</td>\n",
       "      <td>14</td>\n",
       "      <td>2</td>\n",
       "      <td>4</td>\n",
       "      <td>6</td>\n",
       "      <td>9</td>\n",
       "      <td>3</td>\n",
       "      <td>10</td>\n",
       "      <td>0</td>\n",
       "      <td>2</td>\n",
       "      <td>0</td>\n",
       "      <td>0</td>\n",
       "      <td>11.00</td>\n",
       "      <td>5.5</td>\n",
       "      <td>1.33</td>\n",
       "    </tr>\n",
       "    <tr>\n",
       "      <th>2</th>\n",
       "      <td>2017-08-12</td>\n",
       "      <td>chelsea</td>\n",
       "      <td>burnley</td>\n",
       "      <td>2</td>\n",
       "      <td>3</td>\n",
       "      <td>A</td>\n",
       "      <td>19</td>\n",
       "      <td>10</td>\n",
       "      <td>6</td>\n",
       "      <td>5</td>\n",
       "      <td>16</td>\n",
       "      <td>11</td>\n",
       "      <td>8</td>\n",
       "      <td>5</td>\n",
       "      <td>3</td>\n",
       "      <td>3</td>\n",
       "      <td>2</td>\n",
       "      <td>0</td>\n",
       "      <td>1.25</td>\n",
       "      <td>6.5</td>\n",
       "      <td>15.00</td>\n",
       "    </tr>\n",
       "    <tr>\n",
       "      <th>3</th>\n",
       "      <td>2017-08-12</td>\n",
       "      <td>palace</td>\n",
       "      <td>huddersfield</td>\n",
       "      <td>0</td>\n",
       "      <td>3</td>\n",
       "      <td>A</td>\n",
       "      <td>14</td>\n",
       "      <td>8</td>\n",
       "      <td>4</td>\n",
       "      <td>6</td>\n",
       "      <td>7</td>\n",
       "      <td>19</td>\n",
       "      <td>12</td>\n",
       "      <td>9</td>\n",
       "      <td>1</td>\n",
       "      <td>3</td>\n",
       "      <td>0</td>\n",
       "      <td>0</td>\n",
       "      <td>1.83</td>\n",
       "      <td>3.6</td>\n",
       "      <td>5.00</td>\n",
       "    </tr>\n",
       "    <tr>\n",
       "      <th>4</th>\n",
       "      <td>2017-08-12</td>\n",
       "      <td>everton</td>\n",
       "      <td>stoke</td>\n",
       "      <td>1</td>\n",
       "      <td>0</td>\n",
       "      <td>H</td>\n",
       "      <td>9</td>\n",
       "      <td>9</td>\n",
       "      <td>4</td>\n",
       "      <td>1</td>\n",
       "      <td>13</td>\n",
       "      <td>10</td>\n",
       "      <td>6</td>\n",
       "      <td>7</td>\n",
       "      <td>1</td>\n",
       "      <td>1</td>\n",
       "      <td>0</td>\n",
       "      <td>0</td>\n",
       "      <td>1.70</td>\n",
       "      <td>3.8</td>\n",
       "      <td>5.75</td>\n",
       "    </tr>\n",
       "  </tbody>\n",
       "</table>\n",
       "</div>"
      ],
      "text/plain": [
       "        Date  HomeTeam      AwayTeam  FTHG  FTAG FTR  HS  AS  HST  AST  HF  \\\n",
       "0 2017-08-11   arsenal     leicester     4     3   H  27   6   10    3   9   \n",
       "1 2017-08-12  brighton          city     0     2   A   6  14    2    4   6   \n",
       "2 2017-08-12   chelsea       burnley     2     3   A  19  10    6    5  16   \n",
       "3 2017-08-12    palace  huddersfield     0     3   A  14   8    4    6   7   \n",
       "4 2017-08-12   everton         stoke     1     0   H   9   9    4    1  13   \n",
       "\n",
       "   AF  HC  AC  HY  AY  HR  AR  B365H  B365D  B365A  \n",
       "0  12   9   4   0   1   0   0   1.53    4.5   6.50  \n",
       "1   9   3  10   0   2   0   0  11.00    5.5   1.33  \n",
       "2  11   8   5   3   3   2   0   1.25    6.5  15.00  \n",
       "3  19  12   9   1   3   0   0   1.83    3.6   5.00  \n",
       "4  10   6   7   1   1   0   0   1.70    3.8   5.75  "
      ]
     },
     "execution_count": 7,
     "metadata": {},
     "output_type": "execute_result"
    }
   ],
   "source": [
    "dataset1_df.head()"
   ]
  },
  {
   "cell_type": "markdown",
   "id": "b0f233f7",
   "metadata": {},
   "source": [
    "## Data Source 2\n",
    "www.fbref.com/en"
   ]
  },
  {
   "cell_type": "code",
   "execution_count": 8,
   "id": "015c0673",
   "metadata": {},
   "outputs": [],
   "source": [
    "# standardize the teams names across all datasets\n",
    "\n",
    "rename_teams = {'Leicester City':'leicester', 'Bournemouth':'bournemouth', 'West Brom':'west-brom', 'Brighton': 'brighton', 'Swansea City':'swansea', \n",
    "                'Tottenham':'tottenham', 'Huddersfield':'huddersfield', 'Manchester Utd': 'united', 'Newcastle Utd':'newcastle', 'Liverpool':'liverpool', \n",
    "                'Chelsea': 'chelsea', 'Crystal Palace': 'palace', 'Everton': 'everton', 'Manchester City':'city', 'Watford': 'watford', \n",
    "                'Stoke City':'stoke', 'Southampton': 'southampton', 'West Ham':'west-ham', 'Burnley':'burnley', 'Arsenal': 'arsenal', \n",
    "                'Wolves':'wolves', 'Fulham':'fulham', 'Cardiff City':'cardiff', 'Aston Villa':'aston-villa', 'Sheffield Utd':'sheffield',\n",
    "                'Norwich City':'norwich', 'Leeds United':'leeds', 'Brentford':'brentford'}"
   ]
  },
  {
   "cell_type": "code",
   "execution_count": 9,
   "id": "49dce5a0",
   "metadata": {},
   "outputs": [],
   "source": [
    "def getHDaysLastPlayed(row):\n",
    "    HDaysLastPlayed = str(row['DaysLastPlayed']).split()[0]\n",
    "    return HDaysLastPlayed"
   ]
  },
  {
   "cell_type": "code",
   "execution_count": 10,
   "id": "188924dd",
   "metadata": {},
   "outputs": [],
   "source": [
    "def getADaysLastPlayed(row):\n",
    "    \n",
    "    date = row['Date']\n",
    "    team = row['team']\n",
    "    opponent = row['Opponent']\n",
    "    \n",
    "    filter_condition = (concatenated_df['Date'] == date) & (concatenated_df['team'] == opponent) & (concatenated_df['Opponent'] == team)\n",
    "    ADaysLastPlayed = str(concatenated_df[filter_condition]['DaysLastPlayed']).split()[1]    \n",
    "    return ADaysLastPlayed"
   ]
  },
  {
   "cell_type": "code",
   "execution_count": null,
   "id": "0d1ba79a",
   "metadata": {},
   "outputs": [],
   "source": [
    "dataset2_df = pd.DataFrame()\n",
    "seasons = ['2017-2018', '2018-2019', '2019-2020', '2020-2021', '2021-2022']\n",
    "\n",
    "for season in seasons:\n",
    "    \n",
    "    concatenated_df = pd.read_csv(f'datasets/{season}/dataset2.csv')\n",
    "  \n",
    "    # convert 'Date' column to datetime object\n",
    "    concatenated_df['Date'] =  pd.to_datetime(concatenated_df['Date'], format=\"%Y/%m/%d\")\n",
    "    \n",
    "    # get DaysLastPlayed for all matches\n",
    "    concatenated_df['DaysLastPlayed'] = concatenated_df['Date'] - concatenated_df['Date'].shift(1)\n",
    "    \n",
    "    # filter by Premier League matches only\n",
    "    concatenated_df = concatenated_df[concatenated_df['Comp'] == 'Premier League']\n",
    "    \n",
    "    # rename team names in the 'Opponent' column for standardized team names\n",
    "    concatenated_df['Opponent'] = concatenated_df['Opponent'].apply(lambda word : rename_teams[word])\n",
    "    \n",
    "    concatenated_df['HDaysLastPlayed'] = concatenated_df.apply(lambda row: getHDaysLastPlayed(row), axis=1)\n",
    "    concatenated_df['ADaysLastPlayed'] = concatenated_df.apply(lambda row: getADaysLastPlayed(row), axis=1)\n",
    "    \n",
    "    # filter by home matches only\n",
    "    concatenated_df = concatenated_df[concatenated_df['Venue'] == 'Home'].reset_index(drop=True)\n",
    "    \n",
    "    # drop home team column\n",
    "    concatenated_df.drop(['Venue'], axis=1, inplace = True)\n",
    "        \n",
    "    # rename features\n",
    "    concatenated_df = concatenated_df.rename(columns={'xG': 'HxG', 'xGA': 'AxG', 'Poss': 'HPoss', 'Opponent': 'AwayTeam', 'team': 'HomeTeam'})\n",
    "        \n",
    "    if dataset2_df.empty:\n",
    "        dataset2_df = concatenated_df\n",
    "    else:\n",
    "        dataset2_df = pd.concat([dataset2_df, concatenated_df]).reset_index(drop=True)"
   ]
  },
  {
   "cell_type": "code",
   "execution_count": null,
   "id": "4019a7f9",
   "metadata": {},
   "outputs": [],
   "source": [
    "# Make sure we have 5 x 380 = 1900 matches in the DataFrame\n",
    "dataset2_df.shape"
   ]
  },
  {
   "cell_type": "code",
   "execution_count": null,
   "id": "d86e9722",
   "metadata": {},
   "outputs": [],
   "source": [
    "dataset2_df.head()"
   ]
  },
  {
   "cell_type": "markdown",
   "id": "299aab72",
   "metadata": {},
   "source": [
    "# Integration of Data Sources "
   ]
  },
  {
   "cell_type": "code",
   "execution_count": null,
   "id": "1765b568",
   "metadata": {},
   "outputs": [],
   "source": [
    "# df"
   ]
  },
  {
   "cell_type": "code",
   "execution_count": null,
   "id": "c2e50823",
   "metadata": {},
   "outputs": [],
   "source": [
    "# # merge two data sources into one DataFrame\n",
    "\n",
    "# df = dataset1_df\n",
    "# df = pd.merge(df, dataset2_df, on=['Date', 'HomeTeam', 'AwayTeam'])\n",
    "# df.head()"
   ]
  }
 ],
 "metadata": {
  "kernelspec": {
   "display_name": "Python 3 (ipykernel)",
   "language": "python",
   "name": "python3"
  },
  "language_info": {
   "codemirror_mode": {
    "name": "ipython",
    "version": 3
   },
   "file_extension": ".py",
   "mimetype": "text/x-python",
   "name": "python",
   "nbconvert_exporter": "python",
   "pygments_lexer": "ipython3",
   "version": "3.9.13"
  }
 },
 "nbformat": 4,
 "nbformat_minor": 5
}
