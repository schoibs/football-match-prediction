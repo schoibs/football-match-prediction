{
 "cells": [
  {
   "cell_type": "markdown",
   "id": "b06b82bf",
   "metadata": {},
   "source": [
    "# 1. Import Libraries"
   ]
  },
  {
   "cell_type": "code",
   "execution_count": 1,
   "id": "f0d94637",
   "metadata": {},
   "outputs": [],
   "source": [
    "import pandas as pd\n",
    "import numpy as np\n",
    "import matplotlib.pyplot as plt\n",
    "\n",
    "import seaborn as sns\n",
    "sns.set_theme(style=\"whitegrid\")\n",
    "\n"
   ]
  },
  {
   "cell_type": "code",
   "execution_count": 2,
   "id": "3a584bae",
   "metadata": {},
   "outputs": [],
   "source": [
    "pd.set_option('display.max_columns', None)\n",
    "pd.set_option('display.max_rows', None)"
   ]
  },
  {
   "cell_type": "markdown",
   "id": "720cc263",
   "metadata": {},
   "source": [
    "# 2. Features to be Used\n",
    "\n",
    "Below are the preliminary features that will be used to build the model. More will be added on afterwards.\n",
    "\n",
    "**Fatigue**\n",
    "- Days since Home Team played last match \n",
    "- Days since Away Team played last match\n",
    "\n",
    "**Home Team Form**\n",
    "- Goals difference of home team in the last x matches    \n",
    "- Goals difference of home team in the last x home matches    \n",
    "- Average number of points gained by home team in the last x matches\n",
    "- Average number of points gained by home team in the last x home matches\n",
    "- Home Team Win streak \n",
    "\n",
    "**Away Team Form**\n",
    "- Goals difference of away team in the last x matches  \n",
    "- Goals difference of away team in the last x away matches\n",
    "- Average number of points gained by away team in the last x matches\n",
    "- Average number of points gained by away team in the last x away matches\n",
    "- Away Team Win streak\n",
    "\n",
    "**Home Team Performance Index**\n",
    "- Home Defense Performance Index\n",
    "- Home Midfield Performance Index\n",
    "- Home Attack Performance Index\n",
    "\n",
    "**Away Team Performance Index**\n",
    "- Away Defense Performance Index\n",
    "- Away Midfield Performance Index\n",
    "- Away Attack Performance Index\n",
    "\n",
    "**Betting Odds**\n",
    "- B365H\n",
    "- B365D\n",
    "- B365A"
   ]
  },
  {
   "cell_type": "code",
   "execution_count": 3,
   "id": "08dfa68f",
   "metadata": {},
   "outputs": [
    {
     "data": {
      "text/html": [
       "<div>\n",
       "<style scoped>\n",
       "    .dataframe tbody tr th:only-of-type {\n",
       "        vertical-align: middle;\n",
       "    }\n",
       "\n",
       "    .dataframe tbody tr th {\n",
       "        vertical-align: top;\n",
       "    }\n",
       "\n",
       "    .dataframe thead th {\n",
       "        text-align: right;\n",
       "    }\n",
       "</style>\n",
       "<table border=\"1\" class=\"dataframe\">\n",
       "  <thead>\n",
       "    <tr style=\"text-align: right;\">\n",
       "      <th></th>\n",
       "      <th>Date</th>\n",
       "      <th>HomeTeam</th>\n",
       "      <th>AwayTeam</th>\n",
       "      <th>FTHG</th>\n",
       "      <th>FTAG</th>\n",
       "      <th>HS</th>\n",
       "      <th>AS</th>\n",
       "      <th>HST</th>\n",
       "      <th>AST</th>\n",
       "      <th>HF</th>\n",
       "      <th>AF</th>\n",
       "      <th>HC</th>\n",
       "      <th>AC</th>\n",
       "      <th>HY</th>\n",
       "      <th>AY</th>\n",
       "      <th>HR</th>\n",
       "      <th>AR</th>\n",
       "      <th>B365H</th>\n",
       "      <th>B365D</th>\n",
       "      <th>B365A</th>\n",
       "      <th>Result</th>\n",
       "      <th>HPoss</th>\n",
       "      <th>HDays</th>\n",
       "      <th>ADays</th>\n",
       "      <th>HxG</th>\n",
       "      <th>AxG</th>\n",
       "    </tr>\n",
       "  </thead>\n",
       "  <tbody>\n",
       "    <tr>\n",
       "      <th>0</th>\n",
       "      <td>2012-08-18</td>\n",
       "      <td>arsenal</td>\n",
       "      <td>sunderland</td>\n",
       "      <td>0.0</td>\n",
       "      <td>0.0</td>\n",
       "      <td>14.0</td>\n",
       "      <td>3.0</td>\n",
       "      <td>4.0</td>\n",
       "      <td>2.0</td>\n",
       "      <td>12.0</td>\n",
       "      <td>8.0</td>\n",
       "      <td>7.0</td>\n",
       "      <td>0.0</td>\n",
       "      <td>0.0</td>\n",
       "      <td>0.0</td>\n",
       "      <td>0.0</td>\n",
       "      <td>0.0</td>\n",
       "      <td>1.40</td>\n",
       "      <td>4.50</td>\n",
       "      <td>8.50</td>\n",
       "      <td>D</td>\n",
       "      <td>NaN</td>\n",
       "      <td>10</td>\n",
       "      <td>10</td>\n",
       "      <td>NaN</td>\n",
       "      <td>NaN</td>\n",
       "    </tr>\n",
       "    <tr>\n",
       "      <th>1</th>\n",
       "      <td>2012-08-18</td>\n",
       "      <td>fulham</td>\n",
       "      <td>norwich</td>\n",
       "      <td>5.0</td>\n",
       "      <td>0.0</td>\n",
       "      <td>11.0</td>\n",
       "      <td>4.0</td>\n",
       "      <td>9.0</td>\n",
       "      <td>2.0</td>\n",
       "      <td>12.0</td>\n",
       "      <td>11.0</td>\n",
       "      <td>6.0</td>\n",
       "      <td>3.0</td>\n",
       "      <td>0.0</td>\n",
       "      <td>0.0</td>\n",
       "      <td>0.0</td>\n",
       "      <td>0.0</td>\n",
       "      <td>1.80</td>\n",
       "      <td>3.60</td>\n",
       "      <td>4.50</td>\n",
       "      <td>W</td>\n",
       "      <td>NaN</td>\n",
       "      <td>10</td>\n",
       "      <td>10</td>\n",
       "      <td>NaN</td>\n",
       "      <td>NaN</td>\n",
       "    </tr>\n",
       "    <tr>\n",
       "      <th>2</th>\n",
       "      <td>2012-08-18</td>\n",
       "      <td>newcastle</td>\n",
       "      <td>tottenham</td>\n",
       "      <td>2.0</td>\n",
       "      <td>1.0</td>\n",
       "      <td>6.0</td>\n",
       "      <td>12.0</td>\n",
       "      <td>4.0</td>\n",
       "      <td>6.0</td>\n",
       "      <td>12.0</td>\n",
       "      <td>8.0</td>\n",
       "      <td>3.0</td>\n",
       "      <td>5.0</td>\n",
       "      <td>2.0</td>\n",
       "      <td>2.0</td>\n",
       "      <td>0.0</td>\n",
       "      <td>0.0</td>\n",
       "      <td>2.50</td>\n",
       "      <td>3.40</td>\n",
       "      <td>2.75</td>\n",
       "      <td>W</td>\n",
       "      <td>NaN</td>\n",
       "      <td>10</td>\n",
       "      <td>10</td>\n",
       "      <td>NaN</td>\n",
       "      <td>NaN</td>\n",
       "    </tr>\n",
       "    <tr>\n",
       "      <th>3</th>\n",
       "      <td>2012-08-18</td>\n",
       "      <td>qpr</td>\n",
       "      <td>swansea</td>\n",
       "      <td>0.0</td>\n",
       "      <td>5.0</td>\n",
       "      <td>20.0</td>\n",
       "      <td>12.0</td>\n",
       "      <td>11.0</td>\n",
       "      <td>8.0</td>\n",
       "      <td>11.0</td>\n",
       "      <td>14.0</td>\n",
       "      <td>5.0</td>\n",
       "      <td>3.0</td>\n",
       "      <td>2.0</td>\n",
       "      <td>2.0</td>\n",
       "      <td>0.0</td>\n",
       "      <td>0.0</td>\n",
       "      <td>2.00</td>\n",
       "      <td>3.40</td>\n",
       "      <td>3.80</td>\n",
       "      <td>L</td>\n",
       "      <td>NaN</td>\n",
       "      <td>10</td>\n",
       "      <td>10</td>\n",
       "      <td>NaN</td>\n",
       "      <td>NaN</td>\n",
       "    </tr>\n",
       "    <tr>\n",
       "      <th>4</th>\n",
       "      <td>2012-08-18</td>\n",
       "      <td>reading</td>\n",
       "      <td>stoke</td>\n",
       "      <td>1.0</td>\n",
       "      <td>1.0</td>\n",
       "      <td>9.0</td>\n",
       "      <td>6.0</td>\n",
       "      <td>3.0</td>\n",
       "      <td>3.0</td>\n",
       "      <td>9.0</td>\n",
       "      <td>14.0</td>\n",
       "      <td>4.0</td>\n",
       "      <td>3.0</td>\n",
       "      <td>2.0</td>\n",
       "      <td>4.0</td>\n",
       "      <td>0.0</td>\n",
       "      <td>1.0</td>\n",
       "      <td>2.38</td>\n",
       "      <td>3.25</td>\n",
       "      <td>3.10</td>\n",
       "      <td>D</td>\n",
       "      <td>NaN</td>\n",
       "      <td>10</td>\n",
       "      <td>10</td>\n",
       "      <td>NaN</td>\n",
       "      <td>NaN</td>\n",
       "    </tr>\n",
       "  </tbody>\n",
       "</table>\n",
       "</div>"
      ],
      "text/plain": [
       "         Date   HomeTeam    AwayTeam  FTHG  FTAG    HS    AS   HST  AST    HF  \\\n",
       "0  2012-08-18    arsenal  sunderland   0.0   0.0  14.0   3.0   4.0  2.0  12.0   \n",
       "1  2012-08-18     fulham     norwich   5.0   0.0  11.0   4.0   9.0  2.0  12.0   \n",
       "2  2012-08-18  newcastle   tottenham   2.0   1.0   6.0  12.0   4.0  6.0  12.0   \n",
       "3  2012-08-18        qpr     swansea   0.0   5.0  20.0  12.0  11.0  8.0  11.0   \n",
       "4  2012-08-18    reading       stoke   1.0   1.0   9.0   6.0   3.0  3.0   9.0   \n",
       "\n",
       "     AF   HC   AC   HY   AY   HR   AR  B365H  B365D  B365A Result  HPoss  \\\n",
       "0   8.0  7.0  0.0  0.0  0.0  0.0  0.0   1.40   4.50   8.50      D    NaN   \n",
       "1  11.0  6.0  3.0  0.0  0.0  0.0  0.0   1.80   3.60   4.50      W    NaN   \n",
       "2   8.0  3.0  5.0  2.0  2.0  0.0  0.0   2.50   3.40   2.75      W    NaN   \n",
       "3  14.0  5.0  3.0  2.0  2.0  0.0  0.0   2.00   3.40   3.80      L    NaN   \n",
       "4  14.0  4.0  3.0  2.0  4.0  0.0  1.0   2.38   3.25   3.10      D    NaN   \n",
       "\n",
       "   HDays  ADays  HxG  AxG  \n",
       "0     10     10  NaN  NaN  \n",
       "1     10     10  NaN  NaN  \n",
       "2     10     10  NaN  NaN  \n",
       "3     10     10  NaN  NaN  \n",
       "4     10     10  NaN  NaN  "
      ]
     },
     "execution_count": 3,
     "metadata": {},
     "output_type": "execute_result"
    }
   ],
   "source": [
    "df = pd.read_csv('datasets/integrated_dataset.csv')\n",
    "df.head()"
   ]
  },
  {
   "cell_type": "code",
   "execution_count": 4,
   "id": "338bcc59",
   "metadata": {},
   "outputs": [
    {
     "data": {
      "text/plain": [
       "(3800, 26)"
      ]
     },
     "execution_count": 4,
     "metadata": {},
     "output_type": "execute_result"
    }
   ],
   "source": [
    "df.shape"
   ]
  },
  {
   "cell_type": "markdown",
   "id": "ec108c20",
   "metadata": {},
   "source": [
    "# 3. EDA"
   ]
  },
  {
   "cell_type": "markdown",
   "id": "a62f3e19",
   "metadata": {},
   "source": [
    "## 3.1 Get Overview of the Dataset.\n",
    "\n",
    "Firstly, we will try to gain an overview of the dataset that we will be working with."
   ]
  },
  {
   "cell_type": "code",
   "execution_count": 5,
   "id": "9a780f37",
   "metadata": {},
   "outputs": [
    {
     "name": "stdout",
     "output_type": "stream",
     "text": [
      "<class 'pandas.core.frame.DataFrame'>\n",
      "RangeIndex: 3800 entries, 0 to 3799\n",
      "Data columns (total 26 columns):\n",
      " #   Column    Non-Null Count  Dtype  \n",
      "---  ------    --------------  -----  \n",
      " 0   Date      3800 non-null   object \n",
      " 1   HomeTeam  3800 non-null   object \n",
      " 2   AwayTeam  3800 non-null   object \n",
      " 3   FTHG      3800 non-null   float64\n",
      " 4   FTAG      3800 non-null   float64\n",
      " 5   HS        3800 non-null   float64\n",
      " 6   AS        3800 non-null   float64\n",
      " 7   HST       3800 non-null   float64\n",
      " 8   AST       3800 non-null   float64\n",
      " 9   HF        3800 non-null   float64\n",
      " 10  AF        3800 non-null   float64\n",
      " 11  HC        3800 non-null   float64\n",
      " 12  AC        3800 non-null   float64\n",
      " 13  HY        3800 non-null   float64\n",
      " 14  AY        3800 non-null   float64\n",
      " 15  HR        3800 non-null   float64\n",
      " 16  AR        3800 non-null   float64\n",
      " 17  B365H     3800 non-null   float64\n",
      " 18  B365D     3800 non-null   float64\n",
      " 19  B365A     3800 non-null   float64\n",
      " 20  Result    3800 non-null   object \n",
      " 21  HPoss     3040 non-null   float64\n",
      " 22  HDays     3800 non-null   int64  \n",
      " 23  ADays     3800 non-null   int64  \n",
      " 24  HxG       1900 non-null   float64\n",
      " 25  AxG       1900 non-null   float64\n",
      "dtypes: float64(20), int64(2), object(4)\n",
      "memory usage: 772.0+ KB\n"
     ]
    }
   ],
   "source": [
    "df.info()"
   ]
  },
  {
   "cell_type": "markdown",
   "id": "d5890c70",
   "metadata": {},
   "source": [
    "From the output above, we can see that each variable seems to have suitable data type. We can also see that the column HPoss has 760 null values, while both the columns HxG and AxG has 1900 null values. This already tells us that these three columns are not suitable to be used as features."
   ]
  },
  {
   "cell_type": "code",
   "execution_count": 6,
   "id": "bacf6fbc",
   "metadata": {},
   "outputs": [],
   "source": [
    "df = df.drop(['HPoss', 'HxG', 'AxG'], axis=1)"
   ]
  },
  {
   "cell_type": "markdown",
   "id": "6519cbb3",
   "metadata": {},
   "source": [
    "## 3.2 View Descriptive Measures of Data.\n",
    "\n",
    "For each numerical column, we will try to gain an intuition regarding the descriptive measures of it."
   ]
  },
  {
   "cell_type": "code",
   "execution_count": 7,
   "id": "b901953b",
   "metadata": {},
   "outputs": [
    {
     "data": {
      "text/html": [
       "<div>\n",
       "<style scoped>\n",
       "    .dataframe tbody tr th:only-of-type {\n",
       "        vertical-align: middle;\n",
       "    }\n",
       "\n",
       "    .dataframe tbody tr th {\n",
       "        vertical-align: top;\n",
       "    }\n",
       "\n",
       "    .dataframe thead th {\n",
       "        text-align: right;\n",
       "    }\n",
       "</style>\n",
       "<table border=\"1\" class=\"dataframe\">\n",
       "  <thead>\n",
       "    <tr style=\"text-align: right;\">\n",
       "      <th></th>\n",
       "      <th>FTHG</th>\n",
       "      <th>FTAG</th>\n",
       "      <th>HS</th>\n",
       "      <th>AS</th>\n",
       "      <th>HST</th>\n",
       "      <th>AST</th>\n",
       "      <th>HF</th>\n",
       "      <th>AF</th>\n",
       "      <th>HC</th>\n",
       "      <th>AC</th>\n",
       "      <th>HY</th>\n",
       "      <th>AY</th>\n",
       "      <th>HR</th>\n",
       "      <th>AR</th>\n",
       "      <th>B365H</th>\n",
       "      <th>B365D</th>\n",
       "      <th>B365A</th>\n",
       "      <th>HDays</th>\n",
       "      <th>ADays</th>\n",
       "    </tr>\n",
       "  </thead>\n",
       "  <tbody>\n",
       "    <tr>\n",
       "      <th>count</th>\n",
       "      <td>3800.000000</td>\n",
       "      <td>3800.000000</td>\n",
       "      <td>3800.000000</td>\n",
       "      <td>3800.000000</td>\n",
       "      <td>3800.000000</td>\n",
       "      <td>3800.000000</td>\n",
       "      <td>3800.000000</td>\n",
       "      <td>3800.000000</td>\n",
       "      <td>3800.000000</td>\n",
       "      <td>3800.000000</td>\n",
       "      <td>3800.000000</td>\n",
       "      <td>3800.000000</td>\n",
       "      <td>3800.000000</td>\n",
       "      <td>3800.000000</td>\n",
       "      <td>3800.000000</td>\n",
       "      <td>3800.000000</td>\n",
       "      <td>3800.000000</td>\n",
       "      <td>3800.000000</td>\n",
       "      <td>3800.000000</td>\n",
       "    </tr>\n",
       "    <tr>\n",
       "      <th>mean</th>\n",
       "      <td>1.517632</td>\n",
       "      <td>1.218947</td>\n",
       "      <td>13.976579</td>\n",
       "      <td>11.357895</td>\n",
       "      <td>5.034737</td>\n",
       "      <td>4.150000</td>\n",
       "      <td>10.524474</td>\n",
       "      <td>10.876053</td>\n",
       "      <td>5.845789</td>\n",
       "      <td>4.727105</td>\n",
       "      <td>1.527368</td>\n",
       "      <td>1.723684</td>\n",
       "      <td>0.055000</td>\n",
       "      <td>0.075526</td>\n",
       "      <td>2.925095</td>\n",
       "      <td>4.198047</td>\n",
       "      <td>4.904376</td>\n",
       "      <td>6.019211</td>\n",
       "      <td>6.056579</td>\n",
       "    </tr>\n",
       "    <tr>\n",
       "      <th>std</th>\n",
       "      <td>1.307320</td>\n",
       "      <td>1.189123</td>\n",
       "      <td>5.638652</td>\n",
       "      <td>4.880765</td>\n",
       "      <td>2.933294</td>\n",
       "      <td>2.522471</td>\n",
       "      <td>3.394238</td>\n",
       "      <td>3.562055</td>\n",
       "      <td>3.097249</td>\n",
       "      <td>2.699771</td>\n",
       "      <td>1.213154</td>\n",
       "      <td>1.255875</td>\n",
       "      <td>0.237066</td>\n",
       "      <td>0.274053</td>\n",
       "      <td>2.168801</td>\n",
       "      <td>1.353576</td>\n",
       "      <td>4.298677</td>\n",
       "      <td>2.436646</td>\n",
       "      <td>2.428273</td>\n",
       "    </tr>\n",
       "    <tr>\n",
       "      <th>min</th>\n",
       "      <td>0.000000</td>\n",
       "      <td>0.000000</td>\n",
       "      <td>0.000000</td>\n",
       "      <td>0.000000</td>\n",
       "      <td>0.000000</td>\n",
       "      <td>0.000000</td>\n",
       "      <td>0.000000</td>\n",
       "      <td>1.000000</td>\n",
       "      <td>0.000000</td>\n",
       "      <td>0.000000</td>\n",
       "      <td>0.000000</td>\n",
       "      <td>0.000000</td>\n",
       "      <td>0.000000</td>\n",
       "      <td>0.000000</td>\n",
       "      <td>1.060000</td>\n",
       "      <td>2.800000</td>\n",
       "      <td>1.120000</td>\n",
       "      <td>2.000000</td>\n",
       "      <td>2.000000</td>\n",
       "    </tr>\n",
       "    <tr>\n",
       "      <th>25%</th>\n",
       "      <td>1.000000</td>\n",
       "      <td>0.000000</td>\n",
       "      <td>10.000000</td>\n",
       "      <td>8.000000</td>\n",
       "      <td>3.000000</td>\n",
       "      <td>2.000000</td>\n",
       "      <td>8.000000</td>\n",
       "      <td>8.000000</td>\n",
       "      <td>4.000000</td>\n",
       "      <td>3.000000</td>\n",
       "      <td>1.000000</td>\n",
       "      <td>1.000000</td>\n",
       "      <td>0.000000</td>\n",
       "      <td>0.000000</td>\n",
       "      <td>1.660000</td>\n",
       "      <td>3.400000</td>\n",
       "      <td>2.300000</td>\n",
       "      <td>4.000000</td>\n",
       "      <td>4.000000</td>\n",
       "    </tr>\n",
       "    <tr>\n",
       "      <th>50%</th>\n",
       "      <td>1.000000</td>\n",
       "      <td>1.000000</td>\n",
       "      <td>13.000000</td>\n",
       "      <td>11.000000</td>\n",
       "      <td>5.000000</td>\n",
       "      <td>4.000000</td>\n",
       "      <td>10.000000</td>\n",
       "      <td>11.000000</td>\n",
       "      <td>5.000000</td>\n",
       "      <td>4.000000</td>\n",
       "      <td>1.000000</td>\n",
       "      <td>2.000000</td>\n",
       "      <td>0.000000</td>\n",
       "      <td>0.000000</td>\n",
       "      <td>2.250000</td>\n",
       "      <td>3.700000</td>\n",
       "      <td>3.400000</td>\n",
       "      <td>6.000000</td>\n",
       "      <td>6.000000</td>\n",
       "    </tr>\n",
       "    <tr>\n",
       "      <th>75%</th>\n",
       "      <td>2.000000</td>\n",
       "      <td>2.000000</td>\n",
       "      <td>17.000000</td>\n",
       "      <td>14.000000</td>\n",
       "      <td>7.000000</td>\n",
       "      <td>6.000000</td>\n",
       "      <td>13.000000</td>\n",
       "      <td>13.000000</td>\n",
       "      <td>8.000000</td>\n",
       "      <td>6.000000</td>\n",
       "      <td>2.000000</td>\n",
       "      <td>3.000000</td>\n",
       "      <td>0.000000</td>\n",
       "      <td>0.000000</td>\n",
       "      <td>3.250000</td>\n",
       "      <td>4.347500</td>\n",
       "      <td>5.500000</td>\n",
       "      <td>7.000000</td>\n",
       "      <td>8.000000</td>\n",
       "    </tr>\n",
       "    <tr>\n",
       "      <th>max</th>\n",
       "      <td>9.000000</td>\n",
       "      <td>9.000000</td>\n",
       "      <td>43.000000</td>\n",
       "      <td>31.000000</td>\n",
       "      <td>20.000000</td>\n",
       "      <td>20.000000</td>\n",
       "      <td>24.000000</td>\n",
       "      <td>26.000000</td>\n",
       "      <td>19.000000</td>\n",
       "      <td>17.000000</td>\n",
       "      <td>7.000000</td>\n",
       "      <td>9.000000</td>\n",
       "      <td>2.000000</td>\n",
       "      <td>2.000000</td>\n",
       "      <td>23.000000</td>\n",
       "      <td>17.000000</td>\n",
       "      <td>41.000000</td>\n",
       "      <td>10.000000</td>\n",
       "      <td>10.000000</td>\n",
       "    </tr>\n",
       "  </tbody>\n",
       "</table>\n",
       "</div>"
      ],
      "text/plain": [
       "              FTHG         FTAG           HS           AS          HST  \\\n",
       "count  3800.000000  3800.000000  3800.000000  3800.000000  3800.000000   \n",
       "mean      1.517632     1.218947    13.976579    11.357895     5.034737   \n",
       "std       1.307320     1.189123     5.638652     4.880765     2.933294   \n",
       "min       0.000000     0.000000     0.000000     0.000000     0.000000   \n",
       "25%       1.000000     0.000000    10.000000     8.000000     3.000000   \n",
       "50%       1.000000     1.000000    13.000000    11.000000     5.000000   \n",
       "75%       2.000000     2.000000    17.000000    14.000000     7.000000   \n",
       "max       9.000000     9.000000    43.000000    31.000000    20.000000   \n",
       "\n",
       "               AST           HF           AF           HC           AC  \\\n",
       "count  3800.000000  3800.000000  3800.000000  3800.000000  3800.000000   \n",
       "mean      4.150000    10.524474    10.876053     5.845789     4.727105   \n",
       "std       2.522471     3.394238     3.562055     3.097249     2.699771   \n",
       "min       0.000000     0.000000     1.000000     0.000000     0.000000   \n",
       "25%       2.000000     8.000000     8.000000     4.000000     3.000000   \n",
       "50%       4.000000    10.000000    11.000000     5.000000     4.000000   \n",
       "75%       6.000000    13.000000    13.000000     8.000000     6.000000   \n",
       "max      20.000000    24.000000    26.000000    19.000000    17.000000   \n",
       "\n",
       "                HY           AY           HR           AR        B365H  \\\n",
       "count  3800.000000  3800.000000  3800.000000  3800.000000  3800.000000   \n",
       "mean      1.527368     1.723684     0.055000     0.075526     2.925095   \n",
       "std       1.213154     1.255875     0.237066     0.274053     2.168801   \n",
       "min       0.000000     0.000000     0.000000     0.000000     1.060000   \n",
       "25%       1.000000     1.000000     0.000000     0.000000     1.660000   \n",
       "50%       1.000000     2.000000     0.000000     0.000000     2.250000   \n",
       "75%       2.000000     3.000000     0.000000     0.000000     3.250000   \n",
       "max       7.000000     9.000000     2.000000     2.000000    23.000000   \n",
       "\n",
       "             B365D        B365A        HDays        ADays  \n",
       "count  3800.000000  3800.000000  3800.000000  3800.000000  \n",
       "mean      4.198047     4.904376     6.019211     6.056579  \n",
       "std       1.353576     4.298677     2.436646     2.428273  \n",
       "min       2.800000     1.120000     2.000000     2.000000  \n",
       "25%       3.400000     2.300000     4.000000     4.000000  \n",
       "50%       3.700000     3.400000     6.000000     6.000000  \n",
       "75%       4.347500     5.500000     7.000000     8.000000  \n",
       "max      17.000000    41.000000    10.000000    10.000000  "
      ]
     },
     "execution_count": 7,
     "metadata": {},
     "output_type": "execute_result"
    }
   ],
   "source": [
    "df.describe()"
   ]
  },
  {
   "cell_type": "markdown",
   "id": "b1d16a97",
   "metadata": {},
   "source": [
    "From the table, it is easy to see that the home team tends to perform better than the away team during a match for the most part."
   ]
  },
  {
   "cell_type": "code",
   "execution_count": 8,
   "id": "52866eac",
   "metadata": {},
   "outputs": [],
   "source": [
    "# use boxplots to visualize outliers\n",
    "# sns.boxplot(x='price',y='num_of_doors',data=auto)"
   ]
  },
  {
   "cell_type": "markdown",
   "id": "84d20850",
   "metadata": {},
   "source": [
    "## 3.3 Visualize Correlations\n",
    "\n",
    "In football, the higher the goals you score in a match, the higher the chance you have of winning the match. In this section, we are interested in identifying the variables that are most influential in determining the number of goals scored. Specifically, we will ask ourselves these two questions:\n",
    "\n",
    "- **Which Home-Team-related-variables correlates most to FTHG?**\n",
    "\n",
    "- **Which Away-Team-related-variables correlates most to ATHG?**"
   ]
  },
  {
   "cell_type": "code",
   "execution_count": 9,
   "id": "a61c4cf9",
   "metadata": {},
   "outputs": [
    {
     "data": {
      "text/plain": [
       "Index(['Date', 'HomeTeam', 'AwayTeam', 'FTHG', 'FTAG', 'HS', 'AS', 'HST',\n",
       "       'AST', 'HF', 'AF', 'HC', 'AC', 'HY', 'AY', 'HR', 'AR', 'B365H', 'B365D',\n",
       "       'B365A', 'Result', 'HDays', 'ADays'],\n",
       "      dtype='object')"
      ]
     },
     "execution_count": 9,
     "metadata": {},
     "output_type": "execute_result"
    }
   ],
   "source": [
    "df.columns"
   ]
  },
  {
   "cell_type": "code",
   "execution_count": 10,
   "id": "0356c2f1",
   "metadata": {},
   "outputs": [],
   "source": [
    "ht_df = df[['Date', 'HomeTeam', 'FTHG', 'HS', 'HST', 'HF', 'HC', 'HY', 'HR', 'HDays']]\n",
    "at_df = df[['Date', 'AwayTeam', 'FTAG', 'AS', 'AST', 'AF', 'AC', 'AY', 'AR', 'ADays']]"
   ]
  },
  {
   "cell_type": "code",
   "execution_count": 11,
   "id": "fd95ce1a",
   "metadata": {},
   "outputs": [
    {
     "name": "stderr",
     "output_type": "stream",
     "text": [
      "C:\\Users\\choibs\\AppData\\Local\\Temp\\ipykernel_4068\\1043046740.py:2: FutureWarning: The default value of numeric_only in DataFrame.corr is deprecated. In a future version, it will default to False. Select only valid columns or specify the value of numeric_only to silence this warning.\n",
      "  sns.heatmap(ht_df.corr(),cbar=True,annot=True)\n"
     ]
    },
    {
     "data": {
      "text/plain": [
       "<AxesSubplot:>"
      ]
     },
     "execution_count": 11,
     "metadata": {},
     "output_type": "execute_result"
    },
    {
     "data": {
      "image/png": "[encoded data removed]",
      "text/plain": [
       "<Figure size 800x800 with 2 Axes>"
      ]
     },
     "metadata": {},
     "output_type": "display_data"
    }
   ],
   "source": [
    "plt.figure(figsize=(8,8))\n",
    "sns.heatmap(ht_df.corr(),cbar=True,annot=True)"
   ]
  },
  {
   "cell_type": "markdown",
   "id": "b6454a09",
   "metadata": {},
   "source": [
    "**Which Home-Team-related-variables correlates most to FTHG (Goals Scored by Home Team) ?**\n",
    "\n",
    "Both the HS (Number of Shots for Home Team) and HST (Number of Shots on Target for Home Team) have relatively high correlation to FTHG. This suggests that HS and HST can be a useful predictor for the outcome of a football match."
   ]
  },
  {
   "cell_type": "code",
   "execution_count": 12,
   "id": "0bc22a0b",
   "metadata": {},
   "outputs": [
    {
     "name": "stderr",
     "output_type": "stream",
     "text": [
      "C:\\Users\\choibs\\AppData\\Local\\Temp\\ipykernel_4068\\3401602531.py:2: FutureWarning: The default value of numeric_only in DataFrame.corr is deprecated. In a future version, it will default to False. Select only valid columns or specify the value of numeric_only to silence this warning.\n",
      "  sns.heatmap(at_df.corr(),cbar=True,annot=True)\n"
     ]
    },
    {
     "data": {
      "text/plain": [
       "<AxesSubplot:>"
      ]
     },
     "execution_count": 12,
     "metadata": {},
     "output_type": "execute_result"
    },
    {
     "data": {
      "image/png": "[encoded data removed]",
      "text/plain": [
       "<Figure size 800x800 with 2 Axes>"
      ]
     },
     "metadata": {},
     "output_type": "display_data"
    }
   ],
   "source": [
    "plt.figure(figsize=(8,8))\n",
    "sns.heatmap(at_df.corr(),cbar=True,annot=True)"
   ]
  },
  {
   "cell_type": "markdown",
   "id": "21bb134a",
   "metadata": {},
   "source": [
    "**Which Away-Team-related-variables correlates most to ATHG?**\n",
    "\n",
    "Both the AS (Number of Shots for Away Team) and AST (Number of Shots on Target for Away Team) have relatively high correlation to FTAG. This suggests that AS and AST can be a useful predictor for the outcome of a football match."
   ]
  },
  {
   "cell_type": "markdown",
   "id": "d27eb0d6",
   "metadata": {},
   "source": [
    "## 3.4 Analyze Relationships between Variables"
   ]
  },
  {
   "cell_type": "markdown",
   "id": "07a9e503",
   "metadata": {},
   "source": [
    "### 3.4.1 How does the number of shots affect the outcome of the match?"
   ]
  },
  {
   "cell_type": "code",
   "execution_count": 13,
   "id": "972c6543",
   "metadata": {},
   "outputs": [
    {
     "data": {
      "image/png": "[encoded data removed]",
      "text/plain": [
       "<Figure size 1800x500 with 3 Axes>"
      ]
     },
     "metadata": {},
     "output_type": "display_data"
    }
   ],
   "source": [
    "lowAmountOfShots_df = df[(df['HS'] <= 10)]\n",
    "mediumAmountOfShots_df = df[(df['HS'] >= 11) & (df['HS'] <= 20)]\n",
    "highAmountOfShots_df = df[(df['HS'] >= 21)]\n",
    "\n",
    "fig, axes = plt.subplots(1, 3, figsize=(18, 5), sharey=True)\n",
    "# fig.suptitle('Initial Pokemon - 1st Generation')\n",
    "\n",
    "# Win\n",
    "sns.countplot(ax=axes[0], data=lowAmountOfShots_df, x='Result', order=['W', 'D', 'L'])\n",
    "axes[0].set_title('Match Outcomes for Home Team with Low Number of Shots (<= 10)')\n",
    "\n",
    "# Draw\n",
    "sns.countplot(ax=axes[1], data=mediumAmountOfShots_df, x='Result', order=['W', 'D', 'L'])\n",
    "axes[1].set_title('Match Outcomes for Home Team with Medium Number of Shots (11 - 20)')\n",
    "\n",
    "# Lose\n",
    "sns.countplot(ax=axes[2], data=highAmountOfShots_df, x='Result', order=['W', 'D', 'L'])\n",
    "axes[2].set_title('Match Outcomes for Home Team with High Number of Shots (>= 21)')\n",
    "\n",
    "plt.tight_layout()"
   ]
  },
  {
   "cell_type": "code",
   "execution_count": 14,
   "id": "9670a864",
   "metadata": {},
   "outputs": [
    {
     "name": "stderr",
     "output_type": "stream",
     "text": [
      "C:\\Users\\choibs\\AppData\\Local\\Temp\\ipykernel_4068\\711522923.py:5: SettingWithCopyWarning: \n",
      "A value is trying to be set on a copy of a slice from a DataFrame.\n",
      "Try using .loc[row_indexer,col_indexer] = value instead\n",
      "\n",
      "See the caveats in the documentation: https://pandas.pydata.org/pandas-docs/stable/user_guide/indexing.html#returning-a-view-versus-a-copy\n",
      "  lowAmountOfShots_df['Result'] = lowAmountOfShots_df['Result'].map({'W': 'Lose', 'L':'Win', 'D':'Draw'})\n",
      "C:\\Users\\choibs\\AppData\\Local\\Temp\\ipykernel_4068\\711522923.py:6: SettingWithCopyWarning: \n",
      "A value is trying to be set on a copy of a slice from a DataFrame.\n",
      "Try using .loc[row_indexer,col_indexer] = value instead\n",
      "\n",
      "See the caveats in the documentation: https://pandas.pydata.org/pandas-docs/stable/user_guide/indexing.html#returning-a-view-versus-a-copy\n",
      "  mediumAmountOfShots_df['Result'] = mediumAmountOfShots_df['Result'].map({'W': 'Lose', 'L':'Win', 'D':'Draw'})\n",
      "C:\\Users\\choibs\\AppData\\Local\\Temp\\ipykernel_4068\\711522923.py:7: SettingWithCopyWarning: \n",
      "A value is trying to be set on a copy of a slice from a DataFrame.\n",
      "Try using .loc[row_indexer,col_indexer] = value instead\n",
      "\n",
      "See the caveats in the documentation: https://pandas.pydata.org/pandas-docs/stable/user_guide/indexing.html#returning-a-view-versus-a-copy\n",
      "  highAmountOfShots_df['Result'] = highAmountOfShots_df['Result'].map({'W': 'Lose', 'L':'Win', 'D':'Draw'})\n"
     ]
    },
    {
     "data": {
      "image/png": "[encoded data removed]",
      "text/plain": [
       "<Figure size 1800x500 with 3 Axes>"
      ]
     },
     "metadata": {},
     "output_type": "display_data"
    }
   ],
   "source": [
    "lowAmountOfShots_df = df[(df['AS'] <= 10)]\n",
    "mediumAmountOfShots_df = df[(df['AS'] >= 11) & (df['AS'] <= 20)]\n",
    "highAmountOfShots_df = df[(df['AS'] >= 21)]\n",
    "\n",
    "lowAmountOfShots_df['Result'] = lowAmountOfShots_df['Result'].map({'W': 'Lose', 'L':'Win', 'D':'Draw'})\n",
    "mediumAmountOfShots_df['Result'] = mediumAmountOfShots_df['Result'].map({'W': 'Lose', 'L':'Win', 'D':'Draw'})\n",
    "highAmountOfShots_df['Result'] = highAmountOfShots_df['Result'].map({'W': 'Lose', 'L':'Win', 'D':'Draw'})\n",
    "\n",
    "fig, axes = plt.subplots(1, 3, figsize=(18, 5), sharey=True)\n",
    "# fig.suptitle('Initial Pokemon - 1st Generation')\n",
    "\n",
    "# Win\n",
    "sns.countplot(ax=axes[0], data=lowAmountOfShots_df, x='Result', order=['Win', 'Draw', 'Lose'])\n",
    "axes[0].set_title('Match Outcomes for Away Team with Low Number of Shots (<= 10)')\n",
    "\n",
    "# Draw\n",
    "sns.countplot(ax=axes[1], data=mediumAmountOfShots_df, x='Result', order=['Win', 'Draw', 'Lose'])\n",
    "axes[1].set_title('Match Outcomes for Away Team with Medium Number of Shots (11 - 20)')\n",
    "\n",
    "# Lose\n",
    "sns.countplot(ax=axes[2], data=highAmountOfShots_df, x='Result', order=['Win', 'Draw', 'Lose'])\n",
    "axes[2].set_title('Match Outcomes for Away Team with High Number of Shots (>= 21)')\n",
    "\n",
    "plt.tight_layout()"
   ]
  },
  {
   "cell_type": "markdown",
   "id": "15943938",
   "metadata": {},
   "source": [
    "Compare percentages of win% in first plot and last plot. Describe how you do binning."
   ]
  },
  {
   "cell_type": "markdown",
   "id": "9bee84bf",
   "metadata": {},
   "source": [
    "### 3.4.2 How does the number of shots on target affect the outcome of the match?"
   ]
  },
  {
   "cell_type": "code",
   "execution_count": 15,
   "id": "7a100483",
   "metadata": {},
   "outputs": [
    {
     "data": {
      "image/png": "[encoded data removed]",
      "text/plain": [
       "<Figure size 2000x500 with 3 Axes>"
      ]
     },
     "metadata": {},
     "output_type": "display_data"
    }
   ],
   "source": [
    "lowAmountOfShots_df = df[(df['HST'] <= 3)]\n",
    "mediumAmountOfShots_df = df[(df['HST'] >= 4) & (df['HST'] <= 10)]\n",
    "highAmountOfShots_df = df[(df['HST'] >= 11)]\n",
    "\n",
    "fig, axes = plt.subplots(1, 3, figsize=(20, 5), sharey=True)\n",
    "# fig.suptitle('Initial Pokemon - 1st Generation')\n",
    "\n",
    "# Win\n",
    "sns.countplot(ax=axes[0], data=lowAmountOfShots_df, x='Result', order=['W', 'D', 'L'])\n",
    "axes[0].set_title('Match Outcomes for Home Team with Low Number of Shots on Target (<= 10)')\n",
    "\n",
    "# Draw\n",
    "sns.countplot(ax=axes[1], data=mediumAmountOfShots_df, x='Result', order=['W', 'D', 'L'])\n",
    "axes[1].set_title('Match Outcomes for Home Team with Medium Number of Shots on Target (11 - 20)')\n",
    "\n",
    "# Lose\n",
    "sns.countplot(ax=axes[2], data=highAmountOfShots_df, x='Result', order=['W', 'D', 'L'])\n",
    "axes[2].set_title('Match Outcomes for Home Team with High Number of Shots on Target (>= 21)')\n",
    "\n",
    "plt.tight_layout()"
   ]
  },
  {
   "cell_type": "code",
   "execution_count": 16,
   "id": "40b8aa8d",
   "metadata": {},
   "outputs": [
    {
     "name": "stderr",
     "output_type": "stream",
     "text": [
      "C:\\Users\\choibs\\AppData\\Local\\Temp\\ipykernel_4068\\2075144645.py:5: SettingWithCopyWarning: \n",
      "A value is trying to be set on a copy of a slice from a DataFrame.\n",
      "Try using .loc[row_indexer,col_indexer] = value instead\n",
      "\n",
      "See the caveats in the documentation: https://pandas.pydata.org/pandas-docs/stable/user_guide/indexing.html#returning-a-view-versus-a-copy\n",
      "  lowAmountOfShots_df['Result'] = lowAmountOfShots_df['Result'].map({'W': 'Lose', 'L':'Win', 'D':'Draw'})\n",
      "C:\\Users\\choibs\\AppData\\Local\\Temp\\ipykernel_4068\\2075144645.py:6: SettingWithCopyWarning: \n",
      "A value is trying to be set on a copy of a slice from a DataFrame.\n",
      "Try using .loc[row_indexer,col_indexer] = value instead\n",
      "\n",
      "See the caveats in the documentation: https://pandas.pydata.org/pandas-docs/stable/user_guide/indexing.html#returning-a-view-versus-a-copy\n",
      "  mediumAmountOfShots_df['Result'] = mediumAmountOfShots_df['Result'].map({'W': 'Lose', 'L':'Win', 'D':'Draw'})\n",
      "C:\\Users\\choibs\\AppData\\Local\\Temp\\ipykernel_4068\\2075144645.py:7: SettingWithCopyWarning: \n",
      "A value is trying to be set on a copy of a slice from a DataFrame.\n",
      "Try using .loc[row_indexer,col_indexer] = value instead\n",
      "\n",
      "See the caveats in the documentation: https://pandas.pydata.org/pandas-docs/stable/user_guide/indexing.html#returning-a-view-versus-a-copy\n",
      "  highAmountOfShots_df['Result'] = highAmountOfShots_df['Result'].map({'W': 'Lose', 'L':'Win', 'D':'Draw'})\n"
     ]
    },
    {
     "data": {
      "image/png": "[encoded data removed]",
      "text/plain": [
       "<Figure size 1800x500 with 3 Axes>"
      ]
     },
     "metadata": {},
     "output_type": "display_data"
    }
   ],
   "source": [
    "lowAmountOfShots_df = df[(df['AST'] <= 3)]\n",
    "mediumAmountOfShots_df = df[(df['AST'] >= 4) & (df['AS'] <= 10)]\n",
    "highAmountOfShots_df = df[(df['AST'] >= 11)]\n",
    "\n",
    "lowAmountOfShots_df['Result'] = lowAmountOfShots_df['Result'].map({'W': 'Lose', 'L':'Win', 'D':'Draw'})\n",
    "mediumAmountOfShots_df['Result'] = mediumAmountOfShots_df['Result'].map({'W': 'Lose', 'L':'Win', 'D':'Draw'})\n",
    "highAmountOfShots_df['Result'] = highAmountOfShots_df['Result'].map({'W': 'Lose', 'L':'Win', 'D':'Draw'})\n",
    "\n",
    "fig, axes = plt.subplots(1, 3, figsize=(18, 5), sharey=True)\n",
    "# fig.suptitle('Initial Pokemon - 1st Generation')\n",
    "\n",
    "# Win\n",
    "sns.countplot(ax=axes[0], data=lowAmountOfShots_df, x='Result', order=['Win', 'Draw', 'Lose'])\n",
    "axes[0].set_title('Match Outcomes for Away Team with Low Number of Shots (<= 10)')\n",
    "\n",
    "# Draw\n",
    "sns.countplot(ax=axes[1], data=mediumAmountOfShots_df, x='Result', order=['Win', 'Draw', 'Lose'])\n",
    "axes[1].set_title('Match Outcomes for Away Team with Medium Number of Shots (11 - 20)')\n",
    "\n",
    "# Lose\n",
    "sns.countplot(ax=axes[2], data=highAmountOfShots_df, x='Result', order=['Win', 'Draw', 'Lose'])\n",
    "axes[2].set_title('Match Outcomes for Away Team with High Number of Shots (>= 21)')\n",
    "\n",
    "plt.tight_layout()"
   ]
  },
  {
   "cell_type": "markdown",
   "id": "992c2e02",
   "metadata": {},
   "source": [
    "Compare percentages of win% in first plot and last plot. Describe how you do binning."
   ]
  },
  {
   "cell_type": "markdown",
   "id": "1ff1a5bc",
   "metadata": {},
   "source": [
    "### 3.4.4 What is the relationship between betting odds and the match outcome?"
   ]
  },
  {
   "cell_type": "code",
   "execution_count": 17,
   "id": "964486fd",
   "metadata": {},
   "outputs": [
    {
     "data": {
      "text/html": [
       "<div>\n",
       "<style scoped>\n",
       "    .dataframe tbody tr th:only-of-type {\n",
       "        vertical-align: middle;\n",
       "    }\n",
       "\n",
       "    .dataframe tbody tr th {\n",
       "        vertical-align: top;\n",
       "    }\n",
       "\n",
       "    .dataframe thead th {\n",
       "        text-align: right;\n",
       "    }\n",
       "</style>\n",
       "<table border=\"1\" class=\"dataframe\">\n",
       "  <thead>\n",
       "    <tr style=\"text-align: right;\">\n",
       "      <th></th>\n",
       "      <th>Date</th>\n",
       "      <th>HomeTeam</th>\n",
       "      <th>AwayTeam</th>\n",
       "      <th>FTHG</th>\n",
       "      <th>FTAG</th>\n",
       "      <th>HS</th>\n",
       "      <th>AS</th>\n",
       "      <th>HST</th>\n",
       "      <th>AST</th>\n",
       "      <th>HF</th>\n",
       "      <th>AF</th>\n",
       "      <th>HC</th>\n",
       "      <th>AC</th>\n",
       "      <th>HY</th>\n",
       "      <th>AY</th>\n",
       "      <th>HR</th>\n",
       "      <th>AR</th>\n",
       "      <th>B365H</th>\n",
       "      <th>B365D</th>\n",
       "      <th>B365A</th>\n",
       "      <th>Result</th>\n",
       "      <th>HDays</th>\n",
       "      <th>ADays</th>\n",
       "    </tr>\n",
       "  </thead>\n",
       "  <tbody>\n",
       "    <tr>\n",
       "      <th>0</th>\n",
       "      <td>2012-08-18</td>\n",
       "      <td>arsenal</td>\n",
       "      <td>sunderland</td>\n",
       "      <td>0.0</td>\n",
       "      <td>0.0</td>\n",
       "      <td>14.0</td>\n",
       "      <td>3.0</td>\n",
       "      <td>4.0</td>\n",
       "      <td>2.0</td>\n",
       "      <td>12.0</td>\n",
       "      <td>8.0</td>\n",
       "      <td>7.0</td>\n",
       "      <td>0.0</td>\n",
       "      <td>0.0</td>\n",
       "      <td>0.0</td>\n",
       "      <td>0.0</td>\n",
       "      <td>0.0</td>\n",
       "      <td>1.40</td>\n",
       "      <td>4.50</td>\n",
       "      <td>8.50</td>\n",
       "      <td>D</td>\n",
       "      <td>10</td>\n",
       "      <td>10</td>\n",
       "    </tr>\n",
       "    <tr>\n",
       "      <th>1</th>\n",
       "      <td>2012-08-18</td>\n",
       "      <td>fulham</td>\n",
       "      <td>norwich</td>\n",
       "      <td>5.0</td>\n",
       "      <td>0.0</td>\n",
       "      <td>11.0</td>\n",
       "      <td>4.0</td>\n",
       "      <td>9.0</td>\n",
       "      <td>2.0</td>\n",
       "      <td>12.0</td>\n",
       "      <td>11.0</td>\n",
       "      <td>6.0</td>\n",
       "      <td>3.0</td>\n",
       "      <td>0.0</td>\n",
       "      <td>0.0</td>\n",
       "      <td>0.0</td>\n",
       "      <td>0.0</td>\n",
       "      <td>1.80</td>\n",
       "      <td>3.60</td>\n",
       "      <td>4.50</td>\n",
       "      <td>W</td>\n",
       "      <td>10</td>\n",
       "      <td>10</td>\n",
       "    </tr>\n",
       "    <tr>\n",
       "      <th>2</th>\n",
       "      <td>2012-08-18</td>\n",
       "      <td>newcastle</td>\n",
       "      <td>tottenham</td>\n",
       "      <td>2.0</td>\n",
       "      <td>1.0</td>\n",
       "      <td>6.0</td>\n",
       "      <td>12.0</td>\n",
       "      <td>4.0</td>\n",
       "      <td>6.0</td>\n",
       "      <td>12.0</td>\n",
       "      <td>8.0</td>\n",
       "      <td>3.0</td>\n",
       "      <td>5.0</td>\n",
       "      <td>2.0</td>\n",
       "      <td>2.0</td>\n",
       "      <td>0.0</td>\n",
       "      <td>0.0</td>\n",
       "      <td>2.50</td>\n",
       "      <td>3.40</td>\n",
       "      <td>2.75</td>\n",
       "      <td>W</td>\n",
       "      <td>10</td>\n",
       "      <td>10</td>\n",
       "    </tr>\n",
       "    <tr>\n",
       "      <th>3</th>\n",
       "      <td>2012-08-18</td>\n",
       "      <td>qpr</td>\n",
       "      <td>swansea</td>\n",
       "      <td>0.0</td>\n",
       "      <td>5.0</td>\n",
       "      <td>20.0</td>\n",
       "      <td>12.0</td>\n",
       "      <td>11.0</td>\n",
       "      <td>8.0</td>\n",
       "      <td>11.0</td>\n",
       "      <td>14.0</td>\n",
       "      <td>5.0</td>\n",
       "      <td>3.0</td>\n",
       "      <td>2.0</td>\n",
       "      <td>2.0</td>\n",
       "      <td>0.0</td>\n",
       "      <td>0.0</td>\n",
       "      <td>2.00</td>\n",
       "      <td>3.40</td>\n",
       "      <td>3.80</td>\n",
       "      <td>L</td>\n",
       "      <td>10</td>\n",
       "      <td>10</td>\n",
       "    </tr>\n",
       "    <tr>\n",
       "      <th>4</th>\n",
       "      <td>2012-08-18</td>\n",
       "      <td>reading</td>\n",
       "      <td>stoke</td>\n",
       "      <td>1.0</td>\n",
       "      <td>1.0</td>\n",
       "      <td>9.0</td>\n",
       "      <td>6.0</td>\n",
       "      <td>3.0</td>\n",
       "      <td>3.0</td>\n",
       "      <td>9.0</td>\n",
       "      <td>14.0</td>\n",
       "      <td>4.0</td>\n",
       "      <td>3.0</td>\n",
       "      <td>2.0</td>\n",
       "      <td>4.0</td>\n",
       "      <td>0.0</td>\n",
       "      <td>1.0</td>\n",
       "      <td>2.38</td>\n",
       "      <td>3.25</td>\n",
       "      <td>3.10</td>\n",
       "      <td>D</td>\n",
       "      <td>10</td>\n",
       "      <td>10</td>\n",
       "    </tr>\n",
       "  </tbody>\n",
       "</table>\n",
       "</div>"
      ],
      "text/plain": [
       "         Date   HomeTeam    AwayTeam  FTHG  FTAG    HS    AS   HST  AST    HF  \\\n",
       "0  2012-08-18    arsenal  sunderland   0.0   0.0  14.0   3.0   4.0  2.0  12.0   \n",
       "1  2012-08-18     fulham     norwich   5.0   0.0  11.0   4.0   9.0  2.0  12.0   \n",
       "2  2012-08-18  newcastle   tottenham   2.0   1.0   6.0  12.0   4.0  6.0  12.0   \n",
       "3  2012-08-18        qpr     swansea   0.0   5.0  20.0  12.0  11.0  8.0  11.0   \n",
       "4  2012-08-18    reading       stoke   1.0   1.0   9.0   6.0   3.0  3.0   9.0   \n",
       "\n",
       "     AF   HC   AC   HY   AY   HR   AR  B365H  B365D  B365A Result  HDays  \\\n",
       "0   8.0  7.0  0.0  0.0  0.0  0.0  0.0   1.40   4.50   8.50      D     10   \n",
       "1  11.0  6.0  3.0  0.0  0.0  0.0  0.0   1.80   3.60   4.50      W     10   \n",
       "2   8.0  3.0  5.0  2.0  2.0  0.0  0.0   2.50   3.40   2.75      W     10   \n",
       "3  14.0  5.0  3.0  2.0  2.0  0.0  0.0   2.00   3.40   3.80      L     10   \n",
       "4  14.0  4.0  3.0  2.0  4.0  0.0  1.0   2.38   3.25   3.10      D     10   \n",
       "\n",
       "   ADays  \n",
       "0     10  \n",
       "1     10  \n",
       "2     10  \n",
       "3     10  \n",
       "4     10  "
      ]
     },
     "execution_count": 17,
     "metadata": {},
     "output_type": "execute_result"
    }
   ],
   "source": [
    "df.head()"
   ]
  },
  {
   "cell_type": "code",
   "execution_count": 18,
   "id": "27d1472a",
   "metadata": {},
   "outputs": [
    {
     "data": {
      "text/html": [
       "<div>\n",
       "<style scoped>\n",
       "    .dataframe tbody tr th:only-of-type {\n",
       "        vertical-align: middle;\n",
       "    }\n",
       "\n",
       "    .dataframe tbody tr th {\n",
       "        vertical-align: top;\n",
       "    }\n",
       "\n",
       "    .dataframe thead th {\n",
       "        text-align: right;\n",
       "    }\n",
       "</style>\n",
       "<table border=\"1\" class=\"dataframe\">\n",
       "  <thead>\n",
       "    <tr style=\"text-align: right;\">\n",
       "      <th></th>\n",
       "      <th>Date</th>\n",
       "      <th>HomeTeam</th>\n",
       "      <th>AwayTeam</th>\n",
       "      <th>FTHG</th>\n",
       "      <th>FTAG</th>\n",
       "      <th>HS</th>\n",
       "      <th>AS</th>\n",
       "      <th>HST</th>\n",
       "      <th>AST</th>\n",
       "      <th>HF</th>\n",
       "      <th>AF</th>\n",
       "      <th>HC</th>\n",
       "      <th>AC</th>\n",
       "      <th>HY</th>\n",
       "      <th>AY</th>\n",
       "      <th>HR</th>\n",
       "      <th>AR</th>\n",
       "      <th>B365H</th>\n",
       "      <th>B365D</th>\n",
       "      <th>B365A</th>\n",
       "      <th>Result</th>\n",
       "      <th>HDays</th>\n",
       "      <th>ADays</th>\n",
       "      <th>B365 Prediction</th>\n",
       "    </tr>\n",
       "  </thead>\n",
       "  <tbody>\n",
       "    <tr>\n",
       "      <th>0</th>\n",
       "      <td>2012-08-18</td>\n",
       "      <td>arsenal</td>\n",
       "      <td>sunderland</td>\n",
       "      <td>0.0</td>\n",
       "      <td>0.0</td>\n",
       "      <td>14.0</td>\n",
       "      <td>3.0</td>\n",
       "      <td>4.0</td>\n",
       "      <td>2.0</td>\n",
       "      <td>12.0</td>\n",
       "      <td>8.0</td>\n",
       "      <td>7.0</td>\n",
       "      <td>0.0</td>\n",
       "      <td>0.0</td>\n",
       "      <td>0.0</td>\n",
       "      <td>0.0</td>\n",
       "      <td>0.0</td>\n",
       "      <td>1.40</td>\n",
       "      <td>4.50</td>\n",
       "      <td>8.50</td>\n",
       "      <td>D</td>\n",
       "      <td>10</td>\n",
       "      <td>10</td>\n",
       "      <td>W</td>\n",
       "    </tr>\n",
       "    <tr>\n",
       "      <th>1</th>\n",
       "      <td>2012-08-18</td>\n",
       "      <td>fulham</td>\n",
       "      <td>norwich</td>\n",
       "      <td>5.0</td>\n",
       "      <td>0.0</td>\n",
       "      <td>11.0</td>\n",
       "      <td>4.0</td>\n",
       "      <td>9.0</td>\n",
       "      <td>2.0</td>\n",
       "      <td>12.0</td>\n",
       "      <td>11.0</td>\n",
       "      <td>6.0</td>\n",
       "      <td>3.0</td>\n",
       "      <td>0.0</td>\n",
       "      <td>0.0</td>\n",
       "      <td>0.0</td>\n",
       "      <td>0.0</td>\n",
       "      <td>1.80</td>\n",
       "      <td>3.60</td>\n",
       "      <td>4.50</td>\n",
       "      <td>W</td>\n",
       "      <td>10</td>\n",
       "      <td>10</td>\n",
       "      <td>W</td>\n",
       "    </tr>\n",
       "    <tr>\n",
       "      <th>2</th>\n",
       "      <td>2012-08-18</td>\n",
       "      <td>newcastle</td>\n",
       "      <td>tottenham</td>\n",
       "      <td>2.0</td>\n",
       "      <td>1.0</td>\n",
       "      <td>6.0</td>\n",
       "      <td>12.0</td>\n",
       "      <td>4.0</td>\n",
       "      <td>6.0</td>\n",
       "      <td>12.0</td>\n",
       "      <td>8.0</td>\n",
       "      <td>3.0</td>\n",
       "      <td>5.0</td>\n",
       "      <td>2.0</td>\n",
       "      <td>2.0</td>\n",
       "      <td>0.0</td>\n",
       "      <td>0.0</td>\n",
       "      <td>2.50</td>\n",
       "      <td>3.40</td>\n",
       "      <td>2.75</td>\n",
       "      <td>W</td>\n",
       "      <td>10</td>\n",
       "      <td>10</td>\n",
       "      <td>W</td>\n",
       "    </tr>\n",
       "    <tr>\n",
       "      <th>3</th>\n",
       "      <td>2012-08-18</td>\n",
       "      <td>qpr</td>\n",
       "      <td>swansea</td>\n",
       "      <td>0.0</td>\n",
       "      <td>5.0</td>\n",
       "      <td>20.0</td>\n",
       "      <td>12.0</td>\n",
       "      <td>11.0</td>\n",
       "      <td>8.0</td>\n",
       "      <td>11.0</td>\n",
       "      <td>14.0</td>\n",
       "      <td>5.0</td>\n",
       "      <td>3.0</td>\n",
       "      <td>2.0</td>\n",
       "      <td>2.0</td>\n",
       "      <td>0.0</td>\n",
       "      <td>0.0</td>\n",
       "      <td>2.00</td>\n",
       "      <td>3.40</td>\n",
       "      <td>3.80</td>\n",
       "      <td>L</td>\n",
       "      <td>10</td>\n",
       "      <td>10</td>\n",
       "      <td>W</td>\n",
       "    </tr>\n",
       "    <tr>\n",
       "      <th>4</th>\n",
       "      <td>2012-08-18</td>\n",
       "      <td>reading</td>\n",
       "      <td>stoke</td>\n",
       "      <td>1.0</td>\n",
       "      <td>1.0</td>\n",
       "      <td>9.0</td>\n",
       "      <td>6.0</td>\n",
       "      <td>3.0</td>\n",
       "      <td>3.0</td>\n",
       "      <td>9.0</td>\n",
       "      <td>14.0</td>\n",
       "      <td>4.0</td>\n",
       "      <td>3.0</td>\n",
       "      <td>2.0</td>\n",
       "      <td>4.0</td>\n",
       "      <td>0.0</td>\n",
       "      <td>1.0</td>\n",
       "      <td>2.38</td>\n",
       "      <td>3.25</td>\n",
       "      <td>3.10</td>\n",
       "      <td>D</td>\n",
       "      <td>10</td>\n",
       "      <td>10</td>\n",
       "      <td>W</td>\n",
       "    </tr>\n",
       "  </tbody>\n",
       "</table>\n",
       "</div>"
      ],
      "text/plain": [
       "         Date   HomeTeam    AwayTeam  FTHG  FTAG    HS    AS   HST  AST    HF  \\\n",
       "0  2012-08-18    arsenal  sunderland   0.0   0.0  14.0   3.0   4.0  2.0  12.0   \n",
       "1  2012-08-18     fulham     norwich   5.0   0.0  11.0   4.0   9.0  2.0  12.0   \n",
       "2  2012-08-18  newcastle   tottenham   2.0   1.0   6.0  12.0   4.0  6.0  12.0   \n",
       "3  2012-08-18        qpr     swansea   0.0   5.0  20.0  12.0  11.0  8.0  11.0   \n",
       "4  2012-08-18    reading       stoke   1.0   1.0   9.0   6.0   3.0  3.0   9.0   \n",
       "\n",
       "     AF   HC   AC   HY   AY   HR   AR  B365H  B365D  B365A Result  HDays  \\\n",
       "0   8.0  7.0  0.0  0.0  0.0  0.0  0.0   1.40   4.50   8.50      D     10   \n",
       "1  11.0  6.0  3.0  0.0  0.0  0.0  0.0   1.80   3.60   4.50      W     10   \n",
       "2   8.0  3.0  5.0  2.0  2.0  0.0  0.0   2.50   3.40   2.75      W     10   \n",
       "3  14.0  5.0  3.0  2.0  2.0  0.0  0.0   2.00   3.40   3.80      L     10   \n",
       "4  14.0  4.0  3.0  2.0  4.0  0.0  1.0   2.38   3.25   3.10      D     10   \n",
       "\n",
       "   ADays B365 Prediction  \n",
       "0     10               W  \n",
       "1     10               W  \n",
       "2     10               W  \n",
       "3     10               W  \n",
       "4     10               W  "
      ]
     },
     "execution_count": 18,
     "metadata": {},
     "output_type": "execute_result"
    }
   ],
   "source": [
    "def getB365Pred(row):\n",
    "    cols = ['B365H', 'B365D', 'B365A']\n",
    "    \n",
    "    lowest = 'B365H'\n",
    "    for c in cols:\n",
    "        if row[c] < row[lowest]:\n",
    "            lowest = c\n",
    "    \n",
    "    if lowest[-1] == 'H':\n",
    "        return 'W'\n",
    "    if lowest[-1] == 'A':\n",
    "        return 'L'\n",
    "    else:\n",
    "        return lowest[-1]\n",
    "\n",
    "df['B365 Prediction'] = df.apply(getB365Pred, axis=1)\n",
    "df.head()"
   ]
  },
  {
   "cell_type": "code",
   "execution_count": 19,
   "id": "d6c7775b",
   "metadata": {},
   "outputs": [
    {
     "data": {
      "text/plain": [
       "array(['W', 'L'], dtype=object)"
      ]
     },
     "execution_count": 19,
     "metadata": {},
     "output_type": "execute_result"
    }
   ],
   "source": [
    "df['B365 Prediction'].unique()"
   ]
  },
  {
   "cell_type": "code",
   "execution_count": 20,
   "id": "17b090f3",
   "metadata": {},
   "outputs": [
    {
     "data": {
      "text/plain": [
       "array([[1409,    0,  285],\n",
       "       [ 617,    0,  286],\n",
       "       [ 514,    0,  689]], dtype=int64)"
      ]
     },
     "execution_count": 20,
     "metadata": {},
     "output_type": "execute_result"
    }
   ],
   "source": [
    "from sklearn import metrics\n",
    "\n",
    "# confusion_matrix = metrics.confusion_matrix(df['Result'].tolist(), df['B365 Prediction'].tolist())\n",
    "# cm_display = metrics.ConfusionMatrixDisplay(confusion_matrix = confusion_matrix, display_labels = [False, True])\n",
    "# cm_display.plot()\n",
    "# plt.show()\n",
    "\n",
    "actual = df['Result'].tolist()\n",
    "predicted = df['B365 Prediction'].tolist()\n",
    "\n",
    "metrics.confusion_matrix(actual, predicted, labels=['W', 'D', 'L'])"
   ]
  },
  {
   "cell_type": "code",
   "execution_count": 21,
   "id": "748c2863",
   "metadata": {},
   "outputs": [],
   "source": [
    "df.drop('B365 Prediction', axis=1, inplace=True)"
   ]
  },
  {
   "cell_type": "markdown",
   "id": "24d52a8f",
   "metadata": {},
   "source": [
    "### 3.4.6 Does the number of days between matches affect the match outcome?"
   ]
  },
  {
   "cell_type": "code",
   "execution_count": 22,
   "id": "e6ff47f0",
   "metadata": {},
   "outputs": [
    {
     "data": {
      "text/plain": [
       "array([10,  3,  7,  5,  6,  8,  4,  9,  2], dtype=int64)"
      ]
     },
     "execution_count": 22,
     "metadata": {},
     "output_type": "execute_result"
    }
   ],
   "source": [
    "df['HDays'].unique()"
   ]
  },
  {
   "cell_type": "code",
   "execution_count": 23,
   "id": "9f2ccc70",
   "metadata": {
    "scrolled": true
   },
   "outputs": [
    {
     "data": {
      "text/plain": [
       "array([10,  9,  4,  5,  2,  7,  6,  8,  3], dtype=int64)"
      ]
     },
     "execution_count": 23,
     "metadata": {},
     "output_type": "execute_result"
    }
   ],
   "source": [
    "df['ADays'].unique()"
   ]
  },
  {
   "cell_type": "code",
   "execution_count": 24,
   "id": "758b9d32",
   "metadata": {},
   "outputs": [],
   "source": [
    "# def transform_DaysLastPlayed(word):\n",
    "#     if word == 'NaT':\n",
    "#         return 'High'\n",
    "    \n",
    "#     if int(word) < 0 or int(word) >= 5:\n",
    "#         return 'High'\n",
    "#     elif int(word) < 5:\n",
    "#         return 'Low'\n",
    "    \n",
    "# df['HDays'] = df['HDays'].apply(lambda x: transform_DaysLastPlayed(x))\n",
    "# df['ADays'] = df['ADays'].apply(lambda x: transform_DaysLastPlayed(x))\n",
    "# df.head()"
   ]
  },
  {
   "cell_type": "markdown",
   "id": "ba1fb311",
   "metadata": {},
   "source": [
    "## 3.6 Remove Redundant Variables"
   ]
  },
  {
   "cell_type": "code",
   "execution_count": 25,
   "id": "dcd5e20c",
   "metadata": {},
   "outputs": [
    {
     "data": {
      "text/html": [
       "<div>\n",
       "<style scoped>\n",
       "    .dataframe tbody tr th:only-of-type {\n",
       "        vertical-align: middle;\n",
       "    }\n",
       "\n",
       "    .dataframe tbody tr th {\n",
       "        vertical-align: top;\n",
       "    }\n",
       "\n",
       "    .dataframe thead th {\n",
       "        text-align: right;\n",
       "    }\n",
       "</style>\n",
       "<table border=\"1\" class=\"dataframe\">\n",
       "  <thead>\n",
       "    <tr style=\"text-align: right;\">\n",
       "      <th></th>\n",
       "      <th>Date</th>\n",
       "      <th>HomeTeam</th>\n",
       "      <th>AwayTeam</th>\n",
       "      <th>FTHG</th>\n",
       "      <th>FTAG</th>\n",
       "      <th>HS</th>\n",
       "      <th>AS</th>\n",
       "      <th>HST</th>\n",
       "      <th>AST</th>\n",
       "      <th>HF</th>\n",
       "      <th>AF</th>\n",
       "      <th>HC</th>\n",
       "      <th>AC</th>\n",
       "      <th>HY</th>\n",
       "      <th>AY</th>\n",
       "      <th>HR</th>\n",
       "      <th>AR</th>\n",
       "      <th>B365H</th>\n",
       "      <th>B365D</th>\n",
       "      <th>B365A</th>\n",
       "      <th>Result</th>\n",
       "      <th>HDays</th>\n",
       "      <th>ADays</th>\n",
       "    </tr>\n",
       "  </thead>\n",
       "  <tbody>\n",
       "    <tr>\n",
       "      <th>0</th>\n",
       "      <td>2012-08-18</td>\n",
       "      <td>arsenal</td>\n",
       "      <td>sunderland</td>\n",
       "      <td>0.0</td>\n",
       "      <td>0.0</td>\n",
       "      <td>14.0</td>\n",
       "      <td>3.0</td>\n",
       "      <td>4.0</td>\n",
       "      <td>2.0</td>\n",
       "      <td>12.0</td>\n",
       "      <td>8.0</td>\n",
       "      <td>7.0</td>\n",
       "      <td>0.0</td>\n",
       "      <td>0.0</td>\n",
       "      <td>0.0</td>\n",
       "      <td>0.0</td>\n",
       "      <td>0.0</td>\n",
       "      <td>1.40</td>\n",
       "      <td>4.50</td>\n",
       "      <td>8.50</td>\n",
       "      <td>D</td>\n",
       "      <td>10</td>\n",
       "      <td>10</td>\n",
       "    </tr>\n",
       "    <tr>\n",
       "      <th>1</th>\n",
       "      <td>2012-08-18</td>\n",
       "      <td>fulham</td>\n",
       "      <td>norwich</td>\n",
       "      <td>5.0</td>\n",
       "      <td>0.0</td>\n",
       "      <td>11.0</td>\n",
       "      <td>4.0</td>\n",
       "      <td>9.0</td>\n",
       "      <td>2.0</td>\n",
       "      <td>12.0</td>\n",
       "      <td>11.0</td>\n",
       "      <td>6.0</td>\n",
       "      <td>3.0</td>\n",
       "      <td>0.0</td>\n",
       "      <td>0.0</td>\n",
       "      <td>0.0</td>\n",
       "      <td>0.0</td>\n",
       "      <td>1.80</td>\n",
       "      <td>3.60</td>\n",
       "      <td>4.50</td>\n",
       "      <td>W</td>\n",
       "      <td>10</td>\n",
       "      <td>10</td>\n",
       "    </tr>\n",
       "    <tr>\n",
       "      <th>2</th>\n",
       "      <td>2012-08-18</td>\n",
       "      <td>newcastle</td>\n",
       "      <td>tottenham</td>\n",
       "      <td>2.0</td>\n",
       "      <td>1.0</td>\n",
       "      <td>6.0</td>\n",
       "      <td>12.0</td>\n",
       "      <td>4.0</td>\n",
       "      <td>6.0</td>\n",
       "      <td>12.0</td>\n",
       "      <td>8.0</td>\n",
       "      <td>3.0</td>\n",
       "      <td>5.0</td>\n",
       "      <td>2.0</td>\n",
       "      <td>2.0</td>\n",
       "      <td>0.0</td>\n",
       "      <td>0.0</td>\n",
       "      <td>2.50</td>\n",
       "      <td>3.40</td>\n",
       "      <td>2.75</td>\n",
       "      <td>W</td>\n",
       "      <td>10</td>\n",
       "      <td>10</td>\n",
       "    </tr>\n",
       "    <tr>\n",
       "      <th>3</th>\n",
       "      <td>2012-08-18</td>\n",
       "      <td>qpr</td>\n",
       "      <td>swansea</td>\n",
       "      <td>0.0</td>\n",
       "      <td>5.0</td>\n",
       "      <td>20.0</td>\n",
       "      <td>12.0</td>\n",
       "      <td>11.0</td>\n",
       "      <td>8.0</td>\n",
       "      <td>11.0</td>\n",
       "      <td>14.0</td>\n",
       "      <td>5.0</td>\n",
       "      <td>3.0</td>\n",
       "      <td>2.0</td>\n",
       "      <td>2.0</td>\n",
       "      <td>0.0</td>\n",
       "      <td>0.0</td>\n",
       "      <td>2.00</td>\n",
       "      <td>3.40</td>\n",
       "      <td>3.80</td>\n",
       "      <td>L</td>\n",
       "      <td>10</td>\n",
       "      <td>10</td>\n",
       "    </tr>\n",
       "    <tr>\n",
       "      <th>4</th>\n",
       "      <td>2012-08-18</td>\n",
       "      <td>reading</td>\n",
       "      <td>stoke</td>\n",
       "      <td>1.0</td>\n",
       "      <td>1.0</td>\n",
       "      <td>9.0</td>\n",
       "      <td>6.0</td>\n",
       "      <td>3.0</td>\n",
       "      <td>3.0</td>\n",
       "      <td>9.0</td>\n",
       "      <td>14.0</td>\n",
       "      <td>4.0</td>\n",
       "      <td>3.0</td>\n",
       "      <td>2.0</td>\n",
       "      <td>4.0</td>\n",
       "      <td>0.0</td>\n",
       "      <td>1.0</td>\n",
       "      <td>2.38</td>\n",
       "      <td>3.25</td>\n",
       "      <td>3.10</td>\n",
       "      <td>D</td>\n",
       "      <td>10</td>\n",
       "      <td>10</td>\n",
       "    </tr>\n",
       "  </tbody>\n",
       "</table>\n",
       "</div>"
      ],
      "text/plain": [
       "         Date   HomeTeam    AwayTeam  FTHG  FTAG    HS    AS   HST  AST    HF  \\\n",
       "0  2012-08-18    arsenal  sunderland   0.0   0.0  14.0   3.0   4.0  2.0  12.0   \n",
       "1  2012-08-18     fulham     norwich   5.0   0.0  11.0   4.0   9.0  2.0  12.0   \n",
       "2  2012-08-18  newcastle   tottenham   2.0   1.0   6.0  12.0   4.0  6.0  12.0   \n",
       "3  2012-08-18        qpr     swansea   0.0   5.0  20.0  12.0  11.0  8.0  11.0   \n",
       "4  2012-08-18    reading       stoke   1.0   1.0   9.0   6.0   3.0  3.0   9.0   \n",
       "\n",
       "     AF   HC   AC   HY   AY   HR   AR  B365H  B365D  B365A Result  HDays  \\\n",
       "0   8.0  7.0  0.0  0.0  0.0  0.0  0.0   1.40   4.50   8.50      D     10   \n",
       "1  11.0  6.0  3.0  0.0  0.0  0.0  0.0   1.80   3.60   4.50      W     10   \n",
       "2   8.0  3.0  5.0  2.0  2.0  0.0  0.0   2.50   3.40   2.75      W     10   \n",
       "3  14.0  5.0  3.0  2.0  2.0  0.0  0.0   2.00   3.40   3.80      L     10   \n",
       "4  14.0  4.0  3.0  2.0  4.0  0.0  1.0   2.38   3.25   3.10      D     10   \n",
       "\n",
       "   ADays  \n",
       "0     10  \n",
       "1     10  \n",
       "2     10  \n",
       "3     10  \n",
       "4     10  "
      ]
     },
     "execution_count": 25,
     "metadata": {},
     "output_type": "execute_result"
    }
   ],
   "source": [
    "df.head()"
   ]
  },
  {
   "cell_type": "code",
   "execution_count": 26,
   "id": "80696162",
   "metadata": {},
   "outputs": [],
   "source": [
    "# df.drop(['HF', 'AF', 'HC', 'AC', 'HY', 'AY', 'HR', 'AR', 'B365 Prediction'], axis=1, inplace=True)\n",
    "# df.head()"
   ]
  },
  {
   "cell_type": "markdown",
   "id": "4d2e8f97",
   "metadata": {},
   "source": [
    "## 3.7 Encode Categorical Data"
   ]
  },
  {
   "cell_type": "code",
   "execution_count": 27,
   "id": "884482c7",
   "metadata": {},
   "outputs": [],
   "source": [
    "# from sklearn.preprocessing import LabelEncoder\n",
    "\n",
    "# df['HDays'] = LabelEncoder().fit_transform(df['HDays'])\n",
    "# df['ADays'] = LabelEncoder().fit_transform(df['ADays'])\n",
    "# df.head()"
   ]
  },
  {
   "cell_type": "code",
   "execution_count": null,
   "id": "5fc78293",
   "metadata": {},
   "outputs": [],
   "source": []
  },
  {
   "cell_type": "markdown",
   "id": "27163ba8",
   "metadata": {},
   "source": [
    "## 3.8 Normalize Data \n",
    "\n",
    "(through normalizing, scaling, or standardizing the data)"
   ]
  },
  {
   "cell_type": "code",
   "execution_count": null,
   "id": "eeeea0a3",
   "metadata": {},
   "outputs": [],
   "source": []
  },
  {
   "cell_type": "markdown",
   "id": "f0eb8eac",
   "metadata": {},
   "source": [
    "# 4. Feature Engineering"
   ]
  },
  {
   "cell_type": "code",
   "execution_count": 28,
   "id": "39c8232b",
   "metadata": {},
   "outputs": [
    {
     "data": {
      "text/html": [
       "<div>\n",
       "<style scoped>\n",
       "    .dataframe tbody tr th:only-of-type {\n",
       "        vertical-align: middle;\n",
       "    }\n",
       "\n",
       "    .dataframe tbody tr th {\n",
       "        vertical-align: top;\n",
       "    }\n",
       "\n",
       "    .dataframe thead th {\n",
       "        text-align: right;\n",
       "    }\n",
       "</style>\n",
       "<table border=\"1\" class=\"dataframe\">\n",
       "  <thead>\n",
       "    <tr style=\"text-align: right;\">\n",
       "      <th></th>\n",
       "      <th>Date</th>\n",
       "      <th>HomeTeam</th>\n",
       "      <th>AwayTeam</th>\n",
       "      <th>FTHG</th>\n",
       "      <th>FTAG</th>\n",
       "      <th>HS</th>\n",
       "      <th>AS</th>\n",
       "      <th>HST</th>\n",
       "      <th>AST</th>\n",
       "      <th>HF</th>\n",
       "      <th>AF</th>\n",
       "      <th>HC</th>\n",
       "      <th>AC</th>\n",
       "      <th>HY</th>\n",
       "      <th>AY</th>\n",
       "      <th>HR</th>\n",
       "      <th>AR</th>\n",
       "      <th>B365H</th>\n",
       "      <th>B365D</th>\n",
       "      <th>B365A</th>\n",
       "      <th>Result</th>\n",
       "      <th>HDays</th>\n",
       "      <th>ADays</th>\n",
       "    </tr>\n",
       "  </thead>\n",
       "  <tbody>\n",
       "    <tr>\n",
       "      <th>0</th>\n",
       "      <td>2012-08-18</td>\n",
       "      <td>arsenal</td>\n",
       "      <td>sunderland</td>\n",
       "      <td>0.0</td>\n",
       "      <td>0.0</td>\n",
       "      <td>14.0</td>\n",
       "      <td>3.0</td>\n",
       "      <td>4.0</td>\n",
       "      <td>2.0</td>\n",
       "      <td>12.0</td>\n",
       "      <td>8.0</td>\n",
       "      <td>7.0</td>\n",
       "      <td>0.0</td>\n",
       "      <td>0.0</td>\n",
       "      <td>0.0</td>\n",
       "      <td>0.0</td>\n",
       "      <td>0.0</td>\n",
       "      <td>1.40</td>\n",
       "      <td>4.50</td>\n",
       "      <td>8.50</td>\n",
       "      <td>D</td>\n",
       "      <td>10</td>\n",
       "      <td>10</td>\n",
       "    </tr>\n",
       "    <tr>\n",
       "      <th>1</th>\n",
       "      <td>2012-08-18</td>\n",
       "      <td>fulham</td>\n",
       "      <td>norwich</td>\n",
       "      <td>5.0</td>\n",
       "      <td>0.0</td>\n",
       "      <td>11.0</td>\n",
       "      <td>4.0</td>\n",
       "      <td>9.0</td>\n",
       "      <td>2.0</td>\n",
       "      <td>12.0</td>\n",
       "      <td>11.0</td>\n",
       "      <td>6.0</td>\n",
       "      <td>3.0</td>\n",
       "      <td>0.0</td>\n",
       "      <td>0.0</td>\n",
       "      <td>0.0</td>\n",
       "      <td>0.0</td>\n",
       "      <td>1.80</td>\n",
       "      <td>3.60</td>\n",
       "      <td>4.50</td>\n",
       "      <td>W</td>\n",
       "      <td>10</td>\n",
       "      <td>10</td>\n",
       "    </tr>\n",
       "    <tr>\n",
       "      <th>2</th>\n",
       "      <td>2012-08-18</td>\n",
       "      <td>newcastle</td>\n",
       "      <td>tottenham</td>\n",
       "      <td>2.0</td>\n",
       "      <td>1.0</td>\n",
       "      <td>6.0</td>\n",
       "      <td>12.0</td>\n",
       "      <td>4.0</td>\n",
       "      <td>6.0</td>\n",
       "      <td>12.0</td>\n",
       "      <td>8.0</td>\n",
       "      <td>3.0</td>\n",
       "      <td>5.0</td>\n",
       "      <td>2.0</td>\n",
       "      <td>2.0</td>\n",
       "      <td>0.0</td>\n",
       "      <td>0.0</td>\n",
       "      <td>2.50</td>\n",
       "      <td>3.40</td>\n",
       "      <td>2.75</td>\n",
       "      <td>W</td>\n",
       "      <td>10</td>\n",
       "      <td>10</td>\n",
       "    </tr>\n",
       "    <tr>\n",
       "      <th>3</th>\n",
       "      <td>2012-08-18</td>\n",
       "      <td>qpr</td>\n",
       "      <td>swansea</td>\n",
       "      <td>0.0</td>\n",
       "      <td>5.0</td>\n",
       "      <td>20.0</td>\n",
       "      <td>12.0</td>\n",
       "      <td>11.0</td>\n",
       "      <td>8.0</td>\n",
       "      <td>11.0</td>\n",
       "      <td>14.0</td>\n",
       "      <td>5.0</td>\n",
       "      <td>3.0</td>\n",
       "      <td>2.0</td>\n",
       "      <td>2.0</td>\n",
       "      <td>0.0</td>\n",
       "      <td>0.0</td>\n",
       "      <td>2.00</td>\n",
       "      <td>3.40</td>\n",
       "      <td>3.80</td>\n",
       "      <td>L</td>\n",
       "      <td>10</td>\n",
       "      <td>10</td>\n",
       "    </tr>\n",
       "    <tr>\n",
       "      <th>4</th>\n",
       "      <td>2012-08-18</td>\n",
       "      <td>reading</td>\n",
       "      <td>stoke</td>\n",
       "      <td>1.0</td>\n",
       "      <td>1.0</td>\n",
       "      <td>9.0</td>\n",
       "      <td>6.0</td>\n",
       "      <td>3.0</td>\n",
       "      <td>3.0</td>\n",
       "      <td>9.0</td>\n",
       "      <td>14.0</td>\n",
       "      <td>4.0</td>\n",
       "      <td>3.0</td>\n",
       "      <td>2.0</td>\n",
       "      <td>4.0</td>\n",
       "      <td>0.0</td>\n",
       "      <td>1.0</td>\n",
       "      <td>2.38</td>\n",
       "      <td>3.25</td>\n",
       "      <td>3.10</td>\n",
       "      <td>D</td>\n",
       "      <td>10</td>\n",
       "      <td>10</td>\n",
       "    </tr>\n",
       "  </tbody>\n",
       "</table>\n",
       "</div>"
      ],
      "text/plain": [
       "         Date   HomeTeam    AwayTeam  FTHG  FTAG    HS    AS   HST  AST    HF  \\\n",
       "0  2012-08-18    arsenal  sunderland   0.0   0.0  14.0   3.0   4.0  2.0  12.0   \n",
       "1  2012-08-18     fulham     norwich   5.0   0.0  11.0   4.0   9.0  2.0  12.0   \n",
       "2  2012-08-18  newcastle   tottenham   2.0   1.0   6.0  12.0   4.0  6.0  12.0   \n",
       "3  2012-08-18        qpr     swansea   0.0   5.0  20.0  12.0  11.0  8.0  11.0   \n",
       "4  2012-08-18    reading       stoke   1.0   1.0   9.0   6.0   3.0  3.0   9.0   \n",
       "\n",
       "     AF   HC   AC   HY   AY   HR   AR  B365H  B365D  B365A Result  HDays  \\\n",
       "0   8.0  7.0  0.0  0.0  0.0  0.0  0.0   1.40   4.50   8.50      D     10   \n",
       "1  11.0  6.0  3.0  0.0  0.0  0.0  0.0   1.80   3.60   4.50      W     10   \n",
       "2   8.0  3.0  5.0  2.0  2.0  0.0  0.0   2.50   3.40   2.75      W     10   \n",
       "3  14.0  5.0  3.0  2.0  2.0  0.0  0.0   2.00   3.40   3.80      L     10   \n",
       "4  14.0  4.0  3.0  2.0  4.0  0.0  1.0   2.38   3.25   3.10      D     10   \n",
       "\n",
       "   ADays  \n",
       "0     10  \n",
       "1     10  \n",
       "2     10  \n",
       "3     10  \n",
       "4     10  "
      ]
     },
     "execution_count": 28,
     "metadata": {},
     "output_type": "execute_result"
    }
   ],
   "source": [
    "df.head()"
   ]
  },
  {
   "cell_type": "markdown",
   "id": "eb148db0",
   "metadata": {},
   "source": [
    "## (NEW!!) Average Number of Shots by Home Team in the Last x Matches"
   ]
  },
  {
   "cell_type": "code",
   "execution_count": 29,
   "id": "f123aae9",
   "metadata": {},
   "outputs": [],
   "source": [
    "def getShots(row, team):\n",
    "    if row['HomeTeam'] == team:\n",
    "        return row['HS']\n",
    "    else:\n",
    "        return row['AS']"
   ]
  },
  {
   "cell_type": "code",
   "execution_count": 30,
   "id": "ff09f4d3",
   "metadata": {},
   "outputs": [],
   "source": [
    "temp_df = pd.DataFrame()\n",
    "\n",
    "for team in df['HomeTeam'].unique():\n",
    "    team_df = df[(df['HomeTeam'] == team) | (df['AwayTeam'] == team)]\n",
    "    team_df = team_df.sort_values(by = 'Date')\n",
    "    \n",
    "    team_df['Total Shots'] = team_df.apply(lambda row: getShots(row, team), axis=1)\n",
    "    \n",
    "    number_of_previous_matches = 5\n",
    "    column = 0\n",
    "    \n",
    "    for i in range(1, number_of_previous_matches+1):\n",
    "        column += team_df['Total Shots'].shift(i)\n",
    "    \n",
    "    team_df['HASL5M'] = column / number_of_previous_matches\n",
    "    team_df.drop(columns=['Total Shots'], inplace=True)\n",
    "    \n",
    "    team_df = team_df[team_df['HomeTeam'] == team]\n",
    "    temp_df = pd.concat([temp_df, team_df]).reset_index(drop=True)\n",
    "\n",
    "df = temp_df"
   ]
  },
  {
   "cell_type": "code",
   "execution_count": 31,
   "id": "94b8603b",
   "metadata": {},
   "outputs": [],
   "source": [
    "# df.head(10)"
   ]
  },
  {
   "cell_type": "code",
   "execution_count": 32,
   "id": "f1783575",
   "metadata": {},
   "outputs": [
    {
     "data": {
      "text/plain": [
       "(3800, 24)"
      ]
     },
     "execution_count": 32,
     "metadata": {},
     "output_type": "execute_result"
    }
   ],
   "source": [
    "df.shape"
   ]
  },
  {
   "cell_type": "markdown",
   "id": "eaa1c3f2",
   "metadata": {},
   "source": [
    "## (NEW!!) Average Number of Shots on Target by Home Team in the Last x Matches"
   ]
  },
  {
   "cell_type": "code",
   "execution_count": 33,
   "id": "10e68e56",
   "metadata": {},
   "outputs": [],
   "source": [
    "def getShotsOnTarget(row, team):\n",
    "    if row['HomeTeam'] == team:\n",
    "        return row['HST']\n",
    "    else:\n",
    "        return row['AST']"
   ]
  },
  {
   "cell_type": "code",
   "execution_count": 34,
   "id": "90854572",
   "metadata": {},
   "outputs": [],
   "source": [
    "temp_df = pd.DataFrame()\n",
    "\n",
    "for team in df['HomeTeam'].unique():\n",
    "    team_df = df[(df['HomeTeam'] == team) | (df['AwayTeam'] == team)]\n",
    "    team_df = team_df.sort_values(by = 'Date')\n",
    "    \n",
    "    team_df['Total Shots on Target'] = team_df.apply(lambda row: getShotsOnTarget(row, team), axis=1)\n",
    "    \n",
    "    number_of_previous_matches = 5\n",
    "    column = 0\n",
    "    \n",
    "    for i in range(1, number_of_previous_matches+1):\n",
    "        column += team_df['Total Shots on Target'].shift(i)\n",
    "    \n",
    "    team_df['HASTL5M'] = column / number_of_previous_matches\n",
    "    team_df.drop(columns=['Total Shots on Target'], inplace=True)\n",
    "    \n",
    "    team_df = team_df[team_df['HomeTeam'] == team]\n",
    "    temp_df = pd.concat([temp_df, team_df]).reset_index(drop=True)\n",
    "\n",
    "df = temp_df"
   ]
  },
  {
   "cell_type": "code",
   "execution_count": 35,
   "id": "3f3de3ce",
   "metadata": {},
   "outputs": [],
   "source": [
    "# df.head(10)"
   ]
  },
  {
   "cell_type": "code",
   "execution_count": 36,
   "id": "f4e49773",
   "metadata": {
    "scrolled": true
   },
   "outputs": [
    {
     "data": {
      "text/plain": [
       "(3800, 25)"
      ]
     },
     "execution_count": 36,
     "metadata": {},
     "output_type": "execute_result"
    }
   ],
   "source": [
    "df.shape"
   ]
  },
  {
   "cell_type": "markdown",
   "id": "e3c35e6d",
   "metadata": {},
   "source": [
    "## (NEW!!) Average Number of Corners by Home Team in the Last x Matches"
   ]
  },
  {
   "cell_type": "code",
   "execution_count": 37,
   "id": "fa8767df",
   "metadata": {},
   "outputs": [],
   "source": [
    "def getCorners(row, team):\n",
    "    if row['HomeTeam'] == team:\n",
    "        return row['HC']\n",
    "    else:\n",
    "        return row['AC']"
   ]
  },
  {
   "cell_type": "code",
   "execution_count": 38,
   "id": "636f7592",
   "metadata": {},
   "outputs": [],
   "source": [
    "temp_df = pd.DataFrame()\n",
    "\n",
    "for team in df['HomeTeam'].unique():\n",
    "    team_df = df[(df['HomeTeam'] == team) | (df['AwayTeam'] == team)]\n",
    "    team_df = team_df.sort_values(by = 'Date')\n",
    "    \n",
    "    team_df['Total Corners'] = team_df.apply(lambda row: getCorners(row, team), axis=1)\n",
    "    \n",
    "    number_of_previous_matches = 5\n",
    "    column = 0\n",
    "    \n",
    "    for i in range(1, number_of_previous_matches+1):\n",
    "        column += team_df['Total Corners'].shift(i)\n",
    "    \n",
    "    team_df['HACL5M'] = column / number_of_previous_matches\n",
    "    team_df.drop(columns=['Total Corners'], inplace=True)\n",
    "    \n",
    "    team_df = team_df[team_df['HomeTeam'] == team]\n",
    "    temp_df = pd.concat([temp_df, team_df]).reset_index(drop=True)\n",
    "\n",
    "df = temp_df"
   ]
  },
  {
   "cell_type": "code",
   "execution_count": 39,
   "id": "4dccb6a6",
   "metadata": {},
   "outputs": [],
   "source": [
    "# df.head()"
   ]
  },
  {
   "cell_type": "code",
   "execution_count": 40,
   "id": "343a902e",
   "metadata": {},
   "outputs": [
    {
     "data": {
      "text/plain": [
       "(3800, 26)"
      ]
     },
     "execution_count": 40,
     "metadata": {},
     "output_type": "execute_result"
    }
   ],
   "source": [
    "df.shape"
   ]
  },
  {
   "cell_type": "markdown",
   "id": "c949d093",
   "metadata": {},
   "source": [
    "## (NEW!!) Average Number of Fouls by Home Team in the Last x Matches"
   ]
  },
  {
   "cell_type": "code",
   "execution_count": 41,
   "id": "0009badc",
   "metadata": {},
   "outputs": [],
   "source": [
    "def getFouls(row, team):\n",
    "    if row['HomeTeam'] == team:\n",
    "        return row['HF']\n",
    "    else:\n",
    "        return row['AF']"
   ]
  },
  {
   "cell_type": "code",
   "execution_count": 42,
   "id": "22b2c568",
   "metadata": {},
   "outputs": [],
   "source": [
    "temp_df = pd.DataFrame()\n",
    "\n",
    "for team in df['HomeTeam'].unique():\n",
    "    team_df = df[(df['HomeTeam'] == team) | (df['AwayTeam'] == team)]\n",
    "    team_df = team_df.sort_values(by = 'Date')\n",
    "    \n",
    "    team_df['Total Fouls'] = team_df.apply(lambda row: getFouls(row, team), axis=1)\n",
    "    \n",
    "    number_of_previous_matches = 5\n",
    "    column = 0\n",
    "    \n",
    "    for i in range(1, number_of_previous_matches+1):\n",
    "        column += team_df['Total Fouls'].shift(i)\n",
    "    \n",
    "    team_df['HAFL5M'] = column / number_of_previous_matches\n",
    "    team_df.drop(columns=['Total Fouls'], inplace=True)\n",
    "    \n",
    "    team_df = team_df[team_df['HomeTeam'] == team]\n",
    "    temp_df = pd.concat([temp_df, team_df]).reset_index(drop=True)\n",
    "\n",
    "df = temp_df"
   ]
  },
  {
   "cell_type": "code",
   "execution_count": 43,
   "id": "ac6b2384",
   "metadata": {},
   "outputs": [],
   "source": [
    "# df.head()"
   ]
  },
  {
   "cell_type": "code",
   "execution_count": 44,
   "id": "ff25b4ee",
   "metadata": {},
   "outputs": [
    {
     "data": {
      "text/plain": [
       "(3800, 27)"
      ]
     },
     "execution_count": 44,
     "metadata": {},
     "output_type": "execute_result"
    }
   ],
   "source": [
    "df.shape"
   ]
  },
  {
   "cell_type": "markdown",
   "id": "77f40439",
   "metadata": {},
   "source": [
    "## (NEW!!) Average Number of Yellow Cards by Home Team in the Last x Matches"
   ]
  },
  {
   "cell_type": "code",
   "execution_count": 45,
   "id": "2d6ce0fd",
   "metadata": {},
   "outputs": [],
   "source": [
    "def getYellowCards(row, team):\n",
    "    if row['HomeTeam'] == team:\n",
    "        return row['HY']\n",
    "    else:\n",
    "        return row['AY']"
   ]
  },
  {
   "cell_type": "code",
   "execution_count": 46,
   "id": "fef3a70e",
   "metadata": {},
   "outputs": [],
   "source": [
    "temp_df = pd.DataFrame()\n",
    "\n",
    "for team in df['HomeTeam'].unique():\n",
    "    team_df = df[(df['HomeTeam'] == team) | (df['AwayTeam'] == team)]\n",
    "    team_df = team_df.sort_values(by = 'Date')\n",
    "    \n",
    "    team_df['Total Yellow Cards'] = team_df.apply(lambda row: getYellowCards(row, team), axis=1)\n",
    "    \n",
    "    number_of_previous_matches = 5\n",
    "    column = 0\n",
    "    \n",
    "    for i in range(1, number_of_previous_matches+1):\n",
    "        column += team_df['Total Yellow Cards'].shift(i)\n",
    "    \n",
    "    team_df['HAYCL5M'] = column / number_of_previous_matches\n",
    "    team_df.drop(columns=['Total Yellow Cards'], inplace=True)\n",
    "    \n",
    "    team_df = team_df[team_df['HomeTeam'] == team]\n",
    "    temp_df = pd.concat([temp_df, team_df]).reset_index(drop=True)\n",
    "\n",
    "df = temp_df"
   ]
  },
  {
   "cell_type": "code",
   "execution_count": 47,
   "id": "9c31ba0e",
   "metadata": {},
   "outputs": [],
   "source": [
    "# df.head()"
   ]
  },
  {
   "cell_type": "code",
   "execution_count": 48,
   "id": "55990707",
   "metadata": {},
   "outputs": [
    {
     "data": {
      "text/plain": [
       "(3800, 28)"
      ]
     },
     "execution_count": 48,
     "metadata": {},
     "output_type": "execute_result"
    }
   ],
   "source": [
    "df.shape"
   ]
  },
  {
   "cell_type": "markdown",
   "id": "46384230",
   "metadata": {},
   "source": [
    "## (NEW!!) Average Number of Red Cards by Home Team in the Last x Matches"
   ]
  },
  {
   "cell_type": "code",
   "execution_count": 49,
   "id": "4416ac60",
   "metadata": {},
   "outputs": [],
   "source": [
    "def getRedCards(row, team):\n",
    "    if row['HomeTeam'] == team:\n",
    "        return row['HR']\n",
    "    else:\n",
    "        return row['AR']"
   ]
  },
  {
   "cell_type": "code",
   "execution_count": 50,
   "id": "8342b846",
   "metadata": {},
   "outputs": [],
   "source": [
    "temp_df = pd.DataFrame()\n",
    "\n",
    "for team in df['HomeTeam'].unique():\n",
    "    team_df = df[(df['HomeTeam'] == team) | (df['AwayTeam'] == team)]\n",
    "    team_df = team_df.sort_values(by = 'Date')\n",
    "    \n",
    "    team_df['Total Red Cards'] = team_df.apply(lambda row: getRedCards(row, team), axis=1)\n",
    "    \n",
    "    number_of_previous_matches = 5\n",
    "    column = 0\n",
    "    \n",
    "    for i in range(1, number_of_previous_matches+1):\n",
    "        column += team_df['Total Red Cards'].shift(i)\n",
    "    \n",
    "    team_df['HARCL5M'] = column / number_of_previous_matches\n",
    "    team_df.drop(columns=['Total Red Cards'], inplace=True)\n",
    "    \n",
    "    team_df = team_df[team_df['HomeTeam'] == team]\n",
    "    temp_df = pd.concat([temp_df, team_df]).reset_index(drop=True)\n",
    "\n",
    "df = temp_df"
   ]
  },
  {
   "cell_type": "code",
   "execution_count": 51,
   "id": "a33a0867",
   "metadata": {},
   "outputs": [],
   "source": [
    "# df.head()"
   ]
  },
  {
   "cell_type": "code",
   "execution_count": 52,
   "id": "391329b1",
   "metadata": {},
   "outputs": [
    {
     "data": {
      "text/plain": [
       "(3800, 29)"
      ]
     },
     "execution_count": 52,
     "metadata": {},
     "output_type": "execute_result"
    }
   ],
   "source": [
    "df.shape"
   ]
  },
  {
   "cell_type": "markdown",
   "id": "3e478431",
   "metadata": {},
   "source": [
    "## (NEW!!) Average Goals Scored by Home Team in the Last x Matches"
   ]
  },
  {
   "cell_type": "code",
   "execution_count": 53,
   "id": "931fb970",
   "metadata": {},
   "outputs": [],
   "source": [
    "def getGoalsScored(row, team):\n",
    "    if row['HomeTeam'] == team:\n",
    "        return row['FTHG']\n",
    "    else:\n",
    "        return row['FTAG']"
   ]
  },
  {
   "cell_type": "code",
   "execution_count": 54,
   "id": "3c62bc23",
   "metadata": {},
   "outputs": [],
   "source": [
    "temp_df = pd.DataFrame()\n",
    "\n",
    "for team in df['HomeTeam'].unique():\n",
    "    team_df = df[(df['HomeTeam'] == team) | (df['AwayTeam'] == team)]\n",
    "    team_df = team_df.sort_values(by = 'Date')\n",
    "    \n",
    "    team_df['Total Goals Scored'] = team_df.apply(lambda row: getGoalsScored(row, team), axis=1)\n",
    "    \n",
    "    number_of_previous_matches = 5\n",
    "    column = 0\n",
    "    \n",
    "    for i in range(1, number_of_previous_matches+1):\n",
    "        column += team_df['Total Goals Scored'].shift(i)\n",
    "    \n",
    "    team_df['HAGSL5M'] = column / number_of_previous_matches\n",
    "    team_df.drop(columns=['Total Goals Scored'], inplace=True)\n",
    "    \n",
    "    team_df = team_df[team_df['HomeTeam'] == team]\n",
    "    temp_df = pd.concat([temp_df, team_df]).reset_index(drop=True)\n",
    "\n",
    "df = temp_df"
   ]
  },
  {
   "cell_type": "code",
   "execution_count": 55,
   "id": "b217d90c",
   "metadata": {},
   "outputs": [],
   "source": [
    "# df.head()"
   ]
  },
  {
   "cell_type": "code",
   "execution_count": 56,
   "id": "684f4486",
   "metadata": {},
   "outputs": [
    {
     "data": {
      "text/plain": [
       "(3800, 30)"
      ]
     },
     "execution_count": 56,
     "metadata": {},
     "output_type": "execute_result"
    }
   ],
   "source": [
    "df.shape"
   ]
  },
  {
   "cell_type": "markdown",
   "id": "8979141b",
   "metadata": {},
   "source": [
    "## (NEW!!) Average Goals Conceded by Home Team in the Last x Matches"
   ]
  },
  {
   "cell_type": "code",
   "execution_count": 57,
   "id": "bc61bfd5",
   "metadata": {},
   "outputs": [],
   "source": [
    "def getGoalsConceded(row, team):\n",
    "    if row['HomeTeam'] == team:\n",
    "        return row['FTAG']\n",
    "    else:\n",
    "        return row['FTHG']"
   ]
  },
  {
   "cell_type": "code",
   "execution_count": 58,
   "id": "a01ee252",
   "metadata": {},
   "outputs": [],
   "source": [
    "temp_df = pd.DataFrame()\n",
    "\n",
    "for team in df['HomeTeam'].unique():\n",
    "    team_df = df[(df['HomeTeam'] == team) | (df['AwayTeam'] == team)]\n",
    "    team_df = team_df.sort_values(by = 'Date')\n",
    "    \n",
    "    team_df['Total Goals Conceded'] = team_df.apply(lambda row: getGoalsConceded(row, team), axis=1)\n",
    "    \n",
    "    number_of_previous_matches = 5\n",
    "    column = 0\n",
    "    \n",
    "    for i in range(1, number_of_previous_matches+1):\n",
    "        column += team_df['Total Goals Conceded'].shift(i)\n",
    "    \n",
    "    team_df['HAGCL5M'] = column / number_of_previous_matches\n",
    "    team_df.drop(columns=['Total Goals Conceded'], inplace=True)\n",
    "    \n",
    "    team_df = team_df[team_df['HomeTeam'] == team]\n",
    "    temp_df = pd.concat([temp_df, team_df]).reset_index(drop=True)\n",
    "\n",
    "df = temp_df"
   ]
  },
  {
   "cell_type": "code",
   "execution_count": 59,
   "id": "af2ec040",
   "metadata": {},
   "outputs": [],
   "source": [
    "# df.head()"
   ]
  },
  {
   "cell_type": "code",
   "execution_count": 60,
   "id": "398563ff",
   "metadata": {},
   "outputs": [
    {
     "data": {
      "text/plain": [
       "(3800, 31)"
      ]
     },
     "execution_count": 60,
     "metadata": {},
     "output_type": "execute_result"
    }
   ],
   "source": [
    "df.shape"
   ]
  },
  {
   "cell_type": "markdown",
   "id": "768130ca",
   "metadata": {},
   "source": [
    "## (NEW!!) Average Goals Scored by Home Team in the Last x Home Matches"
   ]
  },
  {
   "cell_type": "code",
   "execution_count": 61,
   "id": "78a751ff",
   "metadata": {},
   "outputs": [],
   "source": [
    "temp_df = pd.DataFrame()\n",
    "\n",
    "for team in df['HomeTeam'].unique():\n",
    "    team_df = df[df['HomeTeam'] == team]\n",
    "    \n",
    "    number_of_previous_matches = 5\n",
    "    column = 0;\n",
    "    \n",
    "    team_df = team_df.sort_values(by = 'Date')\n",
    "    for i in range(1, number_of_previous_matches+1):\n",
    "        column += team_df['FTHG'].shift(i)\n",
    "\n",
    "    team_df['HAGSL5HM'] = column / number_of_previous_matches\n",
    "    temp_df = pd.concat([temp_df, team_df]).reset_index(drop=True)\n",
    "\n",
    "df = temp_df"
   ]
  },
  {
   "cell_type": "code",
   "execution_count": 62,
   "id": "5410767c",
   "metadata": {},
   "outputs": [],
   "source": [
    "# df.head()"
   ]
  },
  {
   "cell_type": "code",
   "execution_count": 63,
   "id": "a1c1111c",
   "metadata": {},
   "outputs": [
    {
     "data": {
      "text/plain": [
       "(3800, 32)"
      ]
     },
     "execution_count": 63,
     "metadata": {},
     "output_type": "execute_result"
    }
   ],
   "source": [
    "df.shape"
   ]
  },
  {
   "cell_type": "markdown",
   "id": "961598ac",
   "metadata": {},
   "source": [
    "## (NEW!!) Average Goals Conceded by Home Team in the Last x Home Matches"
   ]
  },
  {
   "cell_type": "code",
   "execution_count": 64,
   "id": "2d568fa5",
   "metadata": {},
   "outputs": [],
   "source": [
    "temp_df = pd.DataFrame()\n",
    "\n",
    "for team in df['HomeTeam'].unique():\n",
    "    team_df = df[df['HomeTeam'] == team]\n",
    "    \n",
    "    number_of_previous_matches = 5\n",
    "    column = 0;\n",
    "    \n",
    "    team_df = team_df.sort_values(by = 'Date')\n",
    "    for i in range(1, number_of_previous_matches+1):\n",
    "        column += team_df['FTAG'].shift(i)\n",
    "\n",
    "    team_df['HAGCL5HM'] = column / number_of_previous_matches\n",
    "    temp_df = pd.concat([temp_df, team_df]).reset_index(drop=True)\n",
    "\n",
    "df = temp_df"
   ]
  },
  {
   "cell_type": "code",
   "execution_count": 65,
   "id": "16faba6e",
   "metadata": {},
   "outputs": [],
   "source": [
    "# df.head()"
   ]
  },
  {
   "cell_type": "code",
   "execution_count": 66,
   "id": "59a9dfe6",
   "metadata": {},
   "outputs": [
    {
     "data": {
      "text/plain": [
       "(3800, 33)"
      ]
     },
     "execution_count": 66,
     "metadata": {},
     "output_type": "execute_result"
    }
   ],
   "source": [
    "df.shape"
   ]
  },
  {
   "cell_type": "markdown",
   "id": "b4b03d80",
   "metadata": {},
   "source": [
    "## Goals Difference of Home Team in the Last x Matches"
   ]
  },
  {
   "cell_type": "code",
   "execution_count": 67,
   "id": "1b6028ac",
   "metadata": {},
   "outputs": [],
   "source": [
    "def getGoalsScoredByTeam(row, team):\n",
    "    if row['HomeTeam'] == team:\n",
    "        return row['FTHG']\n",
    "    elif row['AwayTeam'] == team:\n",
    "        return row['FTAG']"
   ]
  },
  {
   "cell_type": "code",
   "execution_count": 68,
   "id": "8476f0fe",
   "metadata": {},
   "outputs": [],
   "source": [
    "def getGoalsScoredByOpponent(row, team):\n",
    "    if row['HomeTeam'] == team:\n",
    "        return row['FTAG']\n",
    "    elif row['AwayTeam'] == team:\n",
    "        return row['FTHG']"
   ]
  },
  {
   "cell_type": "code",
   "execution_count": 69,
   "id": "a9325854",
   "metadata": {},
   "outputs": [],
   "source": [
    "temp_df = pd.DataFrame()\n",
    "\n",
    "for team in df['HomeTeam'].unique():\n",
    "    team_df = df[(df['HomeTeam'] == team) | (df['AwayTeam'] == team)]\n",
    "    team_df = team_df.sort_values(by = 'Date')\n",
    "    \n",
    "    number_of_previous_matches = 5\n",
    "    column1 = 0;\n",
    "    column2 = 0;\n",
    "    \n",
    "    team_df['GoalsScoredByTeam'] = team_df.apply(lambda row: getGoalsScoredByTeam(row, team), axis=1)\n",
    "    team_df['GoalsScoredByOpponent'] = team_df.apply(lambda row: getGoalsScoredByOpponent(row, team), axis=1)\n",
    "    \n",
    "    for i in range(1, number_of_previous_matches+1):\n",
    "        column1 += team_df['GoalsScoredByTeam'].shift(i)\n",
    "        column2 += team_df['GoalsScoredByOpponent'].shift(i)\n",
    "    \n",
    "    team_df['HGDL5M'] = column1 - column2\n",
    "    team_df.drop(columns=['GoalsScoredByTeam', 'GoalsScoredByOpponent'], inplace=True)\n",
    "    team_df = team_df[team_df['HomeTeam'] == team]\n",
    "    temp_df = pd.concat([temp_df, team_df]).reset_index(drop=True)\n",
    "\n",
    "df = temp_df"
   ]
  },
  {
   "cell_type": "code",
   "execution_count": 70,
   "id": "d446fcaa",
   "metadata": {},
   "outputs": [],
   "source": [
    "# df.head(10)"
   ]
  },
  {
   "cell_type": "code",
   "execution_count": 71,
   "id": "b12d614b",
   "metadata": {},
   "outputs": [
    {
     "data": {
      "text/plain": [
       "(3800, 34)"
      ]
     },
     "execution_count": 71,
     "metadata": {},
     "output_type": "execute_result"
    }
   ],
   "source": [
    "df.shape"
   ]
  },
  {
   "cell_type": "markdown",
   "id": "ab245c76",
   "metadata": {},
   "source": [
    "## Goals Difference of Home Team in the Last x Home Matches"
   ]
  },
  {
   "cell_type": "code",
   "execution_count": 72,
   "id": "64530cea",
   "metadata": {
    "scrolled": true
   },
   "outputs": [],
   "source": [
    "temp_df = pd.DataFrame()\n",
    "\n",
    "for team in df['HomeTeam'].unique():\n",
    "    team_df = df[df['HomeTeam'] == team]\n",
    "    \n",
    "    number_of_previous_matches = 5\n",
    "    column1 = 0;\n",
    "    column2 = 0\n",
    "    \n",
    "    team_df = team_df.sort_values(by = 'Date')\n",
    "    for i in range(1, number_of_previous_matches+1):\n",
    "        column1 += team_df['FTHG'].shift(i)\n",
    "        column2 += team_df['FTAG'].shift(i)\n",
    "\n",
    "    team_df['HGDL5HM'] = column1 - column2\n",
    "    temp_df = pd.concat([temp_df, team_df]).reset_index(drop=True)\n",
    "\n",
    "df = temp_df"
   ]
  },
  {
   "cell_type": "code",
   "execution_count": 73,
   "id": "f6940e5a",
   "metadata": {
    "scrolled": false
   },
   "outputs": [],
   "source": [
    "# df.head(10)"
   ]
  },
  {
   "cell_type": "code",
   "execution_count": 74,
   "id": "1f6fe3ab",
   "metadata": {},
   "outputs": [
    {
     "data": {
      "text/plain": [
       "(3800, 35)"
      ]
     },
     "execution_count": 74,
     "metadata": {},
     "output_type": "execute_result"
    }
   ],
   "source": [
    "df.shape"
   ]
  },
  {
   "cell_type": "markdown",
   "id": "c2dc5add",
   "metadata": {},
   "source": [
    "## Average Number of Points Gained by Home Team in the Last x Matches"
   ]
  },
  {
   "cell_type": "code",
   "execution_count": 75,
   "id": "d109a9e2",
   "metadata": {},
   "outputs": [],
   "source": [
    "def getPointsGained(row, team):\n",
    "    if row['HomeTeam'] == team:\n",
    "        if row['Result'] == 'W':\n",
    "            return 3\n",
    "        elif row['Result'] == 'D':\n",
    "            return 1\n",
    "        elif row['Result'] == 'L':\n",
    "            return 0\n",
    "    else:\n",
    "        if row['Result'] == 'W':\n",
    "            return 0\n",
    "        elif row['Result'] == 'D':\n",
    "            return 1\n",
    "        elif row['Result'] == 'L':\n",
    "            return 3"
   ]
  },
  {
   "cell_type": "code",
   "execution_count": 76,
   "id": "772c4deb",
   "metadata": {},
   "outputs": [],
   "source": [
    "temp_df = pd.DataFrame()\n",
    "\n",
    "for team in df['HomeTeam'].unique():\n",
    "    team_df = df[(df['HomeTeam'] == team) | (df['AwayTeam'] == team)]\n",
    "    team_df = team_df.sort_values(by = 'Date')\n",
    "    \n",
    "    team_df['Points Gained'] = team_df.apply(lambda row: getPointsGained(row, team), axis=1)\n",
    "    \n",
    "    number_of_previous_matches = 5\n",
    "    column = 0\n",
    "    \n",
    "    \n",
    "    for i in range(1, number_of_previous_matches+1):\n",
    "        column += team_df['Points Gained'].shift(i)\n",
    "    \n",
    "    team_df['HAPL5M'] = column / number_of_previous_matches\n",
    "    team_df.drop(columns=['Points Gained'], inplace=True)\n",
    "    \n",
    "    team_df = team_df[team_df['HomeTeam'] == team]\n",
    "    temp_df = pd.concat([temp_df, team_df]).reset_index(drop=True)\n",
    "\n",
    "df = temp_df"
   ]
  },
  {
   "cell_type": "code",
   "execution_count": 77,
   "id": "047d2451",
   "metadata": {},
   "outputs": [],
   "source": [
    "# df.head(10)"
   ]
  },
  {
   "cell_type": "code",
   "execution_count": 78,
   "id": "8d896eba",
   "metadata": {},
   "outputs": [
    {
     "data": {
      "text/plain": [
       "(3800, 36)"
      ]
     },
     "execution_count": 78,
     "metadata": {},
     "output_type": "execute_result"
    }
   ],
   "source": [
    "df.shape"
   ]
  },
  {
   "cell_type": "markdown",
   "id": "a5dbb238",
   "metadata": {},
   "source": [
    "## Average Number of Points Gained by Home Team in the Last x Home Matches"
   ]
  },
  {
   "cell_type": "code",
   "execution_count": 79,
   "id": "870a23f8",
   "metadata": {},
   "outputs": [],
   "source": [
    "def getPointsGained(row):\n",
    "    if row['Result'] == 'W':\n",
    "        return 3\n",
    "    elif row['Result'] == 'D':\n",
    "        return 1\n",
    "    elif row['Result'] == 'L':\n",
    "        return 0"
   ]
  },
  {
   "cell_type": "code",
   "execution_count": 80,
   "id": "9578a2d8",
   "metadata": {},
   "outputs": [
    {
     "name": "stderr",
     "output_type": "stream",
     "text": [
      "C:\\Users\\choibs\\AppData\\Local\\Temp\\ipykernel_4068\\1435245815.py:5: SettingWithCopyWarning: \n",
      "A value is trying to be set on a copy of a slice from a DataFrame.\n",
      "Try using .loc[row_indexer,col_indexer] = value instead\n",
      "\n",
      "See the caveats in the documentation: https://pandas.pydata.org/pandas-docs/stable/user_guide/indexing.html#returning-a-view-versus-a-copy\n",
      "  team_df['Points Gained'] = team_df.apply(lambda row: getPointsGained(row), axis=1)\n",
      "C:\\Users\\choibs\\AppData\\Local\\Temp\\ipykernel_4068\\1435245815.py:5: SettingWithCopyWarning: \n",
      "A value is trying to be set on a copy of a slice from a DataFrame.\n",
      "Try using .loc[row_indexer,col_indexer] = value instead\n",
      "\n",
      "See the caveats in the documentation: https://pandas.pydata.org/pandas-docs/stable/user_guide/indexing.html#returning-a-view-versus-a-copy\n",
      "  team_df['Points Gained'] = team_df.apply(lambda row: getPointsGained(row), axis=1)\n",
      "C:\\Users\\choibs\\AppData\\Local\\Temp\\ipykernel_4068\\1435245815.py:5: SettingWithCopyWarning: \n",
      "A value is trying to be set on a copy of a slice from a DataFrame.\n",
      "Try using .loc[row_indexer,col_indexer] = value instead\n",
      "\n",
      "See the caveats in the documentation: https://pandas.pydata.org/pandas-docs/stable/user_guide/indexing.html#returning-a-view-versus-a-copy\n",
      "  team_df['Points Gained'] = team_df.apply(lambda row: getPointsGained(row), axis=1)\n",
      "C:\\Users\\choibs\\AppData\\Local\\Temp\\ipykernel_4068\\1435245815.py:5: SettingWithCopyWarning: \n",
      "A value is trying to be set on a copy of a slice from a DataFrame.\n",
      "Try using .loc[row_indexer,col_indexer] = value instead\n",
      "\n",
      "See the caveats in the documentation: https://pandas.pydata.org/pandas-docs/stable/user_guide/indexing.html#returning-a-view-versus-a-copy\n",
      "  team_df['Points Gained'] = team_df.apply(lambda row: getPointsGained(row), axis=1)\n",
      "C:\\Users\\choibs\\AppData\\Local\\Temp\\ipykernel_4068\\1435245815.py:5: SettingWithCopyWarning: \n",
      "A value is trying to be set on a copy of a slice from a DataFrame.\n",
      "Try using .loc[row_indexer,col_indexer] = value instead\n",
      "\n",
      "See the caveats in the documentation: https://pandas.pydata.org/pandas-docs/stable/user_guide/indexing.html#returning-a-view-versus-a-copy\n",
      "  team_df['Points Gained'] = team_df.apply(lambda row: getPointsGained(row), axis=1)\n",
      "C:\\Users\\choibs\\AppData\\Local\\Temp\\ipykernel_4068\\1435245815.py:5: SettingWithCopyWarning: \n",
      "A value is trying to be set on a copy of a slice from a DataFrame.\n",
      "Try using .loc[row_indexer,col_indexer] = value instead\n",
      "\n",
      "See the caveats in the documentation: https://pandas.pydata.org/pandas-docs/stable/user_guide/indexing.html#returning-a-view-versus-a-copy\n",
      "  team_df['Points Gained'] = team_df.apply(lambda row: getPointsGained(row), axis=1)\n",
      "C:\\Users\\choibs\\AppData\\Local\\Temp\\ipykernel_4068\\1435245815.py:5: SettingWithCopyWarning: \n",
      "A value is trying to be set on a copy of a slice from a DataFrame.\n",
      "Try using .loc[row_indexer,col_indexer] = value instead\n",
      "\n",
      "See the caveats in the documentation: https://pandas.pydata.org/pandas-docs/stable/user_guide/indexing.html#returning-a-view-versus-a-copy\n",
      "  team_df['Points Gained'] = team_df.apply(lambda row: getPointsGained(row), axis=1)\n",
      "C:\\Users\\choibs\\AppData\\Local\\Temp\\ipykernel_4068\\1435245815.py:5: SettingWithCopyWarning: \n",
      "A value is trying to be set on a copy of a slice from a DataFrame.\n",
      "Try using .loc[row_indexer,col_indexer] = value instead\n",
      "\n",
      "See the caveats in the documentation: https://pandas.pydata.org/pandas-docs/stable/user_guide/indexing.html#returning-a-view-versus-a-copy\n",
      "  team_df['Points Gained'] = team_df.apply(lambda row: getPointsGained(row), axis=1)\n",
      "C:\\Users\\choibs\\AppData\\Local\\Temp\\ipykernel_4068\\1435245815.py:5: SettingWithCopyWarning: \n",
      "A value is trying to be set on a copy of a slice from a DataFrame.\n",
      "Try using .loc[row_indexer,col_indexer] = value instead\n",
      "\n",
      "See the caveats in the documentation: https://pandas.pydata.org/pandas-docs/stable/user_guide/indexing.html#returning-a-view-versus-a-copy\n",
      "  team_df['Points Gained'] = team_df.apply(lambda row: getPointsGained(row), axis=1)\n",
      "C:\\Users\\choibs\\AppData\\Local\\Temp\\ipykernel_4068\\1435245815.py:5: SettingWithCopyWarning: \n",
      "A value is trying to be set on a copy of a slice from a DataFrame.\n",
      "Try using .loc[row_indexer,col_indexer] = value instead\n",
      "\n",
      "See the caveats in the documentation: https://pandas.pydata.org/pandas-docs/stable/user_guide/indexing.html#returning-a-view-versus-a-copy\n",
      "  team_df['Points Gained'] = team_df.apply(lambda row: getPointsGained(row), axis=1)\n",
      "C:\\Users\\choibs\\AppData\\Local\\Temp\\ipykernel_4068\\1435245815.py:5: SettingWithCopyWarning: \n",
      "A value is trying to be set on a copy of a slice from a DataFrame.\n",
      "Try using .loc[row_indexer,col_indexer] = value instead\n",
      "\n",
      "See the caveats in the documentation: https://pandas.pydata.org/pandas-docs/stable/user_guide/indexing.html#returning-a-view-versus-a-copy\n",
      "  team_df['Points Gained'] = team_df.apply(lambda row: getPointsGained(row), axis=1)\n",
      "C:\\Users\\choibs\\AppData\\Local\\Temp\\ipykernel_4068\\1435245815.py:5: SettingWithCopyWarning: \n",
      "A value is trying to be set on a copy of a slice from a DataFrame.\n",
      "Try using .loc[row_indexer,col_indexer] = value instead\n",
      "\n",
      "See the caveats in the documentation: https://pandas.pydata.org/pandas-docs/stable/user_guide/indexing.html#returning-a-view-versus-a-copy\n",
      "  team_df['Points Gained'] = team_df.apply(lambda row: getPointsGained(row), axis=1)\n",
      "C:\\Users\\choibs\\AppData\\Local\\Temp\\ipykernel_4068\\1435245815.py:5: SettingWithCopyWarning: \n",
      "A value is trying to be set on a copy of a slice from a DataFrame.\n",
      "Try using .loc[row_indexer,col_indexer] = value instead\n",
      "\n",
      "See the caveats in the documentation: https://pandas.pydata.org/pandas-docs/stable/user_guide/indexing.html#returning-a-view-versus-a-copy\n",
      "  team_df['Points Gained'] = team_df.apply(lambda row: getPointsGained(row), axis=1)\n",
      "C:\\Users\\choibs\\AppData\\Local\\Temp\\ipykernel_4068\\1435245815.py:5: SettingWithCopyWarning: \n",
      "A value is trying to be set on a copy of a slice from a DataFrame.\n",
      "Try using .loc[row_indexer,col_indexer] = value instead\n",
      "\n",
      "See the caveats in the documentation: https://pandas.pydata.org/pandas-docs/stable/user_guide/indexing.html#returning-a-view-versus-a-copy\n",
      "  team_df['Points Gained'] = team_df.apply(lambda row: getPointsGained(row), axis=1)\n",
      "C:\\Users\\choibs\\AppData\\Local\\Temp\\ipykernel_4068\\1435245815.py:5: SettingWithCopyWarning: \n",
      "A value is trying to be set on a copy of a slice from a DataFrame.\n",
      "Try using .loc[row_indexer,col_indexer] = value instead\n",
      "\n",
      "See the caveats in the documentation: https://pandas.pydata.org/pandas-docs/stable/user_guide/indexing.html#returning-a-view-versus-a-copy\n",
      "  team_df['Points Gained'] = team_df.apply(lambda row: getPointsGained(row), axis=1)\n",
      "C:\\Users\\choibs\\AppData\\Local\\Temp\\ipykernel_4068\\1435245815.py:5: SettingWithCopyWarning: \n",
      "A value is trying to be set on a copy of a slice from a DataFrame.\n",
      "Try using .loc[row_indexer,col_indexer] = value instead\n",
      "\n",
      "See the caveats in the documentation: https://pandas.pydata.org/pandas-docs/stable/user_guide/indexing.html#returning-a-view-versus-a-copy\n",
      "  team_df['Points Gained'] = team_df.apply(lambda row: getPointsGained(row), axis=1)\n",
      "C:\\Users\\choibs\\AppData\\Local\\Temp\\ipykernel_4068\\1435245815.py:5: SettingWithCopyWarning: \n",
      "A value is trying to be set on a copy of a slice from a DataFrame.\n",
      "Try using .loc[row_indexer,col_indexer] = value instead\n",
      "\n",
      "See the caveats in the documentation: https://pandas.pydata.org/pandas-docs/stable/user_guide/indexing.html#returning-a-view-versus-a-copy\n",
      "  team_df['Points Gained'] = team_df.apply(lambda row: getPointsGained(row), axis=1)\n",
      "C:\\Users\\choibs\\AppData\\Local\\Temp\\ipykernel_4068\\1435245815.py:5: SettingWithCopyWarning: \n",
      "A value is trying to be set on a copy of a slice from a DataFrame.\n",
      "Try using .loc[row_indexer,col_indexer] = value instead\n",
      "\n",
      "See the caveats in the documentation: https://pandas.pydata.org/pandas-docs/stable/user_guide/indexing.html#returning-a-view-versus-a-copy\n",
      "  team_df['Points Gained'] = team_df.apply(lambda row: getPointsGained(row), axis=1)\n",
      "C:\\Users\\choibs\\AppData\\Local\\Temp\\ipykernel_4068\\1435245815.py:5: SettingWithCopyWarning: \n",
      "A value is trying to be set on a copy of a slice from a DataFrame.\n",
      "Try using .loc[row_indexer,col_indexer] = value instead\n",
      "\n",
      "See the caveats in the documentation: https://pandas.pydata.org/pandas-docs/stable/user_guide/indexing.html#returning-a-view-versus-a-copy\n",
      "  team_df['Points Gained'] = team_df.apply(lambda row: getPointsGained(row), axis=1)\n",
      "C:\\Users\\choibs\\AppData\\Local\\Temp\\ipykernel_4068\\1435245815.py:5: SettingWithCopyWarning: \n",
      "A value is trying to be set on a copy of a slice from a DataFrame.\n",
      "Try using .loc[row_indexer,col_indexer] = value instead\n",
      "\n",
      "See the caveats in the documentation: https://pandas.pydata.org/pandas-docs/stable/user_guide/indexing.html#returning-a-view-versus-a-copy\n",
      "  team_df['Points Gained'] = team_df.apply(lambda row: getPointsGained(row), axis=1)\n",
      "C:\\Users\\choibs\\AppData\\Local\\Temp\\ipykernel_4068\\1435245815.py:5: SettingWithCopyWarning: \n",
      "A value is trying to be set on a copy of a slice from a DataFrame.\n",
      "Try using .loc[row_indexer,col_indexer] = value instead\n",
      "\n",
      "See the caveats in the documentation: https://pandas.pydata.org/pandas-docs/stable/user_guide/indexing.html#returning-a-view-versus-a-copy\n",
      "  team_df['Points Gained'] = team_df.apply(lambda row: getPointsGained(row), axis=1)\n",
      "C:\\Users\\choibs\\AppData\\Local\\Temp\\ipykernel_4068\\1435245815.py:5: SettingWithCopyWarning: \n",
      "A value is trying to be set on a copy of a slice from a DataFrame.\n",
      "Try using .loc[row_indexer,col_indexer] = value instead\n",
      "\n",
      "See the caveats in the documentation: https://pandas.pydata.org/pandas-docs/stable/user_guide/indexing.html#returning-a-view-versus-a-copy\n",
      "  team_df['Points Gained'] = team_df.apply(lambda row: getPointsGained(row), axis=1)\n",
      "C:\\Users\\choibs\\AppData\\Local\\Temp\\ipykernel_4068\\1435245815.py:5: SettingWithCopyWarning: \n",
      "A value is trying to be set on a copy of a slice from a DataFrame.\n",
      "Try using .loc[row_indexer,col_indexer] = value instead\n",
      "\n",
      "See the caveats in the documentation: https://pandas.pydata.org/pandas-docs/stable/user_guide/indexing.html#returning-a-view-versus-a-copy\n",
      "  team_df['Points Gained'] = team_df.apply(lambda row: getPointsGained(row), axis=1)\n",
      "C:\\Users\\choibs\\AppData\\Local\\Temp\\ipykernel_4068\\1435245815.py:5: SettingWithCopyWarning: \n",
      "A value is trying to be set on a copy of a slice from a DataFrame.\n",
      "Try using .loc[row_indexer,col_indexer] = value instead\n",
      "\n",
      "See the caveats in the documentation: https://pandas.pydata.org/pandas-docs/stable/user_guide/indexing.html#returning-a-view-versus-a-copy\n",
      "  team_df['Points Gained'] = team_df.apply(lambda row: getPointsGained(row), axis=1)\n",
      "C:\\Users\\choibs\\AppData\\Local\\Temp\\ipykernel_4068\\1435245815.py:5: SettingWithCopyWarning: \n",
      "A value is trying to be set on a copy of a slice from a DataFrame.\n",
      "Try using .loc[row_indexer,col_indexer] = value instead\n",
      "\n",
      "See the caveats in the documentation: https://pandas.pydata.org/pandas-docs/stable/user_guide/indexing.html#returning-a-view-versus-a-copy\n",
      "  team_df['Points Gained'] = team_df.apply(lambda row: getPointsGained(row), axis=1)\n",
      "C:\\Users\\choibs\\AppData\\Local\\Temp\\ipykernel_4068\\1435245815.py:5: SettingWithCopyWarning: \n",
      "A value is trying to be set on a copy of a slice from a DataFrame.\n",
      "Try using .loc[row_indexer,col_indexer] = value instead\n",
      "\n",
      "See the caveats in the documentation: https://pandas.pydata.org/pandas-docs/stable/user_guide/indexing.html#returning-a-view-versus-a-copy\n",
      "  team_df['Points Gained'] = team_df.apply(lambda row: getPointsGained(row), axis=1)\n",
      "C:\\Users\\choibs\\AppData\\Local\\Temp\\ipykernel_4068\\1435245815.py:5: SettingWithCopyWarning: \n",
      "A value is trying to be set on a copy of a slice from a DataFrame.\n",
      "Try using .loc[row_indexer,col_indexer] = value instead\n",
      "\n",
      "See the caveats in the documentation: https://pandas.pydata.org/pandas-docs/stable/user_guide/indexing.html#returning-a-view-versus-a-copy\n",
      "  team_df['Points Gained'] = team_df.apply(lambda row: getPointsGained(row), axis=1)\n",
      "C:\\Users\\choibs\\AppData\\Local\\Temp\\ipykernel_4068\\1435245815.py:5: SettingWithCopyWarning: \n",
      "A value is trying to be set on a copy of a slice from a DataFrame.\n",
      "Try using .loc[row_indexer,col_indexer] = value instead\n",
      "\n",
      "See the caveats in the documentation: https://pandas.pydata.org/pandas-docs/stable/user_guide/indexing.html#returning-a-view-versus-a-copy\n",
      "  team_df['Points Gained'] = team_df.apply(lambda row: getPointsGained(row), axis=1)\n",
      "C:\\Users\\choibs\\AppData\\Local\\Temp\\ipykernel_4068\\1435245815.py:5: SettingWithCopyWarning: \n",
      "A value is trying to be set on a copy of a slice from a DataFrame.\n",
      "Try using .loc[row_indexer,col_indexer] = value instead\n",
      "\n",
      "See the caveats in the documentation: https://pandas.pydata.org/pandas-docs/stable/user_guide/indexing.html#returning-a-view-versus-a-copy\n",
      "  team_df['Points Gained'] = team_df.apply(lambda row: getPointsGained(row), axis=1)\n",
      "C:\\Users\\choibs\\AppData\\Local\\Temp\\ipykernel_4068\\1435245815.py:5: SettingWithCopyWarning: \n",
      "A value is trying to be set on a copy of a slice from a DataFrame.\n",
      "Try using .loc[row_indexer,col_indexer] = value instead\n",
      "\n",
      "See the caveats in the documentation: https://pandas.pydata.org/pandas-docs/stable/user_guide/indexing.html#returning-a-view-versus-a-copy\n",
      "  team_df['Points Gained'] = team_df.apply(lambda row: getPointsGained(row), axis=1)\n",
      "C:\\Users\\choibs\\AppData\\Local\\Temp\\ipykernel_4068\\1435245815.py:5: SettingWithCopyWarning: \n",
      "A value is trying to be set on a copy of a slice from a DataFrame.\n",
      "Try using .loc[row_indexer,col_indexer] = value instead\n",
      "\n",
      "See the caveats in the documentation: https://pandas.pydata.org/pandas-docs/stable/user_guide/indexing.html#returning-a-view-versus-a-copy\n",
      "  team_df['Points Gained'] = team_df.apply(lambda row: getPointsGained(row), axis=1)\n"
     ]
    },
    {
     "name": "stderr",
     "output_type": "stream",
     "text": [
      "C:\\Users\\choibs\\AppData\\Local\\Temp\\ipykernel_4068\\1435245815.py:5: SettingWithCopyWarning: \n",
      "A value is trying to be set on a copy of a slice from a DataFrame.\n",
      "Try using .loc[row_indexer,col_indexer] = value instead\n",
      "\n",
      "See the caveats in the documentation: https://pandas.pydata.org/pandas-docs/stable/user_guide/indexing.html#returning-a-view-versus-a-copy\n",
      "  team_df['Points Gained'] = team_df.apply(lambda row: getPointsGained(row), axis=1)\n",
      "C:\\Users\\choibs\\AppData\\Local\\Temp\\ipykernel_4068\\1435245815.py:5: SettingWithCopyWarning: \n",
      "A value is trying to be set on a copy of a slice from a DataFrame.\n",
      "Try using .loc[row_indexer,col_indexer] = value instead\n",
      "\n",
      "See the caveats in the documentation: https://pandas.pydata.org/pandas-docs/stable/user_guide/indexing.html#returning-a-view-versus-a-copy\n",
      "  team_df['Points Gained'] = team_df.apply(lambda row: getPointsGained(row), axis=1)\n",
      "C:\\Users\\choibs\\AppData\\Local\\Temp\\ipykernel_4068\\1435245815.py:5: SettingWithCopyWarning: \n",
      "A value is trying to be set on a copy of a slice from a DataFrame.\n",
      "Try using .loc[row_indexer,col_indexer] = value instead\n",
      "\n",
      "See the caveats in the documentation: https://pandas.pydata.org/pandas-docs/stable/user_guide/indexing.html#returning-a-view-versus-a-copy\n",
      "  team_df['Points Gained'] = team_df.apply(lambda row: getPointsGained(row), axis=1)\n"
     ]
    }
   ],
   "source": [
    "temp_df = pd.DataFrame()\n",
    "\n",
    "for team in df['HomeTeam'].unique():\n",
    "    team_df = df[(df['HomeTeam'] == team)]\n",
    "    team_df['Points Gained'] = team_df.apply(lambda row: getPointsGained(row), axis=1)\n",
    "    \n",
    "    number_of_previous_matches = 5\n",
    "    column = 0\n",
    "    \n",
    "    team_df = team_df.sort_values(by = 'Date')\n",
    "    for i in range(1, number_of_previous_matches+1):\n",
    "        column += team_df['Points Gained'].shift(i)\n",
    "    \n",
    "    team_df['HAPL5HM'] = column / number_of_previous_matches\n",
    "    team_df.drop(columns=['Points Gained'], inplace=True)\n",
    "    \n",
    "    team_df = team_df[team_df['HomeTeam'] == team]\n",
    "    temp_df = pd.concat([temp_df, team_df]).reset_index(drop=True)\n",
    "\n",
    "df = temp_df"
   ]
  },
  {
   "cell_type": "code",
   "execution_count": 81,
   "id": "68780a47",
   "metadata": {},
   "outputs": [],
   "source": [
    "# df.head()"
   ]
  },
  {
   "cell_type": "code",
   "execution_count": 82,
   "id": "63874489",
   "metadata": {},
   "outputs": [
    {
     "data": {
      "text/plain": [
       "(3800, 37)"
      ]
     },
     "execution_count": 82,
     "metadata": {},
     "output_type": "execute_result"
    }
   ],
   "source": [
    "df.shape"
   ]
  },
  {
   "cell_type": "markdown",
   "id": "39f79a79",
   "metadata": {},
   "source": [
    "## Win Percentage of Home Team in the last x Matches"
   ]
  },
  {
   "cell_type": "code",
   "execution_count": 83,
   "id": "45f9388a",
   "metadata": {},
   "outputs": [],
   "source": [
    "def getNumberOfWins(row, team):\n",
    "    if row['HomeTeam'] == team:\n",
    "        if row['Result'] == 'W':\n",
    "            return 1\n",
    "        else:\n",
    "            return 0\n",
    "    else:\n",
    "        if row['Result'] == 'L':\n",
    "            return 1\n",
    "        else:\n",
    "            return 0"
   ]
  },
  {
   "cell_type": "code",
   "execution_count": 84,
   "id": "1a71f8a3",
   "metadata": {},
   "outputs": [],
   "source": [
    "temp_df = pd.DataFrame()\n",
    "\n",
    "for team in df['HomeTeam'].unique():\n",
    "    team_df = df[(df['HomeTeam'] == team) | (df['AwayTeam'] == team)]\n",
    "    team_df = team_df.sort_values(by = 'Date')\n",
    "    \n",
    "    team_df['Number of Wins'] = team_df.apply(lambda row: getNumberOfWins(row, team), axis=1)\n",
    "    \n",
    "    number_of_previous_matches = 5\n",
    "    column = 0\n",
    "    \n",
    "    for i in range(1, number_of_previous_matches+1):\n",
    "        column += team_df['Number of Wins'].shift(i)\n",
    "    \n",
    "    team_df['HWPL5M'] = (column / number_of_previous_matches)*100\n",
    "    team_df.drop(columns=['Number of Wins'], inplace=True)\n",
    "    \n",
    "    team_df = team_df[team_df['HomeTeam'] == team]\n",
    "    temp_df = pd.concat([temp_df, team_df]).reset_index(drop=True)\n",
    "\n",
    "df = temp_df"
   ]
  },
  {
   "cell_type": "code",
   "execution_count": 85,
   "id": "3e55f1f4",
   "metadata": {},
   "outputs": [],
   "source": [
    "# df.head()"
   ]
  },
  {
   "cell_type": "code",
   "execution_count": 86,
   "id": "64670380",
   "metadata": {},
   "outputs": [
    {
     "data": {
      "text/plain": [
       "(3800, 38)"
      ]
     },
     "execution_count": 86,
     "metadata": {},
     "output_type": "execute_result"
    }
   ],
   "source": [
    "df.shape"
   ]
  },
  {
   "cell_type": "markdown",
   "id": "e71bf0fc",
   "metadata": {},
   "source": [
    "## Win Percentage of Home Team in the last x Home Matches"
   ]
  },
  {
   "cell_type": "code",
   "execution_count": 87,
   "id": "945f16ed",
   "metadata": {},
   "outputs": [],
   "source": [
    "def getNumberOfWinsAtHome(row):\n",
    "    if row['Result'] == 'W':\n",
    "        return 1\n",
    "    else:\n",
    "        return 0"
   ]
  },
  {
   "cell_type": "code",
   "execution_count": 88,
   "id": "a2898649",
   "metadata": {},
   "outputs": [
    {
     "name": "stderr",
     "output_type": "stream",
     "text": [
      "C:\\Users\\choibs\\AppData\\Local\\Temp\\ipykernel_4068\\3591081288.py:5: SettingWithCopyWarning: \n",
      "A value is trying to be set on a copy of a slice from a DataFrame.\n",
      "Try using .loc[row_indexer,col_indexer] = value instead\n",
      "\n",
      "See the caveats in the documentation: https://pandas.pydata.org/pandas-docs/stable/user_guide/indexing.html#returning-a-view-versus-a-copy\n",
      "  team_df['Number of Wins'] = team_df.apply(lambda row: getNumberOfWinsAtHome(row), axis=1)\n",
      "C:\\Users\\choibs\\AppData\\Local\\Temp\\ipykernel_4068\\3591081288.py:5: SettingWithCopyWarning: \n",
      "A value is trying to be set on a copy of a slice from a DataFrame.\n",
      "Try using .loc[row_indexer,col_indexer] = value instead\n",
      "\n",
      "See the caveats in the documentation: https://pandas.pydata.org/pandas-docs/stable/user_guide/indexing.html#returning-a-view-versus-a-copy\n",
      "  team_df['Number of Wins'] = team_df.apply(lambda row: getNumberOfWinsAtHome(row), axis=1)\n",
      "C:\\Users\\choibs\\AppData\\Local\\Temp\\ipykernel_4068\\3591081288.py:5: SettingWithCopyWarning: \n",
      "A value is trying to be set on a copy of a slice from a DataFrame.\n",
      "Try using .loc[row_indexer,col_indexer] = value instead\n",
      "\n",
      "See the caveats in the documentation: https://pandas.pydata.org/pandas-docs/stable/user_guide/indexing.html#returning-a-view-versus-a-copy\n",
      "  team_df['Number of Wins'] = team_df.apply(lambda row: getNumberOfWinsAtHome(row), axis=1)\n",
      "C:\\Users\\choibs\\AppData\\Local\\Temp\\ipykernel_4068\\3591081288.py:5: SettingWithCopyWarning: \n",
      "A value is trying to be set on a copy of a slice from a DataFrame.\n",
      "Try using .loc[row_indexer,col_indexer] = value instead\n",
      "\n",
      "See the caveats in the documentation: https://pandas.pydata.org/pandas-docs/stable/user_guide/indexing.html#returning-a-view-versus-a-copy\n",
      "  team_df['Number of Wins'] = team_df.apply(lambda row: getNumberOfWinsAtHome(row), axis=1)\n",
      "C:\\Users\\choibs\\AppData\\Local\\Temp\\ipykernel_4068\\3591081288.py:5: SettingWithCopyWarning: \n",
      "A value is trying to be set on a copy of a slice from a DataFrame.\n",
      "Try using .loc[row_indexer,col_indexer] = value instead\n",
      "\n",
      "See the caveats in the documentation: https://pandas.pydata.org/pandas-docs/stable/user_guide/indexing.html#returning-a-view-versus-a-copy\n",
      "  team_df['Number of Wins'] = team_df.apply(lambda row: getNumberOfWinsAtHome(row), axis=1)\n",
      "C:\\Users\\choibs\\AppData\\Local\\Temp\\ipykernel_4068\\3591081288.py:5: SettingWithCopyWarning: \n",
      "A value is trying to be set on a copy of a slice from a DataFrame.\n",
      "Try using .loc[row_indexer,col_indexer] = value instead\n",
      "\n",
      "See the caveats in the documentation: https://pandas.pydata.org/pandas-docs/stable/user_guide/indexing.html#returning-a-view-versus-a-copy\n",
      "  team_df['Number of Wins'] = team_df.apply(lambda row: getNumberOfWinsAtHome(row), axis=1)\n",
      "C:\\Users\\choibs\\AppData\\Local\\Temp\\ipykernel_4068\\3591081288.py:5: SettingWithCopyWarning: \n",
      "A value is trying to be set on a copy of a slice from a DataFrame.\n",
      "Try using .loc[row_indexer,col_indexer] = value instead\n",
      "\n",
      "See the caveats in the documentation: https://pandas.pydata.org/pandas-docs/stable/user_guide/indexing.html#returning-a-view-versus-a-copy\n",
      "  team_df['Number of Wins'] = team_df.apply(lambda row: getNumberOfWinsAtHome(row), axis=1)\n",
      "C:\\Users\\choibs\\AppData\\Local\\Temp\\ipykernel_4068\\3591081288.py:5: SettingWithCopyWarning: \n",
      "A value is trying to be set on a copy of a slice from a DataFrame.\n",
      "Try using .loc[row_indexer,col_indexer] = value instead\n",
      "\n",
      "See the caveats in the documentation: https://pandas.pydata.org/pandas-docs/stable/user_guide/indexing.html#returning-a-view-versus-a-copy\n",
      "  team_df['Number of Wins'] = team_df.apply(lambda row: getNumberOfWinsAtHome(row), axis=1)\n",
      "C:\\Users\\choibs\\AppData\\Local\\Temp\\ipykernel_4068\\3591081288.py:5: SettingWithCopyWarning: \n",
      "A value is trying to be set on a copy of a slice from a DataFrame.\n",
      "Try using .loc[row_indexer,col_indexer] = value instead\n",
      "\n",
      "See the caveats in the documentation: https://pandas.pydata.org/pandas-docs/stable/user_guide/indexing.html#returning-a-view-versus-a-copy\n",
      "  team_df['Number of Wins'] = team_df.apply(lambda row: getNumberOfWinsAtHome(row), axis=1)\n",
      "C:\\Users\\choibs\\AppData\\Local\\Temp\\ipykernel_4068\\3591081288.py:5: SettingWithCopyWarning: \n",
      "A value is trying to be set on a copy of a slice from a DataFrame.\n",
      "Try using .loc[row_indexer,col_indexer] = value instead\n",
      "\n",
      "See the caveats in the documentation: https://pandas.pydata.org/pandas-docs/stable/user_guide/indexing.html#returning-a-view-versus-a-copy\n",
      "  team_df['Number of Wins'] = team_df.apply(lambda row: getNumberOfWinsAtHome(row), axis=1)\n",
      "C:\\Users\\choibs\\AppData\\Local\\Temp\\ipykernel_4068\\3591081288.py:5: SettingWithCopyWarning: \n",
      "A value is trying to be set on a copy of a slice from a DataFrame.\n",
      "Try using .loc[row_indexer,col_indexer] = value instead\n",
      "\n",
      "See the caveats in the documentation: https://pandas.pydata.org/pandas-docs/stable/user_guide/indexing.html#returning-a-view-versus-a-copy\n",
      "  team_df['Number of Wins'] = team_df.apply(lambda row: getNumberOfWinsAtHome(row), axis=1)\n",
      "C:\\Users\\choibs\\AppData\\Local\\Temp\\ipykernel_4068\\3591081288.py:5: SettingWithCopyWarning: \n",
      "A value is trying to be set on a copy of a slice from a DataFrame.\n",
      "Try using .loc[row_indexer,col_indexer] = value instead\n",
      "\n",
      "See the caveats in the documentation: https://pandas.pydata.org/pandas-docs/stable/user_guide/indexing.html#returning-a-view-versus-a-copy\n",
      "  team_df['Number of Wins'] = team_df.apply(lambda row: getNumberOfWinsAtHome(row), axis=1)\n",
      "C:\\Users\\choibs\\AppData\\Local\\Temp\\ipykernel_4068\\3591081288.py:5: SettingWithCopyWarning: \n",
      "A value is trying to be set on a copy of a slice from a DataFrame.\n",
      "Try using .loc[row_indexer,col_indexer] = value instead\n",
      "\n",
      "See the caveats in the documentation: https://pandas.pydata.org/pandas-docs/stable/user_guide/indexing.html#returning-a-view-versus-a-copy\n",
      "  team_df['Number of Wins'] = team_df.apply(lambda row: getNumberOfWinsAtHome(row), axis=1)\n",
      "C:\\Users\\choibs\\AppData\\Local\\Temp\\ipykernel_4068\\3591081288.py:5: SettingWithCopyWarning: \n",
      "A value is trying to be set on a copy of a slice from a DataFrame.\n",
      "Try using .loc[row_indexer,col_indexer] = value instead\n",
      "\n",
      "See the caveats in the documentation: https://pandas.pydata.org/pandas-docs/stable/user_guide/indexing.html#returning-a-view-versus-a-copy\n",
      "  team_df['Number of Wins'] = team_df.apply(lambda row: getNumberOfWinsAtHome(row), axis=1)\n",
      "C:\\Users\\choibs\\AppData\\Local\\Temp\\ipykernel_4068\\3591081288.py:5: SettingWithCopyWarning: \n",
      "A value is trying to be set on a copy of a slice from a DataFrame.\n",
      "Try using .loc[row_indexer,col_indexer] = value instead\n",
      "\n",
      "See the caveats in the documentation: https://pandas.pydata.org/pandas-docs/stable/user_guide/indexing.html#returning-a-view-versus-a-copy\n",
      "  team_df['Number of Wins'] = team_df.apply(lambda row: getNumberOfWinsAtHome(row), axis=1)\n",
      "C:\\Users\\choibs\\AppData\\Local\\Temp\\ipykernel_4068\\3591081288.py:5: SettingWithCopyWarning: \n",
      "A value is trying to be set on a copy of a slice from a DataFrame.\n",
      "Try using .loc[row_indexer,col_indexer] = value instead\n",
      "\n",
      "See the caveats in the documentation: https://pandas.pydata.org/pandas-docs/stable/user_guide/indexing.html#returning-a-view-versus-a-copy\n",
      "  team_df['Number of Wins'] = team_df.apply(lambda row: getNumberOfWinsAtHome(row), axis=1)\n",
      "C:\\Users\\choibs\\AppData\\Local\\Temp\\ipykernel_4068\\3591081288.py:5: SettingWithCopyWarning: \n",
      "A value is trying to be set on a copy of a slice from a DataFrame.\n",
      "Try using .loc[row_indexer,col_indexer] = value instead\n",
      "\n",
      "See the caveats in the documentation: https://pandas.pydata.org/pandas-docs/stable/user_guide/indexing.html#returning-a-view-versus-a-copy\n",
      "  team_df['Number of Wins'] = team_df.apply(lambda row: getNumberOfWinsAtHome(row), axis=1)\n",
      "C:\\Users\\choibs\\AppData\\Local\\Temp\\ipykernel_4068\\3591081288.py:5: SettingWithCopyWarning: \n",
      "A value is trying to be set on a copy of a slice from a DataFrame.\n",
      "Try using .loc[row_indexer,col_indexer] = value instead\n",
      "\n",
      "See the caveats in the documentation: https://pandas.pydata.org/pandas-docs/stable/user_guide/indexing.html#returning-a-view-versus-a-copy\n",
      "  team_df['Number of Wins'] = team_df.apply(lambda row: getNumberOfWinsAtHome(row), axis=1)\n",
      "C:\\Users\\choibs\\AppData\\Local\\Temp\\ipykernel_4068\\3591081288.py:5: SettingWithCopyWarning: \n",
      "A value is trying to be set on a copy of a slice from a DataFrame.\n",
      "Try using .loc[row_indexer,col_indexer] = value instead\n",
      "\n",
      "See the caveats in the documentation: https://pandas.pydata.org/pandas-docs/stable/user_guide/indexing.html#returning-a-view-versus-a-copy\n",
      "  team_df['Number of Wins'] = team_df.apply(lambda row: getNumberOfWinsAtHome(row), axis=1)\n",
      "C:\\Users\\choibs\\AppData\\Local\\Temp\\ipykernel_4068\\3591081288.py:5: SettingWithCopyWarning: \n",
      "A value is trying to be set on a copy of a slice from a DataFrame.\n",
      "Try using .loc[row_indexer,col_indexer] = value instead\n",
      "\n",
      "See the caveats in the documentation: https://pandas.pydata.org/pandas-docs/stable/user_guide/indexing.html#returning-a-view-versus-a-copy\n",
      "  team_df['Number of Wins'] = team_df.apply(lambda row: getNumberOfWinsAtHome(row), axis=1)\n",
      "C:\\Users\\choibs\\AppData\\Local\\Temp\\ipykernel_4068\\3591081288.py:5: SettingWithCopyWarning: \n",
      "A value is trying to be set on a copy of a slice from a DataFrame.\n",
      "Try using .loc[row_indexer,col_indexer] = value instead\n",
      "\n",
      "See the caveats in the documentation: https://pandas.pydata.org/pandas-docs/stable/user_guide/indexing.html#returning-a-view-versus-a-copy\n",
      "  team_df['Number of Wins'] = team_df.apply(lambda row: getNumberOfWinsAtHome(row), axis=1)\n",
      "C:\\Users\\choibs\\AppData\\Local\\Temp\\ipykernel_4068\\3591081288.py:5: SettingWithCopyWarning: \n",
      "A value is trying to be set on a copy of a slice from a DataFrame.\n",
      "Try using .loc[row_indexer,col_indexer] = value instead\n",
      "\n",
      "See the caveats in the documentation: https://pandas.pydata.org/pandas-docs/stable/user_guide/indexing.html#returning-a-view-versus-a-copy\n",
      "  team_df['Number of Wins'] = team_df.apply(lambda row: getNumberOfWinsAtHome(row), axis=1)\n",
      "C:\\Users\\choibs\\AppData\\Local\\Temp\\ipykernel_4068\\3591081288.py:5: SettingWithCopyWarning: \n",
      "A value is trying to be set on a copy of a slice from a DataFrame.\n",
      "Try using .loc[row_indexer,col_indexer] = value instead\n",
      "\n",
      "See the caveats in the documentation: https://pandas.pydata.org/pandas-docs/stable/user_guide/indexing.html#returning-a-view-versus-a-copy\n",
      "  team_df['Number of Wins'] = team_df.apply(lambda row: getNumberOfWinsAtHome(row), axis=1)\n",
      "C:\\Users\\choibs\\AppData\\Local\\Temp\\ipykernel_4068\\3591081288.py:5: SettingWithCopyWarning: \n",
      "A value is trying to be set on a copy of a slice from a DataFrame.\n",
      "Try using .loc[row_indexer,col_indexer] = value instead\n",
      "\n",
      "See the caveats in the documentation: https://pandas.pydata.org/pandas-docs/stable/user_guide/indexing.html#returning-a-view-versus-a-copy\n",
      "  team_df['Number of Wins'] = team_df.apply(lambda row: getNumberOfWinsAtHome(row), axis=1)\n",
      "C:\\Users\\choibs\\AppData\\Local\\Temp\\ipykernel_4068\\3591081288.py:5: SettingWithCopyWarning: \n",
      "A value is trying to be set on a copy of a slice from a DataFrame.\n",
      "Try using .loc[row_indexer,col_indexer] = value instead\n",
      "\n",
      "See the caveats in the documentation: https://pandas.pydata.org/pandas-docs/stable/user_guide/indexing.html#returning-a-view-versus-a-copy\n",
      "  team_df['Number of Wins'] = team_df.apply(lambda row: getNumberOfWinsAtHome(row), axis=1)\n",
      "C:\\Users\\choibs\\AppData\\Local\\Temp\\ipykernel_4068\\3591081288.py:5: SettingWithCopyWarning: \n",
      "A value is trying to be set on a copy of a slice from a DataFrame.\n",
      "Try using .loc[row_indexer,col_indexer] = value instead\n",
      "\n",
      "See the caveats in the documentation: https://pandas.pydata.org/pandas-docs/stable/user_guide/indexing.html#returning-a-view-versus-a-copy\n",
      "  team_df['Number of Wins'] = team_df.apply(lambda row: getNumberOfWinsAtHome(row), axis=1)\n",
      "C:\\Users\\choibs\\AppData\\Local\\Temp\\ipykernel_4068\\3591081288.py:5: SettingWithCopyWarning: \n",
      "A value is trying to be set on a copy of a slice from a DataFrame.\n",
      "Try using .loc[row_indexer,col_indexer] = value instead\n",
      "\n",
      "See the caveats in the documentation: https://pandas.pydata.org/pandas-docs/stable/user_guide/indexing.html#returning-a-view-versus-a-copy\n",
      "  team_df['Number of Wins'] = team_df.apply(lambda row: getNumberOfWinsAtHome(row), axis=1)\n",
      "C:\\Users\\choibs\\AppData\\Local\\Temp\\ipykernel_4068\\3591081288.py:5: SettingWithCopyWarning: \n",
      "A value is trying to be set on a copy of a slice from a DataFrame.\n",
      "Try using .loc[row_indexer,col_indexer] = value instead\n",
      "\n",
      "See the caveats in the documentation: https://pandas.pydata.org/pandas-docs/stable/user_guide/indexing.html#returning-a-view-versus-a-copy\n",
      "  team_df['Number of Wins'] = team_df.apply(lambda row: getNumberOfWinsAtHome(row), axis=1)\n",
      "C:\\Users\\choibs\\AppData\\Local\\Temp\\ipykernel_4068\\3591081288.py:5: SettingWithCopyWarning: \n",
      "A value is trying to be set on a copy of a slice from a DataFrame.\n",
      "Try using .loc[row_indexer,col_indexer] = value instead\n",
      "\n",
      "See the caveats in the documentation: https://pandas.pydata.org/pandas-docs/stable/user_guide/indexing.html#returning-a-view-versus-a-copy\n",
      "  team_df['Number of Wins'] = team_df.apply(lambda row: getNumberOfWinsAtHome(row), axis=1)\n",
      "C:\\Users\\choibs\\AppData\\Local\\Temp\\ipykernel_4068\\3591081288.py:5: SettingWithCopyWarning: \n",
      "A value is trying to be set on a copy of a slice from a DataFrame.\n",
      "Try using .loc[row_indexer,col_indexer] = value instead\n",
      "\n",
      "See the caveats in the documentation: https://pandas.pydata.org/pandas-docs/stable/user_guide/indexing.html#returning-a-view-versus-a-copy\n",
      "  team_df['Number of Wins'] = team_df.apply(lambda row: getNumberOfWinsAtHome(row), axis=1)\n",
      "C:\\Users\\choibs\\AppData\\Local\\Temp\\ipykernel_4068\\3591081288.py:5: SettingWithCopyWarning: \n",
      "A value is trying to be set on a copy of a slice from a DataFrame.\n",
      "Try using .loc[row_indexer,col_indexer] = value instead\n",
      "\n",
      "See the caveats in the documentation: https://pandas.pydata.org/pandas-docs/stable/user_guide/indexing.html#returning-a-view-versus-a-copy\n",
      "  team_df['Number of Wins'] = team_df.apply(lambda row: getNumberOfWinsAtHome(row), axis=1)\n"
     ]
    },
    {
     "name": "stderr",
     "output_type": "stream",
     "text": [
      "C:\\Users\\choibs\\AppData\\Local\\Temp\\ipykernel_4068\\3591081288.py:5: SettingWithCopyWarning: \n",
      "A value is trying to be set on a copy of a slice from a DataFrame.\n",
      "Try using .loc[row_indexer,col_indexer] = value instead\n",
      "\n",
      "See the caveats in the documentation: https://pandas.pydata.org/pandas-docs/stable/user_guide/indexing.html#returning-a-view-versus-a-copy\n",
      "  team_df['Number of Wins'] = team_df.apply(lambda row: getNumberOfWinsAtHome(row), axis=1)\n",
      "C:\\Users\\choibs\\AppData\\Local\\Temp\\ipykernel_4068\\3591081288.py:5: SettingWithCopyWarning: \n",
      "A value is trying to be set on a copy of a slice from a DataFrame.\n",
      "Try using .loc[row_indexer,col_indexer] = value instead\n",
      "\n",
      "See the caveats in the documentation: https://pandas.pydata.org/pandas-docs/stable/user_guide/indexing.html#returning-a-view-versus-a-copy\n",
      "  team_df['Number of Wins'] = team_df.apply(lambda row: getNumberOfWinsAtHome(row), axis=1)\n",
      "C:\\Users\\choibs\\AppData\\Local\\Temp\\ipykernel_4068\\3591081288.py:5: SettingWithCopyWarning: \n",
      "A value is trying to be set on a copy of a slice from a DataFrame.\n",
      "Try using .loc[row_indexer,col_indexer] = value instead\n",
      "\n",
      "See the caveats in the documentation: https://pandas.pydata.org/pandas-docs/stable/user_guide/indexing.html#returning-a-view-versus-a-copy\n",
      "  team_df['Number of Wins'] = team_df.apply(lambda row: getNumberOfWinsAtHome(row), axis=1)\n"
     ]
    }
   ],
   "source": [
    "temp_df = pd.DataFrame()\n",
    "\n",
    "for team in df['HomeTeam'].unique():\n",
    "    team_df = df[(df['HomeTeam'] == team)]\n",
    "    team_df['Number of Wins'] = team_df.apply(lambda row: getNumberOfWinsAtHome(row), axis=1)\n",
    "    \n",
    "    number_of_previous_matches = 5\n",
    "    column = 0\n",
    "    \n",
    "    team_df = team_df.sort_values(by = 'Date')\n",
    "    for i in range(1, number_of_previous_matches+1):\n",
    "        column += team_df['Number of Wins'].shift(i)\n",
    "    \n",
    "    team_df['HWPL5HM'] = column / number_of_previous_matches\n",
    "    team_df.drop(columns=['Number of Wins'], inplace=True)\n",
    "    \n",
    "    team_df = team_df[team_df['HomeTeam'] == team]\n",
    "    temp_df = pd.concat([temp_df, team_df]).reset_index(drop=True)\n",
    "\n",
    "df = temp_df"
   ]
  },
  {
   "cell_type": "code",
   "execution_count": 89,
   "id": "d5bfb142",
   "metadata": {},
   "outputs": [],
   "source": [
    "# df.head()"
   ]
  },
  {
   "cell_type": "code",
   "execution_count": 90,
   "id": "0734a03b",
   "metadata": {},
   "outputs": [
    {
     "data": {
      "text/plain": [
       "(3800, 39)"
      ]
     },
     "execution_count": 90,
     "metadata": {},
     "output_type": "execute_result"
    }
   ],
   "source": [
    "df.shape"
   ]
  },
  {
   "cell_type": "markdown",
   "id": "3945488e",
   "metadata": {},
   "source": [
    "## Home Team Win Streak"
   ]
  },
  {
   "cell_type": "code",
   "execution_count": 91,
   "id": "0ec0222f",
   "metadata": {},
   "outputs": [],
   "source": [
    "def getBooleanWin(row, team):\n",
    "    if row['HomeTeam'] == team:\n",
    "        if row['Result'] == 'W':\n",
    "            return 1\n",
    "        else:\n",
    "            return 0\n",
    "    else:\n",
    "        if row['Result'] == 'L':\n",
    "            return 1\n",
    "        else:\n",
    "            return 0"
   ]
  },
  {
   "cell_type": "code",
   "execution_count": 92,
   "id": "76e4e95c",
   "metadata": {},
   "outputs": [],
   "source": [
    "temp_df = pd.DataFrame()\n",
    "\n",
    "for team in df['HomeTeam'].unique():\n",
    "    team_df = df[(df['HomeTeam'] == team) | (df['AwayTeam'] == team)]\n",
    "    team_df = team_df.sort_values(by = 'Date')\n",
    "    \n",
    "    team_df['Win'] = team_df.apply(lambda row: getBooleanWin(row, team), axis=1)\n",
    "    \n",
    "    grouper = (team_df['Win'] != team_df['Win'].shift()).cumsum()\n",
    "    team_df['HWinStreak'] = team_df['Win'].groupby(grouper).cumsum()\n",
    "    team_df.drop(columns=['Win'], inplace=True)\n",
    "    team_df['HWinStreak'] = team_df['HWinStreak'].shift(1)\n",
    "    \n",
    "    team_df = team_df[team_df['HomeTeam'] == team]\n",
    "    temp_df = pd.concat([temp_df, team_df]).reset_index(drop=True)\n",
    "\n",
    "df = temp_df"
   ]
  },
  {
   "cell_type": "code",
   "execution_count": 93,
   "id": "dfcf1aa8",
   "metadata": {},
   "outputs": [],
   "source": [
    "# df.tail()"
   ]
  },
  {
   "cell_type": "code",
   "execution_count": 94,
   "id": "57086cb8",
   "metadata": {},
   "outputs": [
    {
     "data": {
      "text/plain": [
       "(3800, 40)"
      ]
     },
     "execution_count": 94,
     "metadata": {},
     "output_type": "execute_result"
    }
   ],
   "source": [
    "df.shape"
   ]
  },
  {
   "cell_type": "code",
   "execution_count": null,
   "id": "7a7cc960",
   "metadata": {},
   "outputs": [],
   "source": []
  },
  {
   "cell_type": "code",
   "execution_count": null,
   "id": "8e311c07",
   "metadata": {},
   "outputs": [],
   "source": []
  },
  {
   "cell_type": "code",
   "execution_count": null,
   "id": "54bef5f5",
   "metadata": {},
   "outputs": [],
   "source": []
  },
  {
   "cell_type": "code",
   "execution_count": null,
   "id": "a35b6bb5",
   "metadata": {},
   "outputs": [],
   "source": []
  },
  {
   "cell_type": "code",
   "execution_count": null,
   "id": "d05feeea",
   "metadata": {},
   "outputs": [],
   "source": []
  },
  {
   "cell_type": "code",
   "execution_count": null,
   "id": "866b5827",
   "metadata": {},
   "outputs": [],
   "source": []
  },
  {
   "cell_type": "code",
   "execution_count": null,
   "id": "54f1cfe1",
   "metadata": {},
   "outputs": [],
   "source": []
  },
  {
   "cell_type": "code",
   "execution_count": null,
   "id": "24129498",
   "metadata": {},
   "outputs": [],
   "source": []
  },
  {
   "cell_type": "code",
   "execution_count": null,
   "id": "f62402df",
   "metadata": {},
   "outputs": [],
   "source": []
  },
  {
   "cell_type": "code",
   "execution_count": null,
   "id": "700d9dcc",
   "metadata": {},
   "outputs": [],
   "source": []
  },
  {
   "cell_type": "code",
   "execution_count": null,
   "id": "a6f568d2",
   "metadata": {},
   "outputs": [],
   "source": []
  },
  {
   "cell_type": "code",
   "execution_count": null,
   "id": "538e8a0e",
   "metadata": {},
   "outputs": [],
   "source": []
  },
  {
   "cell_type": "code",
   "execution_count": null,
   "id": "cdfcec09",
   "metadata": {},
   "outputs": [],
   "source": []
  },
  {
   "cell_type": "markdown",
   "id": "46a5cf91",
   "metadata": {},
   "source": [
    "## (NEW!!) Add a new feature: Avg Shots of Away Team in Last 5 Matches"
   ]
  },
  {
   "cell_type": "code",
   "execution_count": 95,
   "id": "9cf6953d",
   "metadata": {},
   "outputs": [],
   "source": [
    "def getShots(row, team):\n",
    "    if row['AwayTeam'] == team:\n",
    "        return row['AS']\n",
    "    else:\n",
    "        return row['HS']"
   ]
  },
  {
   "cell_type": "code",
   "execution_count": 96,
   "id": "737569cb",
   "metadata": {},
   "outputs": [],
   "source": [
    "temp_df = pd.DataFrame()\n",
    "\n",
    "for team in df['AwayTeam'].unique():\n",
    "    team_df = df[(df['HomeTeam'] == team) | (df['AwayTeam'] == team)]\n",
    "    team_df = team_df.sort_values(by = 'Date')\n",
    "    \n",
    "    team_df['Total Shots'] = team_df.apply(lambda row: getShots(row, team), axis=1)\n",
    "    \n",
    "    number_of_previous_matches = 5\n",
    "    column = 0\n",
    "    \n",
    "    for i in range(1, number_of_previous_matches+1):\n",
    "        column += team_df['Total Shots'].shift(i)\n",
    "    \n",
    "    team_df['AASL5M'] = column / number_of_previous_matches\n",
    "    team_df.drop(columns=['Total Shots'], inplace=True)\n",
    "    \n",
    "    team_df = team_df[team_df['AwayTeam'] == team]\n",
    "    temp_df = pd.concat([temp_df, team_df]).reset_index(drop=True)\n",
    "\n",
    "df = temp_df"
   ]
  },
  {
   "cell_type": "code",
   "execution_count": 97,
   "id": "459fa968",
   "metadata": {},
   "outputs": [],
   "source": [
    "# df.head(10)"
   ]
  },
  {
   "cell_type": "code",
   "execution_count": 98,
   "id": "e71ddfaf",
   "metadata": {},
   "outputs": [
    {
     "data": {
      "text/plain": [
       "(3800, 41)"
      ]
     },
     "execution_count": 98,
     "metadata": {},
     "output_type": "execute_result"
    }
   ],
   "source": [
    "df.shape"
   ]
  },
  {
   "cell_type": "markdown",
   "id": "6dfb3c7a",
   "metadata": {},
   "source": [
    "## (NEW!!) Add a new feature: Avg Shots on Target of Away Team in Last 5 Matches"
   ]
  },
  {
   "cell_type": "code",
   "execution_count": 99,
   "id": "d019334f",
   "metadata": {},
   "outputs": [],
   "source": [
    "def getShotsOnTarget(row, team):\n",
    "    if row['AwayTeam'] == team:\n",
    "        return row['AST']\n",
    "    else:\n",
    "        return row['HST']"
   ]
  },
  {
   "cell_type": "code",
   "execution_count": 100,
   "id": "a8545d74",
   "metadata": {},
   "outputs": [],
   "source": [
    "temp_df = pd.DataFrame()\n",
    "\n",
    "for team in df['AwayTeam'].unique():\n",
    "    team_df = df[(df['HomeTeam'] == team) | (df['AwayTeam'] == team)]\n",
    "    team_df = team_df.sort_values(by = 'Date')\n",
    "    \n",
    "    team_df['Total Shots on Target'] = team_df.apply(lambda row: getShotsOnTarget(row, team), axis=1)\n",
    "    \n",
    "    number_of_previous_matches = 5\n",
    "    column = 0\n",
    "    \n",
    "    for i in range(1, number_of_previous_matches+1):\n",
    "        column += team_df['Total Shots on Target'].shift(i)\n",
    "    \n",
    "    team_df['AASTL5M'] = column / number_of_previous_matches\n",
    "    team_df.drop(columns=['Total Shots on Target'], inplace=True)\n",
    "    \n",
    "    team_df = team_df[team_df['AwayTeam'] == team]\n",
    "    temp_df = pd.concat([temp_df, team_df]).reset_index(drop=True)\n",
    "\n",
    "df = temp_df"
   ]
  },
  {
   "cell_type": "code",
   "execution_count": 101,
   "id": "bf70d4e9",
   "metadata": {},
   "outputs": [],
   "source": [
    "# df.head(10)"
   ]
  },
  {
   "cell_type": "code",
   "execution_count": 102,
   "id": "7070785e",
   "metadata": {},
   "outputs": [
    {
     "data": {
      "text/plain": [
       "(3800, 42)"
      ]
     },
     "execution_count": 102,
     "metadata": {},
     "output_type": "execute_result"
    }
   ],
   "source": [
    "df.shape"
   ]
  },
  {
   "cell_type": "markdown",
   "id": "44d6ac63",
   "metadata": {},
   "source": [
    "## (NEW!!) Average Number of Corners by Away Team in the Last 5 Matches"
   ]
  },
  {
   "cell_type": "code",
   "execution_count": 103,
   "id": "9fc82667",
   "metadata": {},
   "outputs": [],
   "source": [
    "def getCorners(row, team):\n",
    "    if row['AwayTeam'] == team:\n",
    "        return row['AC']\n",
    "    else:\n",
    "        return row['HC']"
   ]
  },
  {
   "cell_type": "code",
   "execution_count": 104,
   "id": "057c914f",
   "metadata": {},
   "outputs": [],
   "source": [
    "temp_df = pd.DataFrame()\n",
    "\n",
    "for team in df['AwayTeam'].unique():\n",
    "    team_df = df[(df['HomeTeam'] == team) | (df['AwayTeam'] == team)]\n",
    "    team_df = team_df.sort_values(by = 'Date')\n",
    "    \n",
    "    team_df['Total Corners'] = team_df.apply(lambda row: getCorners(row, team), axis=1)\n",
    "    \n",
    "    number_of_previous_matches = 5\n",
    "    column = 0\n",
    "    \n",
    "    for i in range(1, number_of_previous_matches+1):\n",
    "        column += team_df['Total Corners'].shift(i)\n",
    "    \n",
    "    team_df['AACL5M'] = column / number_of_previous_matches\n",
    "    team_df.drop(columns=['Total Corners'], inplace=True)\n",
    "    \n",
    "    team_df = team_df[team_df['AwayTeam'] == team]\n",
    "    temp_df = pd.concat([temp_df, team_df]).reset_index(drop=True)\n",
    "\n",
    "df = temp_df"
   ]
  },
  {
   "cell_type": "code",
   "execution_count": 105,
   "id": "6214b80a",
   "metadata": {},
   "outputs": [],
   "source": [
    "# df.head(10)"
   ]
  },
  {
   "cell_type": "code",
   "execution_count": 106,
   "id": "2574157e",
   "metadata": {},
   "outputs": [
    {
     "data": {
      "text/plain": [
       "(3800, 43)"
      ]
     },
     "execution_count": 106,
     "metadata": {},
     "output_type": "execute_result"
    }
   ],
   "source": [
    "df.shape"
   ]
  },
  {
   "cell_type": "markdown",
   "id": "7f8ad440",
   "metadata": {},
   "source": [
    "## (NEW!!) Average Number of Fouls by Away Team in the Last 5 Matches"
   ]
  },
  {
   "cell_type": "code",
   "execution_count": 107,
   "id": "c7374e8e",
   "metadata": {},
   "outputs": [],
   "source": [
    "def getFouls(row, team):\n",
    "    if row['AwayTeam'] == team:\n",
    "        return row['AF']\n",
    "    else:\n",
    "        return row['HF']"
   ]
  },
  {
   "cell_type": "code",
   "execution_count": 108,
   "id": "0d88e3b0",
   "metadata": {},
   "outputs": [],
   "source": [
    "temp_df = pd.DataFrame()\n",
    "\n",
    "for team in df['AwayTeam'].unique():\n",
    "    team_df = df[(df['HomeTeam'] == team) | (df['AwayTeam'] == team)]\n",
    "    team_df = team_df.sort_values(by = 'Date')\n",
    "    \n",
    "    team_df['Total Fouls'] = team_df.apply(lambda row: getFouls(row, team), axis=1)\n",
    "    \n",
    "    number_of_previous_matches = 5\n",
    "    column = 0\n",
    "    \n",
    "    for i in range(1, number_of_previous_matches+1):\n",
    "        column += team_df['Total Fouls'].shift(i)\n",
    "    \n",
    "    team_df['AAFL5M'] = column / number_of_previous_matches\n",
    "    team_df.drop(columns=['Total Fouls'], inplace=True)\n",
    "    \n",
    "    team_df = team_df[team_df['AwayTeam'] == team]\n",
    "    temp_df = pd.concat([temp_df, team_df]).reset_index(drop=True)\n",
    "\n",
    "df = temp_df"
   ]
  },
  {
   "cell_type": "code",
   "execution_count": 109,
   "id": "58960566",
   "metadata": {},
   "outputs": [],
   "source": [
    "# df.head(10)"
   ]
  },
  {
   "cell_type": "code",
   "execution_count": 110,
   "id": "bfee47b3",
   "metadata": {},
   "outputs": [
    {
     "data": {
      "text/plain": [
       "(3800, 44)"
      ]
     },
     "execution_count": 110,
     "metadata": {},
     "output_type": "execute_result"
    }
   ],
   "source": [
    "df.shape"
   ]
  },
  {
   "cell_type": "markdown",
   "id": "bb5c855a",
   "metadata": {},
   "source": [
    "## (NEW!!) Average Number of Yellow Cards by Away Team in the Last 5 Matches"
   ]
  },
  {
   "cell_type": "code",
   "execution_count": 111,
   "id": "fef97372",
   "metadata": {},
   "outputs": [],
   "source": [
    "def getYellowCards(row, team):\n",
    "    if row['AwayTeam'] == team:\n",
    "        return row['AY']\n",
    "    else:\n",
    "        return row['HY']"
   ]
  },
  {
   "cell_type": "code",
   "execution_count": 112,
   "id": "8cdd4561",
   "metadata": {},
   "outputs": [],
   "source": [
    "temp_df = pd.DataFrame()\n",
    "\n",
    "for team in df['AwayTeam'].unique():\n",
    "    team_df = df[(df['HomeTeam'] == team) | (df['AwayTeam'] == team)]\n",
    "    team_df = team_df.sort_values(by = 'Date')\n",
    "    \n",
    "    team_df['Total Yellow Cards'] = team_df.apply(lambda row: getYellowCards(row, team), axis=1)\n",
    "    \n",
    "    number_of_previous_matches = 5\n",
    "    column = 0\n",
    "    \n",
    "    for i in range(1, number_of_previous_matches+1):\n",
    "        column += team_df['Total Yellow Cards'].shift(i)\n",
    "    \n",
    "    team_df['AAYCL5M'] = column / number_of_previous_matches\n",
    "    team_df.drop(columns=['Total Yellow Cards'], inplace=True)\n",
    "    \n",
    "    team_df = team_df[team_df['AwayTeam'] == team]\n",
    "    temp_df = pd.concat([temp_df, team_df]).reset_index(drop=True)\n",
    "\n",
    "df = temp_df"
   ]
  },
  {
   "cell_type": "code",
   "execution_count": 113,
   "id": "d6b046ba",
   "metadata": {},
   "outputs": [],
   "source": [
    "# df.head(10)"
   ]
  },
  {
   "cell_type": "code",
   "execution_count": 114,
   "id": "fd76ff52",
   "metadata": {},
   "outputs": [
    {
     "data": {
      "text/plain": [
       "(3800, 45)"
      ]
     },
     "execution_count": 114,
     "metadata": {},
     "output_type": "execute_result"
    }
   ],
   "source": [
    "df.shape"
   ]
  },
  {
   "cell_type": "markdown",
   "id": "2b77e646",
   "metadata": {},
   "source": [
    "## (NEW!!) Average Number of Red Cards by Away Team in the Last 5 Matches"
   ]
  },
  {
   "cell_type": "code",
   "execution_count": 115,
   "id": "218099b7",
   "metadata": {},
   "outputs": [],
   "source": [
    "def getRedCards(row, team):\n",
    "    if row['AwayTeam'] == team:\n",
    "        return row['AR']\n",
    "    else:\n",
    "        return row['HR']"
   ]
  },
  {
   "cell_type": "code",
   "execution_count": 116,
   "id": "6a6e0c85",
   "metadata": {},
   "outputs": [],
   "source": [
    "temp_df = pd.DataFrame()\n",
    "\n",
    "for team in df['AwayTeam'].unique():\n",
    "    team_df = df[(df['HomeTeam'] == team) | (df['AwayTeam'] == team)]\n",
    "    team_df = team_df.sort_values(by = 'Date')\n",
    "    \n",
    "    team_df['Total Red Cards'] = team_df.apply(lambda row: getRedCards(row, team), axis=1)\n",
    "    \n",
    "    number_of_previous_matches = 5\n",
    "    column = 0\n",
    "    \n",
    "    for i in range(1, number_of_previous_matches+1):\n",
    "        column += team_df['Total Red Cards'].shift(i)\n",
    "    \n",
    "    team_df['AARCL5M'] = column / number_of_previous_matches\n",
    "    team_df.drop(columns=['Total Red Cards'], inplace=True)\n",
    "    \n",
    "    team_df = team_df[team_df['AwayTeam'] == team]\n",
    "    temp_df = pd.concat([temp_df, team_df]).reset_index(drop=True)\n",
    "\n",
    "df = temp_df"
   ]
  },
  {
   "cell_type": "code",
   "execution_count": 117,
   "id": "fe58da36",
   "metadata": {},
   "outputs": [],
   "source": [
    "# df.head(10)"
   ]
  },
  {
   "cell_type": "code",
   "execution_count": 118,
   "id": "421816a2",
   "metadata": {},
   "outputs": [
    {
     "data": {
      "text/plain": [
       "(3800, 46)"
      ]
     },
     "execution_count": 118,
     "metadata": {},
     "output_type": "execute_result"
    }
   ],
   "source": [
    "df.shape"
   ]
  },
  {
   "cell_type": "markdown",
   "id": "2a55c7c7",
   "metadata": {},
   "source": [
    "## (NEW!!) Average Goals Scored by Away Team in the Last 5 Matches"
   ]
  },
  {
   "cell_type": "code",
   "execution_count": 120,
   "id": "4e520927",
   "metadata": {},
   "outputs": [],
   "source": [
    "def getGoalsScored(row, team):\n",
    "    if row['AwayTeam'] == team:\n",
    "        return row['FTAG']\n",
    "    else:\n",
    "        return row['FTHG']"
   ]
  },
  {
   "cell_type": "code",
   "execution_count": 121,
   "id": "11fc37db",
   "metadata": {},
   "outputs": [],
   "source": [
    "temp_df = pd.DataFrame()\n",
    "\n",
    "for team in df['AwayTeam'].unique():\n",
    "    team_df = df[(df['HomeTeam'] == team) | (df['AwayTeam'] == team)]\n",
    "    team_df = team_df.sort_values(by = 'Date')\n",
    "    \n",
    "    team_df['Total Goals Scored'] = team_df.apply(lambda row: getGoalsScored(row, team), axis=1)\n",
    "    \n",
    "    number_of_previous_matches = 5\n",
    "    column = 0\n",
    "    \n",
    "    for i in range(1, number_of_previous_matches+1):\n",
    "        column += team_df['Total Goals Scored'].shift(i)\n",
    "    \n",
    "    team_df['AAGSL5M'] = column / number_of_previous_matches\n",
    "    team_df.drop(columns=['Total Goals Scored'], inplace=True)\n",
    "    \n",
    "    team_df = team_df[team_df['AwayTeam'] == team]\n",
    "    temp_df = pd.concat([temp_df, team_df]).reset_index(drop=True)\n",
    "\n",
    "df = temp_df"
   ]
  },
  {
   "cell_type": "code",
   "execution_count": 122,
   "id": "2eb24200",
   "metadata": {},
   "outputs": [],
   "source": [
    "# df.head(10)"
   ]
  },
  {
   "cell_type": "code",
   "execution_count": 123,
   "id": "03500339",
   "metadata": {},
   "outputs": [
    {
     "data": {
      "text/plain": [
       "(3800, 47)"
      ]
     },
     "execution_count": 123,
     "metadata": {},
     "output_type": "execute_result"
    }
   ],
   "source": [
    "df.shape"
   ]
  },
  {
   "cell_type": "markdown",
   "id": "a716626a",
   "metadata": {},
   "source": [
    "## (NEW!!) Average Goals Conceded by Away Team in the Last 5 Matches"
   ]
  },
  {
   "cell_type": "code",
   "execution_count": 131,
   "id": "3019d0ae",
   "metadata": {},
   "outputs": [],
   "source": [
    "def getGoalsConceded(row, team):\n",
    "    if row['AwayTeam'] == team:\n",
    "        return row['FTHG']\n",
    "    else:\n",
    "        return row['FTAG']"
   ]
  },
  {
   "cell_type": "code",
   "execution_count": 132,
   "id": "c1d90823",
   "metadata": {},
   "outputs": [],
   "source": [
    "temp_df = pd.DataFrame()\n",
    "\n",
    "for team in df['AwayTeam'].unique():\n",
    "    team_df = df[(df['HomeTeam'] == team) | (df['AwayTeam'] == team)]\n",
    "    team_df = team_df.sort_values(by = 'Date')\n",
    "    \n",
    "    team_df['Total Goals Conceded'] = team_df.apply(lambda row: getGoalsConceded(row, team), axis=1)\n",
    "    \n",
    "    number_of_previous_matches = 5\n",
    "    column = 0\n",
    "    \n",
    "    for i in range(1, number_of_previous_matches+1):\n",
    "        column += team_df['Total Goals Conceded'].shift(i)\n",
    "    \n",
    "    team_df['AAGCL5M'] = column / number_of_previous_matches\n",
    "    team_df.drop(columns=['Total Goals Conceded'], inplace=True)\n",
    "    \n",
    "    team_df = team_df[team_df['AwayTeam'] == team]\n",
    "    temp_df = pd.concat([temp_df, team_df]).reset_index(drop=True)\n",
    "\n",
    "df = temp_df"
   ]
  },
  {
   "cell_type": "code",
   "execution_count": 133,
   "id": "3deec2c5",
   "metadata": {},
   "outputs": [],
   "source": [
    "# df.head(10)"
   ]
  },
  {
   "cell_type": "code",
   "execution_count": 134,
   "id": "22dd5a0f",
   "metadata": {},
   "outputs": [
    {
     "data": {
      "text/plain": [
       "(3800, 48)"
      ]
     },
     "execution_count": 134,
     "metadata": {},
     "output_type": "execute_result"
    }
   ],
   "source": [
    "df.shape"
   ]
  },
  {
   "cell_type": "markdown",
   "id": "ad8a285b",
   "metadata": {},
   "source": [
    "## (NEW!!) Average Goals Scored by Away Team in the Last 5 Away Matches"
   ]
  },
  {
   "cell_type": "code",
   "execution_count": 137,
   "id": "eb334d7b",
   "metadata": {},
   "outputs": [],
   "source": [
    "temp_df = pd.DataFrame()\n",
    "\n",
    "for team in df['AwayTeam'].unique():\n",
    "    team_df = df[df['AwayTeam'] == team]\n",
    "    \n",
    "    number_of_previous_matches = 5\n",
    "    column = 0;\n",
    "    \n",
    "    team_df = team_df.sort_values(by = 'Date')\n",
    "    for i in range(1, number_of_previous_matches+1):\n",
    "        column += team_df['FTAG'].shift(i)\n",
    "\n",
    "    team_df['AAGSL5AM'] = column / number_of_previous_matches\n",
    "    temp_df = pd.concat([temp_df, team_df]).reset_index(drop=True)\n",
    "\n",
    "df = temp_df"
   ]
  },
  {
   "cell_type": "code",
   "execution_count": 138,
   "id": "f0396746",
   "metadata": {},
   "outputs": [],
   "source": [
    "# df.head()"
   ]
  },
  {
   "cell_type": "code",
   "execution_count": 139,
   "id": "d8274c96",
   "metadata": {},
   "outputs": [
    {
     "data": {
      "text/plain": [
       "(3800, 49)"
      ]
     },
     "execution_count": 139,
     "metadata": {},
     "output_type": "execute_result"
    }
   ],
   "source": [
    "df.shape"
   ]
  },
  {
   "cell_type": "markdown",
   "id": "1648d667",
   "metadata": {},
   "source": [
    "## (NEW!!) Average Goals Conceded by Away Team in the Last 5 Away Matches"
   ]
  },
  {
   "cell_type": "code",
   "execution_count": null,
   "id": "53493937",
   "metadata": {},
   "outputs": [],
   "source": []
  },
  {
   "cell_type": "code",
   "execution_count": null,
   "id": "c2d85053",
   "metadata": {},
   "outputs": [],
   "source": []
  },
  {
   "cell_type": "code",
   "execution_count": null,
   "id": "6a0ab7b7",
   "metadata": {},
   "outputs": [],
   "source": []
  },
  {
   "cell_type": "code",
   "execution_count": null,
   "id": "8bcfea79",
   "metadata": {},
   "outputs": [],
   "source": []
  },
  {
   "cell_type": "code",
   "execution_count": null,
   "id": "39404e68",
   "metadata": {},
   "outputs": [],
   "source": []
  },
  {
   "cell_type": "markdown",
   "id": "0486c0ab",
   "metadata": {},
   "source": [
    "## Goals Difference of Away Team in the Last x Matches  "
   ]
  },
  {
   "cell_type": "code",
   "execution_count": 96,
   "id": "c542972b",
   "metadata": {},
   "outputs": [],
   "source": [
    "def getGoalsScoredByTeam(row, team):\n",
    "    if row['HomeTeam'] == team:\n",
    "        return row['FTHG']\n",
    "    elif row['AwayTeam'] == team:\n",
    "        return row['FTAG']"
   ]
  },
  {
   "cell_type": "code",
   "execution_count": 97,
   "id": "82c8ad2f",
   "metadata": {},
   "outputs": [],
   "source": [
    "def getGoalsScoredByOpponent(row, team):\n",
    "    if row['HomeTeam'] == team:\n",
    "        return row['FTAG']\n",
    "    elif row['AwayTeam'] == team:\n",
    "        return row['FTHG']"
   ]
  },
  {
   "cell_type": "code",
   "execution_count": 98,
   "id": "12a99043",
   "metadata": {},
   "outputs": [],
   "source": [
    "temp_df = pd.DataFrame()\n",
    "\n",
    "for team in df['AwayTeam'].unique():\n",
    "    team_df = df[(df['HomeTeam'] == team) | (df['AwayTeam'] == team)]\n",
    "    team_df = team_df.sort_values(by = 'Date')\n",
    "    \n",
    "    number_of_previous_matches = 5\n",
    "    column1 = 0;\n",
    "    column2 = 0;\n",
    "    \n",
    "    team_df['GoalsScoredByTeam'] = team_df.apply(lambda row: getGoalsScoredByTeam(row, team), axis=1)\n",
    "    team_df['GoalsScoredByOpponent'] = team_df.apply(lambda row: getGoalsScoredByOpponent(row, team), axis=1)\n",
    "    \n",
    "    for i in range(1, number_of_previous_matches+1):\n",
    "        column1 += team_df['GoalsScoredByTeam'].shift(i)\n",
    "        column2 += team_df['GoalsScoredByOpponent'].shift(i)\n",
    "    \n",
    "    team_df['AGDL5M'] = column1 - column2\n",
    "    team_df.drop(columns=['GoalsScoredByTeam', 'GoalsScoredByOpponent'], inplace=True)\n",
    "    team_df = team_df[team_df['AwayTeam'] == team]\n",
    "    temp_df = pd.concat([temp_df, team_df]).reset_index(drop=True)\n",
    "\n",
    "df = temp_df"
   ]
  },
  {
   "cell_type": "code",
   "execution_count": 99,
   "id": "63eb7daa",
   "metadata": {},
   "outputs": [],
   "source": [
    "# df.head(10)"
   ]
  },
  {
   "cell_type": "markdown",
   "id": "863eae60",
   "metadata": {},
   "source": [
    "## Goals Difference of Away Team in the Last x Away Matches"
   ]
  },
  {
   "cell_type": "code",
   "execution_count": 100,
   "id": "bdc94acc",
   "metadata": {},
   "outputs": [],
   "source": [
    "temp_df = pd.DataFrame()\n",
    "\n",
    "for team in df['AwayTeam'].unique():\n",
    "    team_df = df[df['AwayTeam'] == team]\n",
    "    team_df = team_df.sort_values(by = 'Date')\n",
    "    \n",
    "    number_of_previous_matches = 5\n",
    "    column1 = 0;\n",
    "    column2 = 0\n",
    "    \n",
    "    for i in range(1, number_of_previous_matches+1):\n",
    "        column1 += team_df['FTHG'].shift(i)\n",
    "        column2 += team_df['FTAG'].shift(i)\n",
    "\n",
    "    team_df['AGDL5AM'] = column2 - column1\n",
    "    temp_df = pd.concat([temp_df, team_df]).reset_index(drop=True)\n",
    "\n",
    "df = temp_df"
   ]
  },
  {
   "cell_type": "code",
   "execution_count": 101,
   "id": "4cf97aa1",
   "metadata": {},
   "outputs": [],
   "source": [
    "# df.head(10)"
   ]
  },
  {
   "cell_type": "code",
   "execution_count": 102,
   "id": "18a4da41",
   "metadata": {},
   "outputs": [
    {
     "data": {
      "text/plain": [
       "(3800, 43)"
      ]
     },
     "execution_count": 102,
     "metadata": {},
     "output_type": "execute_result"
    }
   ],
   "source": [
    "df.shape"
   ]
  },
  {
   "cell_type": "markdown",
   "id": "dae9bb3c",
   "metadata": {},
   "source": [
    "## Average Number of Points Gained by Away Team in the Last x Matches"
   ]
  },
  {
   "cell_type": "code",
   "execution_count": 103,
   "id": "fbe3abd4",
   "metadata": {},
   "outputs": [],
   "source": [
    "def getPointsGained(row, team):\n",
    "    if row['HomeTeam'] == team:\n",
    "        if row['Result'] == 'W':\n",
    "            return 3\n",
    "        elif row['Result'] == 'D':\n",
    "            return 1\n",
    "        elif row['Result'] == 'L':\n",
    "            return 0\n",
    "    else:\n",
    "        if row['Result'] == 'W':\n",
    "            return 0\n",
    "        elif row['Result'] == 'D':\n",
    "            return 1\n",
    "        elif row['Result'] == 'L':\n",
    "            return 3"
   ]
  },
  {
   "cell_type": "code",
   "execution_count": 104,
   "id": "1c855b90",
   "metadata": {},
   "outputs": [],
   "source": [
    "temp_df = pd.DataFrame()\n",
    "\n",
    "for team in df['AwayTeam'].unique():\n",
    "    team_df = df[(df['HomeTeam'] == team) | (df['AwayTeam'] == team)]\n",
    "    team_df = team_df.sort_values(by = 'Date')\n",
    "    \n",
    "    team_df['Points Gained'] = team_df.apply(lambda row: getPointsGained(row, team), axis=1)\n",
    "    \n",
    "    number_of_previous_matches = 5\n",
    "    column = 0\n",
    "    \n",
    "    for i in range(1, number_of_previous_matches+1):\n",
    "        column += team_df['Points Gained'].shift(i)\n",
    "    \n",
    "    team_df['AAPL5M'] = column / number_of_previous_matches\n",
    "    team_df.drop(columns=['Points Gained'], inplace=True)\n",
    "    \n",
    "    team_df = team_df[team_df['AwayTeam'] == team]\n",
    "    temp_df = pd.concat([temp_df, team_df]).reset_index(drop=True)\n",
    "\n",
    "df = temp_df"
   ]
  },
  {
   "cell_type": "code",
   "execution_count": 105,
   "id": "18ba6aef",
   "metadata": {},
   "outputs": [],
   "source": [
    "# df.head(10)"
   ]
  },
  {
   "cell_type": "code",
   "execution_count": 106,
   "id": "e4d1e497",
   "metadata": {},
   "outputs": [
    {
     "data": {
      "text/plain": [
       "(3800, 44)"
      ]
     },
     "execution_count": 106,
     "metadata": {},
     "output_type": "execute_result"
    }
   ],
   "source": [
    "df.shape"
   ]
  },
  {
   "cell_type": "markdown",
   "id": "532b83fd",
   "metadata": {},
   "source": [
    "## Average Number of Points Gained by Away Team in the Last x Away Matches"
   ]
  },
  {
   "cell_type": "code",
   "execution_count": 107,
   "id": "bac81cdd",
   "metadata": {},
   "outputs": [],
   "source": [
    "def getPointsGained(row):\n",
    "    if row['Result'] == 'W':\n",
    "        return 0\n",
    "    elif row['Result'] == 'D':\n",
    "        return 1\n",
    "    elif row['Result'] == 'L':\n",
    "        return 3"
   ]
  },
  {
   "cell_type": "code",
   "execution_count": 108,
   "id": "f4381571",
   "metadata": {},
   "outputs": [
    {
     "name": "stderr",
     "output_type": "stream",
     "text": [
      "C:\\Users\\choibs\\AppData\\Local\\Temp\\ipykernel_6252\\1041028938.py:5: SettingWithCopyWarning: \n",
      "A value is trying to be set on a copy of a slice from a DataFrame.\n",
      "Try using .loc[row_indexer,col_indexer] = value instead\n",
      "\n",
      "See the caveats in the documentation: https://pandas.pydata.org/pandas-docs/stable/user_guide/indexing.html#returning-a-view-versus-a-copy\n",
      "  team_df['Points Gained'] = team_df.apply(lambda row: getPointsGained(row), axis=1)\n",
      "C:\\Users\\choibs\\AppData\\Local\\Temp\\ipykernel_6252\\1041028938.py:5: SettingWithCopyWarning: \n",
      "A value is trying to be set on a copy of a slice from a DataFrame.\n",
      "Try using .loc[row_indexer,col_indexer] = value instead\n",
      "\n",
      "See the caveats in the documentation: https://pandas.pydata.org/pandas-docs/stable/user_guide/indexing.html#returning-a-view-versus-a-copy\n",
      "  team_df['Points Gained'] = team_df.apply(lambda row: getPointsGained(row), axis=1)\n",
      "C:\\Users\\choibs\\AppData\\Local\\Temp\\ipykernel_6252\\1041028938.py:5: SettingWithCopyWarning: \n",
      "A value is trying to be set on a copy of a slice from a DataFrame.\n",
      "Try using .loc[row_indexer,col_indexer] = value instead\n",
      "\n",
      "See the caveats in the documentation: https://pandas.pydata.org/pandas-docs/stable/user_guide/indexing.html#returning-a-view-versus-a-copy\n",
      "  team_df['Points Gained'] = team_df.apply(lambda row: getPointsGained(row), axis=1)\n",
      "C:\\Users\\choibs\\AppData\\Local\\Temp\\ipykernel_6252\\1041028938.py:5: SettingWithCopyWarning: \n",
      "A value is trying to be set on a copy of a slice from a DataFrame.\n",
      "Try using .loc[row_indexer,col_indexer] = value instead\n",
      "\n",
      "See the caveats in the documentation: https://pandas.pydata.org/pandas-docs/stable/user_guide/indexing.html#returning-a-view-versus-a-copy\n",
      "  team_df['Points Gained'] = team_df.apply(lambda row: getPointsGained(row), axis=1)\n",
      "C:\\Users\\choibs\\AppData\\Local\\Temp\\ipykernel_6252\\1041028938.py:5: SettingWithCopyWarning: \n",
      "A value is trying to be set on a copy of a slice from a DataFrame.\n",
      "Try using .loc[row_indexer,col_indexer] = value instead\n",
      "\n",
      "See the caveats in the documentation: https://pandas.pydata.org/pandas-docs/stable/user_guide/indexing.html#returning-a-view-versus-a-copy\n",
      "  team_df['Points Gained'] = team_df.apply(lambda row: getPointsGained(row), axis=1)\n",
      "C:\\Users\\choibs\\AppData\\Local\\Temp\\ipykernel_6252\\1041028938.py:5: SettingWithCopyWarning: \n",
      "A value is trying to be set on a copy of a slice from a DataFrame.\n",
      "Try using .loc[row_indexer,col_indexer] = value instead\n",
      "\n",
      "See the caveats in the documentation: https://pandas.pydata.org/pandas-docs/stable/user_guide/indexing.html#returning-a-view-versus-a-copy\n",
      "  team_df['Points Gained'] = team_df.apply(lambda row: getPointsGained(row), axis=1)\n",
      "C:\\Users\\choibs\\AppData\\Local\\Temp\\ipykernel_6252\\1041028938.py:5: SettingWithCopyWarning: \n",
      "A value is trying to be set on a copy of a slice from a DataFrame.\n",
      "Try using .loc[row_indexer,col_indexer] = value instead\n",
      "\n",
      "See the caveats in the documentation: https://pandas.pydata.org/pandas-docs/stable/user_guide/indexing.html#returning-a-view-versus-a-copy\n",
      "  team_df['Points Gained'] = team_df.apply(lambda row: getPointsGained(row), axis=1)\n",
      "C:\\Users\\choibs\\AppData\\Local\\Temp\\ipykernel_6252\\1041028938.py:5: SettingWithCopyWarning: \n",
      "A value is trying to be set on a copy of a slice from a DataFrame.\n",
      "Try using .loc[row_indexer,col_indexer] = value instead\n",
      "\n",
      "See the caveats in the documentation: https://pandas.pydata.org/pandas-docs/stable/user_guide/indexing.html#returning-a-view-versus-a-copy\n",
      "  team_df['Points Gained'] = team_df.apply(lambda row: getPointsGained(row), axis=1)\n",
      "C:\\Users\\choibs\\AppData\\Local\\Temp\\ipykernel_6252\\1041028938.py:5: SettingWithCopyWarning: \n",
      "A value is trying to be set on a copy of a slice from a DataFrame.\n",
      "Try using .loc[row_indexer,col_indexer] = value instead\n",
      "\n",
      "See the caveats in the documentation: https://pandas.pydata.org/pandas-docs/stable/user_guide/indexing.html#returning-a-view-versus-a-copy\n",
      "  team_df['Points Gained'] = team_df.apply(lambda row: getPointsGained(row), axis=1)\n",
      "C:\\Users\\choibs\\AppData\\Local\\Temp\\ipykernel_6252\\1041028938.py:5: SettingWithCopyWarning: \n",
      "A value is trying to be set on a copy of a slice from a DataFrame.\n",
      "Try using .loc[row_indexer,col_indexer] = value instead\n",
      "\n",
      "See the caveats in the documentation: https://pandas.pydata.org/pandas-docs/stable/user_guide/indexing.html#returning-a-view-versus-a-copy\n",
      "  team_df['Points Gained'] = team_df.apply(lambda row: getPointsGained(row), axis=1)\n",
      "C:\\Users\\choibs\\AppData\\Local\\Temp\\ipykernel_6252\\1041028938.py:5: SettingWithCopyWarning: \n",
      "A value is trying to be set on a copy of a slice from a DataFrame.\n",
      "Try using .loc[row_indexer,col_indexer] = value instead\n",
      "\n",
      "See the caveats in the documentation: https://pandas.pydata.org/pandas-docs/stable/user_guide/indexing.html#returning-a-view-versus-a-copy\n",
      "  team_df['Points Gained'] = team_df.apply(lambda row: getPointsGained(row), axis=1)\n",
      "C:\\Users\\choibs\\AppData\\Local\\Temp\\ipykernel_6252\\1041028938.py:5: SettingWithCopyWarning: \n",
      "A value is trying to be set on a copy of a slice from a DataFrame.\n",
      "Try using .loc[row_indexer,col_indexer] = value instead\n",
      "\n",
      "See the caveats in the documentation: https://pandas.pydata.org/pandas-docs/stable/user_guide/indexing.html#returning-a-view-versus-a-copy\n",
      "  team_df['Points Gained'] = team_df.apply(lambda row: getPointsGained(row), axis=1)\n",
      "C:\\Users\\choibs\\AppData\\Local\\Temp\\ipykernel_6252\\1041028938.py:5: SettingWithCopyWarning: \n",
      "A value is trying to be set on a copy of a slice from a DataFrame.\n",
      "Try using .loc[row_indexer,col_indexer] = value instead\n",
      "\n",
      "See the caveats in the documentation: https://pandas.pydata.org/pandas-docs/stable/user_guide/indexing.html#returning-a-view-versus-a-copy\n",
      "  team_df['Points Gained'] = team_df.apply(lambda row: getPointsGained(row), axis=1)\n",
      "C:\\Users\\choibs\\AppData\\Local\\Temp\\ipykernel_6252\\1041028938.py:5: SettingWithCopyWarning: \n",
      "A value is trying to be set on a copy of a slice from a DataFrame.\n",
      "Try using .loc[row_indexer,col_indexer] = value instead\n",
      "\n",
      "See the caveats in the documentation: https://pandas.pydata.org/pandas-docs/stable/user_guide/indexing.html#returning-a-view-versus-a-copy\n",
      "  team_df['Points Gained'] = team_df.apply(lambda row: getPointsGained(row), axis=1)\n",
      "C:\\Users\\choibs\\AppData\\Local\\Temp\\ipykernel_6252\\1041028938.py:5: SettingWithCopyWarning: \n",
      "A value is trying to be set on a copy of a slice from a DataFrame.\n",
      "Try using .loc[row_indexer,col_indexer] = value instead\n",
      "\n",
      "See the caveats in the documentation: https://pandas.pydata.org/pandas-docs/stable/user_guide/indexing.html#returning-a-view-versus-a-copy\n",
      "  team_df['Points Gained'] = team_df.apply(lambda row: getPointsGained(row), axis=1)\n",
      "C:\\Users\\choibs\\AppData\\Local\\Temp\\ipykernel_6252\\1041028938.py:5: SettingWithCopyWarning: \n",
      "A value is trying to be set on a copy of a slice from a DataFrame.\n",
      "Try using .loc[row_indexer,col_indexer] = value instead\n",
      "\n",
      "See the caveats in the documentation: https://pandas.pydata.org/pandas-docs/stable/user_guide/indexing.html#returning-a-view-versus-a-copy\n",
      "  team_df['Points Gained'] = team_df.apply(lambda row: getPointsGained(row), axis=1)\n",
      "C:\\Users\\choibs\\AppData\\Local\\Temp\\ipykernel_6252\\1041028938.py:5: SettingWithCopyWarning: \n",
      "A value is trying to be set on a copy of a slice from a DataFrame.\n",
      "Try using .loc[row_indexer,col_indexer] = value instead\n",
      "\n",
      "See the caveats in the documentation: https://pandas.pydata.org/pandas-docs/stable/user_guide/indexing.html#returning-a-view-versus-a-copy\n",
      "  team_df['Points Gained'] = team_df.apply(lambda row: getPointsGained(row), axis=1)\n",
      "C:\\Users\\choibs\\AppData\\Local\\Temp\\ipykernel_6252\\1041028938.py:5: SettingWithCopyWarning: \n",
      "A value is trying to be set on a copy of a slice from a DataFrame.\n",
      "Try using .loc[row_indexer,col_indexer] = value instead\n",
      "\n",
      "See the caveats in the documentation: https://pandas.pydata.org/pandas-docs/stable/user_guide/indexing.html#returning-a-view-versus-a-copy\n",
      "  team_df['Points Gained'] = team_df.apply(lambda row: getPointsGained(row), axis=1)\n",
      "C:\\Users\\choibs\\AppData\\Local\\Temp\\ipykernel_6252\\1041028938.py:5: SettingWithCopyWarning: \n",
      "A value is trying to be set on a copy of a slice from a DataFrame.\n",
      "Try using .loc[row_indexer,col_indexer] = value instead\n",
      "\n",
      "See the caveats in the documentation: https://pandas.pydata.org/pandas-docs/stable/user_guide/indexing.html#returning-a-view-versus-a-copy\n",
      "  team_df['Points Gained'] = team_df.apply(lambda row: getPointsGained(row), axis=1)\n",
      "C:\\Users\\choibs\\AppData\\Local\\Temp\\ipykernel_6252\\1041028938.py:5: SettingWithCopyWarning: \n",
      "A value is trying to be set on a copy of a slice from a DataFrame.\n",
      "Try using .loc[row_indexer,col_indexer] = value instead\n",
      "\n",
      "See the caveats in the documentation: https://pandas.pydata.org/pandas-docs/stable/user_guide/indexing.html#returning-a-view-versus-a-copy\n",
      "  team_df['Points Gained'] = team_df.apply(lambda row: getPointsGained(row), axis=1)\n",
      "C:\\Users\\choibs\\AppData\\Local\\Temp\\ipykernel_6252\\1041028938.py:5: SettingWithCopyWarning: \n",
      "A value is trying to be set on a copy of a slice from a DataFrame.\n",
      "Try using .loc[row_indexer,col_indexer] = value instead\n",
      "\n",
      "See the caveats in the documentation: https://pandas.pydata.org/pandas-docs/stable/user_guide/indexing.html#returning-a-view-versus-a-copy\n",
      "  team_df['Points Gained'] = team_df.apply(lambda row: getPointsGained(row), axis=1)\n",
      "C:\\Users\\choibs\\AppData\\Local\\Temp\\ipykernel_6252\\1041028938.py:5: SettingWithCopyWarning: \n",
      "A value is trying to be set on a copy of a slice from a DataFrame.\n",
      "Try using .loc[row_indexer,col_indexer] = value instead\n",
      "\n",
      "See the caveats in the documentation: https://pandas.pydata.org/pandas-docs/stable/user_guide/indexing.html#returning-a-view-versus-a-copy\n",
      "  team_df['Points Gained'] = team_df.apply(lambda row: getPointsGained(row), axis=1)\n",
      "C:\\Users\\choibs\\AppData\\Local\\Temp\\ipykernel_6252\\1041028938.py:5: SettingWithCopyWarning: \n",
      "A value is trying to be set on a copy of a slice from a DataFrame.\n",
      "Try using .loc[row_indexer,col_indexer] = value instead\n",
      "\n",
      "See the caveats in the documentation: https://pandas.pydata.org/pandas-docs/stable/user_guide/indexing.html#returning-a-view-versus-a-copy\n",
      "  team_df['Points Gained'] = team_df.apply(lambda row: getPointsGained(row), axis=1)\n",
      "C:\\Users\\choibs\\AppData\\Local\\Temp\\ipykernel_6252\\1041028938.py:5: SettingWithCopyWarning: \n",
      "A value is trying to be set on a copy of a slice from a DataFrame.\n",
      "Try using .loc[row_indexer,col_indexer] = value instead\n",
      "\n",
      "See the caveats in the documentation: https://pandas.pydata.org/pandas-docs/stable/user_guide/indexing.html#returning-a-view-versus-a-copy\n",
      "  team_df['Points Gained'] = team_df.apply(lambda row: getPointsGained(row), axis=1)\n",
      "C:\\Users\\choibs\\AppData\\Local\\Temp\\ipykernel_6252\\1041028938.py:5: SettingWithCopyWarning: \n",
      "A value is trying to be set on a copy of a slice from a DataFrame.\n",
      "Try using .loc[row_indexer,col_indexer] = value instead\n",
      "\n",
      "See the caveats in the documentation: https://pandas.pydata.org/pandas-docs/stable/user_guide/indexing.html#returning-a-view-versus-a-copy\n",
      "  team_df['Points Gained'] = team_df.apply(lambda row: getPointsGained(row), axis=1)\n",
      "C:\\Users\\choibs\\AppData\\Local\\Temp\\ipykernel_6252\\1041028938.py:5: SettingWithCopyWarning: \n",
      "A value is trying to be set on a copy of a slice from a DataFrame.\n",
      "Try using .loc[row_indexer,col_indexer] = value instead\n",
      "\n",
      "See the caveats in the documentation: https://pandas.pydata.org/pandas-docs/stable/user_guide/indexing.html#returning-a-view-versus-a-copy\n",
      "  team_df['Points Gained'] = team_df.apply(lambda row: getPointsGained(row), axis=1)\n",
      "C:\\Users\\choibs\\AppData\\Local\\Temp\\ipykernel_6252\\1041028938.py:5: SettingWithCopyWarning: \n",
      "A value is trying to be set on a copy of a slice from a DataFrame.\n",
      "Try using .loc[row_indexer,col_indexer] = value instead\n",
      "\n",
      "See the caveats in the documentation: https://pandas.pydata.org/pandas-docs/stable/user_guide/indexing.html#returning-a-view-versus-a-copy\n",
      "  team_df['Points Gained'] = team_df.apply(lambda row: getPointsGained(row), axis=1)\n",
      "C:\\Users\\choibs\\AppData\\Local\\Temp\\ipykernel_6252\\1041028938.py:5: SettingWithCopyWarning: \n",
      "A value is trying to be set on a copy of a slice from a DataFrame.\n",
      "Try using .loc[row_indexer,col_indexer] = value instead\n",
      "\n",
      "See the caveats in the documentation: https://pandas.pydata.org/pandas-docs/stable/user_guide/indexing.html#returning-a-view-versus-a-copy\n",
      "  team_df['Points Gained'] = team_df.apply(lambda row: getPointsGained(row), axis=1)\n",
      "C:\\Users\\choibs\\AppData\\Local\\Temp\\ipykernel_6252\\1041028938.py:5: SettingWithCopyWarning: \n",
      "A value is trying to be set on a copy of a slice from a DataFrame.\n",
      "Try using .loc[row_indexer,col_indexer] = value instead\n",
      "\n",
      "See the caveats in the documentation: https://pandas.pydata.org/pandas-docs/stable/user_guide/indexing.html#returning-a-view-versus-a-copy\n",
      "  team_df['Points Gained'] = team_df.apply(lambda row: getPointsGained(row), axis=1)\n"
     ]
    },
    {
     "name": "stderr",
     "output_type": "stream",
     "text": [
      "C:\\Users\\choibs\\AppData\\Local\\Temp\\ipykernel_6252\\1041028938.py:5: SettingWithCopyWarning: \n",
      "A value is trying to be set on a copy of a slice from a DataFrame.\n",
      "Try using .loc[row_indexer,col_indexer] = value instead\n",
      "\n",
      "See the caveats in the documentation: https://pandas.pydata.org/pandas-docs/stable/user_guide/indexing.html#returning-a-view-versus-a-copy\n",
      "  team_df['Points Gained'] = team_df.apply(lambda row: getPointsGained(row), axis=1)\n",
      "C:\\Users\\choibs\\AppData\\Local\\Temp\\ipykernel_6252\\1041028938.py:5: SettingWithCopyWarning: \n",
      "A value is trying to be set on a copy of a slice from a DataFrame.\n",
      "Try using .loc[row_indexer,col_indexer] = value instead\n",
      "\n",
      "See the caveats in the documentation: https://pandas.pydata.org/pandas-docs/stable/user_guide/indexing.html#returning-a-view-versus-a-copy\n",
      "  team_df['Points Gained'] = team_df.apply(lambda row: getPointsGained(row), axis=1)\n",
      "C:\\Users\\choibs\\AppData\\Local\\Temp\\ipykernel_6252\\1041028938.py:5: SettingWithCopyWarning: \n",
      "A value is trying to be set on a copy of a slice from a DataFrame.\n",
      "Try using .loc[row_indexer,col_indexer] = value instead\n",
      "\n",
      "See the caveats in the documentation: https://pandas.pydata.org/pandas-docs/stable/user_guide/indexing.html#returning-a-view-versus-a-copy\n",
      "  team_df['Points Gained'] = team_df.apply(lambda row: getPointsGained(row), axis=1)\n",
      "C:\\Users\\choibs\\AppData\\Local\\Temp\\ipykernel_6252\\1041028938.py:5: SettingWithCopyWarning: \n",
      "A value is trying to be set on a copy of a slice from a DataFrame.\n",
      "Try using .loc[row_indexer,col_indexer] = value instead\n",
      "\n",
      "See the caveats in the documentation: https://pandas.pydata.org/pandas-docs/stable/user_guide/indexing.html#returning-a-view-versus-a-copy\n",
      "  team_df['Points Gained'] = team_df.apply(lambda row: getPointsGained(row), axis=1)\n",
      "C:\\Users\\choibs\\AppData\\Local\\Temp\\ipykernel_6252\\1041028938.py:5: SettingWithCopyWarning: \n",
      "A value is trying to be set on a copy of a slice from a DataFrame.\n",
      "Try using .loc[row_indexer,col_indexer] = value instead\n",
      "\n",
      "See the caveats in the documentation: https://pandas.pydata.org/pandas-docs/stable/user_guide/indexing.html#returning-a-view-versus-a-copy\n",
      "  team_df['Points Gained'] = team_df.apply(lambda row: getPointsGained(row), axis=1)\n"
     ]
    }
   ],
   "source": [
    "temp_df = pd.DataFrame()\n",
    "\n",
    "for team in df['AwayTeam'].unique():\n",
    "    team_df = df[(df['AwayTeam'] == team)]\n",
    "    team_df['Points Gained'] = team_df.apply(lambda row: getPointsGained(row), axis=1)\n",
    "    team_df = team_df.sort_values(by = 'Date')\n",
    "    \n",
    "    number_of_previous_matches = 5\n",
    "    column = 0\n",
    "    \n",
    "    for i in range(1, number_of_previous_matches+1):\n",
    "        column += team_df['Points Gained'].shift(i)\n",
    "    \n",
    "    team_df['AAPL5AM'] = column / number_of_previous_matches\n",
    "    team_df.drop(columns=['Points Gained'], inplace=True)\n",
    "    \n",
    "    team_df = team_df[team_df['AwayTeam'] == team]\n",
    "    temp_df = pd.concat([temp_df, team_df]).reset_index(drop=True)\n",
    "\n",
    "df = temp_df"
   ]
  },
  {
   "cell_type": "code",
   "execution_count": 109,
   "id": "8eb5e1ee",
   "metadata": {},
   "outputs": [],
   "source": [
    "# df.head()"
   ]
  },
  {
   "cell_type": "code",
   "execution_count": 110,
   "id": "4ad87db6",
   "metadata": {},
   "outputs": [
    {
     "data": {
      "text/plain": [
       "(3800, 45)"
      ]
     },
     "execution_count": 110,
     "metadata": {},
     "output_type": "execute_result"
    }
   ],
   "source": [
    "df.shape"
   ]
  },
  {
   "cell_type": "markdown",
   "id": "5dee7f52",
   "metadata": {},
   "source": [
    "## Win Percentage of Away Team in the Last x Matches"
   ]
  },
  {
   "cell_type": "code",
   "execution_count": null,
   "id": "90e80124",
   "metadata": {},
   "outputs": [],
   "source": []
  },
  {
   "cell_type": "code",
   "execution_count": null,
   "id": "f207512b",
   "metadata": {},
   "outputs": [],
   "source": []
  },
  {
   "cell_type": "markdown",
   "id": "0332fa2b",
   "metadata": {},
   "source": [
    "## Win Percentage of Away Team in the Last x Away Matches"
   ]
  },
  {
   "cell_type": "code",
   "execution_count": null,
   "id": "16f5b8ac",
   "metadata": {},
   "outputs": [],
   "source": []
  },
  {
   "cell_type": "code",
   "execution_count": null,
   "id": "b4a96ab9",
   "metadata": {},
   "outputs": [],
   "source": []
  },
  {
   "cell_type": "markdown",
   "id": "16a09d38",
   "metadata": {},
   "source": [
    "## Away Team Win streak"
   ]
  },
  {
   "cell_type": "code",
   "execution_count": 111,
   "id": "9343df5d",
   "metadata": {},
   "outputs": [],
   "source": [
    "def getBooleanWin(row, team):\n",
    "    if row['AwayTeam'] == team:\n",
    "        if row['Result'] == 'L':\n",
    "            return 1\n",
    "        else:\n",
    "            return 0\n",
    "    else:\n",
    "        if row['Result'] == 'W':\n",
    "            return 1\n",
    "        else:\n",
    "            return 0"
   ]
  },
  {
   "cell_type": "code",
   "execution_count": 112,
   "id": "06576b16",
   "metadata": {},
   "outputs": [],
   "source": [
    "temp_df = pd.DataFrame()\n",
    "\n",
    "for team in df['AwayTeam'].unique():\n",
    "    team_df = df[(df['HomeTeam'] == team) | (df['AwayTeam'] == team)]\n",
    "    team_df = team_df.sort_values(by = 'Date')\n",
    "    \n",
    "    team_df['Win'] = team_df.apply(lambda row: getBooleanWin(row, team), axis=1)\n",
    "    \n",
    "    grouper = (team_df['Win'] != team_df['Win'].shift()).cumsum()\n",
    "    team_df['AWinStreak'] = team_df['Win'].groupby(grouper).cumsum()\n",
    "    team_df.drop(columns=['Win'], inplace=True)\n",
    "    team_df['AWinStreak'] = team_df['AWinStreak'].shift(1)\n",
    "    \n",
    "    team_df = team_df[team_df['AwayTeam'] == team]\n",
    "    temp_df = pd.concat([temp_df, team_df]).reset_index(drop=True)\n",
    "\n",
    "df = temp_df"
   ]
  },
  {
   "cell_type": "code",
   "execution_count": 113,
   "id": "fd76e757",
   "metadata": {},
   "outputs": [],
   "source": [
    "# df.tail()"
   ]
  },
  {
   "cell_type": "code",
   "execution_count": 114,
   "id": "f5db6daf",
   "metadata": {},
   "outputs": [
    {
     "data": {
      "text/plain": [
       "(3800, 46)"
      ]
     },
     "execution_count": 114,
     "metadata": {},
     "output_type": "execute_result"
    }
   ],
   "source": [
    "df.shape"
   ]
  },
  {
   "cell_type": "markdown",
   "id": "bbf95bb1",
   "metadata": {},
   "source": [
    "## Home Team Performance Index\n",
    "- Home Defense Performance Index\n",
    "- Home Midfield Performance Index\n",
    "- Home Attack Performance Index"
   ]
  },
  {
   "cell_type": "code",
   "execution_count": 115,
   "id": "d333d232",
   "metadata": {},
   "outputs": [
    {
     "data": {
      "text/html": [
       "<div>\n",
       "<style scoped>\n",
       "    .dataframe tbody tr th:only-of-type {\n",
       "        vertical-align: middle;\n",
       "    }\n",
       "\n",
       "    .dataframe tbody tr th {\n",
       "        vertical-align: top;\n",
       "    }\n",
       "\n",
       "    .dataframe thead th {\n",
       "        text-align: right;\n",
       "    }\n",
       "</style>\n",
       "<table border=\"1\" class=\"dataframe\">\n",
       "  <thead>\n",
       "    <tr style=\"text-align: right;\">\n",
       "      <th></th>\n",
       "      <th>Version</th>\n",
       "      <th>Date</th>\n",
       "      <th>Team</th>\n",
       "      <th>Attack</th>\n",
       "      <th>Midfield</th>\n",
       "      <th>Defense</th>\n",
       "    </tr>\n",
       "  </thead>\n",
       "  <tbody>\n",
       "    <tr>\n",
       "      <th>0</th>\n",
       "      <td>FIFA 22</td>\n",
       "      <td>2022-08-18</td>\n",
       "      <td>liverpool</td>\n",
       "      <td>86</td>\n",
       "      <td>84</td>\n",
       "      <td>85</td>\n",
       "    </tr>\n",
       "    <tr>\n",
       "      <th>1</th>\n",
       "      <td>FIFA 22</td>\n",
       "      <td>2022-08-18</td>\n",
       "      <td>city</td>\n",
       "      <td>84</td>\n",
       "      <td>87</td>\n",
       "      <td>86</td>\n",
       "    </tr>\n",
       "    <tr>\n",
       "      <th>2</th>\n",
       "      <td>FIFA 22</td>\n",
       "      <td>2022-08-18</td>\n",
       "      <td>chelsea</td>\n",
       "      <td>84</td>\n",
       "      <td>85</td>\n",
       "      <td>83</td>\n",
       "    </tr>\n",
       "    <tr>\n",
       "      <th>3</th>\n",
       "      <td>FIFA 22</td>\n",
       "      <td>2022-08-18</td>\n",
       "      <td>united</td>\n",
       "      <td>82</td>\n",
       "      <td>83</td>\n",
       "      <td>81</td>\n",
       "    </tr>\n",
       "    <tr>\n",
       "      <th>4</th>\n",
       "      <td>FIFA 22</td>\n",
       "      <td>2022-08-18</td>\n",
       "      <td>tottenham</td>\n",
       "      <td>83</td>\n",
       "      <td>81</td>\n",
       "      <td>78</td>\n",
       "    </tr>\n",
       "  </tbody>\n",
       "</table>\n",
       "</div>"
      ],
      "text/plain": [
       "   Version        Date       Team  Attack  Midfield  Defense\n",
       "0  FIFA 22  2022-08-18  liverpool      86        84       85\n",
       "1  FIFA 22  2022-08-18       city      84        87       86\n",
       "2  FIFA 22  2022-08-18    chelsea      84        85       83\n",
       "3  FIFA 22  2022-08-18     united      82        83       81\n",
       "4  FIFA 22  2022-08-18  tottenham      83        81       78"
      ]
     },
     "execution_count": 115,
     "metadata": {},
     "output_type": "execute_result"
    }
   ],
   "source": [
    "fifa_ratings_df = pd.read_csv('datasets/data-source-3/dataset3.csv')\n",
    "fifa_ratings_df.head()"
   ]
  },
  {
   "cell_type": "code",
   "execution_count": 116,
   "id": "ac43ee6b",
   "metadata": {},
   "outputs": [],
   "source": [
    "def getHomeTeamRatingIndex(row):\n",
    "    date = row['Date']\n",
    "    hometeam = row['HomeTeam']\n",
    "    \n",
    "    ratings_df = fifa_ratings_df[(fifa_ratings_df['Team'] == hometeam) & (fifa_ratings_df['Date'] < date)]\n",
    "    ratings_row = ratings_df.sort_values(by = ['Date', 'Version'], ascending=[False, False]).iloc[0, :]\n",
    "    \n",
    "    row['HDef'] = ratings_row['Defense']\n",
    "    row['HMid'] = ratings_row['Midfield']\n",
    "    row['HAtt'] = ratings_row['Attack']\n",
    "    \n",
    "    return row"
   ]
  },
  {
   "cell_type": "code",
   "execution_count": 117,
   "id": "210dd3e8",
   "metadata": {},
   "outputs": [],
   "source": [
    "df = df.apply(getHomeTeamRatingIndex, axis=1)\n",
    "# df.head()"
   ]
  },
  {
   "cell_type": "markdown",
   "id": "a27a3253",
   "metadata": {},
   "source": [
    "### Home Team Overall"
   ]
  },
  {
   "cell_type": "code",
   "execution_count": 118,
   "id": "9677a3d5",
   "metadata": {},
   "outputs": [],
   "source": [
    "def getHomeTeamOverall(row):\n",
    "    rating = (row['HDef'] + row['HMid'] + row['HAtt'])/3\n",
    "    return round(rating, 2)"
   ]
  },
  {
   "cell_type": "code",
   "execution_count": 119,
   "id": "9ae48e2e",
   "metadata": {},
   "outputs": [],
   "source": [
    "df['HOVR'] = df.apply(lambda row: getHomeTeamOverall(row), axis=1)"
   ]
  },
  {
   "cell_type": "code",
   "execution_count": 120,
   "id": "bbcc317a",
   "metadata": {},
   "outputs": [
    {
     "data": {
      "text/html": [
       "<div>\n",
       "<style scoped>\n",
       "    .dataframe tbody tr th:only-of-type {\n",
       "        vertical-align: middle;\n",
       "    }\n",
       "\n",
       "    .dataframe tbody tr th {\n",
       "        vertical-align: top;\n",
       "    }\n",
       "\n",
       "    .dataframe thead th {\n",
       "        text-align: right;\n",
       "    }\n",
       "</style>\n",
       "<table border=\"1\" class=\"dataframe\">\n",
       "  <thead>\n",
       "    <tr style=\"text-align: right;\">\n",
       "      <th></th>\n",
       "      <th>Date</th>\n",
       "      <th>HomeTeam</th>\n",
       "      <th>AwayTeam</th>\n",
       "      <th>FTHG</th>\n",
       "      <th>FTAG</th>\n",
       "      <th>HS</th>\n",
       "      <th>AS</th>\n",
       "      <th>HST</th>\n",
       "      <th>AST</th>\n",
       "      <th>HF</th>\n",
       "      <th>AF</th>\n",
       "      <th>HC</th>\n",
       "      <th>AC</th>\n",
       "      <th>HY</th>\n",
       "      <th>AY</th>\n",
       "      <th>HR</th>\n",
       "      <th>AR</th>\n",
       "      <th>B365H</th>\n",
       "      <th>B365D</th>\n",
       "      <th>B365A</th>\n",
       "      <th>Result</th>\n",
       "      <th>HDays</th>\n",
       "      <th>ADays</th>\n",
       "      <th>B365 Prediction</th>\n",
       "      <th>HASL5M</th>\n",
       "      <th>HASTL5M</th>\n",
       "      <th>HACL5M</th>\n",
       "      <th>HAFL5M</th>\n",
       "      <th>HAYCL5M</th>\n",
       "      <th>HARCL5M</th>\n",
       "      <th>HGDL5M</th>\n",
       "      <th>HGDL5HM</th>\n",
       "      <th>HAPL5M</th>\n",
       "      <th>HAPL5HM</th>\n",
       "      <th>HWinStreak</th>\n",
       "      <th>AASL5M</th>\n",
       "      <th>AASTL5M</th>\n",
       "      <th>AACL5M</th>\n",
       "      <th>AAFL5M</th>\n",
       "      <th>AAYCL5M</th>\n",
       "      <th>AARCL5M</th>\n",
       "      <th>AGDL5M</th>\n",
       "      <th>AGDL5AM</th>\n",
       "      <th>AAPL5M</th>\n",
       "      <th>AAPL5AM</th>\n",
       "      <th>AWinStreak</th>\n",
       "      <th>HDef</th>\n",
       "      <th>HMid</th>\n",
       "      <th>HAtt</th>\n",
       "      <th>HOVR</th>\n",
       "    </tr>\n",
       "  </thead>\n",
       "  <tbody>\n",
       "    <tr>\n",
       "      <th>0</th>\n",
       "      <td>2012-08-18</td>\n",
       "      <td>arsenal</td>\n",
       "      <td>sunderland</td>\n",
       "      <td>0.0</td>\n",
       "      <td>0.0</td>\n",
       "      <td>14.0</td>\n",
       "      <td>3.0</td>\n",
       "      <td>4.0</td>\n",
       "      <td>2.0</td>\n",
       "      <td>12.0</td>\n",
       "      <td>8.0</td>\n",
       "      <td>7.0</td>\n",
       "      <td>0.0</td>\n",
       "      <td>0.0</td>\n",
       "      <td>0.0</td>\n",
       "      <td>0.0</td>\n",
       "      <td>0.0</td>\n",
       "      <td>1.40</td>\n",
       "      <td>4.5</td>\n",
       "      <td>8.5</td>\n",
       "      <td>D</td>\n",
       "      <td>10</td>\n",
       "      <td>10</td>\n",
       "      <td>W</td>\n",
       "      <td>NaN</td>\n",
       "      <td>NaN</td>\n",
       "      <td>NaN</td>\n",
       "      <td>NaN</td>\n",
       "      <td>NaN</td>\n",
       "      <td>NaN</td>\n",
       "      <td>NaN</td>\n",
       "      <td>NaN</td>\n",
       "      <td>NaN</td>\n",
       "      <td>NaN</td>\n",
       "      <td>NaN</td>\n",
       "      <td>NaN</td>\n",
       "      <td>NaN</td>\n",
       "      <td>NaN</td>\n",
       "      <td>NaN</td>\n",
       "      <td>NaN</td>\n",
       "      <td>NaN</td>\n",
       "      <td>NaN</td>\n",
       "      <td>NaN</td>\n",
       "      <td>NaN</td>\n",
       "      <td>NaN</td>\n",
       "      <td>NaN</td>\n",
       "      <td>80</td>\n",
       "      <td>82</td>\n",
       "      <td>84</td>\n",
       "      <td>82.00</td>\n",
       "    </tr>\n",
       "    <tr>\n",
       "      <th>1</th>\n",
       "      <td>2012-09-01</td>\n",
       "      <td>swansea</td>\n",
       "      <td>sunderland</td>\n",
       "      <td>2.0</td>\n",
       "      <td>2.0</td>\n",
       "      <td>14.0</td>\n",
       "      <td>4.0</td>\n",
       "      <td>10.0</td>\n",
       "      <td>3.0</td>\n",
       "      <td>11.0</td>\n",
       "      <td>7.0</td>\n",
       "      <td>8.0</td>\n",
       "      <td>0.0</td>\n",
       "      <td>1.0</td>\n",
       "      <td>1.0</td>\n",
       "      <td>1.0</td>\n",
       "      <td>0.0</td>\n",
       "      <td>2.20</td>\n",
       "      <td>3.3</td>\n",
       "      <td>3.4</td>\n",
       "      <td>D</td>\n",
       "      <td>7</td>\n",
       "      <td>10</td>\n",
       "      <td>W</td>\n",
       "      <td>NaN</td>\n",
       "      <td>NaN</td>\n",
       "      <td>NaN</td>\n",
       "      <td>NaN</td>\n",
       "      <td>NaN</td>\n",
       "      <td>NaN</td>\n",
       "      <td>NaN</td>\n",
       "      <td>NaN</td>\n",
       "      <td>NaN</td>\n",
       "      <td>NaN</td>\n",
       "      <td>2.0</td>\n",
       "      <td>NaN</td>\n",
       "      <td>NaN</td>\n",
       "      <td>NaN</td>\n",
       "      <td>NaN</td>\n",
       "      <td>NaN</td>\n",
       "      <td>NaN</td>\n",
       "      <td>NaN</td>\n",
       "      <td>NaN</td>\n",
       "      <td>NaN</td>\n",
       "      <td>NaN</td>\n",
       "      <td>0.0</td>\n",
       "      <td>73</td>\n",
       "      <td>73</td>\n",
       "      <td>73</td>\n",
       "      <td>73.00</td>\n",
       "    </tr>\n",
       "    <tr>\n",
       "      <th>2</th>\n",
       "      <td>2012-09-22</td>\n",
       "      <td>west-ham</td>\n",
       "      <td>sunderland</td>\n",
       "      <td>1.0</td>\n",
       "      <td>1.0</td>\n",
       "      <td>20.0</td>\n",
       "      <td>4.0</td>\n",
       "      <td>11.0</td>\n",
       "      <td>2.0</td>\n",
       "      <td>12.0</td>\n",
       "      <td>10.0</td>\n",
       "      <td>10.0</td>\n",
       "      <td>1.0</td>\n",
       "      <td>2.0</td>\n",
       "      <td>1.0</td>\n",
       "      <td>0.0</td>\n",
       "      <td>0.0</td>\n",
       "      <td>2.10</td>\n",
       "      <td>3.3</td>\n",
       "      <td>3.6</td>\n",
       "      <td>D</td>\n",
       "      <td>7</td>\n",
       "      <td>7</td>\n",
       "      <td>W</td>\n",
       "      <td>NaN</td>\n",
       "      <td>NaN</td>\n",
       "      <td>NaN</td>\n",
       "      <td>NaN</td>\n",
       "      <td>NaN</td>\n",
       "      <td>NaN</td>\n",
       "      <td>NaN</td>\n",
       "      <td>NaN</td>\n",
       "      <td>NaN</td>\n",
       "      <td>NaN</td>\n",
       "      <td>0.0</td>\n",
       "      <td>NaN</td>\n",
       "      <td>NaN</td>\n",
       "      <td>NaN</td>\n",
       "      <td>NaN</td>\n",
       "      <td>NaN</td>\n",
       "      <td>NaN</td>\n",
       "      <td>NaN</td>\n",
       "      <td>NaN</td>\n",
       "      <td>NaN</td>\n",
       "      <td>NaN</td>\n",
       "      <td>0.0</td>\n",
       "      <td>71</td>\n",
       "      <td>73</td>\n",
       "      <td>75</td>\n",
       "      <td>73.00</td>\n",
       "    </tr>\n",
       "    <tr>\n",
       "      <th>3</th>\n",
       "      <td>2012-10-06</td>\n",
       "      <td>city</td>\n",
       "      <td>sunderland</td>\n",
       "      <td>3.0</td>\n",
       "      <td>0.0</td>\n",
       "      <td>26.0</td>\n",
       "      <td>8.0</td>\n",
       "      <td>16.0</td>\n",
       "      <td>6.0</td>\n",
       "      <td>10.0</td>\n",
       "      <td>10.0</td>\n",
       "      <td>15.0</td>\n",
       "      <td>4.0</td>\n",
       "      <td>0.0</td>\n",
       "      <td>3.0</td>\n",
       "      <td>0.0</td>\n",
       "      <td>0.0</td>\n",
       "      <td>1.29</td>\n",
       "      <td>5.5</td>\n",
       "      <td>11.0</td>\n",
       "      <td>W</td>\n",
       "      <td>3</td>\n",
       "      <td>7</td>\n",
       "      <td>W</td>\n",
       "      <td>16.0</td>\n",
       "      <td>10.0</td>\n",
       "      <td>6.0</td>\n",
       "      <td>10.8</td>\n",
       "      <td>1.0</td>\n",
       "      <td>0.0</td>\n",
       "      <td>3.0</td>\n",
       "      <td>NaN</td>\n",
       "      <td>1.8</td>\n",
       "      <td>NaN</td>\n",
       "      <td>1.0</td>\n",
       "      <td>5.6</td>\n",
       "      <td>3.4</td>\n",
       "      <td>2.2</td>\n",
       "      <td>12.6</td>\n",
       "      <td>1.0</td>\n",
       "      <td>0.0</td>\n",
       "      <td>1.0</td>\n",
       "      <td>NaN</td>\n",
       "      <td>1.4</td>\n",
       "      <td>NaN</td>\n",
       "      <td>1.0</td>\n",
       "      <td>81</td>\n",
       "      <td>83</td>\n",
       "      <td>85</td>\n",
       "      <td>83.00</td>\n",
       "    </tr>\n",
       "    <tr>\n",
       "      <th>4</th>\n",
       "      <td>2012-10-27</td>\n",
       "      <td>stoke</td>\n",
       "      <td>sunderland</td>\n",
       "      <td>0.0</td>\n",
       "      <td>0.0</td>\n",
       "      <td>11.0</td>\n",
       "      <td>6.0</td>\n",
       "      <td>6.0</td>\n",
       "      <td>3.0</td>\n",
       "      <td>12.0</td>\n",
       "      <td>6.0</td>\n",
       "      <td>7.0</td>\n",
       "      <td>3.0</td>\n",
       "      <td>2.0</td>\n",
       "      <td>2.0</td>\n",
       "      <td>0.0</td>\n",
       "      <td>0.0</td>\n",
       "      <td>1.95</td>\n",
       "      <td>3.3</td>\n",
       "      <td>4.2</td>\n",
       "      <td>D</td>\n",
       "      <td>7</td>\n",
       "      <td>6</td>\n",
       "      <td>W</td>\n",
       "      <td>8.0</td>\n",
       "      <td>4.6</td>\n",
       "      <td>4.6</td>\n",
       "      <td>12.6</td>\n",
       "      <td>1.8</td>\n",
       "      <td>0.0</td>\n",
       "      <td>-1.0</td>\n",
       "      <td>NaN</td>\n",
       "      <td>1.0</td>\n",
       "      <td>NaN</td>\n",
       "      <td>0.0</td>\n",
       "      <td>9.0</td>\n",
       "      <td>4.8</td>\n",
       "      <td>4.6</td>\n",
       "      <td>14.4</td>\n",
       "      <td>1.4</td>\n",
       "      <td>0.0</td>\n",
       "      <td>-2.0</td>\n",
       "      <td>NaN</td>\n",
       "      <td>1.2</td>\n",
       "      <td>NaN</td>\n",
       "      <td>0.0</td>\n",
       "      <td>75</td>\n",
       "      <td>76</td>\n",
       "      <td>75</td>\n",
       "      <td>75.33</td>\n",
       "    </tr>\n",
       "  </tbody>\n",
       "</table>\n",
       "</div>"
      ],
      "text/plain": [
       "         Date  HomeTeam    AwayTeam  FTHG  FTAG    HS   AS   HST  AST    HF  \\\n",
       "0  2012-08-18   arsenal  sunderland   0.0   0.0  14.0  3.0   4.0  2.0  12.0   \n",
       "1  2012-09-01   swansea  sunderland   2.0   2.0  14.0  4.0  10.0  3.0  11.0   \n",
       "2  2012-09-22  west-ham  sunderland   1.0   1.0  20.0  4.0  11.0  2.0  12.0   \n",
       "3  2012-10-06      city  sunderland   3.0   0.0  26.0  8.0  16.0  6.0  10.0   \n",
       "4  2012-10-27     stoke  sunderland   0.0   0.0  11.0  6.0   6.0  3.0  12.0   \n",
       "\n",
       "     AF    HC   AC   HY   AY   HR   AR  B365H  B365D  B365A Result  HDays  \\\n",
       "0   8.0   7.0  0.0  0.0  0.0  0.0  0.0   1.40    4.5    8.5      D     10   \n",
       "1   7.0   8.0  0.0  1.0  1.0  1.0  0.0   2.20    3.3    3.4      D      7   \n",
       "2  10.0  10.0  1.0  2.0  1.0  0.0  0.0   2.10    3.3    3.6      D      7   \n",
       "3  10.0  15.0  4.0  0.0  3.0  0.0  0.0   1.29    5.5   11.0      W      3   \n",
       "4   6.0   7.0  3.0  2.0  2.0  0.0  0.0   1.95    3.3    4.2      D      7   \n",
       "\n",
       "   ADays B365 Prediction  HASL5M  HASTL5M  HACL5M  HAFL5M  HAYCL5M  HARCL5M  \\\n",
       "0     10               W     NaN      NaN     NaN     NaN      NaN      NaN   \n",
       "1     10               W     NaN      NaN     NaN     NaN      NaN      NaN   \n",
       "2      7               W     NaN      NaN     NaN     NaN      NaN      NaN   \n",
       "3      7               W    16.0     10.0     6.0    10.8      1.0      0.0   \n",
       "4      6               W     8.0      4.6     4.6    12.6      1.8      0.0   \n",
       "\n",
       "   HGDL5M  HGDL5HM  HAPL5M  HAPL5HM  HWinStreak  AASL5M  AASTL5M  AACL5M  \\\n",
       "0     NaN      NaN     NaN      NaN         NaN     NaN      NaN     NaN   \n",
       "1     NaN      NaN     NaN      NaN         2.0     NaN      NaN     NaN   \n",
       "2     NaN      NaN     NaN      NaN         0.0     NaN      NaN     NaN   \n",
       "3     3.0      NaN     1.8      NaN         1.0     5.6      3.4     2.2   \n",
       "4    -1.0      NaN     1.0      NaN         0.0     9.0      4.8     4.6   \n",
       "\n",
       "   AAFL5M  AAYCL5M  AARCL5M  AGDL5M  AGDL5AM  AAPL5M  AAPL5AM  AWinStreak  \\\n",
       "0     NaN      NaN      NaN     NaN      NaN     NaN      NaN         NaN   \n",
       "1     NaN      NaN      NaN     NaN      NaN     NaN      NaN         0.0   \n",
       "2     NaN      NaN      NaN     NaN      NaN     NaN      NaN         0.0   \n",
       "3    12.6      1.0      0.0     1.0      NaN     1.4      NaN         1.0   \n",
       "4    14.4      1.4      0.0    -2.0      NaN     1.2      NaN         0.0   \n",
       "\n",
       "   HDef  HMid  HAtt   HOVR  \n",
       "0    80    82    84  82.00  \n",
       "1    73    73    73  73.00  \n",
       "2    71    73    75  73.00  \n",
       "3    81    83    85  83.00  \n",
       "4    75    76    75  75.33  "
      ]
     },
     "execution_count": 120,
     "metadata": {},
     "output_type": "execute_result"
    }
   ],
   "source": [
    "df.head()"
   ]
  },
  {
   "cell_type": "markdown",
   "id": "51cae1e9",
   "metadata": {},
   "source": [
    "## Away Team Performance Index\n",
    "\n",
    "- Away Defense Performance Index\n",
    "- Away Midfield Performance Index\n",
    "- Away Attack Performance Index"
   ]
  },
  {
   "cell_type": "code",
   "execution_count": 121,
   "id": "9bcba4e7",
   "metadata": {},
   "outputs": [],
   "source": [
    "def getAwayTeamRatingIndex(row):\n",
    "    date = row['Date']\n",
    "    awayteam = row['AwayTeam']\n",
    "    \n",
    "    ratings_df = fifa_ratings_df[(fifa_ratings_df['Team'] == awayteam) & (fifa_ratings_df['Date'] < date)]\n",
    "    ratings_row = ratings_df.sort_values(by = ['Date', 'Version'], ascending=[False, False]).iloc[0, :]\n",
    "    \n",
    "    row['ADef'] = ratings_row['Defense']\n",
    "    row['AMid'] = ratings_row['Midfield']\n",
    "    row['AAtt'] = ratings_row['Attack']\n",
    "    \n",
    "    return row"
   ]
  },
  {
   "cell_type": "code",
   "execution_count": 122,
   "id": "5e12c37f",
   "metadata": {},
   "outputs": [],
   "source": [
    "df = df.apply(getAwayTeamRatingIndex, axis=1)\n",
    "# df.head()"
   ]
  },
  {
   "cell_type": "markdown",
   "id": "0334e2f6",
   "metadata": {},
   "source": [
    "### Away Team Overall"
   ]
  },
  {
   "cell_type": "code",
   "execution_count": 123,
   "id": "3ff0dab4",
   "metadata": {},
   "outputs": [],
   "source": [
    "def getAwayTeamOverall(row):\n",
    "    rating = (row['ADef'] + row['AMid'] + row['AAtt'])/3\n",
    "    return round(rating, 2)"
   ]
  },
  {
   "cell_type": "code",
   "execution_count": 124,
   "id": "2f6b41a4",
   "metadata": {},
   "outputs": [],
   "source": [
    "df['AOVR'] = df.apply(lambda row: getAwayTeamOverall(row), axis=1)"
   ]
  },
  {
   "cell_type": "code",
   "execution_count": 125,
   "id": "5adee358",
   "metadata": {},
   "outputs": [],
   "source": [
    "# df.head()"
   ]
  },
  {
   "cell_type": "markdown",
   "id": "667ee75c",
   "metadata": {},
   "source": [
    "## Save to CSV"
   ]
  },
  {
   "cell_type": "code",
   "execution_count": 134,
   "id": "841d1451",
   "metadata": {},
   "outputs": [],
   "source": [
    "df.to_csv(f'datasets/cleaned_dataset.csv', index=False)"
   ]
  },
  {
   "cell_type": "code",
   "execution_count": 135,
   "id": "72f5c24b",
   "metadata": {},
   "outputs": [
    {
     "data": {
      "text/html": [
       "<div>\n",
       "<style scoped>\n",
       "    .dataframe tbody tr th:only-of-type {\n",
       "        vertical-align: middle;\n",
       "    }\n",
       "\n",
       "    .dataframe tbody tr th {\n",
       "        vertical-align: top;\n",
       "    }\n",
       "\n",
       "    .dataframe thead th {\n",
       "        text-align: right;\n",
       "    }\n",
       "</style>\n",
       "<table border=\"1\" class=\"dataframe\">\n",
       "  <thead>\n",
       "    <tr style=\"text-align: right;\">\n",
       "      <th></th>\n",
       "      <th>Date</th>\n",
       "      <th>HomeTeam</th>\n",
       "      <th>AwayTeam</th>\n",
       "      <th>FTHG</th>\n",
       "      <th>FTAG</th>\n",
       "      <th>HS</th>\n",
       "      <th>AS</th>\n",
       "      <th>HST</th>\n",
       "      <th>AST</th>\n",
       "      <th>HF</th>\n",
       "      <th>AF</th>\n",
       "      <th>HC</th>\n",
       "      <th>AC</th>\n",
       "      <th>HY</th>\n",
       "      <th>AY</th>\n",
       "      <th>HR</th>\n",
       "      <th>AR</th>\n",
       "      <th>B365H</th>\n",
       "      <th>B365D</th>\n",
       "      <th>B365A</th>\n",
       "      <th>Result</th>\n",
       "      <th>HDays</th>\n",
       "      <th>ADays</th>\n",
       "      <th>HASL5M</th>\n",
       "      <th>HASTL5M</th>\n",
       "      <th>HACL5M</th>\n",
       "      <th>HAFL5M</th>\n",
       "      <th>HAYCL5M</th>\n",
       "      <th>HARCL5M</th>\n",
       "      <th>HGDL5M</th>\n",
       "      <th>HGDL5HM</th>\n",
       "      <th>HAPL5M</th>\n",
       "      <th>HAPL5HM</th>\n",
       "      <th>HWinStreak</th>\n",
       "      <th>AASL5M</th>\n",
       "      <th>AASTL5M</th>\n",
       "      <th>AACL5M</th>\n",
       "      <th>AAFL5M</th>\n",
       "      <th>AAYCL5M</th>\n",
       "      <th>AARCL5M</th>\n",
       "      <th>AGDL5M</th>\n",
       "      <th>AGDL5AM</th>\n",
       "      <th>AAPL5M</th>\n",
       "      <th>AAPL5AM</th>\n",
       "      <th>AWinStreak</th>\n",
       "      <th>HDef</th>\n",
       "      <th>HMid</th>\n",
       "      <th>HAtt</th>\n",
       "      <th>HOVR</th>\n",
       "      <th>ADef</th>\n",
       "      <th>AMid</th>\n",
       "      <th>AAtt</th>\n",
       "      <th>AOVR</th>\n",
       "    </tr>\n",
       "  </thead>\n",
       "  <tbody>\n",
       "    <tr>\n",
       "      <th>0</th>\n",
       "      <td>2012-08-18</td>\n",
       "      <td>arsenal</td>\n",
       "      <td>sunderland</td>\n",
       "      <td>0.0</td>\n",
       "      <td>0.0</td>\n",
       "      <td>14.0</td>\n",
       "      <td>3.0</td>\n",
       "      <td>4.0</td>\n",
       "      <td>2.0</td>\n",
       "      <td>12.0</td>\n",
       "      <td>8.0</td>\n",
       "      <td>7.0</td>\n",
       "      <td>0.0</td>\n",
       "      <td>0.0</td>\n",
       "      <td>0.0</td>\n",
       "      <td>0.0</td>\n",
       "      <td>0.0</td>\n",
       "      <td>1.40</td>\n",
       "      <td>4.5</td>\n",
       "      <td>8.50</td>\n",
       "      <td>D</td>\n",
       "      <td>10</td>\n",
       "      <td>10</td>\n",
       "      <td>NaN</td>\n",
       "      <td>NaN</td>\n",
       "      <td>NaN</td>\n",
       "      <td>NaN</td>\n",
       "      <td>NaN</td>\n",
       "      <td>NaN</td>\n",
       "      <td>NaN</td>\n",
       "      <td>NaN</td>\n",
       "      <td>NaN</td>\n",
       "      <td>NaN</td>\n",
       "      <td>NaN</td>\n",
       "      <td>NaN</td>\n",
       "      <td>NaN</td>\n",
       "      <td>NaN</td>\n",
       "      <td>NaN</td>\n",
       "      <td>NaN</td>\n",
       "      <td>NaN</td>\n",
       "      <td>NaN</td>\n",
       "      <td>NaN</td>\n",
       "      <td>NaN</td>\n",
       "      <td>NaN</td>\n",
       "      <td>NaN</td>\n",
       "      <td>80</td>\n",
       "      <td>82</td>\n",
       "      <td>84</td>\n",
       "      <td>82.00</td>\n",
       "      <td>74</td>\n",
       "      <td>75</td>\n",
       "      <td>78</td>\n",
       "      <td>75.67</td>\n",
       "    </tr>\n",
       "    <tr>\n",
       "      <th>3610</th>\n",
       "      <td>2012-08-26</td>\n",
       "      <td>stoke</td>\n",
       "      <td>arsenal</td>\n",
       "      <td>0.0</td>\n",
       "      <td>0.0</td>\n",
       "      <td>7.0</td>\n",
       "      <td>16.0</td>\n",
       "      <td>4.0</td>\n",
       "      <td>6.0</td>\n",
       "      <td>9.0</td>\n",
       "      <td>9.0</td>\n",
       "      <td>0.0</td>\n",
       "      <td>11.0</td>\n",
       "      <td>2.0</td>\n",
       "      <td>0.0</td>\n",
       "      <td>0.0</td>\n",
       "      <td>0.0</td>\n",
       "      <td>3.50</td>\n",
       "      <td>3.4</td>\n",
       "      <td>2.10</td>\n",
       "      <td>D</td>\n",
       "      <td>8</td>\n",
       "      <td>8</td>\n",
       "      <td>NaN</td>\n",
       "      <td>NaN</td>\n",
       "      <td>NaN</td>\n",
       "      <td>NaN</td>\n",
       "      <td>NaN</td>\n",
       "      <td>NaN</td>\n",
       "      <td>NaN</td>\n",
       "      <td>NaN</td>\n",
       "      <td>NaN</td>\n",
       "      <td>NaN</td>\n",
       "      <td>0.0</td>\n",
       "      <td>NaN</td>\n",
       "      <td>NaN</td>\n",
       "      <td>NaN</td>\n",
       "      <td>NaN</td>\n",
       "      <td>NaN</td>\n",
       "      <td>NaN</td>\n",
       "      <td>NaN</td>\n",
       "      <td>NaN</td>\n",
       "      <td>NaN</td>\n",
       "      <td>NaN</td>\n",
       "      <td>0.0</td>\n",
       "      <td>75</td>\n",
       "      <td>75</td>\n",
       "      <td>76</td>\n",
       "      <td>75.33</td>\n",
       "      <td>80</td>\n",
       "      <td>82</td>\n",
       "      <td>84</td>\n",
       "      <td>82.00</td>\n",
       "    </tr>\n",
       "    <tr>\n",
       "      <th>3611</th>\n",
       "      <td>2012-09-02</td>\n",
       "      <td>liverpool</td>\n",
       "      <td>arsenal</td>\n",
       "      <td>0.0</td>\n",
       "      <td>2.0</td>\n",
       "      <td>17.0</td>\n",
       "      <td>11.0</td>\n",
       "      <td>8.0</td>\n",
       "      <td>7.0</td>\n",
       "      <td>12.0</td>\n",
       "      <td>7.0</td>\n",
       "      <td>10.0</td>\n",
       "      <td>2.0</td>\n",
       "      <td>2.0</td>\n",
       "      <td>2.0</td>\n",
       "      <td>0.0</td>\n",
       "      <td>0.0</td>\n",
       "      <td>2.00</td>\n",
       "      <td>3.5</td>\n",
       "      <td>3.75</td>\n",
       "      <td>L</td>\n",
       "      <td>3</td>\n",
       "      <td>7</td>\n",
       "      <td>NaN</td>\n",
       "      <td>NaN</td>\n",
       "      <td>NaN</td>\n",
       "      <td>NaN</td>\n",
       "      <td>NaN</td>\n",
       "      <td>NaN</td>\n",
       "      <td>NaN</td>\n",
       "      <td>NaN</td>\n",
       "      <td>NaN</td>\n",
       "      <td>NaN</td>\n",
       "      <td>0.0</td>\n",
       "      <td>NaN</td>\n",
       "      <td>NaN</td>\n",
       "      <td>NaN</td>\n",
       "      <td>NaN</td>\n",
       "      <td>NaN</td>\n",
       "      <td>NaN</td>\n",
       "      <td>NaN</td>\n",
       "      <td>NaN</td>\n",
       "      <td>NaN</td>\n",
       "      <td>NaN</td>\n",
       "      <td>0.0</td>\n",
       "      <td>79</td>\n",
       "      <td>80</td>\n",
       "      <td>79</td>\n",
       "      <td>79.33</td>\n",
       "      <td>80</td>\n",
       "      <td>80</td>\n",
       "      <td>81</td>\n",
       "      <td>80.33</td>\n",
       "    </tr>\n",
       "    <tr>\n",
       "      <th>96</th>\n",
       "      <td>2012-09-15</td>\n",
       "      <td>arsenal</td>\n",
       "      <td>southampton</td>\n",
       "      <td>6.0</td>\n",
       "      <td>1.0</td>\n",
       "      <td>20.0</td>\n",
       "      <td>9.0</td>\n",
       "      <td>12.0</td>\n",
       "      <td>4.0</td>\n",
       "      <td>4.0</td>\n",
       "      <td>7.0</td>\n",
       "      <td>8.0</td>\n",
       "      <td>3.0</td>\n",
       "      <td>0.0</td>\n",
       "      <td>0.0</td>\n",
       "      <td>0.0</td>\n",
       "      <td>0.0</td>\n",
       "      <td>1.36</td>\n",
       "      <td>5.0</td>\n",
       "      <td>8.50</td>\n",
       "      <td>W</td>\n",
       "      <td>10</td>\n",
       "      <td>10</td>\n",
       "      <td>NaN</td>\n",
       "      <td>NaN</td>\n",
       "      <td>NaN</td>\n",
       "      <td>NaN</td>\n",
       "      <td>NaN</td>\n",
       "      <td>NaN</td>\n",
       "      <td>NaN</td>\n",
       "      <td>NaN</td>\n",
       "      <td>NaN</td>\n",
       "      <td>NaN</td>\n",
       "      <td>1.0</td>\n",
       "      <td>NaN</td>\n",
       "      <td>NaN</td>\n",
       "      <td>NaN</td>\n",
       "      <td>NaN</td>\n",
       "      <td>NaN</td>\n",
       "      <td>NaN</td>\n",
       "      <td>NaN</td>\n",
       "      <td>NaN</td>\n",
       "      <td>NaN</td>\n",
       "      <td>NaN</td>\n",
       "      <td>0.0</td>\n",
       "      <td>80</td>\n",
       "      <td>80</td>\n",
       "      <td>81</td>\n",
       "      <td>80.33</td>\n",
       "      <td>72</td>\n",
       "      <td>70</td>\n",
       "      <td>73</td>\n",
       "      <td>71.67</td>\n",
       "    </tr>\n",
       "    <tr>\n",
       "      <th>3612</th>\n",
       "      <td>2012-09-23</td>\n",
       "      <td>city</td>\n",
       "      <td>arsenal</td>\n",
       "      <td>1.0</td>\n",
       "      <td>1.0</td>\n",
       "      <td>14.0</td>\n",
       "      <td>10.0</td>\n",
       "      <td>10.0</td>\n",
       "      <td>4.0</td>\n",
       "      <td>11.0</td>\n",
       "      <td>7.0</td>\n",
       "      <td>9.0</td>\n",
       "      <td>4.0</td>\n",
       "      <td>1.0</td>\n",
       "      <td>0.0</td>\n",
       "      <td>0.0</td>\n",
       "      <td>0.0</td>\n",
       "      <td>1.75</td>\n",
       "      <td>3.6</td>\n",
       "      <td>4.75</td>\n",
       "      <td>D</td>\n",
       "      <td>5</td>\n",
       "      <td>5</td>\n",
       "      <td>NaN</td>\n",
       "      <td>NaN</td>\n",
       "      <td>NaN</td>\n",
       "      <td>NaN</td>\n",
       "      <td>NaN</td>\n",
       "      <td>NaN</td>\n",
       "      <td>NaN</td>\n",
       "      <td>NaN</td>\n",
       "      <td>NaN</td>\n",
       "      <td>NaN</td>\n",
       "      <td>0.0</td>\n",
       "      <td>NaN</td>\n",
       "      <td>NaN</td>\n",
       "      <td>NaN</td>\n",
       "      <td>NaN</td>\n",
       "      <td>NaN</td>\n",
       "      <td>NaN</td>\n",
       "      <td>NaN</td>\n",
       "      <td>NaN</td>\n",
       "      <td>NaN</td>\n",
       "      <td>NaN</td>\n",
       "      <td>2.0</td>\n",
       "      <td>81</td>\n",
       "      <td>83</td>\n",
       "      <td>85</td>\n",
       "      <td>83.00</td>\n",
       "      <td>80</td>\n",
       "      <td>80</td>\n",
       "      <td>81</td>\n",
       "      <td>80.33</td>\n",
       "    </tr>\n",
       "    <tr>\n",
       "      <th>287</th>\n",
       "      <td>2012-09-29</td>\n",
       "      <td>arsenal</td>\n",
       "      <td>chelsea</td>\n",
       "      <td>1.0</td>\n",
       "      <td>2.0</td>\n",
       "      <td>14.0</td>\n",
       "      <td>10.0</td>\n",
       "      <td>5.0</td>\n",
       "      <td>5.0</td>\n",
       "      <td>14.0</td>\n",
       "      <td>13.0</td>\n",
       "      <td>6.0</td>\n",
       "      <td>5.0</td>\n",
       "      <td>2.0</td>\n",
       "      <td>3.0</td>\n",
       "      <td>0.0</td>\n",
       "      <td>0.0</td>\n",
       "      <td>2.10</td>\n",
       "      <td>3.4</td>\n",
       "      <td>3.50</td>\n",
       "      <td>L</td>\n",
       "      <td>6</td>\n",
       "      <td>7</td>\n",
       "      <td>14.2</td>\n",
       "      <td>6.6</td>\n",
       "      <td>6.4</td>\n",
       "      <td>7.8</td>\n",
       "      <td>0.4</td>\n",
       "      <td>0.0</td>\n",
       "      <td>7.0</td>\n",
       "      <td>NaN</td>\n",
       "      <td>1.8</td>\n",
       "      <td>NaN</td>\n",
       "      <td>0.0</td>\n",
       "      <td>13.8</td>\n",
       "      <td>7.6</td>\n",
       "      <td>4.2</td>\n",
       "      <td>11.8</td>\n",
       "      <td>1.4</td>\n",
       "      <td>0.0</td>\n",
       "      <td>7.0</td>\n",
       "      <td>NaN</td>\n",
       "      <td>2.6</td>\n",
       "      <td>NaN</td>\n",
       "      <td>1.0</td>\n",
       "      <td>80</td>\n",
       "      <td>80</td>\n",
       "      <td>81</td>\n",
       "      <td>80.33</td>\n",
       "      <td>81</td>\n",
       "      <td>81</td>\n",
       "      <td>81</td>\n",
       "      <td>81.00</td>\n",
       "    </tr>\n",
       "    <tr>\n",
       "      <th>3613</th>\n",
       "      <td>2012-10-06</td>\n",
       "      <td>west-ham</td>\n",
       "      <td>arsenal</td>\n",
       "      <td>1.0</td>\n",
       "      <td>3.0</td>\n",
       "      <td>7.0</td>\n",
       "      <td>20.0</td>\n",
       "      <td>3.0</td>\n",
       "      <td>14.0</td>\n",
       "      <td>12.0</td>\n",
       "      <td>7.0</td>\n",
       "      <td>4.0</td>\n",
       "      <td>16.0</td>\n",
       "      <td>3.0</td>\n",
       "      <td>2.0</td>\n",
       "      <td>0.0</td>\n",
       "      <td>0.0</td>\n",
       "      <td>4.00</td>\n",
       "      <td>3.6</td>\n",
       "      <td>1.91</td>\n",
       "      <td>L</td>\n",
       "      <td>5</td>\n",
       "      <td>3</td>\n",
       "      <td>14.0</td>\n",
       "      <td>8.6</td>\n",
       "      <td>7.6</td>\n",
       "      <td>14.8</td>\n",
       "      <td>3.0</td>\n",
       "      <td>0.0</td>\n",
       "      <td>1.0</td>\n",
       "      <td>NaN</td>\n",
       "      <td>1.6</td>\n",
       "      <td>NaN</td>\n",
       "      <td>1.0</td>\n",
       "      <td>14.2</td>\n",
       "      <td>6.8</td>\n",
       "      <td>6.2</td>\n",
       "      <td>8.2</td>\n",
       "      <td>0.8</td>\n",
       "      <td>0.0</td>\n",
       "      <td>6.0</td>\n",
       "      <td>NaN</td>\n",
       "      <td>1.6</td>\n",
       "      <td>NaN</td>\n",
       "      <td>0.0</td>\n",
       "      <td>71</td>\n",
       "      <td>73</td>\n",
       "      <td>75</td>\n",
       "      <td>73.00</td>\n",
       "      <td>80</td>\n",
       "      <td>80</td>\n",
       "      <td>81</td>\n",
       "      <td>80.33</td>\n",
       "    </tr>\n",
       "    <tr>\n",
       "      <th>3614</th>\n",
       "      <td>2012-10-20</td>\n",
       "      <td>norwich</td>\n",
       "      <td>arsenal</td>\n",
       "      <td>1.0</td>\n",
       "      <td>0.0</td>\n",
       "      <td>7.0</td>\n",
       "      <td>13.0</td>\n",
       "      <td>3.0</td>\n",
       "      <td>7.0</td>\n",
       "      <td>9.0</td>\n",
       "      <td>9.0</td>\n",
       "      <td>2.0</td>\n",
       "      <td>10.0</td>\n",
       "      <td>4.0</td>\n",
       "      <td>0.0</td>\n",
       "      <td>0.0</td>\n",
       "      <td>0.0</td>\n",
       "      <td>6.00</td>\n",
       "      <td>4.2</td>\n",
       "      <td>1.53</td>\n",
       "      <td>W</td>\n",
       "      <td>10</td>\n",
       "      <td>10</td>\n",
       "      <td>11.0</td>\n",
       "      <td>6.4</td>\n",
       "      <td>4.4</td>\n",
       "      <td>9.4</td>\n",
       "      <td>0.4</td>\n",
       "      <td>0.0</td>\n",
       "      <td>-7.0</td>\n",
       "      <td>NaN</td>\n",
       "      <td>0.4</td>\n",
       "      <td>NaN</td>\n",
       "      <td>0.0</td>\n",
       "      <td>15.0</td>\n",
       "      <td>8.4</td>\n",
       "      <td>7.2</td>\n",
       "      <td>7.8</td>\n",
       "      <td>1.2</td>\n",
       "      <td>0.0</td>\n",
       "      <td>8.0</td>\n",
       "      <td>NaN</td>\n",
       "      <td>2.0</td>\n",
       "      <td>NaN</td>\n",
       "      <td>1.0</td>\n",
       "      <td>73</td>\n",
       "      <td>72</td>\n",
       "      <td>72</td>\n",
       "      <td>72.33</td>\n",
       "      <td>80</td>\n",
       "      <td>80</td>\n",
       "      <td>81</td>\n",
       "      <td>80.33</td>\n",
       "    </tr>\n",
       "    <tr>\n",
       "      <th>479</th>\n",
       "      <td>2012-10-27</td>\n",
       "      <td>arsenal</td>\n",
       "      <td>qpr</td>\n",
       "      <td>1.0</td>\n",
       "      <td>0.0</td>\n",
       "      <td>21.0</td>\n",
       "      <td>4.0</td>\n",
       "      <td>11.0</td>\n",
       "      <td>3.0</td>\n",
       "      <td>14.0</td>\n",
       "      <td>9.0</td>\n",
       "      <td>5.0</td>\n",
       "      <td>2.0</td>\n",
       "      <td>1.0</td>\n",
       "      <td>2.0</td>\n",
       "      <td>0.0</td>\n",
       "      <td>1.0</td>\n",
       "      <td>1.36</td>\n",
       "      <td>5.0</td>\n",
       "      <td>8.50</td>\n",
       "      <td>W</td>\n",
       "      <td>3</td>\n",
       "      <td>6</td>\n",
       "      <td>15.4</td>\n",
       "      <td>8.4</td>\n",
       "      <td>8.8</td>\n",
       "      <td>8.2</td>\n",
       "      <td>0.8</td>\n",
       "      <td>0.0</td>\n",
       "      <td>5.0</td>\n",
       "      <td>NaN</td>\n",
       "      <td>1.4</td>\n",
       "      <td>NaN</td>\n",
       "      <td>0.0</td>\n",
       "      <td>11.8</td>\n",
       "      <td>6.6</td>\n",
       "      <td>5.0</td>\n",
       "      <td>12.2</td>\n",
       "      <td>1.4</td>\n",
       "      <td>0.2</td>\n",
       "      <td>-3.0</td>\n",
       "      <td>NaN</td>\n",
       "      <td>0.4</td>\n",
       "      <td>NaN</td>\n",
       "      <td>0.0</td>\n",
       "      <td>80</td>\n",
       "      <td>80</td>\n",
       "      <td>81</td>\n",
       "      <td>80.33</td>\n",
       "      <td>74</td>\n",
       "      <td>74</td>\n",
       "      <td>79</td>\n",
       "      <td>75.67</td>\n",
       "    </tr>\n",
       "    <tr>\n",
       "      <th>3615</th>\n",
       "      <td>2012-11-03</td>\n",
       "      <td>united</td>\n",
       "      <td>arsenal</td>\n",
       "      <td>2.0</td>\n",
       "      <td>1.0</td>\n",
       "      <td>11.0</td>\n",
       "      <td>7.0</td>\n",
       "      <td>7.0</td>\n",
       "      <td>3.0</td>\n",
       "      <td>13.0</td>\n",
       "      <td>13.0</td>\n",
       "      <td>6.0</td>\n",
       "      <td>1.0</td>\n",
       "      <td>5.0</td>\n",
       "      <td>3.0</td>\n",
       "      <td>0.0</td>\n",
       "      <td>1.0</td>\n",
       "      <td>1.70</td>\n",
       "      <td>3.8</td>\n",
       "      <td>5.00</td>\n",
       "      <td>W</td>\n",
       "      <td>6</td>\n",
       "      <td>7</td>\n",
       "      <td>12.6</td>\n",
       "      <td>7.2</td>\n",
       "      <td>5.4</td>\n",
       "      <td>8.8</td>\n",
       "      <td>1.8</td>\n",
       "      <td>0.0</td>\n",
       "      <td>6.0</td>\n",
       "      <td>NaN</td>\n",
       "      <td>2.4</td>\n",
       "      <td>NaN</td>\n",
       "      <td>3.0</td>\n",
       "      <td>15.6</td>\n",
       "      <td>8.2</td>\n",
       "      <td>8.2</td>\n",
       "      <td>10.2</td>\n",
       "      <td>1.0</td>\n",
       "      <td>0.0</td>\n",
       "      <td>1.0</td>\n",
       "      <td>3.0</td>\n",
       "      <td>1.4</td>\n",
       "      <td>1.6</td>\n",
       "      <td>1.0</td>\n",
       "      <td>83</td>\n",
       "      <td>82</td>\n",
       "      <td>86</td>\n",
       "      <td>83.67</td>\n",
       "      <td>80</td>\n",
       "      <td>80</td>\n",
       "      <td>81</td>\n",
       "      <td>80.33</td>\n",
       "    </tr>\n",
       "  </tbody>\n",
       "</table>\n",
       "</div>"
      ],
      "text/plain": [
       "            Date   HomeTeam     AwayTeam  FTHG  FTAG    HS    AS   HST   AST  \\\n",
       "0     2012-08-18    arsenal   sunderland   0.0   0.0  14.0   3.0   4.0   2.0   \n",
       "3610  2012-08-26      stoke      arsenal   0.0   0.0   7.0  16.0   4.0   6.0   \n",
       "3611  2012-09-02  liverpool      arsenal   0.0   2.0  17.0  11.0   8.0   7.0   \n",
       "96    2012-09-15    arsenal  southampton   6.0   1.0  20.0   9.0  12.0   4.0   \n",
       "3612  2012-09-23       city      arsenal   1.0   1.0  14.0  10.0  10.0   4.0   \n",
       "287   2012-09-29    arsenal      chelsea   1.0   2.0  14.0  10.0   5.0   5.0   \n",
       "3613  2012-10-06   west-ham      arsenal   1.0   3.0   7.0  20.0   3.0  14.0   \n",
       "3614  2012-10-20    norwich      arsenal   1.0   0.0   7.0  13.0   3.0   7.0   \n",
       "479   2012-10-27    arsenal          qpr   1.0   0.0  21.0   4.0  11.0   3.0   \n",
       "3615  2012-11-03     united      arsenal   2.0   1.0  11.0   7.0   7.0   3.0   \n",
       "\n",
       "        HF    AF    HC    AC   HY   AY   HR   AR  B365H  B365D  B365A Result  \\\n",
       "0     12.0   8.0   7.0   0.0  0.0  0.0  0.0  0.0   1.40    4.5   8.50      D   \n",
       "3610   9.0   9.0   0.0  11.0  2.0  0.0  0.0  0.0   3.50    3.4   2.10      D   \n",
       "3611  12.0   7.0  10.0   2.0  2.0  2.0  0.0  0.0   2.00    3.5   3.75      L   \n",
       "96     4.0   7.0   8.0   3.0  0.0  0.0  0.0  0.0   1.36    5.0   8.50      W   \n",
       "3612  11.0   7.0   9.0   4.0  1.0  0.0  0.0  0.0   1.75    3.6   4.75      D   \n",
       "287   14.0  13.0   6.0   5.0  2.0  3.0  0.0  0.0   2.10    3.4   3.50      L   \n",
       "3613  12.0   7.0   4.0  16.0  3.0  2.0  0.0  0.0   4.00    3.6   1.91      L   \n",
       "3614   9.0   9.0   2.0  10.0  4.0  0.0  0.0  0.0   6.00    4.2   1.53      W   \n",
       "479   14.0   9.0   5.0   2.0  1.0  2.0  0.0  1.0   1.36    5.0   8.50      W   \n",
       "3615  13.0  13.0   6.0   1.0  5.0  3.0  0.0  1.0   1.70    3.8   5.00      W   \n",
       "\n",
       "      HDays  ADays  HASL5M  HASTL5M  HACL5M  HAFL5M  HAYCL5M  HARCL5M  HGDL5M  \\\n",
       "0        10     10     NaN      NaN     NaN     NaN      NaN      NaN     NaN   \n",
       "3610      8      8     NaN      NaN     NaN     NaN      NaN      NaN     NaN   \n",
       "3611      3      7     NaN      NaN     NaN     NaN      NaN      NaN     NaN   \n",
       "96       10     10     NaN      NaN     NaN     NaN      NaN      NaN     NaN   \n",
       "3612      5      5     NaN      NaN     NaN     NaN      NaN      NaN     NaN   \n",
       "287       6      7    14.2      6.6     6.4     7.8      0.4      0.0     7.0   \n",
       "3613      5      3    14.0      8.6     7.6    14.8      3.0      0.0     1.0   \n",
       "3614     10     10    11.0      6.4     4.4     9.4      0.4      0.0    -7.0   \n",
       "479       3      6    15.4      8.4     8.8     8.2      0.8      0.0     5.0   \n",
       "3615      6      7    12.6      7.2     5.4     8.8      1.8      0.0     6.0   \n",
       "\n",
       "      HGDL5HM  HAPL5M  HAPL5HM  HWinStreak  AASL5M  AASTL5M  AACL5M  AAFL5M  \\\n",
       "0         NaN     NaN      NaN         NaN     NaN      NaN     NaN     NaN   \n",
       "3610      NaN     NaN      NaN         0.0     NaN      NaN     NaN     NaN   \n",
       "3611      NaN     NaN      NaN         0.0     NaN      NaN     NaN     NaN   \n",
       "96        NaN     NaN      NaN         1.0     NaN      NaN     NaN     NaN   \n",
       "3612      NaN     NaN      NaN         0.0     NaN      NaN     NaN     NaN   \n",
       "287       NaN     1.8      NaN         0.0    13.8      7.6     4.2    11.8   \n",
       "3613      NaN     1.6      NaN         1.0    14.2      6.8     6.2     8.2   \n",
       "3614      NaN     0.4      NaN         0.0    15.0      8.4     7.2     7.8   \n",
       "479       NaN     1.4      NaN         0.0    11.8      6.6     5.0    12.2   \n",
       "3615      NaN     2.4      NaN         3.0    15.6      8.2     8.2    10.2   \n",
       "\n",
       "      AAYCL5M  AARCL5M  AGDL5M  AGDL5AM  AAPL5M  AAPL5AM  AWinStreak  HDef  \\\n",
       "0         NaN      NaN     NaN      NaN     NaN      NaN         NaN    80   \n",
       "3610      NaN      NaN     NaN      NaN     NaN      NaN         0.0    75   \n",
       "3611      NaN      NaN     NaN      NaN     NaN      NaN         0.0    79   \n",
       "96        NaN      NaN     NaN      NaN     NaN      NaN         0.0    80   \n",
       "3612      NaN      NaN     NaN      NaN     NaN      NaN         2.0    81   \n",
       "287       1.4      0.0     7.0      NaN     2.6      NaN         1.0    80   \n",
       "3613      0.8      0.0     6.0      NaN     1.6      NaN         0.0    71   \n",
       "3614      1.2      0.0     8.0      NaN     2.0      NaN         1.0    73   \n",
       "479       1.4      0.2    -3.0      NaN     0.4      NaN         0.0    80   \n",
       "3615      1.0      0.0     1.0      3.0     1.4      1.6         1.0    83   \n",
       "\n",
       "      HMid  HAtt   HOVR  ADef  AMid  AAtt   AOVR  \n",
       "0       82    84  82.00    74    75    78  75.67  \n",
       "3610    75    76  75.33    80    82    84  82.00  \n",
       "3611    80    79  79.33    80    80    81  80.33  \n",
       "96      80    81  80.33    72    70    73  71.67  \n",
       "3612    83    85  83.00    80    80    81  80.33  \n",
       "287     80    81  80.33    81    81    81  81.00  \n",
       "3613    73    75  73.00    80    80    81  80.33  \n",
       "3614    72    72  72.33    80    80    81  80.33  \n",
       "479     80    81  80.33    74    74    79  75.67  \n",
       "3615    82    86  83.67    80    80    81  80.33  "
      ]
     },
     "execution_count": 135,
     "metadata": {},
     "output_type": "execute_result"
    }
   ],
   "source": [
    "team='arsenal'\n",
    "df[(df['HomeTeam'] == team) | (df['AwayTeam'] == team)].sort_values(by = 'Date').head(10)"
   ]
  },
  {
   "cell_type": "code",
   "execution_count": null,
   "id": "023668c9",
   "metadata": {},
   "outputs": [],
   "source": []
  }
 ],
 "metadata": {
  "kernelspec": {
   "display_name": "Python 3 (ipykernel)",
   "language": "python",
   "name": "python3"
  },
  "language_info": {
   "codemirror_mode": {
    "name": "ipython",
    "version": 3
   },
   "file_extension": ".py",
   "mimetype": "text/x-python",
   "name": "python",
   "nbconvert_exporter": "python",
   "pygments_lexer": "ipython3",
   "version": "3.9.13"
  }
 },
 "nbformat": 4,
 "nbformat_minor": 5
}
